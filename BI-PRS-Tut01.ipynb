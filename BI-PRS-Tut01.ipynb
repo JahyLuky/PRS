{
 "cells": [
  {
   "cell_type": "markdown",
   "metadata": {},
   "source": [
    "# Cvičení 1: Úvod do jazyka R"
   ]
  },
  {
   "cell_type": "markdown",
   "metadata": {},
   "source": [
    "Interpret jazyka R spustíme snadno z příkazové řádky:\n",
    "```\n",
    "[jp@riemann ~]$ R\n",
    "\n",
    "R version 4.2.0 alpha (2022-04-01 r82059)\n",
    "Copyright (C) 2022 The R Foundation for Statistical Computing\n",
    "Platform: x86_64-pc-linux-gnu (64-bit)\n",
    "\n",
    "R is free software and comes with ABSOLUTELY NO WARRANTY.\n",
    "You are welcome to redistribute it under certain conditions.\n",
    "Type 'license()' or 'licence()' for distribution details.\n",
    "\n",
    "  Natural language support but running in an English locale\n",
    "\n",
    "R is a collaborative project with many contributors.\n",
    "Type 'contributors()' for more information and\n",
    "'citation()' on how to cite R or R packages in publications.\n",
    "\n",
    "Type 'demo()' for some demos, 'help()' for on-line help, or\n",
    "'help.start()' for an HTML browser interface to help.\n",
    "Type 'q()' to quit R.\n",
    "\n",
    "[Previously saved workspace restored]\n",
    "\n",
    "> \n",
    "```\n",
    "\n",
    "Je patrné, že R umí nějaká dema, nápovědu, doplňování syntaxe apod. Navíc umí ukládat a obnovovat workspace, tj. proměnné. Nápovědu lze velmi jednoduše vyvolat i pomocí prefixového otazníku:\n",
    "```\n",
    "> ?c()\n",
    "```\n",
    "\n",
    "Pokud nevíme, jak se funkce jmenuje, ale víme, co by měla dělat, můžeme použít příkaz `apropos()`:"
   ]
  },
  {
   "cell_type": "code",
   "execution_count": 19,
   "metadata": {},
   "outputs": [
    {
     "data": {
      "text/html": [
       "<style>\n",
       ".list-inline {list-style: none; margin:0; padding: 0}\n",
       ".list-inline>li {display: inline-block}\n",
       ".list-inline>li:not(:last-child)::after {content: \"\\00b7\"; padding: 0 .5ex}\n",
       "</style>\n",
       "<ol class=list-inline><li>'format.libraryIQR'</li><li>'IQR'</li><li>'print.libraryIQR'</li></ol>\n"
      ],
      "text/latex": [
       "\\begin{enumerate*}\n",
       "\\item 'format.libraryIQR'\n",
       "\\item 'IQR'\n",
       "\\item 'print.libraryIQR'\n",
       "\\end{enumerate*}\n"
      ],
      "text/markdown": [
       "1. 'format.libraryIQR'\n",
       "2. 'IQR'\n",
       "3. 'print.libraryIQR'\n",
       "\n",
       "\n"
      ],
      "text/plain": [
       "[1] \"format.libraryIQR\" \"IQR\"               \"print.libraryIQR\" "
      ]
     },
     "metadata": {},
     "output_type": "display_data"
    }
   ],
   "source": [
    "apropos('iqr')"
   ]
  },
  {
   "cell_type": "markdown",
   "metadata": {},
   "source": [
    "eventuálně `help.search()`:"
   ]
  },
  {
   "cell_type": "code",
   "execution_count": 20,
   "metadata": {},
   "outputs": [
    {
     "data": {
      "text/plain": [
       "R Information\n",
       "\n",
       "Help files with alias or concept or title matching ‘iqr’ using regular\n",
       "expression matching:\n",
       "\n",
       "\n",
       "base::library           Loading/Attaching and Listing of Packages\n",
       "  Aliases: format.libraryIQR, print.libraryIQR\n",
       "EnvStats::iqr           Interquartile Range\n",
       "  Aliases: iqr\n",
       "EnvStats::stat_median_iqr_text\n",
       "                        Add Text Indicating the Median and\n",
       "                        Interquartile Range to a ggplot2 Plot\n",
       "  Aliases: stat_median_iqr_text\n",
       "EnvStats::StatNText     Internal EnvStats Objects\n",
       "  Aliases: StatMedianIQRText\n",
       "GGally::ggally_summarise_by\n",
       "                        Summarize a continuous variable by each value\n",
       "                        of a discrete variable\n",
       "  Aliases: weighted_median_iqr\n",
       "ggpubr::add_summary     Add Summary Statistics onto a ggplot.\n",
       "  Aliases: median_iqr\n",
       "matrixStats::rowIQRs    Estimates of the interquartile range for each\n",
       "                        row (column) in a matrix\n",
       "  Aliases: rowIQRs, colIQRs, iqr\n",
       "matrixStats::varDiff    Estimation of scale based on sequential-order\n",
       "                        differences\n",
       "  Aliases: iqrDiff, rowIQRDiffs, colIQRDiffs\n",
       "methods::setOldClass    Register Old-Style (S3) Classes and Inheritance\n",
       "  Aliases: libraryIQR-class, packageIQR-class\n",
       "rapportools::iqr        Interquartile Range\n",
       "  Aliases: iqr, IQR, rp.iqr\n",
       "repr::repr_*.packageIQR\n",
       "                        packageIQR representations\n",
       "  Aliases: repr_*.packageIQR, repr_text.packageIQR,\n",
       "    repr_html.packageIQR\n",
       "stats::IQR              The Interquartile Range\n",
       "  Aliases: IQR\n",
       "tools::toHTML           Display an Object in HTML\n",
       "  Aliases: toHTML.packageIQR\n",
       "utils::data             Data Sets\n",
       "  Aliases: print.packageIQR\n",
       "\n",
       "\n",
       "Type '?PKG::FOO' to inspect entries 'PKG::FOO', or 'TYPE?PKG::FOO' for\n",
       "entries like 'PKG::FOO-TYPE'.\n",
       "\n",
       "\n"
      ]
     },
     "metadata": {},
     "output_type": "display_data"
    }
   ],
   "source": [
    "help.search('iqr')"
   ]
  },
  {
   "cell_type": "markdown",
   "metadata": {},
   "source": [
    "My budeme pracovat v prostředí `jupyter notebook` resp. `jupyter lab`. Populárními alternativami jsou [RStudio](https://www.rstudio.com/), [RKWard](https://rkward.kde.org/), [rattle](https://rattle.togaware.com/), fajnšmekři mohou využívat [ViM](https://www.freecodecamp.org/news/turning-vim-into-an-r-ide-cd9602e8c217)."
   ]
  },
  {
   "cell_type": "markdown",
   "metadata": {},
   "source": [
    "## Prostředí R (R environment)\n",
    "Podívejme se na některé vlastnosti prostředí jazyka R.\n",
    "\n",
    "### Co v noteboocích nevyužijeme\n",
    "Pokud bychom pracovali přímo v interpretu jazyka R, potřebovali bychom mít přehled o existujících proměnných:\n",
    "\n",
    "```\n",
    "> ls()\n",
    " [1] \"Date\"        \"DayOfWeek\"   \"fitted\"      \"household\"   \"hrs_yr\"     \n",
    " [6] \"ind\"         \"logreg\"      \"MonthOfYear\" \"newdata.pr\"  \"newsvm\"     \n",
    "[11] \"reg\"         \"res\"         \"residues\"    \"rounded\"     \"svm\"        \n",
    "[16] \"time\"        \"y\"    \n",
    "```\n",
    "\n",
    "Proměnné můžeme mazat pomocí `rm()`. Celý existující workspace můžeme uložit příkazem `save.image()`, který vytvoří soubor `.RData`, pokud neřekneme jinak. Tento soubor je automaticky natažen při startu R. Pokud bychom vytvářeli alternativní soubory pomocí `save.image()`, jejich opětovné natažení provedeme příkazem `load()`.\n",
    "\n",
    "### Skriptování\n",
    "Namísto psaní příkazů řádek po řádku si můžeme připravit skripty, podobně jako to děláme v jiných interpretovaných jazycích (python, perl...). Skript spustíme pomocí `source()`."
   ]
  },
  {
   "cell_type": "markdown",
   "metadata": {},
   "source": [
    "## R jako lepší kalkulačka\n",
    "\n",
    "Podobně jako v příkazovém interpretu pythonu, perlu apod. i s R můžeme pracovat jako s jednoduchou kalkulačkou:"
   ]
  },
  {
   "cell_type": "code",
   "execution_count": 22,
   "metadata": {},
   "outputs": [
    {
     "data": {
      "text/html": [
       "3.14159265358979"
      ],
      "text/latex": [
       "3.14159265358979"
      ],
      "text/markdown": [
       "3.14159265358979"
      ],
      "text/plain": [
       "[1] 3.141593"
      ]
     },
     "metadata": {},
     "output_type": "display_data"
    }
   ],
   "source": [
    "pi"
   ]
  },
  {
   "cell_type": "code",
   "execution_count": 23,
   "metadata": {},
   "outputs": [
    {
     "data": {
      "text/html": [
       "-2.44929359829471e-16"
      ],
      "text/latex": [
       "-2.44929359829471e-16"
      ],
      "text/markdown": [
       "-2.44929359829471e-16"
      ],
      "text/plain": [
       "[1] -2.449294e-16"
      ]
     },
     "metadata": {},
     "output_type": "display_data"
    }
   ],
   "source": [
    "sin(2*pi)"
   ]
  },
  {
   "cell_type": "markdown",
   "metadata": {},
   "source": [
    "Následující kód realizuje náhodný výběr o rozsahu ```k``` z normálního rozdělení, vytiskne první hodnoty a vykreslí histogram:"
   ]
  },
  {
   "cell_type": "code",
   "execution_count": 24,
   "metadata": {},
   "outputs": [
    {
     "data": {
      "text/html": [
       "<style>\n",
       ".list-inline {list-style: none; margin:0; padding: 0}\n",
       ".list-inline>li {display: inline-block}\n",
       ".list-inline>li:not(:last-child)::after {content: \"\\00b7\"; padding: 0 .5ex}\n",
       "</style>\n",
       "<ol class=list-inline><li>-0.86921652082193</li><li>0.497913650442337</li><li>0.0508040343449036</li><li>-0.411073487866692</li><li>-0.560768505725953</li><li>-0.0964013513429309</li></ol>\n"
      ],
      "text/latex": [
       "\\begin{enumerate*}\n",
       "\\item -0.86921652082193\n",
       "\\item 0.497913650442337\n",
       "\\item 0.0508040343449036\n",
       "\\item -0.411073487866692\n",
       "\\item -0.560768505725953\n",
       "\\item -0.0964013513429309\n",
       "\\end{enumerate*}\n"
      ],
      "text/markdown": [
       "1. -0.86921652082193\n",
       "2. 0.497913650442337\n",
       "3. 0.0508040343449036\n",
       "4. -0.411073487866692\n",
       "5. -0.560768505725953\n",
       "6. -0.0964013513429309\n",
       "\n",
       "\n"
      ],
      "text/plain": [
       "[1] -0.86921652  0.49791365  0.05080403 -0.41107349 -0.56076851 -0.09640135"
      ]
     },
     "metadata": {},
     "output_type": "display_data"
    },
    {
     "data": {
      "image/png": "[encoded data removed]",
      "text/plain": [
       "Plot with title “Histogram of z”"
      ]
     },
     "metadata": {
      "image/png": {
       "height": 420,
       "width": 420
      }
     },
     "output_type": "display_data"
    }
   ],
   "source": [
    "k <- 50\n",
    "z <- rnorm(k)\n",
    "head(z)\n",
    "hist(z)"
   ]
  },
  {
   "cell_type": "markdown",
   "metadata": {},
   "source": [
    "Konvence pro pojmenování proměnných jsou poměrně volné, nicméně vyhrazena jsou písmenka ```c, q, t, C, D, F, I``` a ```T```. Je běžné potkávat se s proměnnými obsahujícími tečku, např. ```salary.1yr```."
   ]
  },
  {
   "cell_type": "markdown",
   "metadata": {},
   "source": [
    "Asi nejčastěji pracujeme s vektory. Nejsou-li dlouhé, můžeme je zadat pomocí ```c()```. Pár funkcí pro začátek:"
   ]
  },
  {
   "cell_type": "code",
   "execution_count": 25,
   "metadata": {},
   "outputs": [
    {
     "name": "stdout",
     "output_type": "stream",
     "text": [
      " [1] 110 140  99 167 139 150 117 123 118 203 117 231\n",
      " [1] 110 140  99 167 139 150 117 123 118 203 117 231 111 112 113\n"
     ]
    }
   ],
   "source": [
    "lunch.price <- c(110, 140, 99, 167, 139, 150, 117, 123, 118, 203, 117, 231)\n",
    "print(lunch.price)\n",
    "lunch.price <- c(lunch.price, 111, 112, 113)\n",
    "print(lunch.price)"
   ]
  },
  {
   "cell_type": "code",
   "execution_count": 26,
   "metadata": {},
   "outputs": [
    {
     "data": {
      "text/html": [
       "<style>\n",
       ".list-inline {list-style: none; margin:0; padding: 0}\n",
       ".list-inline>li {display: inline-block}\n",
       ".list-inline>li:not(:last-child)::after {content: \"\\00b7\"; padding: 0 .5ex}\n",
       "</style>\n",
       "<ol class=list-inline><li>110</li><li>140</li><li>99</li></ol>\n"
      ],
      "text/latex": [
       "\\begin{enumerate*}\n",
       "\\item 110\n",
       "\\item 140\n",
       "\\item 99\n",
       "\\end{enumerate*}\n"
      ],
      "text/markdown": [
       "1. 110\n",
       "2. 140\n",
       "3. 99\n",
       "\n",
       "\n"
      ],
      "text/plain": [
       "[1] 110 140  99"
      ]
     },
     "metadata": {},
     "output_type": "display_data"
    },
    {
     "data": {
      "text/html": [
       "<style>\n",
       ".list-inline {list-style: none; margin:0; padding: 0}\n",
       ".list-inline>li {display: inline-block}\n",
       ".list-inline>li:not(:last-child)::after {content: \"\\00b7\"; padding: 0 .5ex}\n",
       "</style>\n",
       "<ol class=list-inline><li>167</li><li>139</li><li>150</li><li>117</li><li>123</li><li>118</li><li>203</li><li>117</li><li>231</li><li>111</li><li>112</li><li>113</li></ol>\n"
      ],
      "text/latex": [
       "\\begin{enumerate*}\n",
       "\\item 167\n",
       "\\item 139\n",
       "\\item 150\n",
       "\\item 117\n",
       "\\item 123\n",
       "\\item 118\n",
       "\\item 203\n",
       "\\item 117\n",
       "\\item 231\n",
       "\\item 111\n",
       "\\item 112\n",
       "\\item 113\n",
       "\\end{enumerate*}\n"
      ],
      "text/markdown": [
       "1. 167\n",
       "2. 139\n",
       "3. 150\n",
       "4. 117\n",
       "5. 123\n",
       "6. 118\n",
       "7. 203\n",
       "8. 117\n",
       "9. 231\n",
       "10. 111\n",
       "11. 112\n",
       "12. 113\n",
       "\n",
       "\n"
      ],
      "text/plain": [
       " [1] 167 139 150 117 123 118 203 117 231 111 112 113"
      ]
     },
     "metadata": {},
     "output_type": "display_data"
    },
    {
     "data": {
      "text/html": [
       "<style>\n",
       ".list-inline {list-style: none; margin:0; padding: 0}\n",
       ".list-inline>li {display: inline-block}\n",
       ".list-inline>li:not(:last-child)::after {content: \"\\00b7\"; padding: 0 .5ex}\n",
       "</style>\n",
       "<ol class=list-inline><li>140</li><li>139</li></ol>\n"
      ],
      "text/latex": [
       "\\begin{enumerate*}\n",
       "\\item 140\n",
       "\\item 139\n",
       "\\end{enumerate*}\n"
      ],
      "text/markdown": [
       "1. 140\n",
       "2. 139\n",
       "\n",
       "\n"
      ],
      "text/plain": [
       "[1] 140 139"
      ]
     },
     "metadata": {},
     "output_type": "display_data"
    }
   ],
   "source": [
    "lunch.price[c(1,2,3)]           # selection by indexing\n",
    "lunch.price[-c(1,2,3)]          # selection by exclusion\n",
    "lunch.price[lunch.price > 130 & lunch.price < 150]  # conditional selection"
   ]
  },
  {
   "cell_type": "code",
   "execution_count": 27,
   "metadata": {},
   "outputs": [
    {
     "data": {
      "text/plain": [
       "   Min. 1st Qu.  Median    Mean 3rd Qu.    Max. \n",
       "   99.0   112.5   118.0   136.7   145.0   231.0 "
      ]
     },
     "metadata": {},
     "output_type": "display_data"
    }
   ],
   "source": [
    "summary(lunch.price)"
   ]
  },
  {
   "cell_type": "code",
   "execution_count": 28,
   "metadata": {},
   "outputs": [
    {
     "data": {
      "text/html": [
       "<style>\n",
       ".list-inline {list-style: none; margin:0; padding: 0}\n",
       ".list-inline>li {display: inline-block}\n",
       ".list-inline>li:not(:last-child)::after {content: \"\\00b7\"; padding: 0 .5ex}\n",
       "</style>\n",
       "<ol class=list-inline><li>99</li><li>231</li></ol>\n"
      ],
      "text/latex": [
       "\\begin{enumerate*}\n",
       "\\item 99\n",
       "\\item 231\n",
       "\\end{enumerate*}\n"
      ],
      "text/markdown": [
       "1. 99\n",
       "2. 231\n",
       "\n",
       "\n"
      ],
      "text/plain": [
       "[1]  99 231"
      ]
     },
     "metadata": {},
     "output_type": "display_data"
    }
   ],
   "source": [
    "range(lunch.price)"
   ]
  },
  {
   "cell_type": "code",
   "execution_count": 29,
   "metadata": {},
   "outputs": [
    {
     "data": {
      "text/html": [
       "136.666666666667"
      ],
      "text/latex": [
       "136.666666666667"
      ],
      "text/markdown": [
       "136.666666666667"
      ],
      "text/plain": [
       "[1] 136.6667"
      ]
     },
     "metadata": {},
     "output_type": "display_data"
    },
    {
     "data": {
      "text/html": [
       "1405.66666666667"
      ],
      "text/latex": [
       "1405.66666666667"
      ],
      "text/markdown": [
       "1405.66666666667"
      ],
      "text/plain": [
       "[1] 1405.667"
      ]
     },
     "metadata": {},
     "output_type": "display_data"
    },
    {
     "data": {
      "text/html": [
       "37.4922214154705"
      ],
      "text/latex": [
       "37.4922214154705"
      ],
      "text/markdown": [
       "37.4922214154705"
      ],
      "text/plain": [
       "[1] 37.49222"
      ]
     },
     "metadata": {},
     "output_type": "display_data"
    }
   ],
   "source": [
    "mean(lunch.price)\n",
    "var(lunch.price)\n",
    "sd(lunch.price)"
   ]
  },
  {
   "cell_type": "code",
   "execution_count": 30,
   "metadata": {},
   "outputs": [
    {
     "data": {
      "text/html": [
       "<style>\n",
       ".list-inline {list-style: none; margin:0; padding: 0}\n",
       ".list-inline>li {display: inline-block}\n",
       ".list-inline>li:not(:last-child)::after {content: \"\\00b7\"; padding: 0 .5ex}\n",
       "</style>\n",
       "<ol class=list-inline><li>12100</li><li>19600</li><li>9801</li><li>27889</li><li>19321</li><li>22500</li><li>13689</li><li>15129</li><li>13924</li><li>41209</li><li>13689</li><li>53361</li><li>12321</li><li>12544</li><li>12769</li></ol>\n"
      ],
      "text/latex": [
       "\\begin{enumerate*}\n",
       "\\item 12100\n",
       "\\item 19600\n",
       "\\item 9801\n",
       "\\item 27889\n",
       "\\item 19321\n",
       "\\item 22500\n",
       "\\item 13689\n",
       "\\item 15129\n",
       "\\item 13924\n",
       "\\item 41209\n",
       "\\item 13689\n",
       "\\item 53361\n",
       "\\item 12321\n",
       "\\item 12544\n",
       "\\item 12769\n",
       "\\end{enumerate*}\n"
      ],
      "text/markdown": [
       "1. 12100\n",
       "2. 19600\n",
       "3. 9801\n",
       "4. 27889\n",
       "5. 19321\n",
       "6. 22500\n",
       "7. 13689\n",
       "8. 15129\n",
       "9. 13924\n",
       "10. 41209\n",
       "11. 13689\n",
       "12. 53361\n",
       "13. 12321\n",
       "14. 12544\n",
       "15. 12769\n",
       "\n",
       "\n"
      ],
      "text/plain": [
       " [1] 12100 19600  9801 27889 19321 22500 13689 15129 13924 41209 13689 53361\n",
       "[13] 12321 12544 12769"
      ]
     },
     "metadata": {},
     "output_type": "display_data"
    }
   ],
   "source": [
    "lunch.price_squared <- lunch.price^2\n",
    "lunch.price_squared"
   ]
  },
  {
   "cell_type": "markdown",
   "metadata": {},
   "source": [
    "<font color=\"blue\">**Nyní je čas udělat úkoly 1.a a 1.b v druhém notebooku**</font>\n",
    "\n",
    "---"
   ]
  },
  {
   "cell_type": "markdown",
   "metadata": {},
   "source": [
    "## R jako programovací jazyk\n",
    "\n",
    "R je programovací jazyk, má tedy nástroje pro vytváření podmínek, cyklů, podporu OOP atd. Na úzkou množinu se podívejme blíže.\n",
    "\n",
    "### `if` - podmíněné vykonávání kódu"
   ]
  },
  {
   "cell_type": "code",
   "execution_count": 31,
   "metadata": {},
   "outputs": [
    {
     "name": "stdout",
     "output_type": "stream",
     "text": [
      "[1] 0.7879588\n",
      "[1] \"Value is between 0.5 and 1\"\n"
     ]
    }
   ],
   "source": [
    "x <- runif(1)\n",
    "print(x)\n",
    "if(x < 0.3) {\n",
    "    print(\"Value is less than 0.3\")\n",
    "} else if(x < 0.5) {\n",
    "    print(\"Value is between 0.3 and 0.5\")\n",
    "} else {\n",
    "    print(\"Value is between 0.5 and 1\")\n",
    "}"
   ]
  },
  {
   "cell_type": "markdown",
   "metadata": {},
   "source": [
    "### `for`, `while` a `repeat`\n",
    "Podíváme se jen na `for` cyklus:"
   ]
  },
  {
   "cell_type": "code",
   "execution_count": 32,
   "metadata": {},
   "outputs": [
    {
     "name": "stdout",
     "output_type": "stream",
     "text": [
      "[1] 1\n",
      "[1] 4\n",
      "[1] 9\n",
      "[1] 16\n",
      "[1] 25\n"
     ]
    }
   ],
   "source": [
    "for (x in 1:5) {\n",
    "    print(x**2)\n",
    "} "
   ]
  },
  {
   "cell_type": "markdown",
   "metadata": {},
   "source": [
    "<font color=\"blue\">**Nyní je čas udělat úkoly 2.a a 2.b v druhém notebooku**</font>\n",
    "\n",
    "---"
   ]
  },
  {
   "cell_type": "markdown",
   "metadata": {},
   "source": [
    "## R jako statisticky orientovaný software"
   ]
  },
  {
   "cell_type": "markdown",
   "metadata": {},
   "source": [
    "Nyní trochu předběhneme a ukážeme si, proč R chceme umět: udělá za nás spoustu práce ve statistice! Coby absolventi BI-PST zkuste rozklíčovat následující řádek:"
   ]
  },
  {
   "cell_type": "code",
   "execution_count": 33,
   "metadata": {},
   "outputs": [
    {
     "data": {
      "text/plain": [
       "\n",
       "\tOne Sample t-test\n",
       "\n",
       "data:  lunch.price\n",
       "t = -1.3773, df = 14, p-value = 0.19\n",
       "alternative hypothesis: true mean is not equal to 150\n",
       "90 percent confidence interval:\n",
       " 119.6164 153.7169\n",
       "sample estimates:\n",
       "mean of x \n",
       " 136.6667 \n"
      ]
     },
     "metadata": {},
     "output_type": "display_data"
    }
   ],
   "source": [
    "t.test(lunch.price, mu=150, conf.level=0.9, alternative=\"two.sided\")"
   ]
  },
  {
   "cell_type": "markdown",
   "metadata": {},
   "source": [
    "> **Úloha: Obědy zdražily o 10%. Otestujte na standardní hladině významnosti, zda je nově střední hodnota 150Kč oproti alternativě, že je menší.**"
   ]
  },
  {
   "cell_type": "code",
   "execution_count": 34,
   "metadata": {},
   "outputs": [
    {
     "data": {
      "text/plain": [
       "\n",
       "\tOne Sample t-test\n",
       "\n",
       "data:  lunch.price * 1.1\n",
       "t = 0.031303, df = 14, p-value = 0.5123\n",
       "alternative hypothesis: true mean is less than 150\n",
       "95 percent confidence interval:\n",
       "     -Inf 169.0886\n",
       "sample estimates:\n",
       "mean of x \n",
       " 150.3333 \n"
      ]
     },
     "metadata": {},
     "output_type": "display_data"
    }
   ],
   "source": [
    "t.test(lunch.price * 1.1, mu=150, alternative=\"less\")"
   ]
  },
  {
   "cell_type": "markdown",
   "metadata": {},
   "source": [
    "<font color=\"blue\">**Nyní je čas udělat úkol 3.a v druhém notebooku**</font>\n",
    "\n",
    "---\n",
    "## Ponořme se hlouběji do datových struktur"
   ]
  },
  {
   "cell_type": "markdown",
   "metadata": {},
   "source": [
    "Některé užitečné předdefinované proměnné, jejichž použití demonstrujeme níže:"
   ]
  },
  {
   "cell_type": "code",
   "execution_count": 35,
   "metadata": {},
   "outputs": [
    {
     "data": {
      "text/html": [
       "<style>\n",
       ".list-inline {list-style: none; margin:0; padding: 0}\n",
       ".list-inline>li {display: inline-block}\n",
       ".list-inline>li:not(:last-child)::after {content: \"\\00b7\"; padding: 0 .5ex}\n",
       "</style>\n",
       "<ol class=list-inline><li>'a'</li><li>'b'</li><li>'c'</li><li>'d'</li><li>'e'</li><li>'f'</li><li>'g'</li><li>'h'</li><li>'i'</li><li>'j'</li><li>'k'</li><li>'l'</li><li>'m'</li><li>'n'</li><li>'o'</li><li>'p'</li><li>'q'</li><li>'r'</li><li>'s'</li><li>'t'</li><li>'u'</li><li>'v'</li><li>'w'</li><li>'x'</li><li>'y'</li><li>'z'</li></ol>\n"
      ],
      "text/latex": [
       "\\begin{enumerate*}\n",
       "\\item 'a'\n",
       "\\item 'b'\n",
       "\\item 'c'\n",
       "\\item 'd'\n",
       "\\item 'e'\n",
       "\\item 'f'\n",
       "\\item 'g'\n",
       "\\item 'h'\n",
       "\\item 'i'\n",
       "\\item 'j'\n",
       "\\item 'k'\n",
       "\\item 'l'\n",
       "\\item 'm'\n",
       "\\item 'n'\n",
       "\\item 'o'\n",
       "\\item 'p'\n",
       "\\item 'q'\n",
       "\\item 'r'\n",
       "\\item 's'\n",
       "\\item 't'\n",
       "\\item 'u'\n",
       "\\item 'v'\n",
       "\\item 'w'\n",
       "\\item 'x'\n",
       "\\item 'y'\n",
       "\\item 'z'\n",
       "\\end{enumerate*}\n"
      ],
      "text/markdown": [
       "1. 'a'\n",
       "2. 'b'\n",
       "3. 'c'\n",
       "4. 'd'\n",
       "5. 'e'\n",
       "6. 'f'\n",
       "7. 'g'\n",
       "8. 'h'\n",
       "9. 'i'\n",
       "10. 'j'\n",
       "11. 'k'\n",
       "12. 'l'\n",
       "13. 'm'\n",
       "14. 'n'\n",
       "15. 'o'\n",
       "16. 'p'\n",
       "17. 'q'\n",
       "18. 'r'\n",
       "19. 's'\n",
       "20. 't'\n",
       "21. 'u'\n",
       "22. 'v'\n",
       "23. 'w'\n",
       "24. 'x'\n",
       "25. 'y'\n",
       "26. 'z'\n",
       "\n",
       "\n"
      ],
      "text/plain": [
       " [1] \"a\" \"b\" \"c\" \"d\" \"e\" \"f\" \"g\" \"h\" \"i\" \"j\" \"k\" \"l\" \"m\" \"n\" \"o\" \"p\" \"q\" \"r\" \"s\"\n",
       "[20] \"t\" \"u\" \"v\" \"w\" \"x\" \"y\" \"z\""
      ]
     },
     "metadata": {},
     "output_type": "display_data"
    },
    {
     "data": {
      "text/html": [
       "<style>\n",
       ".list-inline {list-style: none; margin:0; padding: 0}\n",
       ".list-inline>li {display: inline-block}\n",
       ".list-inline>li:not(:last-child)::after {content: \"\\00b7\"; padding: 0 .5ex}\n",
       "</style>\n",
       "<ol class=list-inline><li>'A'</li><li>'B'</li><li>'C'</li><li>'D'</li><li>'E'</li><li>'F'</li><li>'G'</li><li>'H'</li><li>'I'</li><li>'J'</li><li>'K'</li><li>'L'</li><li>'M'</li><li>'N'</li><li>'O'</li><li>'P'</li><li>'Q'</li><li>'R'</li><li>'S'</li><li>'T'</li><li>'U'</li><li>'V'</li><li>'W'</li><li>'X'</li><li>'Y'</li><li>'Z'</li></ol>\n"
      ],
      "text/latex": [
       "\\begin{enumerate*}\n",
       "\\item 'A'\n",
       "\\item 'B'\n",
       "\\item 'C'\n",
       "\\item 'D'\n",
       "\\item 'E'\n",
       "\\item 'F'\n",
       "\\item 'G'\n",
       "\\item 'H'\n",
       "\\item 'I'\n",
       "\\item 'J'\n",
       "\\item 'K'\n",
       "\\item 'L'\n",
       "\\item 'M'\n",
       "\\item 'N'\n",
       "\\item 'O'\n",
       "\\item 'P'\n",
       "\\item 'Q'\n",
       "\\item 'R'\n",
       "\\item 'S'\n",
       "\\item 'T'\n",
       "\\item 'U'\n",
       "\\item 'V'\n",
       "\\item 'W'\n",
       "\\item 'X'\n",
       "\\item 'Y'\n",
       "\\item 'Z'\n",
       "\\end{enumerate*}\n"
      ],
      "text/markdown": [
       "1. 'A'\n",
       "2. 'B'\n",
       "3. 'C'\n",
       "4. 'D'\n",
       "5. 'E'\n",
       "6. 'F'\n",
       "7. 'G'\n",
       "8. 'H'\n",
       "9. 'I'\n",
       "10. 'J'\n",
       "11. 'K'\n",
       "12. 'L'\n",
       "13. 'M'\n",
       "14. 'N'\n",
       "15. 'O'\n",
       "16. 'P'\n",
       "17. 'Q'\n",
       "18. 'R'\n",
       "19. 'S'\n",
       "20. 'T'\n",
       "21. 'U'\n",
       "22. 'V'\n",
       "23. 'W'\n",
       "24. 'X'\n",
       "25. 'Y'\n",
       "26. 'Z'\n",
       "\n",
       "\n"
      ],
      "text/plain": [
       " [1] \"A\" \"B\" \"C\" \"D\" \"E\" \"F\" \"G\" \"H\" \"I\" \"J\" \"K\" \"L\" \"M\" \"N\" \"O\" \"P\" \"Q\" \"R\" \"S\"\n",
       "[20] \"T\" \"U\" \"V\" \"W\" \"X\" \"Y\" \"Z\""
      ]
     },
     "metadata": {},
     "output_type": "display_data"
    },
    {
     "data": {
      "text/html": [
       "<style>\n",
       ".list-inline {list-style: none; margin:0; padding: 0}\n",
       ".list-inline>li {display: inline-block}\n",
       ".list-inline>li:not(:last-child)::after {content: \"\\00b7\"; padding: 0 .5ex}\n",
       "</style>\n",
       "<ol class=list-inline><li>'January'</li><li>'February'</li><li>'March'</li><li>'April'</li><li>'May'</li><li>'June'</li><li>'July'</li><li>'August'</li><li>'September'</li><li>'October'</li><li>'November'</li><li>'December'</li></ol>\n"
      ],
      "text/latex": [
       "\\begin{enumerate*}\n",
       "\\item 'January'\n",
       "\\item 'February'\n",
       "\\item 'March'\n",
       "\\item 'April'\n",
       "\\item 'May'\n",
       "\\item 'June'\n",
       "\\item 'July'\n",
       "\\item 'August'\n",
       "\\item 'September'\n",
       "\\item 'October'\n",
       "\\item 'November'\n",
       "\\item 'December'\n",
       "\\end{enumerate*}\n"
      ],
      "text/markdown": [
       "1. 'January'\n",
       "2. 'February'\n",
       "3. 'March'\n",
       "4. 'April'\n",
       "5. 'May'\n",
       "6. 'June'\n",
       "7. 'July'\n",
       "8. 'August'\n",
       "9. 'September'\n",
       "10. 'October'\n",
       "11. 'November'\n",
       "12. 'December'\n",
       "\n",
       "\n"
      ],
      "text/plain": [
       " [1] \"January\"   \"February\"  \"March\"     \"April\"     \"May\"       \"June\"     \n",
       " [7] \"July\"      \"August\"    \"September\" \"October\"   \"November\"  \"December\" "
      ]
     },
     "metadata": {},
     "output_type": "display_data"
    },
    {
     "data": {
      "text/html": [
       "<style>\n",
       ".list-inline {list-style: none; margin:0; padding: 0}\n",
       ".list-inline>li {display: inline-block}\n",
       ".list-inline>li:not(:last-child)::after {content: \"\\00b7\"; padding: 0 .5ex}\n",
       "</style>\n",
       "<ol class=list-inline><li>'Jan'</li><li>'Feb'</li><li>'Mar'</li><li>'Apr'</li><li>'May'</li><li>'Jun'</li><li>'Jul'</li><li>'Aug'</li><li>'Sep'</li><li>'Oct'</li><li>'Nov'</li><li>'Dec'</li></ol>\n"
      ],
      "text/latex": [
       "\\begin{enumerate*}\n",
       "\\item 'Jan'\n",
       "\\item 'Feb'\n",
       "\\item 'Mar'\n",
       "\\item 'Apr'\n",
       "\\item 'May'\n",
       "\\item 'Jun'\n",
       "\\item 'Jul'\n",
       "\\item 'Aug'\n",
       "\\item 'Sep'\n",
       "\\item 'Oct'\n",
       "\\item 'Nov'\n",
       "\\item 'Dec'\n",
       "\\end{enumerate*}\n"
      ],
      "text/markdown": [
       "1. 'Jan'\n",
       "2. 'Feb'\n",
       "3. 'Mar'\n",
       "4. 'Apr'\n",
       "5. 'May'\n",
       "6. 'Jun'\n",
       "7. 'Jul'\n",
       "8. 'Aug'\n",
       "9. 'Sep'\n",
       "10. 'Oct'\n",
       "11. 'Nov'\n",
       "12. 'Dec'\n",
       "\n",
       "\n"
      ],
      "text/plain": [
       " [1] \"Jan\" \"Feb\" \"Mar\" \"Apr\" \"May\" \"Jun\" \"Jul\" \"Aug\" \"Sep\" \"Oct\" \"Nov\" \"Dec\""
      ]
     },
     "metadata": {},
     "output_type": "display_data"
    }
   ],
   "source": [
    "letters\n",
    "LETTERS\n",
    "month.name\n",
    "month.abb"
   ]
  },
  {
   "cell_type": "markdown",
   "metadata": {},
   "source": [
    "### Matice\n",
    "\n",
    "Kromě konstrukce pomocí `matrix` a spojování vektorů pomocí `rbind()` a `cbind()` jsou užitečné zejména:\n",
    "- `t()` - transpozice\n",
    "- `dim()` - tisk či změna dimenze\n",
    "- `rownames()` a `colnames()` - pojmenování řádků/sloupců"
   ]
  },
  {
   "cell_type": "code",
   "execution_count": 36,
   "metadata": {},
   "outputs": [
    {
     "name": "stdout",
     "output_type": "stream",
     "text": [
      "     [,1] [,2] [,3] [,4] [,5]\n",
      "[1,]    1    2    3    4    5\n",
      "[2,]    6    7    8    9   10\n",
      "[3,]   11   12   13   14   15\n"
     ]
    }
   ],
   "source": [
    "matrix_a <- matrix(data=1:15, nrow=3, byrow=T)\n",
    "print(matrix_a)"
   ]
  },
  {
   "cell_type": "code",
   "execution_count": 37,
   "metadata": {},
   "outputs": [
    {
     "name": "stdout",
     "output_type": "stream",
     "text": [
      "     [,1] [,2] [,3]\n",
      "[1,]    1    6   11\n",
      "[2,]    2    7   12\n",
      "[3,]    3    8   13\n",
      "[4,]    4    9   14\n",
      "[5,]    5   10   15\n"
     ]
    }
   ],
   "source": [
    "print(t(matrix_a))"
   ]
  },
  {
   "cell_type": "code",
   "execution_count": 38,
   "metadata": {},
   "outputs": [
    {
     "name": "stdout",
     "output_type": "stream",
     "text": [
      "     [,1] [,2] [,3]\n",
      "[1,]    1    6   11\n",
      "[2,]    2    7   12\n",
      "[3,]    3    8   13\n",
      "[4,]    4    9   14\n",
      "[5,]    5   10   15\n"
     ]
    }
   ],
   "source": [
    "matrix_b <- cbind(1:5, 6:10, 11:15)\n",
    "print(matrix_b)"
   ]
  },
  {
   "cell_type": "markdown",
   "metadata": {},
   "source": [
    "U sekvencí typu `1:5` či ekvivalentně `seq(1,5)` je zjevně důležité mít na paměti rozdílnost oproti pythonu!"
   ]
  },
  {
   "cell_type": "code",
   "execution_count": 39,
   "metadata": {},
   "outputs": [
    {
     "name": "stdout",
     "output_type": "stream",
     "text": [
      "     A  B  C  D  E\n",
      "Jan  1  2  3  4  5\n",
      "Feb  6  7  8  9 10\n",
      "Mar 11 12 13 14 15\n"
     ]
    }
   ],
   "source": [
    "rownames(matrix_a) <- month.abb[1:3]\n",
    "colnames(matrix_a) <- LETTERS[1:5]\n",
    "print(matrix_a)"
   ]
  },
  {
   "cell_type": "markdown",
   "metadata": {},
   "source": [
    "### Typ `list`\n",
    "\n",
    "Tento datový typ se trochu podobá pythonímu dictionary:"
   ]
  },
  {
   "cell_type": "code",
   "execution_count": 40,
   "metadata": {},
   "outputs": [
    {
     "name": "stdout",
     "output_type": "stream",
     "text": [
      "$old\n",
      " [1] 110 140  99 167 139 150 117 123 118 203 117 231 111 112 113\n",
      "\n",
      "$new\n",
      " [1] 121.0 154.0 108.9 183.7 152.9 165.0 128.7 135.3 129.8 223.3 128.7 254.1\n",
      "[13] 122.1 123.2 124.3\n",
      "\n"
     ]
    }
   ],
   "source": [
    "lunch_prices <- list(old=lunch.price, new=lunch.price*1.1)\n",
    "print(lunch_prices)"
   ]
  },
  {
   "cell_type": "code",
   "execution_count": 41,
   "metadata": {},
   "outputs": [
    {
     "name": "stdout",
     "output_type": "stream",
     "text": [
      " [1] 110 140  99 167 139 150 117 123 118 203 117 231 111 112 113\n"
     ]
    }
   ],
   "source": [
    "print(lunch_prices$old)"
   ]
  },
  {
   "cell_type": "code",
   "execution_count": 42,
   "metadata": {},
   "outputs": [
    {
     "name": "stdout",
     "output_type": "stream",
     "text": [
      "$old\n",
      " [1] 110 140  99 167 139 150 117 123 118 203 117 231 111 112 113\n",
      "\n",
      "$new\n",
      " [1] 121.0 154.0 108.9 183.7 152.9 165.0 128.7 135.3 129.8 223.3 128.7 254.1\n",
      "[13] 122.1 123.2 124.3\n",
      "\n",
      "$new_extended\n",
      " [1] 121.0 154.0 108.9 183.7 152.9 165.0 128.7 135.3 129.8 223.3 128.7 254.1\n",
      "[13] 122.1 123.2 124.3 122.0 123.0 124.0 125.0\n",
      "\n"
     ]
    }
   ],
   "source": [
    "lunch_prices$new_extended <- c(lunch_prices$new, 122, 123, 124, 125)\n",
    "print(lunch_prices)"
   ]
  },
  {
   "cell_type": "markdown",
   "metadata": {},
   "source": [
    "Pojďme na data aplikovat nějakou funkci. `lapply()` vrátí **l**ist, `sapply()` se pokusí udělat **s**implified output:"
   ]
  },
  {
   "cell_type": "code",
   "execution_count": 43,
   "metadata": {},
   "outputs": [
    {
     "name": "stdout",
     "output_type": "stream",
     "text": [
      "$old\n",
      "[1] 136.6667\n",
      "\n",
      "$new\n",
      "[1] 150.3333\n",
      "\n",
      "$new_extended\n",
      "[1] 144.6842\n",
      "\n"
     ]
    }
   ],
   "source": [
    "print(lapply(lunch_prices, mean))"
   ]
  },
  {
   "cell_type": "code",
   "execution_count": 44,
   "metadata": {},
   "outputs": [
    {
     "name": "stdout",
     "output_type": "stream",
     "text": [
      "         old          new new_extended \n",
      "    136.6667     150.3333     144.6842 \n"
     ]
    }
   ],
   "source": [
    "print(sapply(lunch_prices, mean))"
   ]
  },
  {
   "cell_type": "markdown",
   "metadata": {},
   "source": [
    "<font color=\"blue\">**Nyní je čas udělat úkoly 4.a a 4.b v druhém notebooku**</font>\n",
    "\n",
    "---"
   ]
  },
  {
   "cell_type": "markdown",
   "metadata": {},
   "source": [
    "### Data frames\n",
    "\n",
    "Zatímco `list` nemusí být nutně vnitřně provázaný (jak ukazuje buňka výše s nestejnými počty prvků listu), `data.frame` už je vlastně tabulka s vazbami pro jednotlivé řádky. To mimo jiné znamená, že všechny sloupce mají stejnou délku."
   ]
  },
  {
   "cell_type": "code",
   "execution_count": 45,
   "metadata": {},
   "outputs": [
    {
     "name": "stdout",
     "output_type": "stream",
     "text": [
      "   lunch_prices.old lunch_prices.new\n",
      "1               110            121.0\n",
      "2               140            154.0\n",
      "3                99            108.9\n",
      "4               167            183.7\n",
      "5               139            152.9\n",
      "6               150            165.0\n",
      "7               117            128.7\n",
      "8               123            135.3\n",
      "9               118            129.8\n",
      "10              203            223.3\n",
      "11              117            128.7\n",
      "12              231            254.1\n",
      "13              111            122.1\n",
      "14              112            123.2\n",
      "15              113            124.3\n"
     ]
    }
   ],
   "source": [
    "df <- data.frame(lunch_prices$old, lunch_prices$new)\n",
    "print(df)"
   ]
  },
  {
   "cell_type": "code",
   "execution_count": 46,
   "metadata": {},
   "outputs": [
    {
     "name": "stdout",
     "output_type": "stream",
     "text": [
      " [1] 121.0 154.0 108.9 183.7 152.9 165.0 128.7 135.3 129.8 223.3 128.7 254.1\n",
      "[13] 122.1 123.2 124.3\n"
     ]
    }
   ],
   "source": [
    "print(df$lunch_prices.new)"
   ]
  },
  {
   "cell_type": "code",
   "execution_count": 47,
   "metadata": {},
   "outputs": [
    {
     "data": {
      "text/plain": [
       " lunch_prices.old lunch_prices.new\n",
       " Min.   : 99.0    Min.   :108.9   \n",
       " 1st Qu.:112.5    1st Qu.:123.8   \n",
       " Median :118.0    Median :129.8   \n",
       " Mean   :136.7    Mean   :150.3   \n",
       " 3rd Qu.:145.0    3rd Qu.:159.5   \n",
       " Max.   :231.0    Max.   :254.1   "
      ]
     },
     "metadata": {},
     "output_type": "display_data"
    }
   ],
   "source": [
    "summary(df)"
   ]
  },
  {
   "cell_type": "markdown",
   "metadata": {},
   "source": [
    "Protože přístup k vnitřním proměnným v data framu může být poněkud těžkopádný, s oblibou využíváme funkce `attach()` a `detach()`:"
   ]
  },
  {
   "cell_type": "code",
   "execution_count": 48,
   "metadata": {},
   "outputs": [
    {
     "name": "stdout",
     "output_type": "stream",
     "text": [
      " [1] 110 140  99 167 139 150 117 123 118 203 117 231 111 112 113\n"
     ]
    }
   ],
   "source": [
    "attach(df)\n",
    "print(lunch_prices.old)\n",
    "detach(df)"
   ]
  },
  {
   "cell_type": "markdown",
   "metadata": {},
   "source": [
    "## Factors\n",
    "\n",
    "Kategorické proměnné jako diagnóza, stádium apod. jsou typ *factor*. Tento typ de facto slovně pojmenovává jednotlivé kategorie. Vytvoříme si dva vektory, v jednom budou hodnoty, v druhém faktor a slepíme je do jednoho data framu:"
   ]
  },
  {
   "cell_type": "code",
   "execution_count": 50,
   "metadata": {},
   "outputs": [
    {
     "name": "stdout",
     "output_type": "stream",
     "text": [
      "  student.avg student.cls\n",
      "1         1.2   excellent\n",
      "2         1.4   excellent\n",
      "3         3.2        poor\n",
      "4         2.8     average\n",
      "5         3.4        poor\n",
      "6         2.2     average\n",
      "7         2.7     average\n"
     ]
    }
   ],
   "source": [
    "student.avg <- c(1.2, 1.4, 3.2, 2.8, 3.4, 2.2, 2.7)    # average mark\n",
    "student.cls <- c(1, 1, 3, 2, 3, 2, 2)                  # classification group\n",
    "student.cls <- factor(student.cls, levels=1:3, order=T)\n",
    "levels(student.cls) <- c(\"excellent\", \"average\", \"poor\")\n",
    "\n",
    "student_df <- data.frame(student.avg, student.cls)\n",
    "print(student_df)"
   ]
  },
  {
   "cell_type": "markdown",
   "metadata": {},
   "source": [
    "Interně jsou faktory reprezentovány čísly, takže funguje třídění apod.:"
   ]
  },
  {
   "cell_type": "markdown",
   "metadata": {},
   "source": [
    "Pro faktory existuje funkce podobná `lapply()` a `sapply()`, a sice `tapply()`, vrací **t**abulku:"
   ]
  },
  {
   "cell_type": "code",
   "execution_count": 51,
   "metadata": {},
   "outputs": [
    {
     "name": "stdout",
     "output_type": "stream",
     "text": [
      "excellent   average      poor \n",
      " 1.300000  2.566667  3.300000 \n"
     ]
    }
   ],
   "source": [
    "print(tapply(student_df$student.avg, student_df$student.cls, mean))"
   ]
  },
  {
   "cell_type": "markdown",
   "metadata": {},
   "source": [
    "<font color=\"blue\">**Nyní je čas udělat úkoly 5.a až 5.c v druhém notebooku**</font>"
   ]
  },
  {
   "cell_type": "markdown",
   "metadata": {},
   "source": [
    "---\n",
    "---"
   ]
  }
 ],
 "metadata": {
  "kernelspec": {
   "display_name": "R",
   "language": "R",
   "name": "ir"
  },
  "language_info": {
   "codemirror_mode": "r",
   "file_extension": ".r",
   "mimetype": "text/x-r-source",
   "name": "R",
   "pygments_lexer": "r",
   "version": "4.2.1"
  }
 },
 "nbformat": 4,
 "nbformat_minor": 4
}
