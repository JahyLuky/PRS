{
 "cells": [
  {
   "cell_type": "markdown",
   "metadata": {},
   "source": [
    "# Samostatné úkoly"
   ]
  },
  {
   "cell_type": "markdown",
   "metadata": {},
   "source": [
    "Na zkoušce předmětu Statistická analýza časových řad dne 25. ledna 2023 získali účastníci následující počty bodů:\n",
    "\n",
    "68, 78, 101, 87, 101, 93, 73, 80, 100\n",
    "\n",
    "Šlo v pořadí o třetí zkouškový termín."
   ]
  },
  {
   "cell_type": "markdown",
   "metadata": {},
   "source": [
    "### Úkol 1.a\n",
    "\n",
    "Vytvořte vektor `SCR.termin3` obsahující výše uvedené hodnoty. Zjistěte počet měření, minimum, maximum, průměr a medián dat."
   ]
  },
  {
   "cell_type": "code",
   "execution_count": 1,
   "metadata": {
    "vscode": {
     "languageId": "r"
    }
   },
   "outputs": [
    {
     "data": {
      "text/plain": [
       "   Min. 1st Qu.  Median    Mean 3rd Qu.    Max. \n",
       "  68.00   78.00   87.00   86.78  100.00  101.00 "
      ]
     },
     "metadata": {},
     "output_type": "display_data"
    }
   ],
   "source": [
    "SCR.termin3 <- c(68, 78, 101, 87, 101, 93, 73, 80, 100)\n",
    "n <- length(SCR.termin3)\n",
    "summary(SCR.termin3)"
   ]
  },
  {
   "cell_type": "markdown",
   "metadata": {},
   "source": [
    "### Úkol 1.b\n",
    "\n",
    "Zjistěte výběrový rozptyl dat a to:\n",
    "1. pomocí některé z funkcí\n",
    "2. podle vzorce pro rozptyl\n",
    "\n",
    "Ověřte, že vámi vybraná funkce vrací nevychýlenou hodnotu rozptylu\n",
    ">$$\n",
    "s^2 = \\frac{1}{N-1} \\sum_{i=1}^{N} (x_i - \\bar{x})^2.\n",
    "$$"
   ]
  },
  {
   "cell_type": "code",
   "execution_count": 2,
   "metadata": {
    "vscode": {
     "languageId": "r"
    }
   },
   "outputs": [
    {
     "name": "stdout",
     "output_type": "stream",
     "text": [
      "[1] 160.4444\n",
      "[1] 160.4444\n"
     ]
    }
   ],
   "source": [
    "frac <- 1/(n - 1)\n",
    "differences <- SCR.termin3 - mean(SCR.termin3)\n",
    "rozptyl <- frac * sum(differences ** 2)        # ** je přeloženo na ^\n",
    "print(rozptyl)\n",
    "print(var(SCR.termin3))"
   ]
  },
  {
   "cell_type": "markdown",
   "metadata": {},
   "source": [
    "<font color=\"blue\">**Nyní zpět k výkladu.**</font>\n",
    "\n",
    "---"
   ]
  },
  {
   "cell_type": "markdown",
   "metadata": {},
   "source": [
    "### Úkol 2.a\n",
    "\n",
    "Tento kód je pouze rozcvička na podmínky a cykly. Vaším úkolem je spočítat průměr bodového hodnocení studentů, kteří dosáhli nejméně 90b a dostali tedy A, a průměr bodového hodnocení všech ostatních. Využijte některý z cyklů a podmínek `if`."
   ]
  },
  {
   "cell_type": "code",
   "execution_count": 3,
   "metadata": {
    "vscode": {
     "languageId": "r"
    }
   },
   "outputs": [
    {
     "name": "stdout",
     "output_type": "stream",
     "text": [
      "[1] \"Ackari:\"\n"
     ]
    },
    {
     "data": {
      "text/html": [
       "98.75"
      ],
      "text/latex": [
       "98.75"
      ],
      "text/markdown": [
       "98.75"
      ],
      "text/plain": [
       "[1] 98.75"
      ]
     },
     "metadata": {},
     "output_type": "display_data"
    },
    {
     "name": "stdout",
     "output_type": "stream",
     "text": [
      "[1] \"Ostatni:\"\n"
     ]
    },
    {
     "data": {
      "text/html": [
       "77.2"
      ],
      "text/latex": [
       "77.2"
      ],
      "text/markdown": [
       "77.2"
      ],
      "text/plain": [
       "[1] 77.2"
      ]
     },
     "metadata": {},
     "output_type": "display_data"
    }
   ],
   "source": [
    "suma.A <- 0\n",
    "n.A <- 0\n",
    "suma.notA <- 0\n",
    "n.notA <- 0\n",
    "for (i in 1:n) {\n",
    "    if(SCR.termin3[i] >= 90) {\n",
    "        suma.A <- suma.A + SCR.termin3[i]\n",
    "        n.A <- n.A + 1\n",
    "    } else {\n",
    "        suma.notA <- suma.notA + SCR.termin3[i]\n",
    "        n.notA <- n.notA + 1\n",
    "    }\n",
    "}\n",
    "print(\"Ackari:\")\n",
    "suma.A/n.A\n",
    "print(\"Ostatni:\")\n",
    "suma.notA/n.notA"
   ]
  },
  {
   "cell_type": "markdown",
   "metadata": {},
   "source": [
    "### Úkol 2.b"
   ]
  },
  {
   "cell_type": "markdown",
   "metadata": {},
   "source": [
    "Nyní zkuste totéž trochu čistěji s pomocí indexování. Zároveň zkuste vytisknout text v podobě \"Ackari: XY bodů\". (nápověda: `cat()`, `paste()`, `paste0()`)"
   ]
  },
  {
   "cell_type": "code",
   "execution_count": 4,
   "metadata": {
    "vscode": {
     "languageId": "r"
    }
   },
   "outputs": [
    {
     "name": "stdout",
     "output_type": "stream",
     "text": [
      "[1] \"Ackari: 98.75b\"\n",
      "Ostatni: 77.2 b"
     ]
    }
   ],
   "source": [
    "ackari <- mean(SCR.termin3[SCR.termin3 >= 90])\n",
    "ostatni <- mean(SCR.termin3[SCR.termin3 < 90])\n",
    "print(paste0(\"Ackari: \", ackari, \"b\"))\n",
    "cat(\"Ostatni:\", ostatni, 'b')"
   ]
  },
  {
   "cell_type": "markdown",
   "metadata": {},
   "source": [
    "<font color=\"blue\">**Nyní zpět k výkladu.**</font>\n",
    "\n",
    "---"
   ]
  },
  {
   "cell_type": "markdown",
   "metadata": {},
   "source": [
    "### Úkol 3.a\n",
    "\n",
    "Naším úkolem je nyní otestovat, zda bodové hodnocení má střední hodnotu 80b. Na základě této informace:\n",
    "- stanovte typ testu (na tabuli)\n",
    "- sestavte hypotézy (na tabuli)\n",
    "- explicitně vyjádřete hodnotu hladiny významnosti (na tabuli)\n",
    "- explicitně vyjádřete interval spolehlivosti (na tabuli)\n",
    "- pomocí R test proveďte a pečlivě vyhodnoťte!"
   ]
  },
  {
   "cell_type": "code",
   "execution_count": 5,
   "metadata": {
    "vscode": {
     "languageId": "r"
    }
   },
   "outputs": [
    {
     "data": {
      "text/plain": [
       "\n",
       "\tOne Sample t-test\n",
       "\n",
       "data:  SCR.termin3\n",
       "t = 1.6053, df = 8, p-value = 0.1471\n",
       "alternative hypothesis: true mean is not equal to 80\n",
       "95 percent confidence interval:\n",
       " 77.04132 96.51424\n",
       "sample estimates:\n",
       "mean of x \n",
       " 86.77778 \n"
      ]
     },
     "metadata": {},
     "output_type": "display_data"
    }
   ],
   "source": [
    "t.test(SCR.termin3, mu=80)"
   ]
  },
  {
   "cell_type": "markdown",
   "metadata": {},
   "source": [
    "<font color=\"blue\">**Nyní zpět k výkladu.**</font>\n",
    "\n",
    "---"
   ]
  },
  {
   "cell_type": "markdown",
   "metadata": {},
   "source": [
    "### Úkol 4.a\n",
    "\n",
    "Na termínu 16. února, v pořadí pátém, byly dosažené bodové zisky následující:\n",
    "\n",
    "91, 86, 75, 73, 74\n",
    "\n",
    "Vytvořte `list` pojmenovaný `SCR`, který bude obsahovat proměnnou tagy `termin3` a `termin5` (vytvořený z výše uvedených bodových zisků)."
   ]
  },
  {
   "cell_type": "code",
   "execution_count": 6,
   "metadata": {
    "vscode": {
     "languageId": "r"
    }
   },
   "outputs": [
    {
     "name": "stdout",
     "output_type": "stream",
     "text": [
      "$termin3\n",
      "[1]  68  78 101  87 101  93  73  80 100\n",
      "\n",
      "$termin5\n",
      "[1] 91 86 75 73 74\n",
      "\n"
     ]
    }
   ],
   "source": [
    "SCR.termin5 <- c(91, 86, 75, 73, 74)\n",
    "SCR <- list(termin3 = SCR.termin3,\n",
    "            termin5 = SCR.termin5)\n",
    "print(SCR)"
   ]
  },
  {
   "cell_type": "markdown",
   "metadata": {},
   "source": [
    "### Úkol 4.b\n",
    "\n",
    "Otestujte na hladině významnosti 1% hypotézu o shodě středních hodnot obou termínů.\n",
    "- stanovte typ testu (na tabuli)\n",
    "- sestavte hypotézy (na tabuli)\n",
    "- pomocí R test proveďte a pečlivě vyhodnoťte!"
   ]
  },
  {
   "cell_type": "code",
   "execution_count": 7,
   "metadata": {
    "vscode": {
     "languageId": "r"
    }
   },
   "outputs": [
    {
     "data": {
      "text/plain": [
       "\n",
       "\tWelch Two Sample t-test\n",
       "\n",
       "data:  SCR$termin3 and SCR$termin5\n",
       "t = 1.2499, df = 11.535, p-value = 0.2361\n",
       "alternative hypothesis: true difference in means is not equal to 0\n",
       "99 percent confidence interval:\n",
       " -10.20098  24.15653\n",
       "sample estimates:\n",
       "mean of x mean of y \n",
       " 86.77778  79.80000 \n"
      ]
     },
     "metadata": {},
     "output_type": "display_data"
    }
   ],
   "source": [
    "t.test(SCR$termin3, SCR$termin5, conf.level=.99)"
   ]
  },
  {
   "cell_type": "markdown",
   "metadata": {},
   "source": [
    "<font color=\"blue\">**Nyní zpět k výkladu.**</font>\n",
    "\n",
    "---"
   ]
  },
  {
   "cell_type": "markdown",
   "metadata": {},
   "source": [
    "### Úkol 5.a\n",
    "\n",
    "Vraťme se k třetímu zkouškovému termínu předmětu SCR. Studenti si k němu přinesli i body ze semestru. Ve stejném pořadí, jako byl celkový bodový zisk, tyto body byly:\n",
    "\n",
    "0, 13, 38, 15, 29, 22, 3, 15, 39\n",
    "\n",
    "Sestavte `data.frame` pojmenovaný `df`, který obsahuje sloupce `body_zkouska` a `body_semestr`."
   ]
  },
  {
   "cell_type": "code",
   "execution_count": 8,
   "metadata": {
    "vscode": {
     "languageId": "r"
    }
   },
   "outputs": [
    {
     "name": "stdout",
     "output_type": "stream",
     "text": [
      "  body_zkouska body_semestr\n",
      "1           68            0\n",
      "2           78           13\n",
      "3          101           38\n",
      "4           87           15\n",
      "5          101           29\n",
      "6           93           22\n",
      "7           73            3\n",
      "8           80           15\n",
      "9          100           39\n"
     ]
    }
   ],
   "source": [
    "df <- data.frame(body_zkouska = SCR.termin3,\n",
    "                 body_semestr = c(0, 13, 38, 15, 29, 22, 3, 15, 39))\n",
    "print(df)"
   ]
  },
  {
   "cell_type": "markdown",
   "metadata": {},
   "source": [
    "### Úkol 5.b\n",
    "\n",
    "Nyní napište funkci, která bere jako vstup počet bodů ze zkoušky a vrací známku. Známkování je tradiční, tj. 90b a více je A atd. Tuto funkci následně aplikujte pomocí `lapply()` na `df$body_zkouska` a výsledek připojte jako `df$znamka`."
   ]
  },
  {
   "cell_type": "code",
   "execution_count": 9,
   "metadata": {
    "vscode": {
     "languageId": "r"
    }
   },
   "outputs": [],
   "source": [
    "grading <- function(pts) {\n",
    "    if (pts >= 90) grd = \"A\"\n",
    "    else if (pts >= 80) grd = \"B\"\n",
    "    else if (pts >= 70) grd = \"C\"\n",
    "    else if (pts >= 60) grd = \"D\"\n",
    "    else if (pts >= 50) grd = \"E\"\n",
    "    else grd = \"F\"\n",
    "    return(grd)\n",
    "}"
   ]
  },
  {
   "cell_type": "code",
   "execution_count": 10,
   "metadata": {
    "vscode": {
     "languageId": "r"
    }
   },
   "outputs": [
    {
     "name": "stdout",
     "output_type": "stream",
     "text": [
      "  body_zkouska body_semestr znamka\n",
      "1           68            0      D\n",
      "2           78           13      C\n",
      "3          101           38      A\n",
      "4           87           15      B\n",
      "5          101           29      A\n",
      "6           93           22      A\n",
      "7           73            3      C\n",
      "8           80           15      B\n",
      "9          100           39      A\n"
     ]
    }
   ],
   "source": [
    "df$znamka <- lapply(df$body_zkouska, grading)\n",
    "print(df)"
   ]
  },
  {
   "cell_type": "markdown",
   "metadata": {},
   "source": [
    "### Úkol 5.c\n",
    "\n",
    "Podívejte se na vlastnosti `df`. Změňte `df$znamka` tak, aby byl typu `factor`. Mějte na paměti, že známka je na ordinální škále, tj. A je lepší než B atd."
   ]
  },
  {
   "cell_type": "code",
   "execution_count": 11,
   "metadata": {
    "vscode": {
     "languageId": "r"
    }
   },
   "outputs": [
    {
     "data": {
      "text/plain": [
       "  body_zkouska     body_semestr   znamka.Length  znamka.Class  znamka.Mode\n",
       " Min.   : 68.00   Min.   : 0.00   1          -none-     character         \n",
       " 1st Qu.: 78.00   1st Qu.:13.00   1          -none-     character         \n",
       " Median : 87.00   Median :15.00   1          -none-     character         \n",
       " Mean   : 86.78   Mean   :19.33   1          -none-     character         \n",
       " 3rd Qu.:100.00   3rd Qu.:29.00   1          -none-     character         \n",
       " Max.   :101.00   Max.   :39.00   1          -none-     character         \n",
       "                                  1          -none-     character         \n",
       "                                  1          -none-     character         \n",
       "                                  1          -none-     character         "
      ]
     },
     "metadata": {},
     "output_type": "display_data"
    }
   ],
   "source": [
    "summary(df)"
   ]
  },
  {
   "cell_type": "code",
   "execution_count": 12,
   "metadata": {
    "vscode": {
     "languageId": "r"
    }
   },
   "outputs": [
    {
     "name": "stdout",
     "output_type": "stream",
     "text": [
      "  body_zkouska body_semestr znamka\n",
      "1           68            0      D\n",
      "2           78           13      C\n",
      "3          101           38      A\n",
      "4           87           15      B\n",
      "5          101           29      A\n",
      "6           93           22      A\n",
      "7           73            3      C\n",
      "8           80           15      B\n",
      "9          100           39      A\n"
     ]
    }
   ],
   "source": [
    "df$znamka <- factor(df$znamka, levels=LETTERS[1:6], ordered=T)\n",
    "print(df)"
   ]
  },
  {
   "cell_type": "markdown",
   "metadata": {},
   "source": [
    "### Úkol 5.d\n",
    "\n",
    "Podívejte se na základní popisné statistiky `df` a poté spočtěte průměr bodů ze zkoušky pro jednotlivé známky."
   ]
  },
  {
   "cell_type": "code",
   "execution_count": 13,
   "metadata": {
    "vscode": {
     "languageId": "r"
    }
   },
   "outputs": [
    {
     "data": {
      "text/plain": [
       "  body_zkouska     body_semestr   znamka\n",
       " Min.   : 68.00   Min.   : 0.00   A:4   \n",
       " 1st Qu.: 78.00   1st Qu.:13.00   B:2   \n",
       " Median : 87.00   Median :15.00   C:2   \n",
       " Mean   : 86.78   Mean   :19.33   D:1   \n",
       " 3rd Qu.:100.00   3rd Qu.:29.00   E:0   \n",
       " Max.   :101.00   Max.   :39.00   F:0   "
      ]
     },
     "metadata": {},
     "output_type": "display_data"
    }
   ],
   "source": [
    "summary(df)"
   ]
  },
  {
   "cell_type": "code",
   "execution_count": 14,
   "metadata": {
    "vscode": {
     "languageId": "r"
    }
   },
   "outputs": [
    {
     "data": {
      "text/html": [
       "<style>\n",
       ".dl-inline {width: auto; margin:0; padding: 0}\n",
       ".dl-inline>dt, .dl-inline>dd {float: none; width: auto; display: inline-block}\n",
       ".dl-inline>dt::after {content: \":\\0020\"; padding-right: .5ex}\n",
       ".dl-inline>dt:not(:first-of-type) {padding-left: .5ex}\n",
       "</style><dl class=dl-inline><dt>A</dt><dd>98.75</dd><dt>B</dt><dd>83.5</dd><dt>C</dt><dd>75.5</dd><dt>D</dt><dd>68</dd><dt>E</dt><dd>&lt;NA&gt;</dd><dt>F</dt><dd>&lt;NA&gt;</dd></dl>\n"
      ],
      "text/latex": [
       "\\begin{description*}\n",
       "\\item[A] 98.75\n",
       "\\item[B] 83.5\n",
       "\\item[C] 75.5\n",
       "\\item[D] 68\n",
       "\\item[E] <NA>\n",
       "\\item[F] <NA>\n",
       "\\end{description*}\n"
      ],
      "text/markdown": [
       "A\n",
       ":   98.75B\n",
       ":   83.5C\n",
       ":   75.5D\n",
       ":   68E\n",
       ":   &lt;NA&gt;F\n",
       ":   &lt;NA&gt;\n",
       "\n"
      ],
      "text/plain": [
       "    A     B     C     D     E     F \n",
       "98.75 83.50 75.50 68.00    NA    NA "
      ]
     },
     "metadata": {},
     "output_type": "display_data"
    }
   ],
   "source": [
    "tapply(df$body_zkouska, df$znamka, mean)"
   ]
  },
  {
   "cell_type": "markdown",
   "metadata": {},
   "source": [
    "<font color=\"blue\">**A jsme u konce dnešního cvičení.**</font>"
   ]
  }
 ],
 "metadata": {
  "kernelspec": {
   "display_name": "R",
   "language": "R",
   "name": "ir"
  },
  "language_info": {
   "codemirror_mode": "r",
   "file_extension": ".r",
   "mimetype": "text/x-r-source",
   "name": "R",
   "pygments_lexer": "r",
   "version": "4.1.2"
  }
 },
 "nbformat": 4,
 "nbformat_minor": 4
}
