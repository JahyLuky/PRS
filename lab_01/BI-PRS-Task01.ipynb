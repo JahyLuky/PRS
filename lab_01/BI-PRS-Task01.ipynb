{
 "cells": [
  {
   "cell_type": "markdown",
   "metadata": {},
   "source": [
    "# Samostatné úkoly"
   ]
  },
  {
   "cell_type": "markdown",
   "metadata": {},
   "source": [
    "Na zkoušce předmětu Statistická analýza časových řad dne 25. ledna 2023 získali účastníci následující počty bodů:\n",
    "\n",
    "68, 78, 101, 87, 101, 93, 73, 80, 100\n",
    "\n",
    "Šlo v pořadí o třetí zkouškový termín."
   ]
  },
  {
   "cell_type": "markdown",
   "metadata": {},
   "source": [
    "### Úkol 1.a\n",
    "\n",
    "Vytvořte vektor `SCR.termin_3` obsahující výše uvedené hodnoty. Zjistěte počet měření, minimum, maximum, průměr a medián dat."
   ]
  },
  {
   "cell_type": "code",
   "execution_count": 4,
   "metadata": {
    "vscode": {
     "languageId": "r"
    }
   },
   "outputs": [
    {
     "name": "stdout",
     "output_type": "stream",
     "text": [
      "[1] 9\n"
     ]
    },
    {
     "data": {
      "text/html": [
       "68"
      ],
      "text/latex": [
       "68"
      ],
      "text/markdown": [
       "68"
      ],
      "text/plain": [
       "[1] 68"
      ]
     },
     "metadata": {},
     "output_type": "display_data"
    },
    {
     "data": {
      "text/html": [
       "101"
      ],
      "text/latex": [
       "101"
      ],
      "text/markdown": [
       "101"
      ],
      "text/plain": [
       "[1] 101"
      ]
     },
     "metadata": {},
     "output_type": "display_data"
    },
    {
     "data": {
      "text/html": [
       "86.7777777777778"
      ],
      "text/latex": [
       "86.7777777777778"
      ],
      "text/markdown": [
       "86.7777777777778"
      ],
      "text/plain": [
       "[1] 86.77778"
      ]
     },
     "metadata": {},
     "output_type": "display_data"
    }
   ],
   "source": [
    "SCR.termin_3 <- c(68, 78, 101, 87, 101, 93, 73, 80, 100)\n",
    "n <- length(SCR.termin_3)\n",
    "print(n)\n",
    "min(SCR.termin_3)\n",
    "max(SCR.termin_3)\n",
    "mean(SCR.termin_3)"
   ]
  },
  {
   "cell_type": "markdown",
   "metadata": {},
   "source": [
    "### Úkol 1.b\n",
    "\n",
    "Zjistěte výběrový rozptyl dat a to:\n",
    "1. pomocí některé z funkcí\n",
    "2. podle vzorce pro rozptyl\n",
    "\n",
    "Ověřte, že vámi vybraná funkce vrací nevychýlenou hodnotu rozptylu\n",
    ">$$\n",
    "s^2 = \\frac{1}{N-1} \\sum_{i=1}^{N} (x_i - \\bar{x})^2.\n",
    "$$"
   ]
  },
  {
   "cell_type": "code",
   "execution_count": 9,
   "metadata": {
    "vscode": {
     "languageId": "r"
    }
   },
   "outputs": [
    {
     "name": "stdout",
     "output_type": "stream",
     "text": [
      "[1] 160.4444\n",
      "[1] 160.4444\n"
     ]
    }
   ],
   "source": [
    "print(var(SCR.termin_3))\n",
    "frac <- 1/(n-1)\n",
    "diff <- SCR.termin_3 - mean(SCR.termin_3)\n",
    "varr <- frac * sum(diff**2)\n",
    "print (varr)"
   ]
  },
  {
   "cell_type": "markdown",
   "metadata": {},
   "source": [
    "<font color=\"blue\">**Nyní zpět k výkladu.**</font>\n",
    "\n",
    "---"
   ]
  },
  {
   "cell_type": "markdown",
   "metadata": {},
   "source": [
    "### Úkol 2.a\n",
    "\n",
    "Tento kód je pouze rozcvička na podmínky a cykly. Vaším úkolem je spočítat průměr bodového hodnocení studentů, kteří dosáhli nejméně 90b a dostali tedy A, a průměr bodového hodnocení všech ostatních. Využijte některý z cyklů a podmínek `if`."
   ]
  },
  {
   "cell_type": "code",
   "execution_count": 30,
   "metadata": {
    "vscode": {
     "languageId": "r"
    }
   },
   "outputs": [
    {
     "name": "stdout",
     "output_type": "stream",
     "text": [
      "[1] 98.75\n",
      "[1] 77.2\n"
     ]
    }
   ],
   "source": [
    "avr_M <- 0\n",
    "avr_L <- 0\n",
    "cnt_M <- 0\n",
    "cnt_L <- 0\n",
    "for (i in 1:n) {\n",
    "    if (SCR.termin_3[i] > 89) {\n",
    "        cnt_M <- cnt_M + 1\n",
    "        avr_M <- avr_M + SCR.termin_3[i]\n",
    "    } else {\n",
    "        cnt_L <- cnt_L + 1\n",
    "        avr_L <- avr_L + SCR.termin_3[i]\n",
    "    }\n",
    "}\n",
    "print (avr_M/cnt_M)\n",
    "print (avr_L/cnt_L)"
   ]
  },
  {
   "cell_type": "markdown",
   "metadata": {},
   "source": [
    "### Úkol 2.b"
   ]
  },
  {
   "cell_type": "markdown",
   "metadata": {},
   "source": [
    "Nyní zkuste totéž trochu čistěji s pomocí indexování. Zároveň zkuste vytisknout text v podobě \"Ackari: XY bodů\". (nápověda: `cat()`, `paste()`, `paste0()`)"
   ]
  },
  {
   "cell_type": "code",
   "execution_count": 31,
   "metadata": {
    "vscode": {
     "languageId": "r"
    }
   },
   "outputs": [
    {
     "name": "stdout",
     "output_type": "stream",
     "text": [
      "[1] \"Ackari: 98.75b\"\n",
      "Ostatni:  77.2 b"
     ]
    }
   ],
   "source": [
    "A <- mean(SCR.termin_3[SCR.termin_3 >= 90])\n",
    "O <- mean(SCR.termin_3[SCR.termin_3 < 90])\n",
    "print(paste0(\"Ackari: \", A, \"b\"))\n",
    "cat(\"Ostatni: \", O, 'b')"
   ]
  },
  {
   "cell_type": "markdown",
   "metadata": {},
   "source": [
    "<font color=\"blue\">**Nyní zpět k výkladu.**</font>\n",
    "\n",
    "---"
   ]
  },
  {
   "cell_type": "markdown",
   "metadata": {},
   "source": [
    "### Úkol 3.a\n",
    "\n",
    "Naším úkolem je nyní otestovat, zda bodové hodnocení má střední hodnotu 80b. Na základě této informace:\n",
    "- stanovte typ testu (na tabuli)\n",
    "- sestavte hypotézy (na tabuli)\n",
    "- explicitně vyjádřete hodnotu hladiny významnosti (na tabuli)\n",
    "- explicitně vyjádřete interval spolehlivosti (na tabuli)\n",
    "- pomocí R test proveďte a pečlivě vyhodnoťte!"
   ]
  },
  {
   "cell_type": "code",
   "execution_count": 35,
   "metadata": {
    "vscode": {
     "languageId": "r"
    }
   },
   "outputs": [
    {
     "data": {
      "text/plain": [
       "\n",
       "\tOne Sample t-test\n",
       "\n",
       "data:  SCR.termin_3\n",
       "t = 1.6053, df = 8, p-value = 0.1471\n",
       "alternative hypothesis: true mean is not equal to 80\n",
       "95 percent confidence interval:\n",
       " 77.04132 96.51424\n",
       "sample estimates:\n",
       "mean of x \n",
       " 86.77778 \n"
      ]
     },
     "metadata": {},
     "output_type": "display_data"
    }
   ],
   "source": [
    "t.test(SCR.termin_3, m=80, alternative=\"two.sided\")"
   ]
  },
  {
   "cell_type": "markdown",
   "metadata": {},
   "source": [
    "<font color=\"blue\">**Nyní zpět k výkladu.**</font>\n",
    "\n",
    "---"
   ]
  },
  {
   "cell_type": "markdown",
   "metadata": {},
   "source": [
    "### Úkol 4.a\n",
    "\n",
    "Na termínu 16. února, v pořadí pátém, byly dosažené bodové zisky následující:\n",
    "\n",
    "91, 86, 75, 73, 74\n",
    "\n",
    "Vytvořte `list` pojmenovaný `SCR`, který bude obsahovat proměnnou tagy `termin3` a `termin5` (vytvořený z výše uvedených bodových zisků)."
   ]
  },
  {
   "cell_type": "code",
   "execution_count": 40,
   "metadata": {
    "vscode": {
     "languageId": "r"
    }
   },
   "outputs": [
    {
     "name": "stdout",
     "output_type": "stream",
     "text": [
      "[1]  68  78 101  87 101  93  73  80 100\n",
      "[1] 91 86 75 73 74\n"
     ]
    }
   ],
   "source": [
    "SRC <- list(termin3=SCR.termin_3)\n",
    "SRC$termin5 <- c(91, 86, 75, 73, 74)\n",
    "print(SRC$termin3)\n",
    "print(SRC$termin5)"
   ]
  },
  {
   "cell_type": "markdown",
   "metadata": {},
   "source": [
    "### Úkol 4.b\n",
    "\n",
    "Otestujte na hladině významnosti 1% hypotézu o shodě středních hodnot obou termínů.\n",
    "- stanovte typ testu (na tabuli)\n",
    "- sestavte hypotézy (na tabuli)\n",
    "- pomocí R test proveďte a pečlivě vyhodnoťte!"
   ]
  },
  {
   "cell_type": "code",
   "execution_count": 43,
   "metadata": {
    "vscode": {
     "languageId": "r"
    }
   },
   "outputs": [
    {
     "data": {
      "text/plain": [
       "\n",
       "\tWelch Two Sample t-test\n",
       "\n",
       "data:  SRC$termin3 and SRC$termin5\n",
       "t = 1.2499, df = 11.535, p-value = 0.2361\n",
       "alternative hypothesis: true difference in means is not equal to 0\n",
       "99 percent confidence interval:\n",
       " -10.20098  24.15653\n",
       "sample estimates:\n",
       "mean of x mean of y \n",
       " 86.77778  79.80000 \n"
      ]
     },
     "metadata": {},
     "output_type": "display_data"
    }
   ],
   "source": [
    "t.test(SRC$termin3, SRC$termin5, conf.level=.99)"
   ]
  },
  {
   "cell_type": "markdown",
   "metadata": {},
   "source": [
    "<font color=\"blue\">**Nyní zpět k výkladu.**</font>\n",
    "\n",
    "---"
   ]
  },
  {
   "cell_type": "markdown",
   "metadata": {},
   "source": [
    "### Úkol 5.a\n",
    "\n",
    "Vraťme se k třetímu zkouškovému termínu předmětu SCR. Studenti si k němu přinesli i body ze semestru. Ve stejném pořadí, jako byl celkový bodový zisk, tyto body byly:\n",
    "\n",
    "0, 13, 38, 15, 29, 22, 3, 15, 39\n",
    "\n",
    "Sestavte `data.frame` pojmenovaný `df`, který obsahuje sloupce `body_zkouska` a `body_semestr`."
   ]
  },
  {
   "cell_type": "code",
   "execution_count": 44,
   "metadata": {
    "vscode": {
     "languageId": "r"
    }
   },
   "outputs": [
    {
     "name": "stdout",
     "output_type": "stream",
     "text": [
      "  SRC.termin3 SRC.termin3_sem\n",
      "1          68               0\n",
      "2          78              13\n",
      "3         101              38\n",
      "4          87              15\n",
      "5         101              29\n",
      "6          93              22\n",
      "7          73               3\n",
      "8          80              15\n",
      "9         100              39\n"
     ]
    }
   ],
   "source": [
    "SRC$termin3_sem <- c(0, 13, 38, 15, 29, 22, 3, 15, 39)\n",
    "df <- data.frame(SRC$termin3, SRC$termin3_sem)\n",
    "print (df)"
   ]
  },
  {
   "cell_type": "markdown",
   "metadata": {},
   "source": [
    "### Úkol 5.b\n",
    "\n",
    "Nyní napište funkci, která bere jako vstup počet bodů ze zkoušky a vrací známku. Známkování je tradiční, tj. 90b a více je A atd. Tuto funkci následně aplikujte pomocí `lapply()` na `df$body_zkouska` a výsledek připojte jako `df$znamka`."
   ]
  },
  {
   "cell_type": "code",
   "execution_count": null,
   "metadata": {
    "vscode": {
     "languageId": "r"
    }
   },
   "outputs": [],
   "source": []
  },
  {
   "cell_type": "markdown",
   "metadata": {},
   "source": [
    "### Úkol 5.c\n",
    "\n",
    "Podívejte se na vlastnosti `df`. Změňte `df$grade` tak, aby byl typu `factor`. Mějte na paměti, že známka je na ordinální škále, tj. A je lepší než B atd."
   ]
  },
  {
   "cell_type": "code",
   "execution_count": null,
   "metadata": {
    "vscode": {
     "languageId": "r"
    }
   },
   "outputs": [],
   "source": []
  },
  {
   "cell_type": "markdown",
   "metadata": {},
   "source": [
    "### Úkol 5.d\n",
    "\n",
    "Podívejte se na základní popisné statistiky `df` a poté spočtěte průměr bodů ze zkoušky pro jednotlivé známky."
   ]
  },
  {
   "cell_type": "code",
   "execution_count": 1,
   "metadata": {
    "vscode": {
     "languageId": "r"
    }
   },
   "outputs": [],
   "source": []
  },
  {
   "cell_type": "markdown",
   "metadata": {},
   "source": [
    "<font color=\"blue\">**A jsme u konce dnešního cvičení.**</font>"
   ]
  }
 ],
 "metadata": {
  "kernelspec": {
   "display_name": "R",
   "language": "R",
   "name": "ir"
  },
  "language_info": {
   "codemirror_mode": "r",
   "file_extension": ".r",
   "mimetype": "text/x-r-source",
   "name": "R",
   "pygments_lexer": "r",
   "version": "4.1.2"
  }
 },
 "nbformat": 4,
 "nbformat_minor": 4
}
