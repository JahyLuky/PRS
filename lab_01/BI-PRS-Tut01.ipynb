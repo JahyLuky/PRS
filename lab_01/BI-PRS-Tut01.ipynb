{
 "cells": [
  {
   "cell_type": "markdown",
   "metadata": {},
   "source": [
    "# Cvičení 1: Úvod do jazyka R"
   ]
  },
  {
   "cell_type": "markdown",
   "metadata": {},
   "source": [
    "Interpret jazyka R spustíme snadno z příkazové řádky:\n",
    "```\n",
    "[jp@riemann ~]$ R\n",
    "\n",
    "R version 4.2.0 alpha (2022-04-01 r82059)\n",
    "Copyright (C) 2022 The R Foundation for Statistical Computing\n",
    "Platform: x86_64-pc-linux-gnu (64-bit)\n",
    "\n",
    "R is free software and comes with ABSOLUTELY NO WARRANTY.\n",
    "You are welcome to redistribute it under certain conditions.\n",
    "Type 'license()' or 'licence()' for distribution details.\n",
    "\n",
    "  Natural language support but running in an English locale\n",
    "\n",
    "R is a collaborative project with many contributors.\n",
    "Type 'contributors()' for more information and\n",
    "'citation()' on how to cite R or R packages in publications.\n",
    "\n",
    "Type 'demo()' for some demos, 'help()' for on-line help, or\n",
    "'help.start()' for an HTML browser interface to help.\n",
    "Type 'q()' to quit R.\n",
    "\n",
    "[Previously saved workspace restored]\n",
    "\n",
    "> \n",
    "```\n",
    "\n",
    "Je patrné, že R umí nějaká dema, nápovědu, doplňování syntaxe apod. Navíc umí ukládat a obnovovat workspace, tj. proměnné. Nápovědu lze velmi jednoduše vyvolat i pomocí prefixového otazníku:\n",
    "```\n",
    "> ?c()\n",
    "```\n",
    "\n",
    "Pokud nevíme, jak se funkce jmenuje, ale víme, co by měla dělat, můžeme použít příkaz `apropos()`:"
   ]
  },
  {
   "cell_type": "code",
   "execution_count": null,
   "metadata": {},
   "outputs": [
    {
     "ename": "",
     "evalue": "",
     "output_type": "error",
     "traceback": [
      "\u001b[1;31mFailed to start the Kernel. \n",
      "\u001b[1;31munknown option --slave\n",
      "\u001b[1;31musage: /home/uwu/anaconda3/envs/r_env/bin/python [option] ... [-c cmd | -m mod | file | -] [arg] ...\n",
      "\u001b[1;31mTry `python -h' for more information. \n",
      "\u001b[1;31mView Jupyter <a href='command:jupyter.viewOutput'>log</a> for further details."
     ]
    }
   ],
   "source": [
    "apropos('iqr')"
   ]
  },
  {
   "cell_type": "markdown",
   "metadata": {},
   "source": [
    "eventuálně `help.search()`:"
   ]
  },
  {
   "cell_type": "code",
   "execution_count": null,
   "metadata": {},
   "outputs": [
    {
     "ename": "",
     "evalue": "",
     "output_type": "error",
     "traceback": [
      "\u001b[1;31mFailed to start the Kernel. \n",
      "\u001b[1;31munknown option --slave\n",
      "\u001b[1;31musage: /home/uwu/anaconda3/envs/r_env/bin/python [option] ... [-c cmd | -m mod | file | -] [arg] ...\n",
      "\u001b[1;31mTry `python -h' for more information. \n",
      "\u001b[1;31mView Jupyter <a href='command:jupyter.viewOutput'>log</a> for further details."
     ]
    }
   ],
   "source": [
    "help.search('iqr')"
   ]
  },
  {
   "cell_type": "markdown",
   "metadata": {},
   "source": [
    "My budeme pracovat v prostředí `jupyter notebook` resp. `jupyter lab`. Populárními alternativami jsou [RStudio](https://www.rstudio.com/), [RKWard](https://rkward.kde.org/), [rattle](https://rattle.togaware.com/), fajnšmekři mohou využívat [ViM](https://www.freecodecamp.org/news/turning-vim-into-an-r-ide-cd9602e8c217)."
   ]
  },
  {
   "cell_type": "markdown",
   "metadata": {},
   "source": [
    "## Prostředí R (R environment)\n",
    "Podívejme se na některé vlastnosti prostředí jazyka R.\n",
    "\n",
    "### Co v noteboocích nevyužijeme\n",
    "Pokud bychom pracovali přímo v interpretu jazyka R, potřebovali bychom mít přehled o existujících proměnných:\n",
    "\n",
    "```\n",
    "> ls()\n",
    " [1] \"Date\"        \"DayOfWeek\"   \"fitted\"      \"household\"   \"hrs_yr\"     \n",
    " [6] \"ind\"         \"logreg\"      \"MonthOfYear\" \"newdata.pr\"  \"newsvm\"     \n",
    "[11] \"reg\"         \"res\"         \"residues\"    \"rounded\"     \"svm\"        \n",
    "[16] \"time\"        \"y\"    \n",
    "```\n",
    "\n",
    "Proměnné můžeme mazat pomocí `rm()`. Celý existující workspace můžeme uložit příkazem `save.image()`, který vytvoří soubor `.RData`, pokud neřekneme jinak. Tento soubor je automaticky natažen při startu R. Pokud bychom vytvářeli alternativní soubory pomocí `save.image()`, jejich opětovné natažení provedeme příkazem `load()`.\n",
    "\n",
    "### Skriptování\n",
    "Namísto psaní příkazů řádek po řádku si můžeme připravit skripty, podobně jako to děláme v jiných interpretovaných jazycích (python, perl...). Skript spustíme pomocí `source()`."
   ]
  },
  {
   "cell_type": "markdown",
   "metadata": {},
   "source": [
    "## R jako lepší kalkulačka\n",
    "\n",
    "Podobně jako v příkazovém interpretu pythonu, perlu apod. i s R můžeme pracovat jako s jednoduchou kalkulačkou:"
   ]
  },
  {
   "cell_type": "code",
   "execution_count": null,
   "metadata": {},
   "outputs": [
    {
     "ename": "",
     "evalue": "",
     "output_type": "error",
     "traceback": [
      "\u001b[1;31mFailed to start the Kernel. \n",
      "\u001b[1;31munknown option --slave\n",
      "\u001b[1;31musage: /home/uwu/anaconda3/envs/r_env/bin/python [option] ... [-c cmd | -m mod | file | -] [arg] ...\n",
      "\u001b[1;31mTry `python -h' for more information. \n",
      "\u001b[1;31mView Jupyter <a href='command:jupyter.viewOutput'>log</a> for further details."
     ]
    }
   ],
   "source": [
    "pi"
   ]
  },
  {
   "cell_type": "code",
   "execution_count": null,
   "metadata": {},
   "outputs": [
    {
     "ename": "",
     "evalue": "",
     "output_type": "error",
     "traceback": [
      "\u001b[1;31mFailed to start the Kernel. \n",
      "\u001b[1;31munknown option --slave\n",
      "\u001b[1;31musage: /home/uwu/anaconda3/envs/r_env/bin/python [option] ... [-c cmd | -m mod | file | -] [arg] ...\n",
      "\u001b[1;31mTry `python -h' for more information. \n",
      "\u001b[1;31mView Jupyter <a href='command:jupyter.viewOutput'>log</a> for further details."
     ]
    }
   ],
   "source": [
    "sin(2*pi)"
   ]
  },
  {
   "cell_type": "markdown",
   "metadata": {},
   "source": [
    "Následující kód realizuje náhodný výběr o rozsahu ```k``` z normálního rozdělení, vytiskne první hodnoty a vykreslí histogram:"
   ]
  },
  {
   "cell_type": "code",
   "execution_count": null,
   "metadata": {},
   "outputs": [
    {
     "ename": "",
     "evalue": "",
     "output_type": "error",
     "traceback": [
      "\u001b[1;31mFailed to start the Kernel. \n",
      "\u001b[1;31munknown option --slave\n",
      "\u001b[1;31musage: /home/uwu/anaconda3/envs/r_env/bin/python [option] ... [-c cmd | -m mod | file | -] [arg] ...\n",
      "\u001b[1;31mTry `python -h' for more information. \n",
      "\u001b[1;31mView Jupyter <a href='command:jupyter.viewOutput'>log</a> for further details."
     ]
    }
   ],
   "source": [
    "k <- 50\n",
    "z <- rnorm(k)\n",
    "head(z)\n",
    "hist(z)"
   ]
  },
  {
   "cell_type": "markdown",
   "metadata": {},
   "source": [
    "Konvence pro pojmenování proměnných jsou poměrně volné, nicméně vyhrazena jsou písmenka ```c, q, t, C, D, F, I``` a ```T```. Je běžné potkávat se s proměnnými obsahujícími tečku, např. ```salary.1yr```."
   ]
  },
  {
   "cell_type": "markdown",
   "metadata": {},
   "source": [
    "Asi nejčastěji pracujeme s vektory. Nejsou-li dlouhé, můžeme je zadat pomocí ```c()```. Pár funkcí pro začátek:"
   ]
  },
  {
   "cell_type": "code",
   "execution_count": null,
   "metadata": {},
   "outputs": [
    {
     "ename": "",
     "evalue": "",
     "output_type": "error",
     "traceback": [
      "\u001b[1;31mFailed to start the Kernel. \n",
      "\u001b[1;31munknown option --slave\n",
      "\u001b[1;31musage: /home/uwu/anaconda3/envs/r_env/bin/python [option] ... [-c cmd | -m mod | file | -] [arg] ...\n",
      "\u001b[1;31mTry `python -h' for more information. \n",
      "\u001b[1;31mView Jupyter <a href='command:jupyter.viewOutput'>log</a> for further details."
     ]
    }
   ],
   "source": [
    "lunch.price <- c(110, 140, 99, 167, 139, 150, 117, 123, 118, 203, 117, 231)\n",
    "print(lunch.price)\n",
    "lunch.price <- c(lunch.price, 111, 112, 113)\n",
    "print(lunch.price)"
   ]
  },
  {
   "cell_type": "code",
   "execution_count": null,
   "metadata": {},
   "outputs": [
    {
     "ename": "",
     "evalue": "",
     "output_type": "error",
     "traceback": [
      "\u001b[1;31mFailed to start the Kernel. \n",
      "\u001b[1;31munknown option --slave\n",
      "\u001b[1;31musage: /home/uwu/anaconda3/envs/r_env/bin/python [option] ... [-c cmd | -m mod | file | -] [arg] ...\n",
      "\u001b[1;31mTry `python -h' for more information. \n",
      "\u001b[1;31mView Jupyter <a href='command:jupyter.viewOutput'>log</a> for further details."
     ]
    }
   ],
   "source": [
    "lunch.price[c(1,2,3)]           # selection by indexing\n",
    "lunch.price[-c(1,2,3)]          # selection by exclusion\n",
    "lunch.price[lunch.price > 130 & lunch.price < 150]  # conditional selection"
   ]
  },
  {
   "cell_type": "code",
   "execution_count": null,
   "metadata": {},
   "outputs": [
    {
     "ename": "",
     "evalue": "",
     "output_type": "error",
     "traceback": [
      "\u001b[1;31mFailed to start the Kernel. \n",
      "\u001b[1;31munknown option --slave\n",
      "\u001b[1;31musage: /home/uwu/anaconda3/envs/r_env/bin/python [option] ... [-c cmd | -m mod | file | -] [arg] ...\n",
      "\u001b[1;31mTry `python -h' for more information. \n",
      "\u001b[1;31mView Jupyter <a href='command:jupyter.viewOutput'>log</a> for further details."
     ]
    }
   ],
   "source": [
    "summary(lunch.price)"
   ]
  },
  {
   "cell_type": "code",
   "execution_count": null,
   "metadata": {},
   "outputs": [
    {
     "ename": "",
     "evalue": "",
     "output_type": "error",
     "traceback": [
      "\u001b[1;31mFailed to start the Kernel. \n",
      "\u001b[1;31munknown option --slave\n",
      "\u001b[1;31musage: /home/uwu/anaconda3/envs/r_env/bin/python [option] ... [-c cmd | -m mod | file | -] [arg] ...\n",
      "\u001b[1;31mTry `python -h' for more information. \n",
      "\u001b[1;31mView Jupyter <a href='command:jupyter.viewOutput'>log</a> for further details."
     ]
    }
   ],
   "source": [
    "range(lunch.price)"
   ]
  },
  {
   "cell_type": "code",
   "execution_count": null,
   "metadata": {},
   "outputs": [
    {
     "ename": "",
     "evalue": "",
     "output_type": "error",
     "traceback": [
      "\u001b[1;31mFailed to start the Kernel. \n",
      "\u001b[1;31munknown option --slave\n",
      "\u001b[1;31musage: /home/uwu/anaconda3/envs/r_env/bin/python [option] ... [-c cmd | -m mod | file | -] [arg] ...\n",
      "\u001b[1;31mTry `python -h' for more information. \n",
      "\u001b[1;31mView Jupyter <a href='command:jupyter.viewOutput'>log</a> for further details."
     ]
    }
   ],
   "source": [
    "mean(lunch.price)\n",
    "var(lunch.price)\n",
    "sd(lunch.price)"
   ]
  },
  {
   "cell_type": "code",
   "execution_count": null,
   "metadata": {},
   "outputs": [
    {
     "ename": "",
     "evalue": "",
     "output_type": "error",
     "traceback": [
      "\u001b[1;31mFailed to start the Kernel. \n",
      "\u001b[1;31munknown option --slave\n",
      "\u001b[1;31musage: /home/uwu/anaconda3/envs/r_env/bin/python [option] ... [-c cmd | -m mod | file | -] [arg] ...\n",
      "\u001b[1;31mTry `python -h' for more information. \n",
      "\u001b[1;31mView Jupyter <a href='command:jupyter.viewOutput'>log</a> for further details."
     ]
    }
   ],
   "source": [
    "lunch.price_squared <- lunch.price^2\n",
    "lunch.price_squared"
   ]
  },
  {
   "cell_type": "markdown",
   "metadata": {},
   "source": [
    "<font color=\"blue\">**Nyní je čas udělat úkoly 1.a a 1.b v druhém notebooku**</font>\n",
    "\n",
    "---"
   ]
  },
  {
   "cell_type": "markdown",
   "metadata": {},
   "source": [
    "## R jako programovací jazyk\n",
    "\n",
    "R je programovací jazyk, má tedy nástroje pro vytváření podmínek, cyklů, podporu OOP atd. Na úzkou množinu se podívejme blíže.\n",
    "\n",
    "### `if` - podmíněné vykonávání kódu"
   ]
  },
  {
   "cell_type": "code",
   "execution_count": null,
   "metadata": {},
   "outputs": [
    {
     "ename": "",
     "evalue": "",
     "output_type": "error",
     "traceback": [
      "\u001b[1;31mFailed to start the Kernel. \n",
      "\u001b[1;31munknown option --slave\n",
      "\u001b[1;31musage: /home/uwu/anaconda3/envs/r_env/bin/python [option] ... [-c cmd | -m mod | file | -] [arg] ...\n",
      "\u001b[1;31mTry `python -h' for more information. \n",
      "\u001b[1;31mView Jupyter <a href='command:jupyter.viewOutput'>log</a> for further details."
     ]
    }
   ],
   "source": [
    "x <- runif(1)\n",
    "print(x)\n",
    "if(x < 0.3) {\n",
    "    print(\"Value is less than 0.3\")\n",
    "} else if(x < 0.5) {\n",
    "    print(\"Value is between 0.3 and 0.5\")\n",
    "} else {\n",
    "    print(\"Value is between 0.5 and 1\")\n",
    "}"
   ]
  },
  {
   "cell_type": "markdown",
   "metadata": {},
   "source": [
    "### `for`, `while` a `repeat`\n",
    "Podíváme se jen na `for` cyklus:"
   ]
  },
  {
   "cell_type": "code",
   "execution_count": null,
   "metadata": {},
   "outputs": [
    {
     "ename": "",
     "evalue": "",
     "output_type": "error",
     "traceback": [
      "\u001b[1;31mFailed to start the Kernel. \n",
      "\u001b[1;31munknown option --slave\n",
      "\u001b[1;31musage: /home/uwu/anaconda3/envs/r_env/bin/python [option] ... [-c cmd | -m mod | file | -] [arg] ...\n",
      "\u001b[1;31mTry `python -h' for more information. \n",
      "\u001b[1;31mView Jupyter <a href='command:jupyter.viewOutput'>log</a> for further details."
     ]
    }
   ],
   "source": [
    "for (x in 1:5) {\n",
    "    print(x**2)\n",
    "} "
   ]
  },
  {
   "cell_type": "markdown",
   "metadata": {},
   "source": [
    "<font color=\"blue\">**Nyní je čas udělat úkoly 2.a a 2.b v druhém notebooku**</font>\n",
    "\n",
    "---"
   ]
  },
  {
   "cell_type": "markdown",
   "metadata": {},
   "source": [
    "## R jako statisticky orientovaný software"
   ]
  },
  {
   "cell_type": "markdown",
   "metadata": {},
   "source": [
    "Nyní trochu předběhneme a ukážeme si, proč R chceme umět: udělá za nás spoustu práce ve statistice! Coby absolventi BI-PST zkuste rozklíčovat následující řádek:"
   ]
  },
  {
   "cell_type": "code",
   "execution_count": null,
   "metadata": {},
   "outputs": [
    {
     "ename": "",
     "evalue": "",
     "output_type": "error",
     "traceback": [
      "\u001b[1;31mFailed to start the Kernel. \n",
      "\u001b[1;31munknown option --slave\n",
      "\u001b[1;31musage: /home/uwu/anaconda3/envs/r_env/bin/python [option] ... [-c cmd | -m mod | file | -] [arg] ...\n",
      "\u001b[1;31mTry `python -h' for more information. \n",
      "\u001b[1;31mView Jupyter <a href='command:jupyter.viewOutput'>log</a> for further details."
     ]
    }
   ],
   "source": [
    "t.test(lunch.price, mu=150, conf.level=0.9, alternative=\"two.sided\")"
   ]
  },
  {
   "cell_type": "markdown",
   "metadata": {},
   "source": [
    "> **Úloha: Obědy zdražily o 10%. Otestujte na standardní hladině významnosti, zda je nově střední hodnota 150Kč oproti alternativě, že je menší.**"
   ]
  },
  {
   "cell_type": "code",
   "execution_count": null,
   "metadata": {},
   "outputs": [
    {
     "ename": "",
     "evalue": "",
     "output_type": "error",
     "traceback": [
      "\u001b[1;31mFailed to start the Kernel. \n",
      "\u001b[1;31munknown option --slave\n",
      "\u001b[1;31musage: /home/uwu/anaconda3/envs/r_env/bin/python [option] ... [-c cmd | -m mod | file | -] [arg] ...\n",
      "\u001b[1;31mTry `python -h' for more information. \n",
      "\u001b[1;31mView Jupyter <a href='command:jupyter.viewOutput'>log</a> for further details."
     ]
    }
   ],
   "source": [
    "t.test(lunch.price * 1.1, mu=150, alternative=\"less\")"
   ]
  },
  {
   "cell_type": "markdown",
   "metadata": {},
   "source": [
    "<font color=\"blue\">**Nyní je čas udělat úkol 3.a v druhém notebooku**</font>\n",
    "\n",
    "---\n",
    "## Ponořme se hlouběji do datových struktur"
   ]
  },
  {
   "cell_type": "markdown",
   "metadata": {},
   "source": [
    "Některé užitečné předdefinované proměnné, jejichž použití demonstrujeme níže:"
   ]
  },
  {
   "cell_type": "code",
   "execution_count": null,
   "metadata": {},
   "outputs": [
    {
     "ename": "",
     "evalue": "",
     "output_type": "error",
     "traceback": [
      "\u001b[1;31mFailed to start the Kernel. \n",
      "\u001b[1;31munknown option --slave\n",
      "\u001b[1;31musage: /home/uwu/anaconda3/envs/r_env/bin/python [option] ... [-c cmd | -m mod | file | -] [arg] ...\n",
      "\u001b[1;31mTry `python -h' for more information. \n",
      "\u001b[1;31mView Jupyter <a href='command:jupyter.viewOutput'>log</a> for further details."
     ]
    }
   ],
   "source": [
    "letters\n",
    "LETTERS\n",
    "month.name\n",
    "month.abb"
   ]
  },
  {
   "cell_type": "markdown",
   "metadata": {},
   "source": [
    "### Matice\n",
    "\n",
    "Kromě konstrukce pomocí `matrix` a spojování vektorů pomocí `rbind()` a `cbind()` jsou užitečné zejména:\n",
    "- `t()` - transpozice\n",
    "- `dim()` - tisk či změna dimenze\n",
    "- `rownames()` a `colnames()` - pojmenování řádků/sloupců"
   ]
  },
  {
   "cell_type": "code",
   "execution_count": null,
   "metadata": {},
   "outputs": [
    {
     "ename": "",
     "evalue": "",
     "output_type": "error",
     "traceback": [
      "\u001b[1;31mFailed to start the Kernel. \n",
      "\u001b[1;31munknown option --slave\n",
      "\u001b[1;31musage: /home/uwu/anaconda3/envs/r_env/bin/python [option] ... [-c cmd | -m mod | file | -] [arg] ...\n",
      "\u001b[1;31mTry `python -h' for more information. \n",
      "\u001b[1;31mView Jupyter <a href='command:jupyter.viewOutput'>log</a> for further details."
     ]
    }
   ],
   "source": [
    "matrix_a <- matrix(data=1:15, nrow=3, byrow=T)\n",
    "print(matrix_a)"
   ]
  },
  {
   "cell_type": "code",
   "execution_count": null,
   "metadata": {},
   "outputs": [
    {
     "ename": "",
     "evalue": "",
     "output_type": "error",
     "traceback": [
      "\u001b[1;31mFailed to start the Kernel. \n",
      "\u001b[1;31munknown option --slave\n",
      "\u001b[1;31musage: /home/uwu/anaconda3/envs/r_env/bin/python [option] ... [-c cmd | -m mod | file | -] [arg] ...\n",
      "\u001b[1;31mTry `python -h' for more information. \n",
      "\u001b[1;31mView Jupyter <a href='command:jupyter.viewOutput'>log</a> for further details."
     ]
    }
   ],
   "source": [
    "print(t(matrix_a))"
   ]
  },
  {
   "cell_type": "code",
   "execution_count": null,
   "metadata": {},
   "outputs": [
    {
     "ename": "",
     "evalue": "",
     "output_type": "error",
     "traceback": [
      "\u001b[1;31mFailed to start the Kernel. \n",
      "\u001b[1;31munknown option --slave\n",
      "\u001b[1;31musage: /home/uwu/anaconda3/envs/r_env/bin/python [option] ... [-c cmd | -m mod | file | -] [arg] ...\n",
      "\u001b[1;31mTry `python -h' for more information. \n",
      "\u001b[1;31mView Jupyter <a href='command:jupyter.viewOutput'>log</a> for further details."
     ]
    }
   ],
   "source": [
    "matrix_b <- cbind(1:5, 6:10, 11:15)\n",
    "print(matrix_b)"
   ]
  },
  {
   "cell_type": "markdown",
   "metadata": {},
   "source": [
    "U sekvencí typu `1:5` či ekvivalentně `seq(1,5)` je zjevně důležité mít na paměti rozdílnost oproti pythonu!"
   ]
  },
  {
   "cell_type": "code",
   "execution_count": null,
   "metadata": {},
   "outputs": [
    {
     "ename": "",
     "evalue": "",
     "output_type": "error",
     "traceback": [
      "\u001b[1;31mFailed to start the Kernel. \n",
      "\u001b[1;31munknown option --slave\n",
      "\u001b[1;31musage: /home/uwu/anaconda3/envs/r_env/bin/python [option] ... [-c cmd | -m mod | file | -] [arg] ...\n",
      "\u001b[1;31mTry `python -h' for more information. \n",
      "\u001b[1;31mView Jupyter <a href='command:jupyter.viewOutput'>log</a> for further details."
     ]
    }
   ],
   "source": [
    "rownames(matrix_a) <- month.abb[1:3]\n",
    "colnames(matrix_a) <- LETTERS[1:5]\n",
    "print(matrix_a)"
   ]
  },
  {
   "cell_type": "markdown",
   "metadata": {},
   "source": [
    "### Typ `list`\n",
    "\n",
    "Tento datový typ se trochu podobá pythonímu dictionary:"
   ]
  },
  {
   "cell_type": "code",
   "execution_count": null,
   "metadata": {},
   "outputs": [
    {
     "ename": "",
     "evalue": "",
     "output_type": "error",
     "traceback": [
      "\u001b[1;31mFailed to start the Kernel. \n",
      "\u001b[1;31munknown option --slave\n",
      "\u001b[1;31musage: /home/uwu/anaconda3/envs/r_env/bin/python [option] ... [-c cmd | -m mod | file | -] [arg] ...\n",
      "\u001b[1;31mTry `python -h' for more information. \n",
      "\u001b[1;31mView Jupyter <a href='command:jupyter.viewOutput'>log</a> for further details."
     ]
    }
   ],
   "source": [
    "lunch_prices <- list(old=lunch.price, new=lunch.price*1.1)\n",
    "print(lunch_prices)"
   ]
  },
  {
   "cell_type": "code",
   "execution_count": null,
   "metadata": {},
   "outputs": [
    {
     "ename": "",
     "evalue": "",
     "output_type": "error",
     "traceback": [
      "\u001b[1;31mFailed to start the Kernel. \n",
      "\u001b[1;31munknown option --slave\n",
      "\u001b[1;31musage: /home/uwu/anaconda3/envs/r_env/bin/python [option] ... [-c cmd | -m mod | file | -] [arg] ...\n",
      "\u001b[1;31mTry `python -h' for more information. \n",
      "\u001b[1;31mView Jupyter <a href='command:jupyter.viewOutput'>log</a> for further details."
     ]
    }
   ],
   "source": [
    "print(lunch_prices$old)"
   ]
  },
  {
   "cell_type": "code",
   "execution_count": null,
   "metadata": {},
   "outputs": [
    {
     "ename": "",
     "evalue": "",
     "output_type": "error",
     "traceback": [
      "\u001b[1;31mFailed to start the Kernel. \n",
      "\u001b[1;31munknown option --slave\n",
      "\u001b[1;31musage: /home/uwu/anaconda3/envs/r_env/bin/python [option] ... [-c cmd | -m mod | file | -] [arg] ...\n",
      "\u001b[1;31mTry `python -h' for more information. \n",
      "\u001b[1;31mView Jupyter <a href='command:jupyter.viewOutput'>log</a> for further details."
     ]
    }
   ],
   "source": [
    "lunch_prices$new_extended <- c(lunch_prices$new, 122, 123, 124, 125)\n",
    "print(lunch_prices)"
   ]
  },
  {
   "cell_type": "markdown",
   "metadata": {},
   "source": [
    "Pojďme na data aplikovat nějakou funkci. `lapply()` vrátí **l**ist, `sapply()` se pokusí udělat **s**implified output:"
   ]
  },
  {
   "cell_type": "code",
   "execution_count": null,
   "metadata": {},
   "outputs": [
    {
     "ename": "",
     "evalue": "",
     "output_type": "error",
     "traceback": [
      "\u001b[1;31mFailed to start the Kernel. \n",
      "\u001b[1;31munknown option --slave\n",
      "\u001b[1;31musage: /home/uwu/anaconda3/envs/r_env/bin/python [option] ... [-c cmd | -m mod | file | -] [arg] ...\n",
      "\u001b[1;31mTry `python -h' for more information. \n",
      "\u001b[1;31mView Jupyter <a href='command:jupyter.viewOutput'>log</a> for further details."
     ]
    }
   ],
   "source": [
    "print(lapply(lunch_prices, mean))"
   ]
  },
  {
   "cell_type": "code",
   "execution_count": null,
   "metadata": {},
   "outputs": [
    {
     "ename": "",
     "evalue": "",
     "output_type": "error",
     "traceback": [
      "\u001b[1;31mFailed to start the Kernel. \n",
      "\u001b[1;31munknown option --slave\n",
      "\u001b[1;31musage: /home/uwu/anaconda3/envs/r_env/bin/python [option] ... [-c cmd | -m mod | file | -] [arg] ...\n",
      "\u001b[1;31mTry `python -h' for more information. \n",
      "\u001b[1;31mView Jupyter <a href='command:jupyter.viewOutput'>log</a> for further details."
     ]
    }
   ],
   "source": [
    "print(sapply(lunch_prices, mean))"
   ]
  },
  {
   "cell_type": "markdown",
   "metadata": {},
   "source": [
    "<font color=\"blue\">**Nyní je čas udělat úkoly 4.a a 4.b v druhém notebooku**</font>\n",
    "\n",
    "---"
   ]
  },
  {
   "cell_type": "markdown",
   "metadata": {},
   "source": [
    "### Data frames\n",
    "\n",
    "Zatímco `list` nemusí být nutně vnitřně provázaný (jak ukazuje buňka výše s nestejnými počty prvků listu), `data.frame` už je vlastně tabulka s vazbami pro jednotlivé řádky. To mimo jiné znamená, že všechny sloupce mají stejnou délku."
   ]
  },
  {
   "cell_type": "code",
   "execution_count": null,
   "metadata": {},
   "outputs": [
    {
     "ename": "",
     "evalue": "",
     "output_type": "error",
     "traceback": [
      "\u001b[1;31mFailed to start the Kernel. \n",
      "\u001b[1;31munknown option --slave\n",
      "\u001b[1;31musage: /home/uwu/anaconda3/envs/r_env/bin/python [option] ... [-c cmd | -m mod | file | -] [arg] ...\n",
      "\u001b[1;31mTry `python -h' for more information. \n",
      "\u001b[1;31mView Jupyter <a href='command:jupyter.viewOutput'>log</a> for further details."
     ]
    }
   ],
   "source": [
    "df <- data.frame(lunch_prices$old, lunch_prices$new)\n",
    "print(df)"
   ]
  },
  {
   "cell_type": "code",
   "execution_count": null,
   "metadata": {},
   "outputs": [
    {
     "ename": "",
     "evalue": "",
     "output_type": "error",
     "traceback": [
      "\u001b[1;31mFailed to start the Kernel. \n",
      "\u001b[1;31munknown option --slave\n",
      "\u001b[1;31musage: /home/uwu/anaconda3/envs/r_env/bin/python [option] ... [-c cmd | -m mod | file | -] [arg] ...\n",
      "\u001b[1;31mTry `python -h' for more information. \n",
      "\u001b[1;31mView Jupyter <a href='command:jupyter.viewOutput'>log</a> for further details."
     ]
    }
   ],
   "source": [
    "print(df$lunch_prices.new)"
   ]
  },
  {
   "cell_type": "code",
   "execution_count": null,
   "metadata": {},
   "outputs": [
    {
     "ename": "",
     "evalue": "",
     "output_type": "error",
     "traceback": [
      "\u001b[1;31mFailed to start the Kernel. \n",
      "\u001b[1;31munknown option --slave\n",
      "\u001b[1;31musage: /home/uwu/anaconda3/envs/r_env/bin/python [option] ... [-c cmd | -m mod | file | -] [arg] ...\n",
      "\u001b[1;31mTry `python -h' for more information. \n",
      "\u001b[1;31mView Jupyter <a href='command:jupyter.viewOutput'>log</a> for further details."
     ]
    }
   ],
   "source": [
    "summary(df)"
   ]
  },
  {
   "cell_type": "markdown",
   "metadata": {},
   "source": [
    "Protože přístup k vnitřním proměnným v data framu může být poněkud těžkopádný, s oblibou využíváme funkce `attach()` a `detach()`:"
   ]
  },
  {
   "cell_type": "code",
   "execution_count": null,
   "metadata": {},
   "outputs": [
    {
     "ename": "",
     "evalue": "",
     "output_type": "error",
     "traceback": [
      "\u001b[1;31mFailed to start the Kernel. \n",
      "\u001b[1;31munknown option --slave\n",
      "\u001b[1;31musage: /home/uwu/anaconda3/envs/r_env/bin/python [option] ... [-c cmd | -m mod | file | -] [arg] ...\n",
      "\u001b[1;31mTry `python -h' for more information. \n",
      "\u001b[1;31mView Jupyter <a href='command:jupyter.viewOutput'>log</a> for further details."
     ]
    }
   ],
   "source": [
    "attach(df)\n",
    "print(lunch_prices.old)\n",
    "detach(df)"
   ]
  },
  {
   "cell_type": "markdown",
   "metadata": {},
   "source": [
    "## Factors\n",
    "\n",
    "Kategorické proměnné jako diagnóza, stádium apod. jsou typ *factor*. Tento typ de facto slovně pojmenovává jednotlivé kategorie. Vytvoříme si dva vektory, v jednom budou hodnoty, v druhém faktor a slepíme je do jednoho data framu:"
   ]
  },
  {
   "cell_type": "code",
   "execution_count": null,
   "metadata": {},
   "outputs": [
    {
     "ename": "",
     "evalue": "",
     "output_type": "error",
     "traceback": [
      "\u001b[1;31mFailed to start the Kernel. \n",
      "\u001b[1;31munknown option --slave\n",
      "\u001b[1;31musage: /home/uwu/anaconda3/envs/r_env/bin/python [option] ... [-c cmd | -m mod | file | -] [arg] ...\n",
      "\u001b[1;31mTry `python -h' for more information. \n",
      "\u001b[1;31mView Jupyter <a href='command:jupyter.viewOutput'>log</a> for further details."
     ]
    }
   ],
   "source": [
    "student.avg <- c(1.2, 1.4, 3.2, 2.8, 3.4, 2.2, 2.7)    # average mark\n",
    "student.cls <- c(1, 1, 3, 2, 3, 2, 2)                  # classification group\n",
    "student.cls <- factor(student.cls, levels=1:3, order=T)\n",
    "levels(student.cls) <- c(\"excellent\", \"average\", \"poor\")\n",
    "\n",
    "student_df <- data.frame(student.avg, student.cls)\n",
    "print(student_df)"
   ]
  },
  {
   "cell_type": "markdown",
   "metadata": {},
   "source": [
    "Interně jsou faktory reprezentovány čísly, takže funguje třídění apod.:"
   ]
  },
  {
   "cell_type": "markdown",
   "metadata": {},
   "source": [
    "Pro faktory existuje funkce podobná `lapply()` a `sapply()`, a sice `tapply()`, vrací **t**abulku:"
   ]
  },
  {
   "cell_type": "code",
   "execution_count": null,
   "metadata": {},
   "outputs": [
    {
     "ename": "",
     "evalue": "",
     "output_type": "error",
     "traceback": [
      "\u001b[1;31mFailed to start the Kernel. \n",
      "\u001b[1;31munknown option --slave\n",
      "\u001b[1;31musage: /home/uwu/anaconda3/envs/r_env/bin/python [option] ... [-c cmd | -m mod | file | -] [arg] ...\n",
      "\u001b[1;31mTry `python -h' for more information. \n",
      "\u001b[1;31mView Jupyter <a href='command:jupyter.viewOutput'>log</a> for further details."
     ]
    }
   ],
   "source": [
    "print(tapply(student_df$student.avg, student_df$student.cls, mean))"
   ]
  },
  {
   "cell_type": "markdown",
   "metadata": {},
   "source": [
    "<font color=\"blue\">**Nyní je čas udělat úkoly 5.a až 5.c v druhém notebooku**</font>"
   ]
  },
  {
   "cell_type": "markdown",
   "metadata": {},
   "source": [
    "---\n",
    "---"
   ]
  }
 ],
 "metadata": {
  "kernelspec": {
   "display_name": "R",
   "language": "R",
   "name": "ir"
  },
  "language_info": {
   "codemirror_mode": "r",
   "file_extension": ".r",
   "mimetype": "text/x-r-source",
   "name": "R",
   "pygments_lexer": "r",
   "version": "4.1.2"
  },
  "vscode": {
   "interpreter": {
    "hash": "a24c9e306905ed171fa9e66d9d2f450f10909b0de655683fc9f0575053259dd5"
   }
  }
 },
 "nbformat": 4,
 "nbformat_minor": 4
}
