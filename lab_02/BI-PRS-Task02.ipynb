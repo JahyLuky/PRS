{
 "cells": [
  {
   "cell_type": "code",
   "execution_count": 1,
   "metadata": {
    "tags": []
   },
   "outputs": [
    {
     "name": "stderr",
     "output_type": "stream",
     "text": [
      "Warning message in system(\"timedatectl\", intern = TRUE):\n",
      "“running command 'timedatectl' had status 1”\n",
      "corrplot 0.92 loaded\n",
      "\n",
      "Loading required package: kableExtra\n",
      "\n",
      "\n",
      "Attaching package: ‘e1071’\n",
      "\n",
      "\n",
      "The following objects are masked from ‘package:moments’:\n",
      "\n",
      "    kurtosis, moment, skewness\n",
      "\n",
      "\n"
     ]
    }
   ],
   "source": [
    "library(eurostat)\n",
    "library(ggplot2)\n",
    "library(corrplot)\n",
    "library(vtable)\n",
    "library(cowplot)\n",
    "library(moments)\n",
    "library(e1071)\n",
    "\n",
    "options(width=160, repr.plot.width=11, repr.plot.height=8)     "
   ]
  },
  {
   "cell_type": "markdown",
   "metadata": {},
   "source": [
    "# Úkoly\n",
    "\n",
    "V tomto úkolu provedete analýzu datasetu z Eurostatu. Přístup k datům umožňuje balík [eurostat](https://ropengov.github.io/eurostat/articles/eurostat_tutorial.html). Počátečními kroky vás skript provede, následně bude práce na vás.\n",
    "\n",
    "Vybereme si např. data, která obsahují slovo \"heating\":"
   ]
  },
  {
   "cell_type": "code",
   "execution_count": 2,
   "metadata": {},
   "outputs": [
    {
     "data": {
      "text/html": [
       "<table class=\"dataframe\">\n",
       "<caption>A tibble: 9 × 8</caption>\n",
       "<thead>\n",
       "\t<tr><th scope=col>title</th><th scope=col>code</th><th scope=col>type</th><th scope=col>last update of data</th><th scope=col>last table structure change</th><th scope=col>data start</th><th scope=col>data end</th><th scope=col>values</th></tr>\n",
       "\t<tr><th scope=col>&lt;chr&gt;</th><th scope=col>&lt;chr&gt;</th><th scope=col>&lt;chr&gt;</th><th scope=col>&lt;chr&gt;</th><th scope=col>&lt;chr&gt;</th><th scope=col>&lt;chr&gt;</th><th scope=col>&lt;chr&gt;</th><th scope=col>&lt;chr&gt;</th></tr>\n",
       "</thead>\n",
       "<tbody>\n",
       "\t<tr><td>Cooling and heating degree days by NUTS 3 regions - annual data </td><td>nrg_chddr2_a </td><td>dataset</td><td>01.02.2023</td><td>01.02.2023</td><td>1979   </td><td>2022   </td><td>NA</td></tr>\n",
       "\t<tr><td>Cooling and heating degree days by NUTS 3 regions - monthly data</td><td>nrg_chddr2_m </td><td>dataset</td><td>01.02.2023</td><td>01.02.2023</td><td>1979M01</td><td>2022M12</td><td>NA</td></tr>\n",
       "\t<tr><td>Use of renewables for heating and cooling - details             </td><td>nrg_ind_urhcd</td><td>dataset</td><td>27.01.2023</td><td>27.01.2023</td><td>2004   </td><td>2020   </td><td>NA</td></tr>\n",
       "\t<tr><td>Cooling and heating degree days by country - annual data        </td><td>nrg_chdd_a   </td><td>dataset</td><td>01.02.2023</td><td>01.02.2023</td><td>1979   </td><td>2022   </td><td>NA</td></tr>\n",
       "\t<tr><td>Cooling and heating degree days by country - monthly data       </td><td>nrg_chdd_m   </td><td>dataset</td><td>01.02.2023</td><td>01.02.2023</td><td>1979M01</td><td>2022M12</td><td>NA</td></tr>\n",
       "\t<tr><td>Cooling and heating degree days by NUTS 3 regions - annual data </td><td>nrg_chddr2_a </td><td>dataset</td><td>01.02.2023</td><td>01.02.2023</td><td>1979   </td><td>2022   </td><td>NA</td></tr>\n",
       "\t<tr><td>Cooling and heating degree days by NUTS 3 regions - monthly data</td><td>nrg_chddr2_m </td><td>dataset</td><td>01.02.2023</td><td>01.02.2023</td><td>1979M01</td><td>2022M12</td><td>NA</td></tr>\n",
       "\t<tr><td>Cooling and heating degree days by NUTS 3 regions - monthly data</td><td>nrg_chddr2_m </td><td>dataset</td><td>01.02.2023</td><td>01.02.2023</td><td>1979M01</td><td>2022M12</td><td>NA</td></tr>\n",
       "\t<tr><td>Cooling and heating degree days by NUTS 3 regions - annual data </td><td>nrg_chddr2_a </td><td>dataset</td><td>01.02.2023</td><td>01.02.2023</td><td>1979   </td><td>2022   </td><td>NA</td></tr>\n",
       "</tbody>\n",
       "</table>\n"
      ],
      "text/latex": [
       "A tibble: 9 × 8\n",
       "\\begin{tabular}{llllllll}\n",
       " title & code & type & last update of data & last table structure change & data start & data end & values\\\\\n",
       " <chr> & <chr> & <chr> & <chr> & <chr> & <chr> & <chr> & <chr>\\\\\n",
       "\\hline\n",
       "\t Cooling and heating degree days by NUTS 3 regions - annual data  & nrg\\_chddr2\\_a  & dataset & 01.02.2023 & 01.02.2023 & 1979    & 2022    & NA\\\\\n",
       "\t Cooling and heating degree days by NUTS 3 regions - monthly data & nrg\\_chddr2\\_m  & dataset & 01.02.2023 & 01.02.2023 & 1979M01 & 2022M12 & NA\\\\\n",
       "\t Use of renewables for heating and cooling - details              & nrg\\_ind\\_urhcd & dataset & 27.01.2023 & 27.01.2023 & 2004    & 2020    & NA\\\\\n",
       "\t Cooling and heating degree days by country - annual data         & nrg\\_chdd\\_a    & dataset & 01.02.2023 & 01.02.2023 & 1979    & 2022    & NA\\\\\n",
       "\t Cooling and heating degree days by country - monthly data        & nrg\\_chdd\\_m    & dataset & 01.02.2023 & 01.02.2023 & 1979M01 & 2022M12 & NA\\\\\n",
       "\t Cooling and heating degree days by NUTS 3 regions - annual data  & nrg\\_chddr2\\_a  & dataset & 01.02.2023 & 01.02.2023 & 1979    & 2022    & NA\\\\\n",
       "\t Cooling and heating degree days by NUTS 3 regions - monthly data & nrg\\_chddr2\\_m  & dataset & 01.02.2023 & 01.02.2023 & 1979M01 & 2022M12 & NA\\\\\n",
       "\t Cooling and heating degree days by NUTS 3 regions - monthly data & nrg\\_chddr2\\_m  & dataset & 01.02.2023 & 01.02.2023 & 1979M01 & 2022M12 & NA\\\\\n",
       "\t Cooling and heating degree days by NUTS 3 regions - annual data  & nrg\\_chddr2\\_a  & dataset & 01.02.2023 & 01.02.2023 & 1979    & 2022    & NA\\\\\n",
       "\\end{tabular}\n"
      ],
      "text/markdown": [
       "\n",
       "A tibble: 9 × 8\n",
       "\n",
       "| title &lt;chr&gt; | code &lt;chr&gt; | type &lt;chr&gt; | last update of data &lt;chr&gt; | last table structure change &lt;chr&gt; | data start &lt;chr&gt; | data end &lt;chr&gt; | values &lt;chr&gt; |\n",
       "|---|---|---|---|---|---|---|---|\n",
       "| Cooling and heating degree days by NUTS 3 regions - annual data  | nrg_chddr2_a  | dataset | 01.02.2023 | 01.02.2023 | 1979    | 2022    | NA |\n",
       "| Cooling and heating degree days by NUTS 3 regions - monthly data | nrg_chddr2_m  | dataset | 01.02.2023 | 01.02.2023 | 1979M01 | 2022M12 | NA |\n",
       "| Use of renewables for heating and cooling - details              | nrg_ind_urhcd | dataset | 27.01.2023 | 27.01.2023 | 2004    | 2020    | NA |\n",
       "| Cooling and heating degree days by country - annual data         | nrg_chdd_a    | dataset | 01.02.2023 | 01.02.2023 | 1979    | 2022    | NA |\n",
       "| Cooling and heating degree days by country - monthly data        | nrg_chdd_m    | dataset | 01.02.2023 | 01.02.2023 | 1979M01 | 2022M12 | NA |\n",
       "| Cooling and heating degree days by NUTS 3 regions - annual data  | nrg_chddr2_a  | dataset | 01.02.2023 | 01.02.2023 | 1979    | 2022    | NA |\n",
       "| Cooling and heating degree days by NUTS 3 regions - monthly data | nrg_chddr2_m  | dataset | 01.02.2023 | 01.02.2023 | 1979M01 | 2022M12 | NA |\n",
       "| Cooling and heating degree days by NUTS 3 regions - monthly data | nrg_chddr2_m  | dataset | 01.02.2023 | 01.02.2023 | 1979M01 | 2022M12 | NA |\n",
       "| Cooling and heating degree days by NUTS 3 regions - annual data  | nrg_chddr2_a  | dataset | 01.02.2023 | 01.02.2023 | 1979    | 2022    | NA |\n",
       "\n"
      ],
      "text/plain": [
       "  title                                                            code          type    last update of data last table structure change data start data end\n",
       "1 Cooling and heating degree days by NUTS 3 regions - annual data  nrg_chddr2_a  dataset 01.02.2023          01.02.2023                  1979       2022    \n",
       "2 Cooling and heating degree days by NUTS 3 regions - monthly data nrg_chddr2_m  dataset 01.02.2023          01.02.2023                  1979M01    2022M12 \n",
       "3 Use of renewables for heating and cooling - details              nrg_ind_urhcd dataset 27.01.2023          27.01.2023                  2004       2020    \n",
       "4 Cooling and heating degree days by country - annual data         nrg_chdd_a    dataset 01.02.2023          01.02.2023                  1979       2022    \n",
       "5 Cooling and heating degree days by country - monthly data        nrg_chdd_m    dataset 01.02.2023          01.02.2023                  1979M01    2022M12 \n",
       "6 Cooling and heating degree days by NUTS 3 regions - annual data  nrg_chddr2_a  dataset 01.02.2023          01.02.2023                  1979       2022    \n",
       "7 Cooling and heating degree days by NUTS 3 regions - monthly data nrg_chddr2_m  dataset 01.02.2023          01.02.2023                  1979M01    2022M12 \n",
       "8 Cooling and heating degree days by NUTS 3 regions - monthly data nrg_chddr2_m  dataset 01.02.2023          01.02.2023                  1979M01    2022M12 \n",
       "9 Cooling and heating degree days by NUTS 3 regions - annual data  nrg_chddr2_a  dataset 01.02.2023          01.02.2023                  1979       2022    \n",
       "  values\n",
       "1 NA    \n",
       "2 NA    \n",
       "3 NA    \n",
       "4 NA    \n",
       "5 NA    \n",
       "6 NA    \n",
       "7 NA    \n",
       "8 NA    \n",
       "9 NA    "
      ]
     },
     "metadata": {},
     "output_type": "display_data"
    }
   ],
   "source": [
    "search_eurostat(pattern='heating')"
   ]
  },
  {
   "cell_type": "markdown",
   "metadata": {},
   "source": [
    "Dostali jsme tabulku, v níž je přehled datových sad s klíčovým slovem, plus pár údajů. Pro stažení datasetu je potřeba jeho identifikátor - `code`. Stáhneme si vybraný dataset:"
   ]
  },
  {
   "cell_type": "code",
   "execution_count": 3,
   "metadata": {},
   "outputs": [
    {
     "name": "stderr",
     "output_type": "stream",
     "text": [
      "Table nrg_chddr2_a cached at /tmp/RtmpxxhXS7/eurostat/nrg_chddr2_a_date_code_FF.rds\n",
      "\n"
     ]
    },
    {
     "data": {
      "text/html": [
       "<table class=\"dataframe\">\n",
       "<caption>A tibble: 6 × 5</caption>\n",
       "<thead>\n",
       "\t<tr><th scope=col>unit</th><th scope=col>indic_nrg</th><th scope=col>geo</th><th scope=col>time</th><th scope=col>values</th></tr>\n",
       "\t<tr><th scope=col>&lt;chr&gt;</th><th scope=col>&lt;chr&gt;</th><th scope=col>&lt;chr&gt;</th><th scope=col>&lt;date&gt;</th><th scope=col>&lt;dbl&gt;</th></tr>\n",
       "</thead>\n",
       "<tbody>\n",
       "\t<tr><td>NR</td><td>CDD</td><td>AT   </td><td>2022-01-01</td><td> 29.40</td></tr>\n",
       "\t<tr><td>NR</td><td>CDD</td><td>AT1  </td><td>2022-01-01</td><td> 62.78</td></tr>\n",
       "\t<tr><td>NR</td><td>CDD</td><td>AT11 </td><td>2022-01-01</td><td> 94.55</td></tr>\n",
       "\t<tr><td>NR</td><td>CDD</td><td>AT111</td><td>2022-01-01</td><td> 80.73</td></tr>\n",
       "\t<tr><td>NR</td><td>CDD</td><td>AT112</td><td>2022-01-01</td><td>126.13</td></tr>\n",
       "\t<tr><td>NR</td><td>CDD</td><td>AT113</td><td>2022-01-01</td><td> 62.72</td></tr>\n",
       "</tbody>\n",
       "</table>\n"
      ],
      "text/latex": [
       "A tibble: 6 × 5\n",
       "\\begin{tabular}{lllll}\n",
       " unit & indic\\_nrg & geo & time & values\\\\\n",
       " <chr> & <chr> & <chr> & <date> & <dbl>\\\\\n",
       "\\hline\n",
       "\t NR & CDD & AT    & 2022-01-01 &  29.40\\\\\n",
       "\t NR & CDD & AT1   & 2022-01-01 &  62.78\\\\\n",
       "\t NR & CDD & AT11  & 2022-01-01 &  94.55\\\\\n",
       "\t NR & CDD & AT111 & 2022-01-01 &  80.73\\\\\n",
       "\t NR & CDD & AT112 & 2022-01-01 & 126.13\\\\\n",
       "\t NR & CDD & AT113 & 2022-01-01 &  62.72\\\\\n",
       "\\end{tabular}\n"
      ],
      "text/markdown": [
       "\n",
       "A tibble: 6 × 5\n",
       "\n",
       "| unit &lt;chr&gt; | indic_nrg &lt;chr&gt; | geo &lt;chr&gt; | time &lt;date&gt; | values &lt;dbl&gt; |\n",
       "|---|---|---|---|---|\n",
       "| NR | CDD | AT    | 2022-01-01 |  29.40 |\n",
       "| NR | CDD | AT1   | 2022-01-01 |  62.78 |\n",
       "| NR | CDD | AT11  | 2022-01-01 |  94.55 |\n",
       "| NR | CDD | AT111 | 2022-01-01 |  80.73 |\n",
       "| NR | CDD | AT112 | 2022-01-01 | 126.13 |\n",
       "| NR | CDD | AT113 | 2022-01-01 |  62.72 |\n",
       "\n"
      ],
      "text/plain": [
       "  unit indic_nrg geo   time       values\n",
       "1 NR   CDD       AT    2022-01-01  29.40\n",
       "2 NR   CDD       AT1   2022-01-01  62.78\n",
       "3 NR   CDD       AT11  2022-01-01  94.55\n",
       "4 NR   CDD       AT111 2022-01-01  80.73\n",
       "5 NR   CDD       AT112 2022-01-01 126.13\n",
       "6 NR   CDD       AT113 2022-01-01  62.72"
      ]
     },
     "metadata": {},
     "output_type": "display_data"
    }
   ],
   "source": [
    "id <- 'nrg_chddr2_a'\n",
    "dat <- get_eurostat(id=id)\n",
    "head(dat)"
   ]
  },
  {
   "cell_type": "markdown",
   "metadata": {},
   "source": [
    "[Dataset](https://en.wikipedia.org/wiki/Heating_degree_day) obsahuje měřící jednotku (NR, numeric), indikátor ([CDD, HDD](https://en.wikipedia.org/wiki/Heating_degree_day)), geolokaci podle [NUTS](https://cs.wikipedia.org/wiki/NUTS), den získání dat a hodnotu.\n",
    "\n",
    "Vybereme si nějaký z krajů [ČR](https://cs.wikipedia.org/wiki/CZ-NUTS), dále třeba [Finska](https://cs.wikipedia.org/wiki/FI-NUTS), [Norska](https://cs.wikipedia.org/wiki/NO-NUTS) a [Španělska](https://cs.wikipedia.org/wiki/ES-NUTS):"
   ]
  },
  {
   "cell_type": "code",
   "execution_count": 4,
   "metadata": {},
   "outputs": [
    {
     "data": {
      "text/html": [
       "<table class=\"dataframe\">\n",
       "<caption>A tibble: 6 × 5</caption>\n",
       "<thead>\n",
       "\t<tr><th scope=col>unit</th><th scope=col>indic_nrg</th><th scope=col>geo</th><th scope=col>time</th><th scope=col>values</th></tr>\n",
       "\t<tr><th scope=col>&lt;chr&gt;</th><th scope=col>&lt;chr&gt;</th><th scope=col>&lt;chr&gt;</th><th scope=col>&lt;date&gt;</th><th scope=col>&lt;dbl&gt;</th></tr>\n",
       "</thead>\n",
       "<tbody>\n",
       "\t<tr><td>NR</td><td>CDD</td><td>CZ031</td><td>2022-01-01</td><td>  13.64</td></tr>\n",
       "\t<tr><td>NR</td><td>CDD</td><td>ES230</td><td>2022-01-01</td><td> 182.98</td></tr>\n",
       "\t<tr><td>NR</td><td>CDD</td><td>FI1D3</td><td>2022-01-01</td><td>   1.55</td></tr>\n",
       "\t<tr><td>NR</td><td>CDD</td><td>NO011</td><td>2022-01-01</td><td>   0.00</td></tr>\n",
       "\t<tr><td>NR</td><td>HDD</td><td>CZ031</td><td>2022-01-01</td><td>3085.93</td></tr>\n",
       "\t<tr><td>NR</td><td>HDD</td><td>ES230</td><td>2022-01-01</td><td>1984.78</td></tr>\n",
       "</tbody>\n",
       "</table>\n"
      ],
      "text/latex": [
       "A tibble: 6 × 5\n",
       "\\begin{tabular}{lllll}\n",
       " unit & indic\\_nrg & geo & time & values\\\\\n",
       " <chr> & <chr> & <chr> & <date> & <dbl>\\\\\n",
       "\\hline\n",
       "\t NR & CDD & CZ031 & 2022-01-01 &   13.64\\\\\n",
       "\t NR & CDD & ES230 & 2022-01-01 &  182.98\\\\\n",
       "\t NR & CDD & FI1D3 & 2022-01-01 &    1.55\\\\\n",
       "\t NR & CDD & NO011 & 2022-01-01 &    0.00\\\\\n",
       "\t NR & HDD & CZ031 & 2022-01-01 & 3085.93\\\\\n",
       "\t NR & HDD & ES230 & 2022-01-01 & 1984.78\\\\\n",
       "\\end{tabular}\n"
      ],
      "text/markdown": [
       "\n",
       "A tibble: 6 × 5\n",
       "\n",
       "| unit &lt;chr&gt; | indic_nrg &lt;chr&gt; | geo &lt;chr&gt; | time &lt;date&gt; | values &lt;dbl&gt; |\n",
       "|---|---|---|---|---|\n",
       "| NR | CDD | CZ031 | 2022-01-01 |   13.64 |\n",
       "| NR | CDD | ES230 | 2022-01-01 |  182.98 |\n",
       "| NR | CDD | FI1D3 | 2022-01-01 |    1.55 |\n",
       "| NR | CDD | NO011 | 2022-01-01 |    0.00 |\n",
       "| NR | HDD | CZ031 | 2022-01-01 | 3085.93 |\n",
       "| NR | HDD | ES230 | 2022-01-01 | 1984.78 |\n",
       "\n"
      ],
      "text/plain": [
       "  unit indic_nrg geo   time       values \n",
       "1 NR   CDD       CZ031 2022-01-01   13.64\n",
       "2 NR   CDD       ES230 2022-01-01  182.98\n",
       "3 NR   CDD       FI1D3 2022-01-01    1.55\n",
       "4 NR   CDD       NO011 2022-01-01    0.00\n",
       "5 NR   HDD       CZ031 2022-01-01 3085.93\n",
       "6 NR   HDD       ES230 2022-01-01 1984.78"
      ]
     },
     "metadata": {},
     "output_type": "display_data"
    }
   ],
   "source": [
    "NUTS3 <- c('FI1D3', 'CZ031', 'NO011', 'ES230')\n",
    "data <- dat[dat$geo %in% NUTS3,]\n",
    "head(data)"
   ]
  },
  {
   "cell_type": "markdown",
   "metadata": {},
   "source": [
    "Balík [eurostat](https://ropengov.github.io/eurostat/articles/eurostat_tutorial.html) umožňuje i labelování dat. To je praktické pro přehled, méně už pro práci."
   ]
  },
  {
   "cell_type": "code",
   "execution_count": 5,
   "metadata": {},
   "outputs": [
    {
     "data": {
      "text/html": [
       "<table class=\"dataframe\">\n",
       "<caption>A tibble: 6 × 5</caption>\n",
       "<thead>\n",
       "\t<tr><th scope=col>unit</th><th scope=col>indic_nrg</th><th scope=col>geo</th><th scope=col>time</th><th scope=col>values</th></tr>\n",
       "\t<tr><th scope=col>&lt;chr&gt;</th><th scope=col>&lt;chr&gt;</th><th scope=col>&lt;chr&gt;</th><th scope=col>&lt;date&gt;</th><th scope=col>&lt;dbl&gt;</th></tr>\n",
       "</thead>\n",
       "<tbody>\n",
       "\t<tr><td>Number</td><td>Cooling degree days</td><td>Jihocecký kraj                </td><td>2022-01-01</td><td>  13.64</td></tr>\n",
       "\t<tr><td>Number</td><td>Cooling degree days</td><td>La Rioja                      </td><td>2022-01-01</td><td> 182.98</td></tr>\n",
       "\t<tr><td>Number</td><td>Cooling degree days</td><td>Pohjois-Karjala               </td><td>2022-01-01</td><td>   1.55</td></tr>\n",
       "\t<tr><td>Number</td><td>Cooling degree days</td><td>Oslo (statistical region 2016)</td><td>2022-01-01</td><td>   0.00</td></tr>\n",
       "\t<tr><td>Number</td><td>Heating degree days</td><td>Jihocecký kraj                </td><td>2022-01-01</td><td>3085.93</td></tr>\n",
       "\t<tr><td>Number</td><td>Heating degree days</td><td>La Rioja                      </td><td>2022-01-01</td><td>1984.78</td></tr>\n",
       "</tbody>\n",
       "</table>\n"
      ],
      "text/latex": [
       "A tibble: 6 × 5\n",
       "\\begin{tabular}{lllll}\n",
       " unit & indic\\_nrg & geo & time & values\\\\\n",
       " <chr> & <chr> & <chr> & <date> & <dbl>\\\\\n",
       "\\hline\n",
       "\t Number & Cooling degree days & Jihocecký kraj                 & 2022-01-01 &   13.64\\\\\n",
       "\t Number & Cooling degree days & La Rioja                       & 2022-01-01 &  182.98\\\\\n",
       "\t Number & Cooling degree days & Pohjois-Karjala                & 2022-01-01 &    1.55\\\\\n",
       "\t Number & Cooling degree days & Oslo (statistical region 2016) & 2022-01-01 &    0.00\\\\\n",
       "\t Number & Heating degree days & Jihocecký kraj                 & 2022-01-01 & 3085.93\\\\\n",
       "\t Number & Heating degree days & La Rioja                       & 2022-01-01 & 1984.78\\\\\n",
       "\\end{tabular}\n"
      ],
      "text/markdown": [
       "\n",
       "A tibble: 6 × 5\n",
       "\n",
       "| unit &lt;chr&gt; | indic_nrg &lt;chr&gt; | geo &lt;chr&gt; | time &lt;date&gt; | values &lt;dbl&gt; |\n",
       "|---|---|---|---|---|\n",
       "| Number | Cooling degree days | Jihocecký kraj                 | 2022-01-01 |   13.64 |\n",
       "| Number | Cooling degree days | La Rioja                       | 2022-01-01 |  182.98 |\n",
       "| Number | Cooling degree days | Pohjois-Karjala                | 2022-01-01 |    1.55 |\n",
       "| Number | Cooling degree days | Oslo (statistical region 2016) | 2022-01-01 |    0.00 |\n",
       "| Number | Heating degree days | Jihocecký kraj                 | 2022-01-01 | 3085.93 |\n",
       "| Number | Heating degree days | La Rioja                       | 2022-01-01 | 1984.78 |\n",
       "\n"
      ],
      "text/plain": [
       "  unit   indic_nrg           geo                            time       values \n",
       "1 Number Cooling degree days Jihocecký kraj                 2022-01-01   13.64\n",
       "2 Number Cooling degree days La Rioja                       2022-01-01  182.98\n",
       "3 Number Cooling degree days Pohjois-Karjala                2022-01-01    1.55\n",
       "4 Number Cooling degree days Oslo (statistical region 2016) 2022-01-01    0.00\n",
       "5 Number Heating degree days Jihocecký kraj                 2022-01-01 3085.93\n",
       "6 Number Heating degree days La Rioja                       2022-01-01 1984.78"
      ]
     },
     "metadata": {},
     "output_type": "display_data"
    }
   ],
   "source": [
    "data_labels <- label_eurostat(data)\n",
    "head(data_labels)"
   ]
  },
  {
   "cell_type": "markdown",
   "metadata": {},
   "source": [
    "## Úkol 1: předefinujte sloupce:\n",
    "- `data$geo` na typ factor,\n",
    "- `data$time` na typ Date.\n",
    "\n",
    "Nápověda: `as.factor()`, `as.Date()`"
   ]
  },
  {
   "cell_type": "code",
   "execution_count": 6,
   "metadata": {},
   "outputs": [],
   "source": [
    "#=== CODE HERE ===#"
   ]
  },
  {
   "cell_type": "markdown",
   "metadata": {},
   "source": [
    "### Úkol 2\n",
    "\n",
    "Upravte data (nebo vytvořte novou tabulku data) tak, by obsahovala sloupce `geo`, `time`, `cdd_vals` a `hdd_vals` s hodnotami CDD a HDD.\n",
    "\n",
    "Nápověda: možností je více, můžete vytvořit dvě tabulky zvlášť pro CDD a pro HDD, smazat zbytečné sloupce (nastavit jim hodnotu NULL) a pak je spojit pomocí `merge()`."
   ]
  },
  {
   "cell_type": "code",
   "execution_count": 7,
   "metadata": {},
   "outputs": [],
   "source": [
    "#=== CODE HERE ===#"
   ]
  },
  {
   "cell_type": "markdown",
   "metadata": {},
   "source": [
    "<font color=\"blue\">**Nyní zpět k výkladu.**</font>\n",
    "\n",
    "---"
   ]
  },
  {
   "cell_type": "markdown",
   "metadata": {},
   "source": [
    "### Úkol 3\n",
    "\n",
    "Vykreslete bodový graf (scatter plot) a diskutujte o vlastnostech dat. Nápověda: `pairs()`."
   ]
  },
  {
   "cell_type": "code",
   "execution_count": 8,
   "metadata": {},
   "outputs": [],
   "source": [
    "#=== CODE HERE ===#"
   ]
  },
  {
   "cell_type": "markdown",
   "metadata": {},
   "source": [
    "<font color=\"blue\">**Nyní zpět k výkladu.**</font>\n",
    "\n",
    "---"
   ]
  },
  {
   "cell_type": "markdown",
   "metadata": {},
   "source": [
    "### Úkol 4.a: základní popisné statistiky\n",
    "\n",
    "Věnujte se popisné statistice. Zjistěte nejdůležitější statistické míry a interpretujte je. Nápověda: `summary()`."
   ]
  },
  {
   "cell_type": "code",
   "execution_count": 9,
   "metadata": {},
   "outputs": [],
   "source": [
    "#=== CODE HERE ===#"
   ]
  },
  {
   "cell_type": "markdown",
   "metadata": {},
   "source": [
    "Toto nám nemusí úplně vyhovovat. Proč? \n",
    "\n",
    "### Úkol 4.b: základní popisné statistiky (pokr.)\n",
    "\n",
    "Zkusíme se tedy zaměřit na detaily. Uděláme summary pro jednu z oblastí."
   ]
  },
  {
   "cell_type": "code",
   "execution_count": 10,
   "metadata": {},
   "outputs": [],
   "source": [
    "#=== CODE HERE ===#"
   ]
  },
  {
   "cell_type": "markdown",
   "metadata": {},
   "source": [
    "Ještě lepší může být použít `subset()`."
   ]
  },
  {
   "cell_type": "code",
   "execution_count": 11,
   "metadata": {},
   "outputs": [],
   "source": [
    "#=== CODE HERE ===#"
   ]
  },
  {
   "cell_type": "markdown",
   "metadata": {},
   "source": [
    "### Úkol 4.c: základní popisné statistiky (pokr.)\n",
    "\n",
    "Poslední varianta je použít `sumtable()`."
   ]
  },
  {
   "cell_type": "code",
   "execution_count": 12,
   "metadata": {},
   "outputs": [],
   "source": [
    "#=== CODE HERE ===#"
   ]
  },
  {
   "cell_type": "markdown",
   "metadata": {},
   "source": [
    "<font color=\"blue\">**Nyní zpět k výkladu.**</font>\n",
    "\n",
    "---"
   ]
  },
  {
   "cell_type": "markdown",
   "metadata": {},
   "source": [
    "### Úkol 5.a: histogramy\n",
    "\n",
    "Vykreslete histogramy a diskutujte nad výsledky."
   ]
  },
  {
   "cell_type": "code",
   "execution_count": 13,
   "metadata": {},
   "outputs": [],
   "source": [
    "#=== CODE HERE ===#"
   ]
  },
  {
   "cell_type": "markdown",
   "metadata": {},
   "source": [
    "<font color=\"blue\">**Nyní zpět k výkladu.**</font>\n",
    "\n",
    "---"
   ]
  },
  {
   "cell_type": "markdown",
   "metadata": {},
   "source": [
    "### Úkol 5.b: box plot\n",
    "\n",
    "Vykreslete boxploty a diskutujte nad výsledky. Co obsahuje boxplot?"
   ]
  },
  {
   "cell_type": "code",
   "execution_count": 14,
   "metadata": {},
   "outputs": [],
   "source": [
    "#=== CODE HERE ===#"
   ]
  },
  {
   "cell_type": "markdown",
   "metadata": {},
   "source": [
    "<font color=\"blue\">**Nyní zpět k výkladu.**</font>\n",
    "\n",
    "---"
   ]
  },
  {
   "cell_type": "markdown",
   "metadata": {},
   "source": [
    "### Úkol 5.c: houslový graf\n",
    "\n",
    "Vykreslete houslový graf (violin plot) a interpretujte výsledky."
   ]
  },
  {
   "cell_type": "code",
   "execution_count": 15,
   "metadata": {},
   "outputs": [],
   "source": [
    "#=== CODE HERE ===#"
   ]
  },
  {
   "cell_type": "markdown",
   "metadata": {},
   "source": [
    "<font color=\"blue\">**Nyní zpět k výkladu.**</font>\n",
    "\n",
    "---"
   ]
  },
  {
   "cell_type": "markdown",
   "metadata": {},
   "source": [
    "### Úkol 6.a: data CZ031\n",
    "\n",
    "Podívejme se detailněji na data CZ031. Vykreslete v jednom obrázku histogram, KDE odhad hustoty a pro porovnání hustotu normálního rozdělení se střední hodnotou a rozptylem shodným s výběrovými statistikami dat. Diskutujte o výsledcích.\n",
    "Nápověda: `geom_histogram()`, `geom_density()`, `stat_function()`."
   ]
  },
  {
   "cell_type": "code",
   "execution_count": 16,
   "metadata": {},
   "outputs": [],
   "source": [
    "#=== CODE HERE ===#"
   ]
  },
  {
   "cell_type": "markdown",
   "metadata": {},
   "source": [
    "### Úkol 6.b: data CZ031 (pokr.)\n",
    "\n",
    "Proveďte analýzu normality pomocí Q-Q plotu. Nápověda: `stat_qq()`, `stat_qq_line()`."
   ]
  },
  {
   "cell_type": "code",
   "execution_count": 17,
   "metadata": {},
   "outputs": [],
   "source": [
    "#=== CODE HERE ===#"
   ]
  },
  {
   "cell_type": "markdown",
   "metadata": {},
   "source": [
    "### Úkol 6.c: data CZ031 (pokr.)\n",
    "\n",
    "Určete kvantily téhož datasetu a interpretujte opět Q-Q plot."
   ]
  },
  {
   "cell_type": "code",
   "execution_count": 18,
   "metadata": {},
   "outputs": [],
   "source": [
    "#=== CODE HERE ===#"
   ]
  },
  {
   "cell_type": "markdown",
   "metadata": {},
   "source": [
    "### Úkol 6.d: data CZ031 (pokr.)\n",
    "\n",
    "Otestujte normalitu pomocí Shapirova-Wilkova testu. Příslušnou funkci zkuste najít sami, interpretujte výsledky."
   ]
  },
  {
   "cell_type": "code",
   "execution_count": 19,
   "metadata": {},
   "outputs": [],
   "source": [
    "#=== CODE HERE ===#"
   ]
  },
  {
   "cell_type": "markdown",
   "metadata": {},
   "source": [
    "<font color=\"blue\">**Nyní zpět k výkladu.**</font>\n",
    "\n",
    "---"
   ]
  },
  {
   "cell_type": "markdown",
   "metadata": {},
   "source": [
    "### Úkol 7.a: Korelační analýza\n",
    "\n",
    "Proveďte korelační analýzu. Určete hodnoty korelačních koeficientů a interpretujte je. Použijte funkci `ggpairs()` z balíčku `GGally()`."
   ]
  },
  {
   "cell_type": "code",
   "execution_count": 20,
   "metadata": {},
   "outputs": [],
   "source": [
    "#=== CODE HERE ===#"
   ]
  },
  {
   "cell_type": "markdown",
   "metadata": {},
   "source": [
    "### Úkol 7.b: korelační analýzy (pokr.)\n",
    "\n",
    "Vykreslete grafy pomocí `corrplot()`. Interpretujte výsledky a prozkoumejte různá nastavení parametru `method`."
   ]
  },
  {
   "cell_type": "code",
   "execution_count": 21,
   "metadata": {},
   "outputs": [],
   "source": [
    "#=== CODE HERE ===#"
   ]
  }
 ],
 "metadata": {
  "kernelspec": {
   "display_name": "R",
   "language": "R",
   "name": "ir"
  },
  "language_info": {
   "codemirror_mode": "r",
   "file_extension": ".r",
   "mimetype": "text/x-r-source",
   "name": "R",
   "pygments_lexer": "r",
   "version": "4.1.2"
  }
 },
 "nbformat": 4,
 "nbformat_minor": 4
}
