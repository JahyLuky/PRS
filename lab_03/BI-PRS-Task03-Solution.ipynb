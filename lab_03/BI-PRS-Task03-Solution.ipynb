{
 "cells": [
  {
   "cell_type": "code",
   "execution_count": 290,
   "metadata": {
    "vscode": {
     "languageId": "r"
    }
   },
   "outputs": [],
   "source": [
    "library(eurostat)\n",
    "library(ggplot2)\n",
    "library(cowplot)\n",
    "\n",
    "options(width=160, repr.plot.width=11, repr.plot.height=8)   "
   ]
  },
  {
   "cell_type": "markdown",
   "metadata": {},
   "source": [
    "**<font color=\"red\">Pozn.: Ve všech úkolech je vždy nutné uvést hypotézy a závěry testů! Toto je součástí cvičení. Řešený notebook obsahuje pouze doplněný R kód!</font>**"
   ]
  },
  {
   "cell_type": "markdown",
   "metadata": {},
   "source": [
    "# Úkoly\n",
    "\n",
    "V rámci tohoto cvičení budete na úkolech pracovat samostatně. Zaměříte se na data z Eurostatu, konkrétně na dataset s tímto popisem:\n",
    "\n",
    "**Early leavers from education and training by sex and NUTS 2 regions**\n",
    "\n",
    "Cílem bude provést základní šetření a ověřit několik tvrzení."
   ]
  },
  {
   "cell_type": "markdown",
   "metadata": {},
   "source": [
    "## Úkol 1.a\n",
    "\n",
    "Nalezněte identifikátor (`code`) příslušný pro datový balík s výše uvedeným názvem. Nápověda: `search_eurostat()`."
   ]
  },
  {
   "cell_type": "code",
   "execution_count": 291,
   "metadata": {
    "vscode": {
     "languageId": "r"
    }
   },
   "outputs": [
    {
     "data": {
      "text/html": [
       "<table class=\"dataframe\">\n",
       "<caption>A tibble: 3 × 8</caption>\n",
       "<thead>\n",
       "\t<tr><th scope=col>title</th><th scope=col>code</th><th scope=col>type</th><th scope=col>last update of data</th><th scope=col>last table structure change</th><th scope=col>data start</th><th scope=col>data end</th><th scope=col>values</th></tr>\n",
       "\t<tr><th scope=col>&lt;chr&gt;</th><th scope=col>&lt;chr&gt;</th><th scope=col>&lt;chr&gt;</th><th scope=col>&lt;chr&gt;</th><th scope=col>&lt;chr&gt;</th><th scope=col>&lt;chr&gt;</th><th scope=col>&lt;chr&gt;</th><th scope=col>&lt;chr&gt;</th></tr>\n",
       "</thead>\n",
       "<tbody>\n",
       "\t<tr><td>Early leavers from education and training by sex and NUTS 2 regions</td><td>edat_lfse_16</td><td>dataset</td><td>15.02.2023</td><td>15.02.2023</td><td>2000</td><td>2021</td><td>NA</td></tr>\n",
       "\t<tr><td>Early leavers from education and training by sex and NUTS 2 regions</td><td>edat_lfse_16</td><td>dataset</td><td>15.02.2023</td><td>15.02.2023</td><td>2000</td><td>2021</td><td>NA</td></tr>\n",
       "\t<tr><td>Early leavers from education and training by sex and NUTS 2 regions</td><td>edat_lfse_16</td><td>dataset</td><td>15.02.2023</td><td>15.02.2023</td><td>2000</td><td>2021</td><td>NA</td></tr>\n",
       "</tbody>\n",
       "</table>\n"
      ],
      "text/latex": [
       "A tibble: 3 × 8\n",
       "\\begin{tabular}{llllllll}\n",
       " title & code & type & last update of data & last table structure change & data start & data end & values\\\\\n",
       " <chr> & <chr> & <chr> & <chr> & <chr> & <chr> & <chr> & <chr>\\\\\n",
       "\\hline\n",
       "\t Early leavers from education and training by sex and NUTS 2 regions & edat\\_lfse\\_16 & dataset & 15.02.2023 & 15.02.2023 & 2000 & 2021 & NA\\\\\n",
       "\t Early leavers from education and training by sex and NUTS 2 regions & edat\\_lfse\\_16 & dataset & 15.02.2023 & 15.02.2023 & 2000 & 2021 & NA\\\\\n",
       "\t Early leavers from education and training by sex and NUTS 2 regions & edat\\_lfse\\_16 & dataset & 15.02.2023 & 15.02.2023 & 2000 & 2021 & NA\\\\\n",
       "\\end{tabular}\n"
      ],
      "text/markdown": [
       "\n",
       "A tibble: 3 × 8\n",
       "\n",
       "| title &lt;chr&gt; | code &lt;chr&gt; | type &lt;chr&gt; | last update of data &lt;chr&gt; | last table structure change &lt;chr&gt; | data start &lt;chr&gt; | data end &lt;chr&gt; | values &lt;chr&gt; |\n",
       "|---|---|---|---|---|---|---|---|\n",
       "| Early leavers from education and training by sex and NUTS 2 regions | edat_lfse_16 | dataset | 15.02.2023 | 15.02.2023 | 2000 | 2021 | NA |\n",
       "| Early leavers from education and training by sex and NUTS 2 regions | edat_lfse_16 | dataset | 15.02.2023 | 15.02.2023 | 2000 | 2021 | NA |\n",
       "| Early leavers from education and training by sex and NUTS 2 regions | edat_lfse_16 | dataset | 15.02.2023 | 15.02.2023 | 2000 | 2021 | NA |\n",
       "\n"
      ],
      "text/plain": [
       "  title                                                               code         type    last update of data last table structure change data start data end\n",
       "1 Early leavers from education and training by sex and NUTS 2 regions edat_lfse_16 dataset 15.02.2023          15.02.2023                  2000       2021    \n",
       "2 Early leavers from education and training by sex and NUTS 2 regions edat_lfse_16 dataset 15.02.2023          15.02.2023                  2000       2021    \n",
       "3 Early leavers from education and training by sex and NUTS 2 regions edat_lfse_16 dataset 15.02.2023          15.02.2023                  2000       2021    \n",
       "  values\n",
       "1 NA    \n",
       "2 NA    \n",
       "3 NA    "
      ]
     },
     "metadata": {},
     "output_type": "display_data"
    }
   ],
   "source": [
    "search_eurostat(pattern='Early leavers from education and training by sex and NUTS 2 regions')"
   ]
  },
  {
   "cell_type": "markdown",
   "metadata": {},
   "source": [
    "## Úkol 1.b\n",
    "\n",
    "Stáhněte datový balík a prozkoumejte jeho základní vlastnosti."
   ]
  },
  {
   "cell_type": "code",
   "execution_count": 297,
   "metadata": {
    "vscode": {
     "languageId": "r"
    }
   },
   "outputs": [
    {
     "name": "stderr",
     "output_type": "stream",
     "text": [
      "Reading cache file /tmp/Rtmpx6jXtv/eurostat/edat_lfse_16_date_code_FF.rds\n",
      "\n",
      "Table  edat_lfse_16  read from cache file:  /tmp/Rtmpx6jXtv/eurostat/edat_lfse_16_date_code_FF.rds\n",
      "\n"
     ]
    }
   ],
   "source": [
    "id <- \"edat_lfse_16\"\n",
    "dat <- get_eurostat(id=id)"
   ]
  },
  {
   "cell_type": "markdown",
   "metadata": {},
   "source": [
    "## Úkol 2.a\n",
    "\n",
    "Vyselektujte všechna historická data pro libovolný region soudržnosti NUTS2. Pokud možno tak, aby neobsahovala NA. Vhodným příkladem je CZ04 (reg. Severozápad, tj. Ústecký a Karlovarský kraj v jednom).\n",
    "\n",
    "Upravte data do podoby data.frame, který bude mít 3 sloupce:\n",
    "- date\n",
    "- females - s procenty ze sloupce Values pro sex == F\n",
    "- males - s procenty ze sloupce Values pro sex == M"
   ]
  },
  {
   "cell_type": "code",
   "execution_count": 246,
   "metadata": {
    "collapsed": true,
    "jupyter": {
     "outputs_hidden": true
    },
    "vscode": {
     "languageId": "r"
    }
   },
   "outputs": [
    {
     "data": {
      "text/plain": [
       "     unit           sex        age         geo                 time                values     \n",
       " Length:60          F:20   Y18-24:60   Length:60          Min.   :2002-01-01   Min.   : 7.60  \n",
       " Class :character   M:20               Class :character   1st Qu.:2006-10-01   1st Qu.:11.20  \n",
       " Mode  :character   T:20               Mode  :character   Median :2011-07-02   Median :12.70  \n",
       "                                                          Mean   :2011-07-02   Mean   :13.14  \n",
       "                                                          3rd Qu.:2016-04-01   3rd Qu.:14.75  \n",
       "                                                          Max.   :2021-01-01   Max.   :20.90  "
      ]
     },
     "metadata": {},
     "output_type": "display_data"
    }
   ],
   "source": [
    "# Toto není nejkratší cesta, ale data jsem si ještě trochu zkoumal...\n",
    "data <- dat[dat$geo == \"CZ04\",]\n",
    "data$sex <- as.factor(data$sex)\n",
    "data$age <- as.factor(data$age)\n",
    "summary(data)"
   ]
  },
  {
   "cell_type": "code",
   "execution_count": 247,
   "metadata": {
    "vscode": {
     "languageId": "r"
    }
   },
   "outputs": [],
   "source": [
    "females <- subset(data, sex==\"F\", select=c(\"time\", \"values\"))\n",
    "colnames(females) <- c(\"date\", \"females\")\n",
    "males <- subset(data, sex==\"M\", select=c(\"time\", \"values\"))\n",
    "colnames(males) <- c(\"date\", \"males\")"
   ]
  },
  {
   "cell_type": "code",
   "execution_count": 248,
   "metadata": {
    "vscode": {
     "languageId": "r"
    }
   },
   "outputs": [],
   "source": [
    "edu_leavers <- merge(females, males)"
   ]
  },
  {
   "cell_type": "code",
   "execution_count": 249,
   "metadata": {
    "vscode": {
     "languageId": "r"
    }
   },
   "outputs": [
    {
     "data": {
      "text/html": [
       "<table class=\"dataframe\">\n",
       "<caption>A data.frame: 20 × 3</caption>\n",
       "<thead>\n",
       "\t<tr><th scope=col>date</th><th scope=col>females</th><th scope=col>males</th></tr>\n",
       "\t<tr><th scope=col>&lt;date&gt;</th><th scope=col>&lt;dbl&gt;</th><th scope=col>&lt;dbl&gt;</th></tr>\n",
       "</thead>\n",
       "<tbody>\n",
       "\t<tr><td>2002-01-01</td><td>13.3</td><td> 9.3</td></tr>\n",
       "\t<tr><td>2003-01-01</td><td>17.5</td><td>10.4</td></tr>\n",
       "\t<tr><td>2004-01-01</td><td>14.7</td><td>11.1</td></tr>\n",
       "\t<tr><td>2005-01-01</td><td>10.4</td><td>10.2</td></tr>\n",
       "\t<tr><td>2006-01-01</td><td>10.4</td><td>11.0</td></tr>\n",
       "\t<tr><td>2007-01-01</td><td>11.4</td><td>11.6</td></tr>\n",
       "\t<tr><td>2008-01-01</td><td>15.7</td><td>13.6</td></tr>\n",
       "\t<tr><td>2009-01-01</td><td>14.9</td><td>10.4</td></tr>\n",
       "\t<tr><td>2010-01-01</td><td>13.0</td><td> 9.7</td></tr>\n",
       "\t<tr><td>2011-01-01</td><td>11.2</td><td>11.2</td></tr>\n",
       "\t<tr><td>2012-01-01</td><td>12.6</td><td>11.4</td></tr>\n",
       "\t<tr><td>2013-01-01</td><td>11.5</td><td> 7.6</td></tr>\n",
       "\t<tr><td>2014-01-01</td><td>12.2</td><td>13.3</td></tr>\n",
       "\t<tr><td>2015-01-01</td><td>13.0</td><td>16.0</td></tr>\n",
       "\t<tr><td>2016-01-01</td><td>16.4</td><td>11.4</td></tr>\n",
       "\t<tr><td>2017-01-01</td><td>17.6</td><td>13.6</td></tr>\n",
       "\t<tr><td>2018-01-01</td><td>18.5</td><td>15.6</td></tr>\n",
       "\t<tr><td>2019-01-01</td><td>19.1</td><td>11.9</td></tr>\n",
       "\t<tr><td>2020-01-01</td><td>20.9</td><td>14.0</td></tr>\n",
       "\t<tr><td>2021-01-01</td><td>16.7</td><td>11.7</td></tr>\n",
       "</tbody>\n",
       "</table>\n"
      ],
      "text/latex": [
       "A data.frame: 20 × 3\n",
       "\\begin{tabular}{lll}\n",
       " date & females & males\\\\\n",
       " <date> & <dbl> & <dbl>\\\\\n",
       "\\hline\n",
       "\t 2002-01-01 & 13.3 &  9.3\\\\\n",
       "\t 2003-01-01 & 17.5 & 10.4\\\\\n",
       "\t 2004-01-01 & 14.7 & 11.1\\\\\n",
       "\t 2005-01-01 & 10.4 & 10.2\\\\\n",
       "\t 2006-01-01 & 10.4 & 11.0\\\\\n",
       "\t 2007-01-01 & 11.4 & 11.6\\\\\n",
       "\t 2008-01-01 & 15.7 & 13.6\\\\\n",
       "\t 2009-01-01 & 14.9 & 10.4\\\\\n",
       "\t 2010-01-01 & 13.0 &  9.7\\\\\n",
       "\t 2011-01-01 & 11.2 & 11.2\\\\\n",
       "\t 2012-01-01 & 12.6 & 11.4\\\\\n",
       "\t 2013-01-01 & 11.5 &  7.6\\\\\n",
       "\t 2014-01-01 & 12.2 & 13.3\\\\\n",
       "\t 2015-01-01 & 13.0 & 16.0\\\\\n",
       "\t 2016-01-01 & 16.4 & 11.4\\\\\n",
       "\t 2017-01-01 & 17.6 & 13.6\\\\\n",
       "\t 2018-01-01 & 18.5 & 15.6\\\\\n",
       "\t 2019-01-01 & 19.1 & 11.9\\\\\n",
       "\t 2020-01-01 & 20.9 & 14.0\\\\\n",
       "\t 2021-01-01 & 16.7 & 11.7\\\\\n",
       "\\end{tabular}\n"
      ],
      "text/markdown": [
       "\n",
       "A data.frame: 20 × 3\n",
       "\n",
       "| date &lt;date&gt; | females &lt;dbl&gt; | males &lt;dbl&gt; |\n",
       "|---|---|---|\n",
       "| 2002-01-01 | 13.3 |  9.3 |\n",
       "| 2003-01-01 | 17.5 | 10.4 |\n",
       "| 2004-01-01 | 14.7 | 11.1 |\n",
       "| 2005-01-01 | 10.4 | 10.2 |\n",
       "| 2006-01-01 | 10.4 | 11.0 |\n",
       "| 2007-01-01 | 11.4 | 11.6 |\n",
       "| 2008-01-01 | 15.7 | 13.6 |\n",
       "| 2009-01-01 | 14.9 | 10.4 |\n",
       "| 2010-01-01 | 13.0 |  9.7 |\n",
       "| 2011-01-01 | 11.2 | 11.2 |\n",
       "| 2012-01-01 | 12.6 | 11.4 |\n",
       "| 2013-01-01 | 11.5 |  7.6 |\n",
       "| 2014-01-01 | 12.2 | 13.3 |\n",
       "| 2015-01-01 | 13.0 | 16.0 |\n",
       "| 2016-01-01 | 16.4 | 11.4 |\n",
       "| 2017-01-01 | 17.6 | 13.6 |\n",
       "| 2018-01-01 | 18.5 | 15.6 |\n",
       "| 2019-01-01 | 19.1 | 11.9 |\n",
       "| 2020-01-01 | 20.9 | 14.0 |\n",
       "| 2021-01-01 | 16.7 | 11.7 |\n",
       "\n"
      ],
      "text/plain": [
       "   date       females males\n",
       "1  2002-01-01 13.3     9.3 \n",
       "2  2003-01-01 17.5    10.4 \n",
       "3  2004-01-01 14.7    11.1 \n",
       "4  2005-01-01 10.4    10.2 \n",
       "5  2006-01-01 10.4    11.0 \n",
       "6  2007-01-01 11.4    11.6 \n",
       "7  2008-01-01 15.7    13.6 \n",
       "8  2009-01-01 14.9    10.4 \n",
       "9  2010-01-01 13.0     9.7 \n",
       "10 2011-01-01 11.2    11.2 \n",
       "11 2012-01-01 12.6    11.4 \n",
       "12 2013-01-01 11.5     7.6 \n",
       "13 2014-01-01 12.2    13.3 \n",
       "14 2015-01-01 13.0    16.0 \n",
       "15 2016-01-01 16.4    11.4 \n",
       "16 2017-01-01 17.6    13.6 \n",
       "17 2018-01-01 18.5    15.6 \n",
       "18 2019-01-01 19.1    11.9 \n",
       "19 2020-01-01 20.9    14.0 \n",
       "20 2021-01-01 16.7    11.7 "
      ]
     },
     "metadata": {},
     "output_type": "display_data"
    }
   ],
   "source": [
    "edu_leavers"
   ]
  },
  {
   "cell_type": "markdown",
   "metadata": {},
   "source": [
    "## Úkol 2.b\n",
    "\n",
    "Jedná se o časové řady, které mohou podléhat určitému časovému vývoj. My k datům budeme přistupovat naivně, jako kdyby měla stále stejnou distribuci. Zjistěte základní vlastnosti dat a diskutujte o nich. Zároveň okomentujte, zda by byl naivní přístup v praxi přijatelný."
   ]
  },
  {
   "cell_type": "code",
   "execution_count": 274,
   "metadata": {
    "vscode": {
     "languageId": "r"
    }
   },
   "outputs": [
    {
     "data": {
      "image/png": "[encoded data removed]",
      "text/plain": [
       "plot without title"
      ]
     },
     "metadata": {
      "image/png": {
       "height": 480,
       "width": 660
      }
     },
     "output_type": "display_data"
    }
   ],
   "source": [
    "colors <- c(\"Male\" = \"blue\", \"Female\" = \"red\")\n",
    "\n",
    "ggplot(data=edu_leavers, aes(x=date)) +\n",
    "    geom_path(aes(y=males, color=\"Male\")) +\n",
    "    geom_point(aes(y=males, color=\"Male\")) +\n",
    "    geom_path(aes(y=females, color=\"Female\")) +\n",
    "    geom_point(aes(y=females, color=\"Female\")) +\n",
    "    scale_color_manual(values = colors)"
   ]
  },
  {
   "cell_type": "code",
   "execution_count": 275,
   "metadata": {
    "vscode": {
     "languageId": "r"
    }
   },
   "outputs": [
    {
     "data": {
      "text/plain": [
       "      date               females          males      \n",
       " Min.   :2002-01-01   Min.   :10.40   Min.   : 7.60  \n",
       " 1st Qu.:2006-10-01   1st Qu.:12.03   1st Qu.:10.40  \n",
       " Median :2011-07-02   Median :14.00   Median :11.40  \n",
       " Mean   :2011-07-02   Mean   :14.55   Mean   :11.75  \n",
       " 3rd Qu.:2016-04-01   3rd Qu.:16.90   3rd Qu.:13.38  \n",
       " Max.   :2021-01-01   Max.   :20.90   Max.   :16.00  "
      ]
     },
     "metadata": {},
     "output_type": "display_data"
    }
   ],
   "source": [
    "summary(edu_leavers)"
   ]
  },
  {
   "cell_type": "markdown",
   "metadata": {},
   "source": [
    "## Úkol 3.a: Test střední hodnoty\n",
    "\n",
    "Budeme i nadále naivně předpokládat, že data pro muže pocházejí ze stejného rozdělení a podobně data pro ženy rovněž ze stejného (potenciálně jiného) rozdělení.\n",
    "\n",
    "Zaměřme se na následující závěr Eurostatu:\n",
    "\n",
    "**In 2021, 11.4 % of young men and 7.9 % of young women in the EU were early leavers from education and training.**\n",
    "\n",
    "Úkolem je otestovat, zda střední hodnoty obou výběrů těmto číslům odpovídají. Alternativu nastavme tak, aby potenciálně odrážela nepříjemnou - horší - skutečnost."
   ]
  },
  {
   "cell_type": "code",
   "execution_count": 181,
   "metadata": {
    "vscode": {
     "languageId": "r"
    }
   },
   "outputs": [
    {
     "data": {
      "text/plain": [
       "\n",
       "\tOne Sample t-test\n",
       "\n",
       "data:  edu_leavers$females\n",
       "t = 9.5377, df = 19, p-value = 5.609e-09\n",
       "alternative hypothesis: true mean is greater than 7.9\n",
       "95 percent confidence interval:\n",
       " 13.34439      Inf\n",
       "sample estimates:\n",
       "mean of x \n",
       "    14.55 \n"
      ]
     },
     "metadata": {},
     "output_type": "display_data"
    }
   ],
   "source": [
    "t.test(edu_leavers$females, mu=7.9, alternative=\"greater\")"
   ]
  },
  {
   "cell_type": "code",
   "execution_count": 199,
   "metadata": {
    "vscode": {
     "languageId": "r"
    }
   },
   "outputs": [
    {
     "data": {
      "text/plain": [
       "\n",
       "\tOne Sample t-test\n",
       "\n",
       "data:  edu_leavers$males\n",
       "t = 0.7523, df = 19, p-value = 0.2305\n",
       "alternative hypothesis: true mean is greater than 11.4\n",
       "95 percent confidence interval:\n",
       " 10.94554      Inf\n",
       "sample estimates:\n",
       "mean of x \n",
       "    11.75 \n"
      ]
     },
     "metadata": {},
     "output_type": "display_data"
    }
   ],
   "source": [
    "t.test(edu_leavers$males, mu=11.4, alternative=\"greater\")"
   ]
  },
  {
   "cell_type": "markdown",
   "metadata": {},
   "source": [
    "## Úkol 3.b\n",
    "\n",
    "Pojďme se nyní zaměřit na následující cíl EU:\n",
    "\n",
    "**The EU set an EU-level target stipulating that the share of early leavers from education and training should be less than 9 % by 2030.**\n",
    "\n",
    "Máme otestovat, zda data vybraného regionu tuto mez splňují oproti alternativě, že situace je horší. Testovat budeme mediány."
   ]
  },
  {
   "cell_type": "code",
   "execution_count": 295,
   "metadata": {
    "vscode": {
     "languageId": "r"
    }
   },
   "outputs": [
    {
     "name": "stderr",
     "output_type": "stream",
     "text": [
      "Warning message in wilcox.test.default(edu_leavers$females, mu = 9, alternative = \"greater\"):\n",
      "“cannot compute exact p-value with ties”\n"
     ]
    },
    {
     "data": {
      "text/plain": [
       "\n",
       "\tWilcoxon signed rank test with continuity correction\n",
       "\n",
       "data:  edu_leavers$females\n",
       "V = 210, p-value = 4.771e-05\n",
       "alternative hypothesis: true location is greater than 9\n"
      ]
     },
     "metadata": {},
     "output_type": "display_data"
    }
   ],
   "source": [
    "wilcox.test(edu_leavers$females, mu=9, alternative=\"greater\")"
   ]
  },
  {
   "cell_type": "code",
   "execution_count": 296,
   "metadata": {
    "vscode": {
     "languageId": "r"
    }
   },
   "outputs": [
    {
     "name": "stderr",
     "output_type": "stream",
     "text": [
      "Warning message in wilcox.test.default(edu_leavers$males, mu = 9, alternative = \"greater\"):\n",
      "“cannot compute exact p-value with ties”\n"
     ]
    },
    {
     "data": {
      "text/plain": [
       "\n",
       "\tWilcoxon signed rank test with continuity correction\n",
       "\n",
       "data:  edu_leavers$males\n",
       "V = 205, p-value = 0.000101\n",
       "alternative hypothesis: true location is greater than 9\n"
      ]
     },
     "metadata": {},
     "output_type": "display_data"
    }
   ],
   "source": [
    "wilcox.test(edu_leavers$males, mu=9, alternative=\"greater\")"
   ]
  },
  {
   "cell_type": "markdown",
   "metadata": {},
   "source": [
    "## Úkol 4 \n",
    "\n",
    "Cílem tohoto úkolu je otestovat, zda data mají pro obě pohlaví stejné střední hodnoty. Ideálně bychom chtěli použít základní dvouvýběrový t test, ale je třeba ověřit předpoklady pro jeho použití. Alternativu zvolte tak, aby odrážela váš odhad z dřívějších analýz."
   ]
  },
  {
   "cell_type": "code",
   "execution_count": 278,
   "metadata": {
    "vscode": {
     "languageId": "r"
    }
   },
   "outputs": [
    {
     "data": {
      "text/plain": [
       "\n",
       "\tF test to compare two variances\n",
       "\n",
       "data:  edu_leavers$females and edu_leavers$males\n",
       "F = 2.246, num df = 19, denom df = 19, p-value = 0.08583\n",
       "alternative hypothesis: true ratio of variances is not equal to 1\n",
       "95 percent confidence interval:\n",
       " 0.8889773 5.6743013\n",
       "sample estimates:\n",
       "ratio of variances \n",
       "          2.245957 \n"
      ]
     },
     "metadata": {},
     "output_type": "display_data"
    }
   ],
   "source": [
    "var.test(edu_leavers$females, edu_leavers$males)"
   ]
  },
  {
   "cell_type": "code",
   "execution_count": 299,
   "metadata": {
    "vscode": {
     "languageId": "r"
    }
   },
   "outputs": [
    {
     "data": {
      "text/plain": [
       "\n",
       "\tTwo Sample t-test\n",
       "\n",
       "data:  edu_leavers$females and edu_leavers$males\n",
       "t = 3.3405, df = 38, p-value = 0.0009422\n",
       "alternative hypothesis: true difference in means is greater than 0\n",
       "95 percent confidence interval:\n",
       " 1.386833      Inf\n",
       "sample estimates:\n",
       "mean of x mean of y \n",
       "    14.55     11.75 \n"
      ]
     },
     "metadata": {},
     "output_type": "display_data"
    }
   ],
   "source": [
    "t.test(edu_leavers$females, edu_leavers$males, var.equal=T, alternative=\"g\")"
   ]
  },
  {
   "cell_type": "markdown",
   "metadata": {},
   "source": [
    "## Úkol 5\n",
    "\n",
    "Nyní chceme otestovat, zda jsou distribuce shodné. Na základě parametrického testu jsme tak učinili výše, cvičně máme provést ještě test neparametrický. Alternativu opět uzpůsobme předběžným závěrům z dřívějších analýz."
   ]
  },
  {
   "cell_type": "code",
   "execution_count": 280,
   "metadata": {
    "vscode": {
     "languageId": "r"
    }
   },
   "outputs": [
    {
     "name": "stderr",
     "output_type": "stream",
     "text": [
      "Warning message in wilcox.test.default(edu_leavers$females, edu_leavers$males, alternative = \"greater\"):\n",
      "“cannot compute exact p-value with ties”\n"
     ]
    },
    {
     "data": {
      "text/plain": [
       "\n",
       "\tWilcoxon rank sum test with continuity correction\n",
       "\n",
       "data:  edu_leavers$females and edu_leavers$males\n",
       "W = 305, p-value = 0.002334\n",
       "alternative hypothesis: true location shift is greater than 0\n"
      ]
     },
     "metadata": {},
     "output_type": "display_data"
    }
   ],
   "source": [
    "wilcox.test(edu_leavers$females, edu_leavers$males, alternative=\"greater\")"
   ]
  },
  {
   "cell_type": "markdown",
   "metadata": {},
   "source": [
    "## Úkol 6\n",
    "\n",
    "Máme ověřit, zda jsou data pro obě skupiny normálně rozdělená. Ověřte:\n",
    "- vhodným statistickým testem\n",
    "- vhodnou metodou posouzení odchylek od normality\n",
    "\n",
    "Pokud by byl normální model přípustný, odhadněte jeho parametry."
   ]
  },
  {
   "cell_type": "code",
   "execution_count": 281,
   "metadata": {
    "vscode": {
     "languageId": "r"
    }
   },
   "outputs": [
    {
     "data": {
      "text/plain": [
       "\n",
       "\tShapiro-Wilk normality test\n",
       "\n",
       "data:  edu_leavers$females\n",
       "W = 0.94585, p-value = 0.3085\n"
      ]
     },
     "metadata": {},
     "output_type": "display_data"
    }
   ],
   "source": [
    "shapiro.test(edu_leavers$females)"
   ]
  },
  {
   "cell_type": "code",
   "execution_count": 282,
   "metadata": {
    "vscode": {
     "languageId": "r"
    }
   },
   "outputs": [
    {
     "data": {
      "text/plain": [
       "\n",
       "\tShapiro-Wilk normality test\n",
       "\n",
       "data:  edu_leavers$males\n",
       "W = 0.96064, p-value = 0.5568\n"
      ]
     },
     "metadata": {},
     "output_type": "display_data"
    }
   ],
   "source": [
    "shapiro.test(edu_leavers$males)"
   ]
  },
  {
   "cell_type": "code",
   "execution_count": 286,
   "metadata": {
    "vscode": {
     "languageId": "r"
    }
   },
   "outputs": [
    {
     "data": {
      "image/png": "[encoded data removed]",
      "text/plain": [
       "plot without title"
      ]
     },
     "metadata": {
      "image/png": {
       "height": 480,
       "width": 660
      }
     },
     "output_type": "display_data"
    }
   ],
   "source": [
    "p1 <- ggplot(edu_leavers, aes(sample=females)) +\n",
    "        stat_qq(distribution='qnorm', show.legend=T) +\n",
    "        stat_qq_line(distribution='qnorm', show.legend=F)\n",
    "p2 <- ggplot(edu_leavers, aes(sample=males)) +\n",
    "        stat_qq(distribution='qnorm', show.legend=T) +\n",
    "        stat_qq_line(distribution='qnorm', show.legend=F)\n",
    "plot_grid(p1, p2, nrow=1)"
   ]
  },
  {
   "cell_type": "code",
   "execution_count": 287,
   "metadata": {
    "vscode": {
     "languageId": "r"
    }
   },
   "outputs": [
    {
     "data": {
      "text/html": [
       "'Přípustný model pro ženy je N(14.55, 9.72263157894737)'"
      ],
      "text/latex": [
       "'Přípustný model pro ženy je N(14.55, 9.72263157894737)'"
      ],
      "text/markdown": [
       "'Přípustný model pro ženy je N(14.55, 9.72263157894737)'"
      ],
      "text/plain": [
       "[1] \"Přípustný model pro ženy je N(14.55, 9.72263157894737)\""
      ]
     },
     "metadata": {},
     "output_type": "display_data"
    }
   ],
   "source": [
    "paste0(\"Přípustný model pro ženy je N(\", mean(edu_leavers$females), \n",
    "      \", \", var(edu_leavers$females), \")\")"
   ]
  },
  {
   "cell_type": "code",
   "execution_count": 288,
   "metadata": {
    "vscode": {
     "languageId": "r"
    }
   },
   "outputs": [
    {
     "data": {
      "text/html": [
       "'Přípustný model pro muže je N(11.75, 4.32894736842105)'"
      ],
      "text/latex": [
       "'Přípustný model pro muže je N(11.75, 4.32894736842105)'"
      ],
      "text/markdown": [
       "'Přípustný model pro muže je N(11.75, 4.32894736842105)'"
      ],
      "text/plain": [
       "[1] \"Přípustný model pro muže je N(11.75, 4.32894736842105)\""
      ]
     },
     "metadata": {},
     "output_type": "display_data"
    }
   ],
   "source": [
    "paste0(\"Přípustný model pro muže je N(\", mean(edu_leavers$males), \n",
    "      \", \", var(edu_leavers$males), \")\")"
   ]
  },
  {
   "cell_type": "markdown",
   "metadata": {},
   "source": [
    "## Úkol 7: Korelační analýza\n",
    "\n",
    "Proveďte korelační analýzu, tj.\n",
    "- podle povahy problému vyberte vhodný korelační koeficient\n",
    "- odhadněte jeho hodnotu\n",
    "- otestujte nekorelovanost"
   ]
  },
  {
   "cell_type": "code",
   "execution_count": 301,
   "metadata": {
    "vscode": {
     "languageId": "r"
    }
   },
   "outputs": [
    {
     "data": {
      "text/plain": [
       "\n",
       "\tPearson's product-moment correlation\n",
       "\n",
       "data:  edu_leavers$females and edu_leavers$males\n",
       "t = 2.0605, df = 18, p-value = 0.05411\n",
       "alternative hypothesis: true correlation is not equal to 0\n",
       "95 percent confidence interval:\n",
       " -0.007008979  0.736923572\n",
       "sample estimates:\n",
       "      cor \n",
       "0.4368668 \n"
      ]
     },
     "metadata": {},
     "output_type": "display_data"
    }
   ],
   "source": [
    "cor.test(edu_leavers$females, edu_leavers$males, method=\"pearson\")"
   ]
  },
  {
   "cell_type": "markdown",
   "metadata": {},
   "source": [
    "---\n",
    "---"
   ]
  }
 ],
 "metadata": {
  "kernelspec": {
   "display_name": "R",
   "language": "R",
   "name": "ir"
  },
  "language_info": {
   "codemirror_mode": "r",
   "file_extension": ".r",
   "mimetype": "text/x-r-source",
   "name": "R",
   "pygments_lexer": "r",
   "version": "4.1.2"
  }
 },
 "nbformat": 4,
 "nbformat_minor": 4
}
