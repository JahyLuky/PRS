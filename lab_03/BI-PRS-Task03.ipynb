{
 "cells": [
  {
   "cell_type": "code",
   "execution_count": 1,
   "metadata": {},
   "outputs": [
    {
     "name": "stderr",
     "output_type": "stream",
     "text": [
      "Warning message in system(\"timedatectl\", intern = TRUE):\n",
      "“running command 'timedatectl' had status 1”\n"
     ]
    }
   ],
   "source": [
    "library(eurostat)\n",
    "library(ggplot2)\n",
    "library(cowplot)\n",
    "\n",
    "options(width=160, repr.plot.width=11, repr.plot.height=8)   "
   ]
  },
  {
   "cell_type": "markdown",
   "metadata": {},
   "source": [
    "**<font color=\"red\">Pozn.: Ve všech úkolech je vždy nutné uvést hypotézy a závěry testů! Toto je součástí cvičení. Řešený notebook obsahuje pouze doplněný R kód!</font>**"
   ]
  },
  {
   "cell_type": "markdown",
   "metadata": {},
   "source": [
    "# Úkoly\n",
    "\n",
    "V rámci tohoto cvičení budete na úkolech pracovat samostatně. Zaměříte se na data z Eurostatu, konkrétně na dataset s tímto popisem:\n",
    "\n",
    "**Early leavers from education and training by sex and NUTS 2 regions**\n",
    "\n",
    "Cílem bude provést základní šetření a ověřit několik tvrzení."
   ]
  },
  {
   "cell_type": "markdown",
   "metadata": {},
   "source": [
    "## Úkol 1.a\n",
    "\n",
    "Nalezněte identifikátor (`code`) příslušný pro datový balík s výše uvedeným názvem. Nápověda: `search_eurostat()`."
   ]
  },
  {
   "cell_type": "code",
   "execution_count": 2,
   "metadata": {},
   "outputs": [
    {
     "data": {
      "text/html": [
       "<table class=\"dataframe\">\n",
       "<caption>A tibble: 3 × 8</caption>\n",
       "<thead>\n",
       "\t<tr><th scope=col>title</th><th scope=col>code</th><th scope=col>type</th><th scope=col>last update of data</th><th scope=col>last table structure change</th><th scope=col>data start</th><th scope=col>data end</th><th scope=col>values</th></tr>\n",
       "\t<tr><th scope=col>&lt;chr&gt;</th><th scope=col>&lt;chr&gt;</th><th scope=col>&lt;chr&gt;</th><th scope=col>&lt;chr&gt;</th><th scope=col>&lt;chr&gt;</th><th scope=col>&lt;chr&gt;</th><th scope=col>&lt;chr&gt;</th><th scope=col>&lt;chr&gt;</th></tr>\n",
       "</thead>\n",
       "<tbody>\n",
       "\t<tr><td>Early leavers from education and training by sex and NUTS 2 regions</td><td>edat_lfse_16</td><td>dataset</td><td>15.02.2023</td><td>15.02.2023</td><td>2000</td><td>2021</td><td>NA</td></tr>\n",
       "\t<tr><td>Early leavers from education and training by sex and NUTS 2 regions</td><td>edat_lfse_16</td><td>dataset</td><td>15.02.2023</td><td>15.02.2023</td><td>2000</td><td>2021</td><td>NA</td></tr>\n",
       "\t<tr><td>Early leavers from education and training by sex and NUTS 2 regions</td><td>edat_lfse_16</td><td>dataset</td><td>15.02.2023</td><td>15.02.2023</td><td>2000</td><td>2021</td><td>NA</td></tr>\n",
       "</tbody>\n",
       "</table>\n"
      ],
      "text/latex": [
       "A tibble: 3 × 8\n",
       "\\begin{tabular}{llllllll}\n",
       " title & code & type & last update of data & last table structure change & data start & data end & values\\\\\n",
       " <chr> & <chr> & <chr> & <chr> & <chr> & <chr> & <chr> & <chr>\\\\\n",
       "\\hline\n",
       "\t Early leavers from education and training by sex and NUTS 2 regions & edat\\_lfse\\_16 & dataset & 15.02.2023 & 15.02.2023 & 2000 & 2021 & NA\\\\\n",
       "\t Early leavers from education and training by sex and NUTS 2 regions & edat\\_lfse\\_16 & dataset & 15.02.2023 & 15.02.2023 & 2000 & 2021 & NA\\\\\n",
       "\t Early leavers from education and training by sex and NUTS 2 regions & edat\\_lfse\\_16 & dataset & 15.02.2023 & 15.02.2023 & 2000 & 2021 & NA\\\\\n",
       "\\end{tabular}\n"
      ],
      "text/markdown": [
       "\n",
       "A tibble: 3 × 8\n",
       "\n",
       "| title &lt;chr&gt; | code &lt;chr&gt; | type &lt;chr&gt; | last update of data &lt;chr&gt; | last table structure change &lt;chr&gt; | data start &lt;chr&gt; | data end &lt;chr&gt; | values &lt;chr&gt; |\n",
       "|---|---|---|---|---|---|---|---|\n",
       "| Early leavers from education and training by sex and NUTS 2 regions | edat_lfse_16 | dataset | 15.02.2023 | 15.02.2023 | 2000 | 2021 | NA |\n",
       "| Early leavers from education and training by sex and NUTS 2 regions | edat_lfse_16 | dataset | 15.02.2023 | 15.02.2023 | 2000 | 2021 | NA |\n",
       "| Early leavers from education and training by sex and NUTS 2 regions | edat_lfse_16 | dataset | 15.02.2023 | 15.02.2023 | 2000 | 2021 | NA |\n",
       "\n"
      ],
      "text/plain": [
       "  title                                                               code         type    last update of data last table structure change data start data end\n",
       "1 Early leavers from education and training by sex and NUTS 2 regions edat_lfse_16 dataset 15.02.2023          15.02.2023                  2000       2021    \n",
       "2 Early leavers from education and training by sex and NUTS 2 regions edat_lfse_16 dataset 15.02.2023          15.02.2023                  2000       2021    \n",
       "3 Early leavers from education and training by sex and NUTS 2 regions edat_lfse_16 dataset 15.02.2023          15.02.2023                  2000       2021    \n",
       "  values\n",
       "1 NA    \n",
       "2 NA    \n",
       "3 NA    "
      ]
     },
     "metadata": {},
     "output_type": "display_data"
    }
   ],
   "source": [
    "#=== CODE HERE ===#\n",
    "search_eurostat(pattern = \"Early leavers from education and training by sex and NUTS 2 regions\")"
   ]
  },
  {
   "cell_type": "markdown",
   "metadata": {},
   "source": [
    "## Úkol 1.b\n",
    "\n",
    "Stáhněte datový balík a prozkoumejte jeho základní vlastnosti."
   ]
  },
  {
   "cell_type": "code",
   "execution_count": 4,
   "metadata": {},
   "outputs": [
    {
     "name": "stderr",
     "output_type": "stream",
     "text": [
      "Reading cache file /tmp/Rtmpu5952E/eurostat/edat_lfse_16_date_code_FF.rds\n",
      "\n",
      "Table  edat_lfse_16  read from cache file:  /tmp/Rtmpu5952E/eurostat/edat_lfse_16_date_code_FF.rds\n",
      "\n"
     ]
    },
    {
     "data": {
      "text/plain": [
       "     unit           sex        age         geo                 time                values     \n",
       " Length:60          F:20   Y18-24:60   Length:60          Min.   :2002-01-01   Min.   : 7.60  \n",
       " Class :character   M:20               Class :character   1st Qu.:2006-10-01   1st Qu.:11.20  \n",
       " Mode  :character   T:20               Mode  :character   Median :2011-07-02   Median :12.70  \n",
       "                                                          Mean   :2011-07-02   Mean   :13.14  \n",
       "                                                          3rd Qu.:2016-04-01   3rd Qu.:14.75  \n",
       "                                                          Max.   :2021-01-01   Max.   :20.90  "
      ]
     },
     "metadata": {},
     "output_type": "display_data"
    }
   ],
   "source": [
    "#=== CODE HERE ===#\n",
    "id <- \"edat_lfse_16\"\n",
    "dat <- get_eurostat(id=id)\n",
    "data <- dat[dat$geo == \"CZ04\",]\n",
    "data$sex <- as.factor(data$sex)\n",
    "data$age <- as.factor(data$age)\n",
    "summary(data)"
   ]
  },
  {
   "cell_type": "markdown",
   "metadata": {},
   "source": [
    "## Úkol 2.a\n",
    "\n",
    "Vyselektujte všechna historická data pro libovolný region soudržnosti NUTS2. Pokud možno tak, aby neobsahovala NA. Vhodným příkladem je CZ04 (reg. Severozápad, tj. Ústecký a Karlovarský kraj v jednom).\n",
    "\n",
    "Upravte data do podoby data.frame, který bude mít 3 sloupce:\n",
    "- date\n",
    "- females - s procenty ze sloupce Values pro sex == F\n",
    "- males - s procenty ze sloupce Values pro sex == M"
   ]
  },
  {
   "cell_type": "code",
   "execution_count": 5,
   "metadata": {},
   "outputs": [],
   "source": [
    "#=== CODE HERE ===#\n",
    "females <- subset(data, sex==\"F\", sekecet=c(\"time\", \"values\"))\n",
    "colnames(females) <- c(\"date\", \"females\")\n",
    "males <- subset(data, sex==\"M\", sekecet=c(\"time\", \"values\"))\n",
    "colnames(males) <- c(\"date\", \"males\")"
   ]
  },
  {
   "cell_type": "code",
   "execution_count": 6,
   "metadata": {},
   "outputs": [
    {
     "ename": "ERROR",
     "evalue": "Error in fix.by(by.x, x): 'by' must specify a uniquely valid column\n",
     "output_type": "error",
     "traceback": [
      "Error in fix.by(by.x, x): 'by' must specify a uniquely valid column\nTraceback:\n",
      "1. merge(females, males)",
      "2. merge.data.frame(females, males)",
      "3. fix.by(by.x, x)",
      "4. stop(ngettext(sum(bad), \"'by' must specify a uniquely valid column\", \n .     \"'by' must specify uniquely valid columns\"), domain = NA)"
     ]
    }
   ],
   "source": [
    "edu_leavers <- merge(females, males)"
   ]
  },
  {
   "cell_type": "code",
   "execution_count": null,
   "metadata": {},
   "outputs": [],
   "source": [
    "edu_leavers"
   ]
  },
  {
   "cell_type": "markdown",
   "metadata": {},
   "source": [
    "## Úkol 2.b\n",
    "\n",
    "Jedná se o časové řady, které mohou podléhat určitému časovému vývoj. My k datům budeme přistupovat naivně, jako kdyby měla stále stejnou distribuci. Zjistěte základní vlastnosti dat a diskutujte o nich. Zároveň okomentujte, zda by byl naivní přístup v praxi přijatelný."
   ]
  },
  {
   "cell_type": "code",
   "execution_count": null,
   "metadata": {},
   "outputs": [],
   "source": [
    "#=== CODE HERE ===#"
   ]
  },
  {
   "cell_type": "markdown",
   "metadata": {},
   "source": [
    "## Úkol 3.a: Test střední hodnoty\n",
    "\n",
    "Budeme i nadále naivně předpokládat, že data pro muže pocházejí ze stejného rozdělení a podobně data pro ženy rovněž ze stejného (potenciálně jiného) rozdělení.\n",
    "\n",
    "Zaměřme se na následující závěr Eurostatu:\n",
    "\n",
    "**In 2021, 11.4 % of young men and 7.9 % of young women in the EU were early leavers from education and training.**\n",
    "\n",
    "Úkolem je otestovat, zda střední hodnoty obou výběrů těmto číslům odpovídají. Alternativu nastavme tak, aby potenciálně odrážela nepříjemnou - horší - skutečnost."
   ]
  },
  {
   "cell_type": "code",
   "execution_count": null,
   "metadata": {},
   "outputs": [],
   "source": [
    "#=== CODE HERE ===#"
   ]
  },
  {
   "cell_type": "markdown",
   "metadata": {},
   "source": [
    "## Úkol 3.b\n",
    "\n",
    "Pojďme se nyní zaměřit na následující cíl EU:\n",
    "\n",
    "**The EU set an EU-level target stipulating that the share of early leavers from education and training should be less than 9 % by 2030.**\n",
    "\n",
    "Máme otestovat, zda data vybraného regionu tuto mez splňují oproti alternativě, že situace je horší. Testovat budeme mediány."
   ]
  },
  {
   "cell_type": "code",
   "execution_count": null,
   "metadata": {},
   "outputs": [],
   "source": [
    "#=== CODE HERE ===#"
   ]
  },
  {
   "cell_type": "markdown",
   "metadata": {},
   "source": [
    "## Úkol 4 \n",
    "\n",
    "Cílem tohoto úkolu je otestovat, zda data mají pro obě pohlaví stejné střední hodnoty. Ideálně bychom chtěli použít základní dvouvýběrový t test, ale je třeba ověřit předpoklady pro jeho použití. Alternativu zvolte tak, aby odrážela váš odhad z dřívějších analýz."
   ]
  },
  {
   "cell_type": "code",
   "execution_count": null,
   "metadata": {},
   "outputs": [],
   "source": [
    "#=== CODE HERE ===#"
   ]
  },
  {
   "cell_type": "markdown",
   "metadata": {},
   "source": [
    "## Úkol 5\n",
    "\n",
    "Nyní chceme otestovat, zda jsou distribuce shodné. Na základě parametrického testu jsme tak učinili výše, cvičně máme provést ještě test neparametrický. Alternativu opět uzpůsobme předběžným závěrům z dřívějších analýz."
   ]
  },
  {
   "cell_type": "code",
   "execution_count": null,
   "metadata": {},
   "outputs": [],
   "source": [
    "#=== CODE HERE ===#"
   ]
  },
  {
   "cell_type": "markdown",
   "metadata": {},
   "source": [
    "## Úkol 6\n",
    "\n",
    "Máme ověřit, zda jsou data pro obě skupiny normálně rozdělená. Ověřte:\n",
    "- vhodným statistickým testem\n",
    "- vhodnou metodou posouzení odchylek od normality\n",
    "\n",
    "Pokud by byl normální model přípustný, odhadněte jeho parametry."
   ]
  },
  {
   "cell_type": "code",
   "execution_count": null,
   "metadata": {},
   "outputs": [],
   "source": [
    "#=== CODE HERE ===#"
   ]
  },
  {
   "cell_type": "markdown",
   "metadata": {},
   "source": [
    "## Úkol 7: Korelační analýza\n",
    "\n",
    "Proveďte korelační analýzu, tj.\n",
    "- podle povahy problému vyberte vhodný korelační koeficient\n",
    "- odhadněte jeho hodnotu\n",
    "- otestujte nekorelovanost"
   ]
  },
  {
   "cell_type": "code",
   "execution_count": null,
   "metadata": {},
   "outputs": [],
   "source": [
    "#=== CODE HERE ===#"
   ]
  },
  {
   "cell_type": "markdown",
   "metadata": {},
   "source": [
    "---\n",
    "---"
   ]
  }
 ],
 "metadata": {
  "kernelspec": {
   "display_name": "R",
   "language": "R",
   "name": "ir"
  },
  "language_info": {
   "codemirror_mode": "r",
   "file_extension": ".r",
   "mimetype": "text/x-r-source",
   "name": "R",
   "pygments_lexer": "r",
   "version": "4.1.2"
  }
 },
 "nbformat": 4,
 "nbformat_minor": 4
}
