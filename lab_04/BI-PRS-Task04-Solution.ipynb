{
 "cells": [
  {
   "cell_type": "code",
   "execution_count": 1,
   "metadata": {},
   "outputs": [],
   "source": [
    "library(eurostat)"
   ]
  },
  {
   "cell_type": "markdown",
   "metadata": {},
   "source": [
    "# Úlohy - kontingenční tabulky\n",
    "\n",
    "Jako příklad si vezmeme data z Eurostatu s tímto názvem:\n",
    "\n",
    "**Students enrolled in tertiary education by education level, programme orientation, sex and NUTS2 regions**\n",
    "\n",
    "Identifikátor datasetu je *educ_uoe_enrt06*. Data jsou dostupná rovněž na https://ec.europa.eu/eurostat/databrowser/view/educ_uoe_enrt06/default/table?lang=EN"
   ]
  },
  {
   "cell_type": "markdown",
   "metadata": {},
   "source": [
    "## Úkol 1\n",
    "\n",
    "Stáhněte výše uvedená data a připravte je k analýze.\n",
    "\n",
    "Zajímat nás budou data:\n",
    "- NUTS CZ (celá ČR)\n",
    "- nejnovější rok (2020-01-01)\n",
    "- isced11 kódy\n",
    "  - ED6 - Bachelor's or equivalent level\n",
    "  - ED7 - Master's or equivalent level\n",
    "  - ED8 - Doctoral or equivalent level\n",
    "- pohlaví M/F\n",
    "\n",
    "Vše ostatní vč. přebytečných hodnot (levelů) faktorových proměnných zahodíme (`droplevels()`). Výsledkem tedy nechť je tabulka obsahující pouze sloupce \"*isced11*\", \"*sex*\", \"*values*\".\n",
    "\n",
    "*Pozn.: Pokud bychom si chtěli data prohlédnout detailně, můžeme si vyžádat \"olabelování\":*\n",
    "\n",
    "```> label_eurostat(cz_data, fix_duplicated=T)```\n"
   ]
  },
  {
   "cell_type": "code",
   "execution_count": 2,
   "metadata": {},
   "outputs": [
    {
     "name": "stderr",
     "output_type": "stream",
     "text": [
      "Table educ_uoe_enrt06 cached at /tmp/Rtmpzb6VXK/eurostat/educ_uoe_enrt06_date_code_FF.rds\n",
      "\n"
     ]
    }
   ],
   "source": [
    "data <- get_eurostat(\"educ_uoe_enrt06\")"
   ]
  },
  {
   "cell_type": "code",
   "execution_count": 3,
   "metadata": {},
   "outputs": [],
   "source": [
    "cz_data <- data[data$geo=='CZ',]\n",
    "cz_data <- cz_data[cz_data$time=='2020-01-01',]\n",
    "cz_data$sex <- factor(cz_data$sex)\n",
    "cz_data$isced11 <- factor(cz_data$isced11)\n",
    "cz_data <- cz_data[cz_data$isced11 %in% c('ED6', 'ED7', 'ED8'),]\n",
    "cz_data <- cz_data[cz_data$sex %in% c('F', 'M'),]\n",
    "cz_data <- droplevels(cz_data)\n",
    "cz_data$unit = NULL\n",
    "cz_data$geo = NULL\n",
    "cz_data$time = NULL"
   ]
  },
  {
   "cell_type": "code",
   "execution_count": 4,
   "metadata": {},
   "outputs": [
    {
     "data": {
      "text/html": [
       "<table class=\"dataframe\">\n",
       "<caption>A tibble: 6 × 3</caption>\n",
       "<thead>\n",
       "\t<tr><th scope=col>isced11</th><th scope=col>sex</th><th scope=col>values</th></tr>\n",
       "\t<tr><th scope=col>&lt;fct&gt;</th><th scope=col>&lt;fct&gt;</th><th scope=col>&lt;dbl&gt;</th></tr>\n",
       "</thead>\n",
       "<tbody>\n",
       "\t<tr><td>ED6</td><td>F</td><td>107858</td></tr>\n",
       "\t<tr><td>ED6</td><td>M</td><td> 82815</td></tr>\n",
       "\t<tr><td>ED7</td><td>F</td><td> 63597</td></tr>\n",
       "\t<tr><td>ED7</td><td>M</td><td> 42237</td></tr>\n",
       "\t<tr><td>ED8</td><td>F</td><td>  9420</td></tr>\n",
       "\t<tr><td>ED8</td><td>M</td><td> 11741</td></tr>\n",
       "</tbody>\n",
       "</table>\n"
      ],
      "text/latex": [
       "A tibble: 6 × 3\n",
       "\\begin{tabular}{lll}\n",
       " isced11 & sex & values\\\\\n",
       " <fct> & <fct> & <dbl>\\\\\n",
       "\\hline\n",
       "\t ED6 & F & 107858\\\\\n",
       "\t ED6 & M &  82815\\\\\n",
       "\t ED7 & F &  63597\\\\\n",
       "\t ED7 & M &  42237\\\\\n",
       "\t ED8 & F &   9420\\\\\n",
       "\t ED8 & M &  11741\\\\\n",
       "\\end{tabular}\n"
      ],
      "text/markdown": [
       "\n",
       "A tibble: 6 × 3\n",
       "\n",
       "| isced11 &lt;fct&gt; | sex &lt;fct&gt; | values &lt;dbl&gt; |\n",
       "|---|---|---|\n",
       "| ED6 | F | 107858 |\n",
       "| ED6 | M |  82815 |\n",
       "| ED7 | F |  63597 |\n",
       "| ED7 | M |  42237 |\n",
       "| ED8 | F |   9420 |\n",
       "| ED8 | M |  11741 |\n",
       "\n"
      ],
      "text/plain": [
       "  isced11 sex values\n",
       "1 ED6     F   107858\n",
       "2 ED6     M    82815\n",
       "3 ED7     F    63597\n",
       "4 ED7     M    42237\n",
       "5 ED8     F     9420\n",
       "6 ED8     M    11741"
      ]
     },
     "metadata": {},
     "output_type": "display_data"
    }
   ],
   "source": [
    "cz_data"
   ]
  },
  {
   "cell_type": "markdown",
   "metadata": {},
   "source": [
    "### Úkol 2\n",
    "\n",
    "Nyní vytvoříme kontingenční tabulku. Jelikož má vzniknout z výše připravené tabulky, bude potřeba ji vytvořit pomocí vhodné funkce. Tou je `xtabs()`. Současně se poprvé setkáme s argumentem `formula`, který říká, jakým způsobem jsou zkoumaná data vysvětlována.\n",
    "\n",
    "V našem případě má hodnoty `values` vysvětlovat kombinace `sex` - `isced11`. Použijeme tedy `formula = values ~ sex + isced11`. Do vzniklé tabulky doplňte marginální součty pomocí `addmargins()`."
   ]
  },
  {
   "cell_type": "code",
   "execution_count": 5,
   "metadata": {},
   "outputs": [
    {
     "data": {
      "text/plain": [
       "   isced11\n",
       "sex    ED6    ED7    ED8\n",
       "  F 107858  63597   9420\n",
       "  M  82815  42237  11741"
      ]
     },
     "metadata": {},
     "output_type": "display_data"
    }
   ],
   "source": [
    "ct <- xtabs(formula=values ~ sex + isced11, data=cz_data)\n",
    "ct"
   ]
  },
  {
   "cell_type": "code",
   "execution_count": 6,
   "metadata": {},
   "outputs": [
    {
     "data": {
      "text/html": [
       "<table class=\"dataframe\">\n",
       "<caption>A table: 3 × 4 of type dbl</caption>\n",
       "<thead>\n",
       "\t<tr><th></th><th scope=col>ED6</th><th scope=col>ED7</th><th scope=col>ED8</th><th scope=col>Sum</th></tr>\n",
       "</thead>\n",
       "<tbody>\n",
       "\t<tr><th scope=row>F</th><td>107858</td><td> 63597</td><td> 9420</td><td>180875</td></tr>\n",
       "\t<tr><th scope=row>M</th><td> 82815</td><td> 42237</td><td>11741</td><td>136793</td></tr>\n",
       "\t<tr><th scope=row>Sum</th><td>190673</td><td>105834</td><td>21161</td><td>317668</td></tr>\n",
       "</tbody>\n",
       "</table>\n"
      ],
      "text/latex": [
       "A table: 3 × 4 of type dbl\n",
       "\\begin{tabular}{r|llll}\n",
       "  & ED6 & ED7 & ED8 & Sum\\\\\n",
       "\\hline\n",
       "\tF & 107858 &  63597 &  9420 & 180875\\\\\n",
       "\tM &  82815 &  42237 & 11741 & 136793\\\\\n",
       "\tSum & 190673 & 105834 & 21161 & 317668\\\\\n",
       "\\end{tabular}\n"
      ],
      "text/markdown": [
       "\n",
       "A table: 3 × 4 of type dbl\n",
       "\n",
       "| <!--/--> | ED6 | ED7 | ED8 | Sum |\n",
       "|---|---|---|---|---|\n",
       "| F | 107858 |  63597 |  9420 | 180875 |\n",
       "| M |  82815 |  42237 | 11741 | 136793 |\n",
       "| Sum | 190673 | 105834 | 21161 | 317668 |\n",
       "\n"
      ],
      "text/plain": [
       "     isced11\n",
       "sex   ED6    ED7    ED8   Sum   \n",
       "  F   107858  63597  9420 180875\n",
       "  M    82815  42237 11741 136793\n",
       "  Sum 190673 105834 21161 317668"
      ]
     },
     "metadata": {},
     "output_type": "display_data"
    }
   ],
   "source": [
    "addmargins(ct)"
   ]
  },
  {
   "cell_type": "markdown",
   "metadata": {},
   "source": [
    "### Úkol 3\n",
    "\n",
    "Prozkoumejte pravděpodobnosti jednotlivých buněk tabulky. Doplňte rovněž marginální pravděpodobnosti. Nápověda: `prop.table()`, `addmargins()`."
   ]
  },
  {
   "cell_type": "code",
   "execution_count": 7,
   "metadata": {},
   "outputs": [
    {
     "data": {
      "text/html": [
       "<table class=\"dataframe\">\n",
       "<caption>A table: 3 × 4 of type dbl</caption>\n",
       "<thead>\n",
       "\t<tr><th></th><th scope=col>ED6</th><th scope=col>ED7</th><th scope=col>ED8</th><th scope=col>Sum</th></tr>\n",
       "</thead>\n",
       "<tbody>\n",
       "\t<tr><th scope=row>F</th><td>0.3395306</td><td>0.2001996</td><td>0.02965360</td><td>0.5693838</td></tr>\n",
       "\t<tr><th scope=row>M</th><td>0.2606967</td><td>0.1329596</td><td>0.03695997</td><td>0.4306162</td></tr>\n",
       "\t<tr><th scope=row>Sum</th><td>0.6002273</td><td>0.3331591</td><td>0.06661357</td><td>1.0000000</td></tr>\n",
       "</tbody>\n",
       "</table>\n"
      ],
      "text/latex": [
       "A table: 3 × 4 of type dbl\n",
       "\\begin{tabular}{r|llll}\n",
       "  & ED6 & ED7 & ED8 & Sum\\\\\n",
       "\\hline\n",
       "\tF & 0.3395306 & 0.2001996 & 0.02965360 & 0.5693838\\\\\n",
       "\tM & 0.2606967 & 0.1329596 & 0.03695997 & 0.4306162\\\\\n",
       "\tSum & 0.6002273 & 0.3331591 & 0.06661357 & 1.0000000\\\\\n",
       "\\end{tabular}\n"
      ],
      "text/markdown": [
       "\n",
       "A table: 3 × 4 of type dbl\n",
       "\n",
       "| <!--/--> | ED6 | ED7 | ED8 | Sum |\n",
       "|---|---|---|---|---|\n",
       "| F | 0.3395306 | 0.2001996 | 0.02965360 | 0.5693838 |\n",
       "| M | 0.2606967 | 0.1329596 | 0.03695997 | 0.4306162 |\n",
       "| Sum | 0.6002273 | 0.3331591 | 0.06661357 | 1.0000000 |\n",
       "\n"
      ],
      "text/plain": [
       "     isced11\n",
       "sex   ED6       ED7       ED8        Sum      \n",
       "  F   0.3395306 0.2001996 0.02965360 0.5693838\n",
       "  M   0.2606967 0.1329596 0.03695997 0.4306162\n",
       "  Sum 0.6002273 0.3331591 0.06661357 1.0000000"
      ]
     },
     "metadata": {},
     "output_type": "display_data"
    }
   ],
   "source": [
    "addmargins(prop.table(ct))"
   ]
  },
  {
   "cell_type": "markdown",
   "metadata": {},
   "source": [
    "### Úkol 4\n",
    "\n",
    "Použijte `mosaicplot()` a interpretujte obrázek v duchu výše uvedených výsledků."
   ]
  },
  {
   "cell_type": "code",
   "execution_count": 8,
   "metadata": {},
   "outputs": [
    {
     "data": {
      "image/png": "[encoded data removed]",
      "text/plain": [
       "Plot with title “ct”"
      ]
     },
     "metadata": {
      "image/png": {
       "height": 420,
       "width": 420
      }
     },
     "output_type": "display_data"
    }
   ],
   "source": [
    "mosaicplot(ct, color=T)"
   ]
  },
  {
   "cell_type": "markdown",
   "metadata": {},
   "source": [
    "### Úkol 5\n",
    "\n",
    "Proveďte $\\chi^2$ test nezávislosti mezi znaky \"pohlaví\" a \"počet studentů\". Zapište hypotézy a test vyhodnoťte. Zjistěte očekávané hodnoty počtů za podmínky platnosti nulové hypotézy a porovnejte je s hodnotami pozorovanými."
   ]
  },
  {
   "cell_type": "code",
   "execution_count": 9,
   "metadata": {},
   "outputs": [
    {
     "data": {
      "text/plain": [
       "\n",
       "\tPearson's Chi-squared test\n",
       "\n",
       "data:  ct\n",
       "X-squared = 1771.7, df = 2, p-value < 2.2e-16\n"
      ]
     },
     "metadata": {},
     "output_type": "display_data"
    }
   ],
   "source": [
    "pears <- chisq.test(ct)\n",
    "pears"
   ]
  },
  {
   "cell_type": "code",
   "execution_count": 10,
   "metadata": {},
   "outputs": [
    {
     "data": {
      "text/html": [
       "<table class=\"dataframe\">\n",
       "<caption>A matrix: 3 × 4 of type dbl</caption>\n",
       "<thead>\n",
       "\t<tr><th></th><th scope=col>ED6</th><th scope=col>ED7</th><th scope=col>ED8</th><th scope=col>Sum</th></tr>\n",
       "</thead>\n",
       "<tbody>\n",
       "\t<tr><th scope=row>F</th><td>108566.11</td><td> 60260.16</td><td>12048.73</td><td>180875</td></tr>\n",
       "\t<tr><th scope=row>M</th><td> 82106.89</td><td> 45573.84</td><td> 9112.27</td><td>136793</td></tr>\n",
       "\t<tr><th scope=row>Sum</th><td>190673.00</td><td>105834.00</td><td>21161.00</td><td>317668</td></tr>\n",
       "</tbody>\n",
       "</table>\n"
      ],
      "text/latex": [
       "A matrix: 3 × 4 of type dbl\n",
       "\\begin{tabular}{r|llll}\n",
       "  & ED6 & ED7 & ED8 & Sum\\\\\n",
       "\\hline\n",
       "\tF & 108566.11 &  60260.16 & 12048.73 & 180875\\\\\n",
       "\tM &  82106.89 &  45573.84 &  9112.27 & 136793\\\\\n",
       "\tSum & 190673.00 & 105834.00 & 21161.00 & 317668\\\\\n",
       "\\end{tabular}\n"
      ],
      "text/markdown": [
       "\n",
       "A matrix: 3 × 4 of type dbl\n",
       "\n",
       "| <!--/--> | ED6 | ED7 | ED8 | Sum |\n",
       "|---|---|---|---|---|\n",
       "| F | 108566.11 |  60260.16 | 12048.73 | 180875 |\n",
       "| M |  82106.89 |  45573.84 |  9112.27 | 136793 |\n",
       "| Sum | 190673.00 | 105834.00 | 21161.00 | 317668 |\n",
       "\n"
      ],
      "text/plain": [
       "     isced11\n",
       "sex   ED6       ED7       ED8      Sum   \n",
       "  F   108566.11  60260.16 12048.73 180875\n",
       "  M    82106.89  45573.84  9112.27 136793\n",
       "  Sum 190673.00 105834.00 21161.00 317668"
      ]
     },
     "metadata": {},
     "output_type": "display_data"
    }
   ],
   "source": [
    "addmargins(pears$expected)"
   ]
  },
  {
   "cell_type": "code",
   "execution_count": 11,
   "metadata": {},
   "outputs": [
    {
     "data": {
      "text/html": [
       "<table class=\"dataframe\">\n",
       "<caption>A table: 3 × 4 of type dbl</caption>\n",
       "<thead>\n",
       "\t<tr><th></th><th scope=col>ED6</th><th scope=col>ED7</th><th scope=col>ED8</th><th scope=col>Sum</th></tr>\n",
       "</thead>\n",
       "<tbody>\n",
       "\t<tr><th scope=row>F</th><td> 708.1095</td><td>-3336.839</td><td> 2628.73</td><td>-1.818989e-12</td></tr>\n",
       "\t<tr><th scope=row>M</th><td>-708.1095</td><td> 3336.839</td><td>-2628.73</td><td> 1.818989e-12</td></tr>\n",
       "\t<tr><th scope=row>Sum</th><td>   0.0000</td><td>    0.000</td><td>    0.00</td><td> 0.000000e+00</td></tr>\n",
       "</tbody>\n",
       "</table>\n"
      ],
      "text/latex": [
       "A table: 3 × 4 of type dbl\n",
       "\\begin{tabular}{r|llll}\n",
       "  & ED6 & ED7 & ED8 & Sum\\\\\n",
       "\\hline\n",
       "\tF &  708.1095 & -3336.839 &  2628.73 & -1.818989e-12\\\\\n",
       "\tM & -708.1095 &  3336.839 & -2628.73 &  1.818989e-12\\\\\n",
       "\tSum &    0.0000 &     0.000 &     0.00 &  0.000000e+00\\\\\n",
       "\\end{tabular}\n"
      ],
      "text/markdown": [
       "\n",
       "A table: 3 × 4 of type dbl\n",
       "\n",
       "| <!--/--> | ED6 | ED7 | ED8 | Sum |\n",
       "|---|---|---|---|---|\n",
       "| F |  708.1095 | -3336.839 |  2628.73 | -1.818989e-12 |\n",
       "| M | -708.1095 |  3336.839 | -2628.73 |  1.818989e-12 |\n",
       "| Sum |    0.0000 |     0.000 |     0.00 |  0.000000e+00 |\n",
       "\n"
      ],
      "text/plain": [
       "     isced11\n",
       "sex   ED6       ED7       ED8      Sum          \n",
       "  F    708.1095 -3336.839  2628.73 -1.818989e-12\n",
       "  M   -708.1095  3336.839 -2628.73  1.818989e-12\n",
       "  Sum    0.0000     0.000     0.00  0.000000e+00"
      ]
     },
     "metadata": {},
     "output_type": "display_data"
    }
   ],
   "source": [
    "addmargins(pears$expected - pears$observed)"
   ]
  },
  {
   "cell_type": "markdown",
   "metadata": {},
   "source": [
    "### Úkol 6\n",
    "\n",
    "Pouze cvičně zkuste spočíst Cramérovo V. Byť to v dané aplikaci není užitečné, interpretujte hodnotu a vysvětlete, za jakých podmínek by byla 1. Použijte např. `CramerV()` z balíčku `DescTools`."
   ]
  },
  {
   "cell_type": "code",
   "execution_count": 12,
   "metadata": {},
   "outputs": [],
   "source": [
    "library(DescTools)"
   ]
  },
  {
   "cell_type": "code",
   "execution_count": 13,
   "metadata": {},
   "outputs": [
    {
     "data": {
      "text/html": [
       "0.0746803153175105"
      ],
      "text/latex": [
       "0.0746803153175105"
      ],
      "text/markdown": [
       "0.0746803153175105"
      ],
      "text/plain": [
       "[1] 0.07468032"
      ]
     },
     "metadata": {},
     "output_type": "display_data"
    }
   ],
   "source": [
    "CramerV(ct)"
   ]
  },
  {
   "cell_type": "code",
   "execution_count": 14,
   "metadata": {},
   "outputs": [
    {
     "data": {
      "text/plain": [
       "   isced11\n",
       "sex    ED6    ED7    ED8\n",
       "  F 107858  63597      0\n",
       "  M      0      0  11741"
      ]
     },
     "metadata": {},
     "output_type": "display_data"
    }
   ],
   "source": [
    "ct[1,3] <- 0\n",
    "ct[2,1] <- 0\n",
    "ct[2,2] <- 0\n",
    "ct"
   ]
  },
  {
   "cell_type": "code",
   "execution_count": 15,
   "metadata": {},
   "outputs": [
    {
     "data": {
      "text/html": [
       "1"
      ],
      "text/latex": [
       "1"
      ],
      "text/markdown": [
       "1"
      ],
      "text/plain": [
       "[1] 1"
      ]
     },
     "metadata": {},
     "output_type": "display_data"
    }
   ],
   "source": [
    "CramerV(ct)"
   ]
  }
 ],
 "metadata": {
  "kernelspec": {
   "display_name": "R",
   "language": "R",
   "name": "ir"
  },
  "language_info": {
   "codemirror_mode": "r",
   "file_extension": ".r",
   "mimetype": "text/x-r-source",
   "name": "R",
   "pygments_lexer": "r",
   "version": "4.1.2"
  }
 },
 "nbformat": 4,
 "nbformat_minor": 4
}
