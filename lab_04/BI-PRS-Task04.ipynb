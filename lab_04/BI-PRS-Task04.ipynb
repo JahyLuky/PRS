{
 "cells": [
  {
   "cell_type": "code",
   "execution_count": 1,
   "metadata": {
    "vscode": {
     "languageId": "r"
    }
   },
   "outputs": [
    {
     "name": "stderr",
     "output_type": "stream",
     "text": [
      "Warning message in system(\"timedatectl\", intern = TRUE):\n",
      "“running command 'timedatectl' had status 1”\n"
     ]
    }
   ],
   "source": [
    "library(eurostat)"
   ]
  },
  {
   "cell_type": "markdown",
   "metadata": {},
   "source": [
    "# Úlohy - kontingenční tabulky\n",
    "\n",
    "Jako příklad si vezmeme data z Eurostatu s tímto názvem:\n",
    "\n",
    "**Students enrolled in tertiary education by education level, programme orientation, sex and NUTS2 regions**\n",
    "\n",
    "Identifikátor datasetu je *educ_uoe_enrt06*. Data jsou dostupná rovněž na https://ec.europa.eu/eurostat/databrowser/view/educ_uoe_enrt06/default/table?lang=EN"
   ]
  },
  {
   "cell_type": "markdown",
   "metadata": {},
   "source": [
    "## Úkol 1\n",
    "\n",
    "Stáhněte výše uvedená data a připravte je k analýze.\n",
    "\n",
    "Zajímat nás budou data:\n",
    "- NUTS CZ (celá ČR)\n",
    "- nejnovější rok (2020-01-01)\n",
    "- isced11 kódy\n",
    "  - ED6 - Bachelor's or equivalent level\n",
    "  - ED7 - Master's or equivalent level\n",
    "  - ED8 - Doctoral or equivalent level\n",
    "- pohlaví M/F\n",
    "\n",
    "Vše ostatní vč. přebytečných hodnot (levelů) faktorových proměnných zahodíme (`droplevels()`). Výsledkem tedy nechť je tabulka obsahující pouze sloupce \"*isced11*\", \"*sex*\", \"*values*\".\n",
    "\n",
    "*Pozn.: Pokud bychom si chtěli data prohlédnout detailně, můžeme si vyžádat \"olabelování\":*\n",
    "\n",
    "```> label_eurostat(cz_data, fix_duplicated=T)```\n"
   ]
  },
  {
   "cell_type": "code",
   "execution_count": null,
   "metadata": {
    "vscode": {
     "languageId": "r"
    }
   },
   "outputs": [],
   "source": [
    "#=== CODE HERE ===#\n"
   ]
  },
  {
   "cell_type": "markdown",
   "metadata": {},
   "source": [
    "### Úkol 2\n",
    "\n",
    "Nyní vytvoříme kontingenční tabulku. Jelikož má vzniknout z výše připravené tabulky, bude potřeba ji vytvořit pomocí vhodné funkce. Tou je `xtabs()`. Současně se poprvé setkáme s argumentem `formula`, který říká, jakým způsobem jsou zkoumaná data vysvětlována.\n",
    "\n",
    "V našem případě má hodnoty `values` vysvětlovat kombinace `sex` - `isced11`. Použijeme tedy `formula = values ~ sex + isced11`. Do vzniklé tabulky doplňte marginální součty pomocí `addmargins()`."
   ]
  },
  {
   "cell_type": "code",
   "execution_count": null,
   "metadata": {
    "vscode": {
     "languageId": "r"
    }
   },
   "outputs": [],
   "source": [
    "#=== CODE HERE ===#"
   ]
  },
  {
   "cell_type": "markdown",
   "metadata": {},
   "source": [
    "### Úkol 3\n",
    "\n",
    "Prozkoumejte pravděpodobnosti jednotlivých buněk tabulky. Doplňte rovněž marginální pravděpodobnosti. Nápověda: `prop.table()`, `addmargins()`."
   ]
  },
  {
   "cell_type": "code",
   "execution_count": null,
   "metadata": {
    "vscode": {
     "languageId": "r"
    }
   },
   "outputs": [],
   "source": [
    "#=== CODE HERE ===#"
   ]
  },
  {
   "cell_type": "markdown",
   "metadata": {},
   "source": [
    "### Úkol 4\n",
    "\n",
    "Použijte `mosaicplot()` a interpretujte obrázek v duchu výše uvedených výsledků."
   ]
  },
  {
   "cell_type": "code",
   "execution_count": null,
   "metadata": {
    "vscode": {
     "languageId": "r"
    }
   },
   "outputs": [],
   "source": [
    "#=== CODE HERE ===#"
   ]
  },
  {
   "cell_type": "markdown",
   "metadata": {},
   "source": [
    "### Úkol 5\n",
    "\n",
    "Proveďte $\\chi^2$ test nezávislosti mezi znaky \"pohlaví\" a \"počet studentů\". Zapište hypotézy a test vyhodnoťte. Zjistěte očekávané hodnoty počtů za podmínky platnosti nulové hypotézy a porovnejte je s hodnotami pozorovanými."
   ]
  },
  {
   "cell_type": "code",
   "execution_count": null,
   "metadata": {
    "vscode": {
     "languageId": "r"
    }
   },
   "outputs": [],
   "source": [
    "#=== CODE HERE ===#"
   ]
  },
  {
   "cell_type": "markdown",
   "metadata": {},
   "source": [
    "### Úkol 6\n",
    "\n",
    "Pouze cvičně zkuste spočíst Cramérovo V. Byť to v dané aplikaci není užitečné, interpretujte hodnotu a vysvětlete, za jakých podmínek by byla 1. Použijte např. `CramerV()` z balíčku `DescTools`."
   ]
  },
  {
   "cell_type": "code",
   "execution_count": null,
   "metadata": {
    "vscode": {
     "languageId": "r"
    }
   },
   "outputs": [],
   "source": [
    "#=== CODE HERE ===#"
   ]
  }
 ],
 "metadata": {
  "kernelspec": {
   "display_name": "R",
   "language": "R",
   "name": "ir"
  },
  "language_info": {
   "codemirror_mode": "r",
   "file_extension": ".r",
   "mimetype": "text/x-r-source",
   "name": "R",
   "pygments_lexer": "r",
   "version": "4.1.2"
  }
 },
 "nbformat": 4,
 "nbformat_minor": 4
}
