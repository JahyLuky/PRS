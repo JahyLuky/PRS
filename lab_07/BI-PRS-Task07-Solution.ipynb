{
 "cells": [
  {
   "cell_type": "code",
   "execution_count": 1,
   "metadata": {},
   "outputs": [
    {
     "ename": "ERROR",
     "evalue": "Error in library(car): there is no package called ‘car’\n",
     "output_type": "error",
     "traceback": [
      "Error in library(car): there is no package called ‘car’\nTraceback:\n",
      "1. library(car)"
     ]
    }
   ],
   "source": [
    "library(ggplot2)\n",
    "library(car)\n",
    "options(width=160, repr.plot.width=11, repr.plot.height=7) "
   ]
  },
  {
   "cell_type": "markdown",
   "metadata": {},
   "source": [
    "# Úkoly\n",
    "\n",
    "V rámci cvičení provedeme analýzu datasetu o tučňácích z knihovny `palmerpenguins`\n",
    "\n",
    "https://cran.r-project.org/web/packages/palmerpenguins/index.html\n",
    "\n",
    "Budeme zkoumat váhu tučňáků v závislosti na různých kategoriálních vysvětlujících proměnných."
   ]
  },
  {
   "cell_type": "markdown",
   "metadata": {},
   "source": [
    "## Úkol 1.a: Příprava dat\n",
    "\n",
    "Nejprve je třeba načíst a připravit data.\n",
    "\n",
    "**Data pro analýzu:**\n",
    "- knihovna: `palmerpenguins`\n",
    "- dataset `penguins`\n",
    "\n",
    "**Sledované proměnné**\n",
    "- `body_mass_g` - váha tučňáka v gramech - zkoumaná proměnná. \n",
    "- `species` - druh tučňáka, kategorická proměnná s úrovněmi Adelie, Chinstrap a Gentoo  \n",
    "- `sex` - pohlaví tučňáka - kategorická proměnná s úrovněmi male, female, NA \n",
    "- `island` - ostrov, kde se tučňák vyskytuje - kategorická proměnná s úrovněmi Biscoe, Dream a Torgersen\n",
    "\n",
    "Dataset upravte, aby neobsahoval řádky s tučňáky s neznámým pohlavím."
   ]
  },
  {
   "cell_type": "code",
   "execution_count": null,
   "metadata": {},
   "outputs": [],
   "source": [
    "#install.packages(\"palmerpenguins\")\n",
    "library(palmerpenguins)\n",
    "dat=subset(penguins,!is.na(sex))"
   ]
  },
  {
   "cell_type": "markdown",
   "metadata": {},
   "source": [
    "## Úkol 1.b: Průzkum dat\n",
    "\n",
    "Prozkoumejte jednotlivé proměnné - u vysvětlované proměnné najděte základní popisné statistiky, u faktorových zjistěte, kolik je záznamů v každé kategoriemi."
   ]
  },
  {
   "cell_type": "code",
   "execution_count": null,
   "metadata": {},
   "outputs": [],
   "source": [
    "summary(dat)"
   ]
  },
  {
   "cell_type": "markdown",
   "metadata": {},
   "source": [
    "## Úkol 1.c: Závislost váhy na druhu - základní přehled\n",
    "\n",
    "Prozkoumejte číselně i graficky váhu tučňáků zvlášť podle druhu. Zkuste odhadnout, jestli bude napříč druhyislB významný rozdíl."
   ]
  },
  {
   "cell_type": "code",
   "execution_count": null,
   "metadata": {},
   "outputs": [],
   "source": [
    "by(dat$body_mass_g,dat$species,summary)"
   ]
  },
  {
   "cell_type": "code",
   "execution_count": null,
   "metadata": {},
   "outputs": [],
   "source": [
    "boxplot(body_mass_g~species,data=dat,col=c(\"magenta\",\"cyan\",\"darkblue\"))"
   ]
  },
  {
   "cell_type": "markdown",
   "metadata": {},
   "source": [
    "## Úkol 1.d: Závislost váhy na druhu - ověření předpokladů\n",
    "\n",
    "Otestujte předpoklady modelu analýzy rozptylu jednoduchého třídění váhy podle druhu. Prozkoumejte normalitu i shodu rozptylů."
   ]
  },
  {
   "cell_type": "code",
   "execution_count": null,
   "metadata": {
    "tags": []
   },
   "outputs": [],
   "source": [
    "r=lm(body_mass_g~species,data=dat)$resid\n",
    "shapiro.test(r)\n",
    "bartlett.test(body_mass_g~species,data=dat)\n",
    "library(car)\n",
    "leveneTest(body_mass_g~species,data=dat)"
   ]
  },
  {
   "cell_type": "markdown",
   "metadata": {},
   "source": [
    "## Úkol 1.e: Závislost váhy na druhu - test shody středních hodnot\n",
    "\n",
    "Aplikujte model analýzy rozptylu. Otestujte, zda je střední váha tučňáků stejná napříč jednotlivými druhy, nebo zda se významně liší. Výsledky testu interpretujte.\n",
    "Příslušné součty čtverců a testovou statistiku zkuste spočítat jednak vestavěnou funkcí a jednak ručně."
   ]
  },
  {
   "cell_type": "code",
   "execution_count": null,
   "metadata": {
    "tags": []
   },
   "outputs": [],
   "source": [
    "anova(aov(body_mass_g~species,data=dat))"
   ]
  },
  {
   "cell_type": "code",
   "execution_count": null,
   "metadata": {},
   "outputs": [],
   "source": [
    "y=dat$body_mass_g\n",
    "y1=subset(y,dat$species==\"Adelie\")\n",
    "y2=subset(y,dat$species==\"Chinstrap\")\n",
    "y3=subset(y,dat$species==\"Gentoo\")\n",
    "St=sum((y-mean(y))^2)\n",
    "St\n",
    "Se=sum((y1-mean(y1))^2)+sum((y2-mean(y2))^2)+sum((y3-mean(y3))^2)\n",
    "Se\n",
    "St-Se\n",
    "Sa=length(y1)*(mean(y1)-mean(y))^2+length(y2)*(mean(y2)-mean(y))^2+length(y3)*(mean(y3)-mean(y))^2\n",
    "Sa"
   ]
  },
  {
   "cell_type": "markdown",
   "metadata": {},
   "source": [
    "<font color=\"blue\">**Nyní zpět k výkladu.**</font>\n",
    "\n",
    "---"
   ]
  },
  {
   "cell_type": "markdown",
   "metadata": {},
   "source": [
    "## Úkol 2.a: Závislost váhy na druhu - střední hodnoty\n",
    "\n",
    "Najděte odhady středních hodnot pro každou z kategorií zvlášť."
   ]
  },
  {
   "cell_type": "code",
   "execution_count": null,
   "metadata": {
    "tags": []
   },
   "outputs": [],
   "source": [
    "lm(body_mass_g~species,data=dat)\n",
    "beta=lm(body_mass_g~species,data=dat)$coef\n",
    "beta\n",
    "print(c(beta[1],beta[1]+beta[2],beta[1]+beta[3]))"
   ]
  },
  {
   "cell_type": "code",
   "execution_count": null,
   "metadata": {
    "tags": []
   },
   "outputs": [],
   "source": [
    "by(dat$body_mass_g,dat$species,mean)"
   ]
  },
  {
   "cell_type": "markdown",
   "metadata": {},
   "source": [
    "## Úkol 2.b: Závislost váhy na druhu - pořadí úrovní\n",
    "\n",
    "Vyzkoušejte totéž, když se změní pořadí úrovní faktorové proměnné pomocí funkce `relevel()`."
   ]
  },
  {
   "cell_type": "code",
   "execution_count": null,
   "metadata": {
    "tags": []
   },
   "outputs": [],
   "source": [
    "specrelevel=relevel(dat$species, ref = \"Gentoo\")\n",
    "summary(lm(body_mass_g~specrelevel,data=dat))"
   ]
  },
  {
   "cell_type": "markdown",
   "metadata": {},
   "source": [
    "## Úkol 2.c: Závislost váhy na druhu - mnohonásobné porovnání\n",
    "\n",
    "Najděte, o kolik se jednotlivé odhady liší a testujte pomocí Tukeyho HSD testu, zda je nějaký z rozdílů významně velký."
   ]
  },
  {
   "cell_type": "code",
   "execution_count": null,
   "metadata": {},
   "outputs": [],
   "source": [
    "TukeyHSD(aov(body_mass_g~species,data=dat))"
   ]
  },
  {
   "cell_type": "markdown",
   "metadata": {},
   "source": [
    "## Úkol 2.d: Práce s kontrasty\n",
    "\n",
    "Najděte designovou matici $\\mathbf X$ pro přislušný lineární model. Zkuste kontrasty reparametrizovat použitím modelu s jinou volbou `contr`."
   ]
  },
  {
   "cell_type": "code",
   "execution_count": null,
   "metadata": {},
   "outputs": [],
   "source": [
    "model.matrix(lm(body_mass_g~species,data=dat))"
   ]
  },
  {
   "cell_type": "code",
   "execution_count": null,
   "metadata": {},
   "outputs": [],
   "source": [
    "fit2=lm(body_mass_g~species,data=dat,contr=list(species = contr.SAS))\n",
    "summary(fit2)\n",
    "model.matrix(fit2)"
   ]
  },
  {
   "cell_type": "markdown",
   "metadata": {},
   "source": [
    "<font color=\"blue\">**Nyní zpět k výkladu.**</font>\n",
    "\n",
    "---"
   ]
  },
  {
   "cell_type": "markdown",
   "metadata": {
    "tags": []
   },
   "source": [
    "## Úkol 3.a: Dvojné třídění\n",
    "\n",
    "Kromě závislosti váhy na druhu uvažujte i závislost na pohlaví. Odhadněte její vliv na střední hodnotu váhy a otestujte, zda je pro model významná."
   ]
  },
  {
   "cell_type": "code",
   "execution_count": null,
   "metadata": {
    "tags": []
   },
   "outputs": [],
   "source": [
    "anova(aov(body_mass_g~species+sex,data=dat))"
   ]
  },
  {
   "cell_type": "code",
   "execution_count": null,
   "metadata": {
    "tags": []
   },
   "outputs": [],
   "source": [
    "summary(lm(body_mass_g~species+sex,data=dat))"
   ]
  },
  {
   "cell_type": "markdown",
   "metadata": {
    "tags": []
   },
   "source": [
    "## Úkol 3.b: Dvojné třídění s interakcemi\n",
    "\n",
    "Přidejte do modelu i interakce druhu a pohlaví a zkoumejte jejich vliv."
   ]
  },
  {
   "cell_type": "code",
   "execution_count": null,
   "metadata": {
    "tags": []
   },
   "outputs": [],
   "source": [
    "anova(aov(body_mass_g~species*sex,data=dat))"
   ]
  },
  {
   "cell_type": "code",
   "execution_count": null,
   "metadata": {
    "tags": []
   },
   "outputs": [],
   "source": [
    "summary(lm(body_mass_g~species*sex,data=dat))"
   ]
  },
  {
   "cell_type": "markdown",
   "metadata": {},
   "source": [
    "## Úkol 3.c: Trojné třídění\n",
    "\n",
    "Uvažujte navíc i ze kterého ostrova tučňáci pochází. Vyzkoušejte různé varianty modelů s interakcemi a bez nich. Interpretujte výsledky testů a hodnoty regresních koeficientů.\n",
    "\n",
    "Hint: Ukáže se, že v některých kombinacích kategorií nejsou žádná pozorování. To můžeme obejít vhodným sloučením kategorií do jedné."
   ]
  },
  {
   "cell_type": "code",
   "execution_count": null,
   "metadata": {},
   "outputs": [],
   "source": [
    "anova(aov(body_mass_g~species+sex+island,data=dat))\n",
    "summary(lm(body_mass_g~species+sex+island,data=dat))"
   ]
  },
  {
   "cell_type": "code",
   "execution_count": null,
   "metadata": {},
   "outputs": [],
   "source": [
    "summary(lm(body_mass_g~species*sex*island,data=dat))\n",
    "## nefunguje, protoze nejsou vsechny druhy na vsech ostrovech"
   ]
  },
  {
   "cell_type": "code",
   "execution_count": null,
   "metadata": {},
   "outputs": [],
   "source": [
    "## podivame se na pocty v kategoriich\n",
    "table(dat$species,dat$island)"
   ]
  },
  {
   "cell_type": "markdown",
   "metadata": {},
   "source": [
    "---\n",
    "\n",
    "---"
   ]
  },
  {
   "cell_type": "code",
   "execution_count": null,
   "metadata": {},
   "outputs": [],
   "source": [
    "## sloucime promenne\n",
    "species2=ifelse(dat$species==\"Adelie\",\"Adelie\",\"Other\")\n",
    "island2=ifelse(dat$island==\"Biscoe\",\"Biscoe\",\"Other\")\n",
    "table(species2,island2)"
   ]
  },
  {
   "cell_type": "code",
   "execution_count": null,
   "metadata": {},
   "outputs": [],
   "source": [
    "summary(lm(body_mass_g~species2*sex*island2,data=dat))"
   ]
  },
  {
   "cell_type": "code",
   "execution_count": null,
   "metadata": {},
   "outputs": [],
   "source": []
  }
 ],
 "metadata": {
  "kernelspec": {
   "display_name": "R",
   "language": "R",
   "name": "ir"
  },
  "language_info": {
   "codemirror_mode": "r",
   "file_extension": ".r",
   "mimetype": "text/x-r-source",
   "name": "R",
   "pygments_lexer": "r",
   "version": "4.1.2"
  }
 },
 "nbformat": 4,
 "nbformat_minor": 4
}
