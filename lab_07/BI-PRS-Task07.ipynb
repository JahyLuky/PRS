{
 "cells": [
  {
   "cell_type": "code",
   "execution_count": 1,
   "metadata": {},
   "outputs": [
    {
     "name": "stderr",
     "output_type": "stream",
     "text": [
      "Loading required package: carData\n",
      "\n"
     ]
    }
   ],
   "source": [
    "library(ggplot2)\n",
    "library(car)\n",
    "options(width=160, repr.plot.width=11, repr.plot.height=7) "
   ]
  },
  {
   "cell_type": "markdown",
   "metadata": {},
   "source": [
    "# Úkoly\n",
    "\n",
    "V rámci cvičení provedeme analýzu datasetu o tučňácích z knihovny `palmerpenguins`\n",
    "\n",
    "https://cran.r-project.org/web/packages/palmerpenguins/index.html\n",
    "\n",
    "Budeme zkoumat váhu tučňáků v závislosti na různých kategoriálních vysvětlujících proměnných."
   ]
  },
  {
   "cell_type": "markdown",
   "metadata": {},
   "source": [
    "## Úkol 1.a: Příprava dat\n",
    "\n",
    "Nejprve je třeba načíst a připravit data.\n",
    "\n",
    "**Data pro analýzu:**\n",
    "- knihovna: `palmerpenguins`\n",
    "- dataset `penguins`\n",
    "\n",
    "**Sledované proměnné**\n",
    "- `body_mass_g` - váha tučňáka v gramech - zkoumaná proměnná. \n",
    "- `species` - druh tučňáka, kategorická proměnná s úrovněmi Adelie, Chinstrap a Gentoo  \n",
    "- `sex` - pohlaví tučňáka - kategorická proměnná s úrovněmi male, female, NA \n",
    "- `island` - ostrov, kde se tučňák vyskytuje - kategorická proměnná s úrovněmi Biscoe, Dream a Torgersen\n",
    "\n",
    "Dataset upravte, aby neobsahoval řádky s tučňáky s neznámým pohlavím."
   ]
  },
  {
   "cell_type": "code",
   "execution_count": 2,
   "metadata": {},
   "outputs": [],
   "source": [
    "#=== CODE HERE ===#"
   ]
  },
  {
   "cell_type": "markdown",
   "metadata": {},
   "source": [
    "#### "
   ]
  },
  {
   "cell_type": "markdown",
   "metadata": {},
   "source": [
    "## Úkol 1.b: Průzkum dat\n",
    "\n",
    "Prozkoumejte jednotlivé proměnné - u vysvětlované proměnné najděte základní popisné statistiky, u faktorových zjistěte, kolik je záznamů v každé kategoriemi."
   ]
  },
  {
   "cell_type": "code",
   "execution_count": 3,
   "metadata": {},
   "outputs": [],
   "source": [
    "#=== CODE HERE ===#"
   ]
  },
  {
   "cell_type": "markdown",
   "metadata": {},
   "source": [
    "## Úkol 1.c: Závislost váhy na druhu - základní přehled\n",
    "\n",
    "Prozkoumejte číselně i graficky váhu tučňáků zvlášť podle druhu. Zkuste odhadnout, jestli bude napříč druhyislB významný rozdíl."
   ]
  },
  {
   "cell_type": "code",
   "execution_count": 4,
   "metadata": {},
   "outputs": [],
   "source": [
    "#=== CODE HERE ===#"
   ]
  },
  {
   "cell_type": "markdown",
   "metadata": {},
   "source": [
    "## Úkol 1.d: Závislost váhy na druhu - ověření předpokladů\n",
    "\n",
    "Otestujte předpoklady modelu analýzy rozptylu jednoduchého třídění váhy podle druhu. Prozkoumejte normalitu i shodu rozptylů."
   ]
  },
  {
   "cell_type": "code",
   "execution_count": 5,
   "metadata": {
    "tags": []
   },
   "outputs": [],
   "source": [
    "#=== CODE HERE ===#"
   ]
  },
  {
   "cell_type": "markdown",
   "metadata": {},
   "source": [
    "## Úkol 1.e: Závislost váhy na druhu - test shody středních hodnot\n",
    "\n",
    "Aplikujte model analýzy rozptylu. Otestujte, zda je střední váha tučňáků stejná napříč jednotlivými druhy, nebo zda se významně liší. Výsledky testu interpretujte.\n",
    "Příslušné součty čtverců a testovou statistiku zkuste spočítat jednak vestavěnou funkcí a jednak ručně."
   ]
  },
  {
   "cell_type": "code",
   "execution_count": 6,
   "metadata": {
    "tags": []
   },
   "outputs": [],
   "source": [
    "#=== CODE HERE ===#"
   ]
  },
  {
   "cell_type": "markdown",
   "metadata": {},
   "source": [
    "<font color=\"blue\">**Nyní zpět k výkladu.**</font>\n",
    "\n",
    "---"
   ]
  },
  {
   "cell_type": "markdown",
   "metadata": {},
   "source": [
    "## Úkol 2.a: Závislost váhy na druhu - střední hodnoty\n",
    "\n",
    "Najděte odhady středních hodnot pro každou z kategorií zvlášť."
   ]
  },
  {
   "cell_type": "code",
   "execution_count": 1,
   "metadata": {
    "tags": []
   },
   "outputs": [],
   "source": [
    "#=== CODE HERE ===#"
   ]
  },
  {
   "cell_type": "markdown",
   "metadata": {},
   "source": [
    "## Úkol 2.b: Závislost váhy na druhu - pořadí úrovní\n",
    "\n",
    "Vyzkoušejte totéž, když se změní pořadí úrovní faktorové proměnné pomocí funkce `relevel()`."
   ]
  },
  {
   "cell_type": "code",
   "execution_count": 2,
   "metadata": {
    "tags": []
   },
   "outputs": [],
   "source": [
    "#=== CODE HERE ===#"
   ]
  },
  {
   "cell_type": "markdown",
   "metadata": {},
   "source": [
    "## Úkol 2.c: Závislost váhy na druhu - mnohonásobné porovnání\n",
    "\n",
    "Najděte, o kolik se jednotlivé odhady liší a testujte pomocí Tukeyho HSD testu, zda je nějaký z rozdílů významně velký."
   ]
  },
  {
   "cell_type": "code",
   "execution_count": 3,
   "metadata": {},
   "outputs": [],
   "source": [
    "#=== CODE HERE ===#"
   ]
  },
  {
   "cell_type": "markdown",
   "metadata": {},
   "source": [
    "## Úkol 2.d: Práce s kontrasty\n",
    "\n",
    "Najděte designovou matici $\\mathbf X$ pro přislušný lineární model. Zkuste kontrasty reparametrizovat použitím modelu s jinou volbou `contr`."
   ]
  },
  {
   "cell_type": "code",
   "execution_count": 9,
   "metadata": {},
   "outputs": [],
   "source": [
    "#=== CODE HERE ===#"
   ]
  },
  {
   "cell_type": "markdown",
   "metadata": {},
   "source": [
    "<font color=\"blue\">**Nyní zpět k výkladu.**</font>\n",
    "\n",
    "---"
   ]
  },
  {
   "cell_type": "markdown",
   "metadata": {
    "tags": []
   },
   "source": [
    "## Úkol 3.a: Dvojné třídění\n",
    "\n",
    "Kromě závislosti váhy na druhu uvažujte i závislost na pohlaví. Odhadněte její vliv na střední hodnotu váhy a otestujte, zda je pro model významná."
   ]
  },
  {
   "cell_type": "code",
   "execution_count": 10,
   "metadata": {
    "tags": []
   },
   "outputs": [],
   "source": [
    "#=== CODE HERE ===#"
   ]
  },
  {
   "cell_type": "markdown",
   "metadata": {
    "tags": []
   },
   "source": [
    "## Úkol 3.b: Dvojné třídění s interakcemi\n",
    "\n",
    "Přidejte do modelu i interakce druhu a pohlaví a zkoumejte jejich vliv."
   ]
  },
  {
   "cell_type": "code",
   "execution_count": 11,
   "metadata": {
    "tags": []
   },
   "outputs": [],
   "source": [
    "#=== CODE HERE ===#"
   ]
  },
  {
   "cell_type": "markdown",
   "metadata": {},
   "source": [
    "## Úkol 3.c: Trojné třídění\n",
    "\n",
    "Uvažujte navíc i ze kterého ostrova tučňáci pochází. Vyzkoušejte různé varianty modelů s interakcemi a bez nich. Interpretujte výsledky testů a hodnoty regresních koeficientů.\n",
    "\n",
    "Hint: Ukáže se, že v některých kombinacích kategorií nejsou žádná pozorování. To můžeme obejít vhodným sloučením kategorií do jedné."
   ]
  },
  {
   "cell_type": "code",
   "execution_count": 12,
   "metadata": {},
   "outputs": [],
   "source": [
    "#=== CODE HERE ===#"
   ]
  },
  {
   "cell_type": "markdown",
   "metadata": {},
   "source": [
    "---\n",
    "\n",
    "---"
   ]
  }
 ],
 "metadata": {
  "kernelspec": {
   "display_name": "R",
   "language": "R",
   "name": "ir"
  },
  "language_info": {
   "codemirror_mode": "r",
   "file_extension": ".r",
   "mimetype": "text/x-r-source",
   "name": "R",
   "pygments_lexer": "r",
   "version": "4.2.3"
  }
 },
 "nbformat": 4,
 "nbformat_minor": 4
}
