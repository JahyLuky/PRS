{
 "cells": [
  {
   "cell_type": "code",
   "execution_count": 1,
   "metadata": {},
   "outputs": [
    {
     "name": "stderr",
     "output_type": "stream",
     "text": [
      "Warning message:\n",
      "\"package 'car' was built under R version 4.2.3\"\n",
      "Loading required package: carData\n",
      "\n",
      "Warning message:\n",
      "\"package 'carData' was built under R version 4.2.3\"\n"
     ]
    }
   ],
   "source": [
    "rm(list=ls())\n",
    "library(ggplot2)\n",
    "library(car)\n",
    "options(width=160, repr.plot.width=11, repr.plot.height=7) "
   ]
  },
  {
   "cell_type": "markdown",
   "metadata": {},
   "source": [
    "# Cvičení 7: Analýza rozptylu"
   ]
  },
  {
   "cell_type": "markdown",
   "metadata": {},
   "source": [
    "V tomto cvičení se budeme zabývat porovnáváním středních hodnot v datech napříč různými kategoriemi."
   ]
  },
  {
   "cell_type": "markdown",
   "metadata": {},
   "source": [
    "Stáhněte si soubor https://courses.fit.cvut.cz/BI-PRS/tutorials/files/Data/IchsN.RData do pracovního adresáře.\n",
    "\n",
    "Načtěte data ze studie _IchsN_, týkající se pacientů s vysokým krevním tlakem."
   ]
  },
  {
   "cell_type": "code",
   "execution_count": 2,
   "metadata": {},
   "outputs": [],
   "source": [
    "load(\"IchsN.RData\")"
   ]
  },
  {
   "cell_type": "markdown",
   "metadata": {},
   "source": [
    "Data můžeme připojit, abychom měli v paměti jednotlivé sloupce rovnou a nemuseli se odvolávat na příslušný data.frame.\n",
    "\n",
    "Při tomto postupu je potřeba dát pozor, aby se proměnné nepomíchaly."
   ]
  },
  {
   "cell_type": "code",
   "execution_count": 3,
   "metadata": {},
   "outputs": [],
   "source": [
    "attach(IchsN)\n",
    "## mělo by být po skončení práce následováno příkazem detach"
   ]
  },
  {
   "cell_type": "markdown",
   "metadata": {},
   "source": [
    " Prozkoumejme základní charakteristiky datového souboru."
   ]
  },
  {
   "cell_type": "code",
   "execution_count": 4,
   "metadata": {},
   "outputs": [
    {
     "data": {
      "text/html": [
       "<table class=\"dataframe\">\n",
       "<caption>A data.frame: 6 × 9</caption>\n",
       "<thead>\n",
       "\t<tr><th></th><th scope=col>vyska</th><th scope=col>hmot</th><th scope=col>syst</th><th scope=col>diast</th><th scope=col>Rchol</th><th scope=col>vek</th><th scope=col>Vzdel</th><th scope=col>bmi</th><th scope=col>Kurak</th></tr>\n",
       "\t<tr><th></th><th scope=col>&lt;int&gt;</th><th scope=col>&lt;int&gt;</th><th scope=col>&lt;int&gt;</th><th scope=col>&lt;int&gt;</th><th scope=col>&lt;fct&gt;</th><th scope=col>&lt;int&gt;</th><th scope=col>&lt;fct&gt;</th><th scope=col>&lt;dbl&gt;</th><th scope=col>&lt;fct&gt;</th></tr>\n",
       "</thead>\n",
       "<tbody>\n",
       "\t<tr><th scope=row>1</th><td>176</td><td>89</td><td>130</td><td>80</td><td>0</td><td>45</td><td>1</td><td>28.73192</td><td>FALSE</td></tr>\n",
       "\t<tr><th scope=row>3</th><td>172</td><td>84</td><td>140</td><td>90</td><td>0</td><td>45</td><td>1</td><td>28.39373</td><td>TRUE </td></tr>\n",
       "\t<tr><th scope=row>4</th><td>176</td><td>98</td><td>120</td><td>80</td><td>0</td><td>45</td><td>3</td><td>31.63740</td><td>FALSE</td></tr>\n",
       "\t<tr><th scope=row>5</th><td>172</td><td>79</td><td>150</td><td>85</td><td>1</td><td>45</td><td>1</td><td>26.70362</td><td>TRUE </td></tr>\n",
       "\t<tr><th scope=row>6</th><td>178</td><td>86</td><td>140</td><td>80</td><td>0</td><td>45</td><td>2</td><td>27.14304</td><td>TRUE </td></tr>\n",
       "\t<tr><th scope=row>7</th><td>186</td><td>95</td><td>120</td><td>70</td><td>0</td><td>45</td><td>1</td><td>27.45982</td><td>TRUE </td></tr>\n",
       "</tbody>\n",
       "</table>\n"
      ],
      "text/latex": [
       "A data.frame: 6 × 9\n",
       "\\begin{tabular}{r|lllllllll}\n",
       "  & vyska & hmot & syst & diast & Rchol & vek & Vzdel & bmi & Kurak\\\\\n",
       "  & <int> & <int> & <int> & <int> & <fct> & <int> & <fct> & <dbl> & <fct>\\\\\n",
       "\\hline\n",
       "\t1 & 176 & 89 & 130 & 80 & 0 & 45 & 1 & 28.73192 & FALSE\\\\\n",
       "\t3 & 172 & 84 & 140 & 90 & 0 & 45 & 1 & 28.39373 & TRUE \\\\\n",
       "\t4 & 176 & 98 & 120 & 80 & 0 & 45 & 3 & 31.63740 & FALSE\\\\\n",
       "\t5 & 172 & 79 & 150 & 85 & 1 & 45 & 1 & 26.70362 & TRUE \\\\\n",
       "\t6 & 178 & 86 & 140 & 80 & 0 & 45 & 2 & 27.14304 & TRUE \\\\\n",
       "\t7 & 186 & 95 & 120 & 70 & 0 & 45 & 1 & 27.45982 & TRUE \\\\\n",
       "\\end{tabular}\n"
      ],
      "text/markdown": [
       "\n",
       "A data.frame: 6 × 9\n",
       "\n",
       "| <!--/--> | vyska &lt;int&gt; | hmot &lt;int&gt; | syst &lt;int&gt; | diast &lt;int&gt; | Rchol &lt;fct&gt; | vek &lt;int&gt; | Vzdel &lt;fct&gt; | bmi &lt;dbl&gt; | Kurak &lt;fct&gt; |\n",
       "|---|---|---|---|---|---|---|---|---|---|\n",
       "| 1 | 176 | 89 | 130 | 80 | 0 | 45 | 1 | 28.73192 | FALSE |\n",
       "| 3 | 172 | 84 | 140 | 90 | 0 | 45 | 1 | 28.39373 | TRUE  |\n",
       "| 4 | 176 | 98 | 120 | 80 | 0 | 45 | 3 | 31.63740 | FALSE |\n",
       "| 5 | 172 | 79 | 150 | 85 | 1 | 45 | 1 | 26.70362 | TRUE  |\n",
       "| 6 | 178 | 86 | 140 | 80 | 0 | 45 | 2 | 27.14304 | TRUE  |\n",
       "| 7 | 186 | 95 | 120 | 70 | 0 | 45 | 1 | 27.45982 | TRUE  |\n",
       "\n"
      ],
      "text/plain": [
       "  vyska hmot syst diast Rchol vek Vzdel bmi      Kurak\n",
       "1 176   89   130  80    0     45  1     28.73192 FALSE\n",
       "3 172   84   140  90    0     45  1     28.39373 TRUE \n",
       "4 176   98   120  80    0     45  3     31.63740 FALSE\n",
       "5 172   79   150  85    1     45  1     26.70362 TRUE \n",
       "6 178   86   140  80    0     45  2     27.14304 TRUE \n",
       "7 186   95   120  70    0     45  1     27.45982 TRUE "
      ]
     },
     "metadata": {},
     "output_type": "display_data"
    },
    {
     "data": {
      "text/plain": [
       "     vyska            hmot            syst           diast        Rchol        vek        Vzdel       bmi          Kurak    \n",
       " Min.   :160.0   Min.   : 60.0   Min.   :100.0   Min.   : 50.00   0:135   Min.   :45.00   1:65   Min.   :20.34   FALSE: 58  \n",
       " 1st Qu.:172.0   1st Qu.: 74.5   1st Qu.:120.0   1st Qu.: 80.00   1: 32   1st Qu.:46.00   2:61   1st Qu.:24.19   TRUE :109  \n",
       " Median :176.0   Median : 82.0   Median :130.0   Median : 82.00           Median :47.00   3:41   Median :26.09              \n",
       " Mean   :176.2   Mean   : 81.8   Mean   :131.7   Mean   : 84.44           Mean   :47.05          Mean   :26.31              \n",
       " 3rd Qu.:180.0   3rd Qu.: 87.0   3rd Qu.:140.0   3rd Qu.: 90.00           3rd Qu.:48.00          3rd Qu.:28.08              \n",
       " Max.   :193.0   Max.   :120.0   Max.   :200.0   Max.   :120.00           Max.   :49.00          Max.   :36.23              "
      ]
     },
     "metadata": {},
     "output_type": "display_data"
    }
   ],
   "source": [
    "head(IchsN)\n",
    "summary(IchsN)"
   ]
  },
  {
   "cell_type": "markdown",
   "metadata": {},
   "source": [
    "Datový soubor má několik sloupců, nás bude zajímat zejména:\n",
    "\n",
    "- `bmi` - body mass index\n",
    "- `Vzdel` - dosažené vzdělání s úrovněmi 1,2,3\n",
    "- `Kurak` - logická proměnná True/False\n",
    "\n",
    "Chceme zjistit, zda závisí body mass index na vzdělání a na tom, zda je pacient kuřákem."
   ]
  },
  {
   "cell_type": "markdown",
   "metadata": {},
   "source": [
    "## Analýza rozptylu jednoduchého třídění\n",
    "\n",
    "**Závislost bmi na vzdělání**\n",
    "\n",
    "Uvažujme nejprve faktor vzdělání. Vykresleme histogram a boxplot pro bmi dohromady i zvlášť v závislosti na jednotlivých úrovních."
   ]
  },
  {
   "cell_type": "code",
   "execution_count": 5,
   "metadata": {},
   "outputs": [
    {
     "data": {
      "image/png": "[encoded data removed]",
      "text/plain": [
       "Plot with title \"Histogram of subset(bmi, Vzdel == 3)\""
      ]
     },
     "metadata": {
      "image/png": {
       "height": 420,
       "width": 660
      }
     },
     "output_type": "display_data"
    }
   ],
   "source": [
    "par(mfrow=c(1,4))\n",
    "hist(bmi,prob=T,xlim=c(20,35))\n",
    "hist(subset(bmi,Vzdel==1),prob=T,col=\"red\",xlim=c(20,35))\n",
    "hist(subset(bmi,Vzdel==2),prob=T,col=\"green\",xlim=c(20,35))\n",
    "hist(subset(bmi,Vzdel==3),prob=T,col=\"blue\",xlim=c(20,35))"
   ]
  },
  {
   "cell_type": "code",
   "execution_count": 6,
   "metadata": {},
   "outputs": [
    {
     "data": {
      "image/png": "[encoded data removed]",
      "text/plain": [
       "plot without title"
      ]
     },
     "metadata": {
      "image/png": {
       "height": 420,
       "width": 660
      }
     },
     "output_type": "display_data"
    }
   ],
   "source": [
    "par(mfrow=c(1,2))\n",
    "boxplot(bmi)\n",
    "boxplot(bmi~Vzdel,col=c(\"red\",\"green\",\"blue\"))"
   ]
  },
  {
   "cell_type": "markdown",
   "metadata": {},
   "source": [
    "**Model:**\n",
    "\n",
    "Závislou proměnnou bmi označíme jako $Y_{ij}$, kde $i=1,2,3$ značí jednotlivé úrovně vzdělání. Uvažujeme model závislosti\n",
    "$$\\begin{aligned}\n",
    "Y_{1i}&=\\mu+\\epsilon_{1i},\\\\\n",
    "Y_{2i}&=\\mu+\\alpha_2+\\epsilon_{2i},\\\\\n",
    "Y_{3i}&=\\mu+\\alpha_3+\\epsilon_{3i},\n",
    "\\end{aligned}$$\n",
    "kde $\\epsilon_{ij}$ jsou i.i.d. $\\operatorname N(0,\\sigma^2).$\n",
    "Chceme testovat, zda jsou všechny střední hodnoty stejné, nebo zda se významně liší. Tedy testujeme $H_0:\\alpha_2=\\alpha_3=0$ v.s. $H_A:\\alpha_2\\neq 0\\text{ nebo }\\alpha_3\\neq 0.$"
   ]
  },
  {
   "cell_type": "markdown",
   "metadata": {},
   "source": [
    "Odhadneme parametry:"
   ]
  },
  {
   "cell_type": "code",
   "execution_count": 7,
   "metadata": {},
   "outputs": [
    {
     "data": {
      "text/plain": [
       "\n",
       "Call:\n",
       "lm(formula = bmi ~ Vzdel)\n",
       "\n",
       "Coefficients:\n",
       "(Intercept)       Vzdel2       Vzdel3  \n",
       "    26.6651      -0.4682      -0.7354  \n"
      ]
     },
     "metadata": {},
     "output_type": "display_data"
    }
   ],
   "source": [
    "fitVz=lm(bmi~Vzdel)\n",
    "fitVz"
   ]
  },
  {
   "cell_type": "markdown",
   "metadata": {},
   "source": [
    "**Testy předpokladů**\n",
    "\n",
    "Aby fungovaly metody analýzy rozptylu, musíme ověřit:\n",
    "- Normalitu odchylek.\n",
    "- Shodu rozptylů odchylek napříč kategoriemi\n",
    "\n",
    "Odchylky odhadneme pomocí reziduí $r_i=Y_{ij}-\\hat Y_{ij}$:"
   ]
  },
  {
   "cell_type": "code",
   "execution_count": 8,
   "metadata": {},
   "outputs": [
    {
     "data": {
      "image/png": "[encoded data removed]",
      "text/plain": [
       "Plot with title \"Histogram of fitVz$resid\""
      ]
     },
     "metadata": {
      "image/png": {
       "height": 420,
       "width": 660
      }
     },
     "output_type": "display_data"
    }
   ],
   "source": [
    "hist(fitVz$resid,prob=T)"
   ]
  },
  {
   "cell_type": "markdown",
   "metadata": {},
   "source": [
    "Normalitu ověříme např. Shapiro-Wilkovým testem. p-hodnota je 0.0789, normalitu těsně nezamítáme."
   ]
  },
  {
   "cell_type": "code",
   "execution_count": 9,
   "metadata": {},
   "outputs": [
    {
     "data": {
      "text/plain": [
       "\n",
       "\tShapiro-Wilk normality test\n",
       "\n",
       "data:  fitVz$resid\n",
       "W = 0.98544, p-value = 0.07897\n"
      ]
     },
     "metadata": {},
     "output_type": "display_data"
    }
   ],
   "source": [
    "shapiro.test(fitVz$resid)"
   ]
  },
  {
   "cell_type": "markdown",
   "metadata": {},
   "source": [
    "Shodu rozptylů můžeme ověřit Bartlettovým nebo Leveneovým testem. F-test nám nestačí, protože máme tři skupiny. Ani jeden z testů shodu rozptylů nezamítne."
   ]
  },
  {
   "cell_type": "code",
   "execution_count": 10,
   "metadata": {},
   "outputs": [
    {
     "data": {
      "text/plain": [
       "Vzdel: 1\n",
       "[1] 9.535096\n",
       "------------------------------------------------------------------------------------------------------------------------ \n",
       "Vzdel: 2\n",
       "[1] 9.100321\n",
       "------------------------------------------------------------------------------------------------------------------------ \n",
       "Vzdel: 3\n",
       "[1] 5.52912"
      ]
     },
     "metadata": {},
     "output_type": "display_data"
    }
   ],
   "source": [
    "by(fitVz$resid,Vzdel,var)"
   ]
  },
  {
   "cell_type": "code",
   "execution_count": 11,
   "metadata": {},
   "outputs": [
    {
     "data": {
      "text/plain": [
       "\n",
       "\tBartlett test of homogeneity of variances\n",
       "\n",
       "data:  bmi by Vzdel\n",
       "Bartlett's K-squared = 3.7593, df = 2, p-value = 0.1526\n"
      ]
     },
     "metadata": {},
     "output_type": "display_data"
    }
   ],
   "source": [
    "bartlett.test(bmi~Vzdel)"
   ]
  },
  {
   "cell_type": "code",
   "execution_count": 12,
   "metadata": {},
   "outputs": [
    {
     "data": {
      "text/html": [
       "<table class=\"dataframe\">\n",
       "<caption>A anova: 2 × 3</caption>\n",
       "<thead>\n",
       "\t<tr><th></th><th scope=col>Df</th><th scope=col>F value</th><th scope=col>Pr(&gt;F)</th></tr>\n",
       "\t<tr><th></th><th scope=col>&lt;int&gt;</th><th scope=col>&lt;dbl&gt;</th><th scope=col>&lt;dbl&gt;</th></tr>\n",
       "</thead>\n",
       "<tbody>\n",
       "\t<tr><th scope=row>group</th><td>  2</td><td>1.507249</td><td>0.2245709</td></tr>\n",
       "\t<tr><th scope=row> </th><td>164</td><td>      NA</td><td>       NA</td></tr>\n",
       "</tbody>\n",
       "</table>\n"
      ],
      "text/latex": [
       "A anova: 2 × 3\n",
       "\\begin{tabular}{r|lll}\n",
       "  & Df & F value & Pr(>F)\\\\\n",
       "  & <int> & <dbl> & <dbl>\\\\\n",
       "\\hline\n",
       "\tgroup &   2 & 1.507249 & 0.2245709\\\\\n",
       "\t  & 164 &       NA &        NA\\\\\n",
       "\\end{tabular}\n"
      ],
      "text/markdown": [
       "\n",
       "A anova: 2 × 3\n",
       "\n",
       "| <!--/--> | Df &lt;int&gt; | F value &lt;dbl&gt; | Pr(&gt;F) &lt;dbl&gt; |\n",
       "|---|---|---|---|\n",
       "| group |   2 | 1.507249 | 0.2245709 |\n",
       "| <!----> | 164 |       NA |        NA |\n",
       "\n"
      ],
      "text/plain": [
       "      Df  F value  Pr(>F)   \n",
       "group   2 1.507249 0.2245709\n",
       "      164       NA        NA"
      ]
     },
     "metadata": {},
     "output_type": "display_data"
    }
   ],
   "source": [
    "leveneTest(bmi~Vzdel)"
   ]
  },
  {
   "cell_type": "markdown",
   "metadata": {},
   "source": [
    "**Testování**\n",
    "\n",
    "Test hypotézy středních hodnot provedeme nejprve pomocí F-testu analýzy rozptylu. Funkce `aov` nafituje model a spočítá:\n",
    "$$\\begin{aligned}\n",
    "S_e&=\\sum_i\\sum_j(Y_{ij}-\\bar Y_{i\\bullet})^2\\qquad\\text{reziduální součet čtverců},\\\\\n",
    "S_T&=\\sum_i\\sum_j(Y_{ij}-\\bar Y_{\\bullet\\bullet})^2\\qquad\\text{celkový součet čtverců},\\\\\n",
    "S_A&=\\sum_i n_i (\\bar Y_{i\\bullet}-\\bar Y_{\\bullet\\bullet})^2\\qquad\\text{jejich rozdíl, tedy část variability vysvětlenou modelem}.\n",
    "\\end{aligned}$$"
   ]
  },
  {
   "cell_type": "code",
   "execution_count": 13,
   "metadata": {},
   "outputs": [
    {
     "data": {
      "text/plain": [
       "Call:\n",
       "   aov(formula = bmi ~ Vzdel)\n",
       "\n",
       "Terms:\n",
       "                    Vzdel Residuals\n",
       "Sum of Squares    14.9034 1377.4302\n",
       "Deg. of Freedom         2       164\n",
       "\n",
       "Residual standard error: 2.898097\n",
       "Estimated effects may be unbalanced"
      ]
     },
     "metadata": {},
     "output_type": "display_data"
    }
   ],
   "source": [
    "aov(bmi~Vzdel)"
   ]
  },
  {
   "cell_type": "markdown",
   "metadata": {},
   "source": [
    "- Reziduální součet čtverců (část variability nevysvětlená modelem) je 1377.43\n",
    "- Součet čtverců vysvětlený různými průměry ve skupinách je 14.90 "
   ]
  },
  {
   "cell_type": "markdown",
   "metadata": {},
   "source": [
    "Za platnosti nulové hypotézy platí, že $$F=\\frac{S_A/(I-1)}{S_e/(n-I)}$$ má Fisherovo-Snedecorovo F-rozdělení s $I-1$ a $n-I$ stupni volnosti. p-hodnota testu pak udává pravděpodobnost, že F-rozdělení bude vyšší než spočítaná F-statistika. Test zavoláme příkazem `anova` na model nafitovaný pomocí `aov` nebo `lm`:"
   ]
  },
  {
   "cell_type": "code",
   "execution_count": 14,
   "metadata": {},
   "outputs": [
    {
     "data": {
      "text/html": [
       "<table class=\"dataframe\">\n",
       "<caption>A anova: 2 × 5</caption>\n",
       "<thead>\n",
       "\t<tr><th></th><th scope=col>Df</th><th scope=col>Sum Sq</th><th scope=col>Mean Sq</th><th scope=col>F value</th><th scope=col>Pr(&gt;F)</th></tr>\n",
       "\t<tr><th></th><th scope=col>&lt;int&gt;</th><th scope=col>&lt;dbl&gt;</th><th scope=col>&lt;dbl&gt;</th><th scope=col>&lt;dbl&gt;</th><th scope=col>&lt;dbl&gt;</th></tr>\n",
       "</thead>\n",
       "<tbody>\n",
       "\t<tr><th scope=row>Vzdel</th><td>  2</td><td>  14.90335</td><td>7.451675</td><td>0.8872135</td><td>0.4137687</td></tr>\n",
       "\t<tr><th scope=row>Residuals</th><td>164</td><td>1377.43025</td><td>8.398965</td><td>       NA</td><td>       NA</td></tr>\n",
       "</tbody>\n",
       "</table>\n"
      ],
      "text/latex": [
       "A anova: 2 × 5\n",
       "\\begin{tabular}{r|lllll}\n",
       "  & Df & Sum Sq & Mean Sq & F value & Pr(>F)\\\\\n",
       "  & <int> & <dbl> & <dbl> & <dbl> & <dbl>\\\\\n",
       "\\hline\n",
       "\tVzdel &   2 &   14.90335 & 7.451675 & 0.8872135 & 0.4137687\\\\\n",
       "\tResiduals & 164 & 1377.43025 & 8.398965 &        NA &        NA\\\\\n",
       "\\end{tabular}\n"
      ],
      "text/markdown": [
       "\n",
       "A anova: 2 × 5\n",
       "\n",
       "| <!--/--> | Df &lt;int&gt; | Sum Sq &lt;dbl&gt; | Mean Sq &lt;dbl&gt; | F value &lt;dbl&gt; | Pr(&gt;F) &lt;dbl&gt; |\n",
       "|---|---|---|---|---|---|\n",
       "| Vzdel |   2 |   14.90335 | 7.451675 | 0.8872135 | 0.4137687 |\n",
       "| Residuals | 164 | 1377.43025 | 8.398965 |        NA |        NA |\n",
       "\n"
      ],
      "text/plain": [
       "          Df  Sum Sq     Mean Sq  F value   Pr(>F)   \n",
       "Vzdel       2   14.90335 7.451675 0.8872135 0.4137687\n",
       "Residuals 164 1377.43025 8.398965        NA        NA"
      ]
     },
     "metadata": {},
     "output_type": "display_data"
    }
   ],
   "source": [
    "anova(aov(bmi~Vzdel))\n",
    "## anova(fitVz)"
   ]
  },
  {
   "cell_type": "markdown",
   "metadata": {},
   "source": [
    "p-hodnota je 0.4317, takže na hladině významnosti $\\alpha=5 \\%$ *nezamítáme* nulovou hypotézu shody středních hodnot bmi jednotlivých kategorií."
   ]
  },
  {
   "cell_type": "markdown",
   "metadata": {},
   "source": [
    "---\n",
    "\n",
    "<font color=\"blue\">**Nyní je čas udělat úkoly 1.a-e) v druhém notebooku**</font>\n",
    "\n",
    "---"
   ]
  },
  {
   "cell_type": "markdown",
   "metadata": {},
   "source": [
    "## Odhady středních hodnot.\n",
    "\n",
    "Víme, že střední hodnota pro Vzdel=1 je $\\mu$, pro Vzdel=2 $\\mu+\\alpha_2$ a pro Vzdel=3 $\\mu+\\alpha_3$. Odhady parametrů nám dala funkce `lm`. Podíváme se na jejich vlastnosti:"
   ]
  },
  {
   "cell_type": "code",
   "execution_count": 15,
   "metadata": {},
   "outputs": [
    {
     "data": {
      "text/plain": [
       "\n",
       "Call:\n",
       "lm(formula = bmi ~ Vzdel)\n",
       "\n",
       "Residuals:\n",
       "    Min      1Q  Median      3Q     Max \n",
       "-5.8586 -2.1279 -0.1533  1.8296  9.5624 \n",
       "\n",
       "Coefficients:\n",
       "            Estimate Std. Error t value Pr(>|t|)    \n",
       "(Intercept)  26.6651     0.3595  74.180   <2e-16 ***\n",
       "Vzdel2       -0.4682     0.5166  -0.906    0.366    \n",
       "Vzdel3       -0.7354     0.5780  -1.272    0.205    \n",
       "---\n",
       "Signif. codes:  0 '***' 0.001 '**' 0.01 '*' 0.05 '.' 0.1 ' ' 1\n",
       "\n",
       "Residual standard error: 2.898 on 164 degrees of freedom\n",
       "Multiple R-squared:  0.0107,\tAdjusted R-squared:  -0.001361 \n",
       "F-statistic: 0.8872 on 2 and 164 DF,  p-value: 0.4138\n"
      ]
     },
     "metadata": {},
     "output_type": "display_data"
    }
   ],
   "source": [
    "summary(fitVz)"
   ]
  },
  {
   "cell_type": "markdown",
   "metadata": {},
   "source": [
    "Získáme odhady $26.6651$, $26.6651-0.4682=26.1969$ a $26.6651-0.7354=25.9297$. Můžeme ověřit, že to jsou průměry pozorování v jednotlivých kategoriích.\n",
    "\n",
    "p-hodnoty t-testů nulovosti $\\alpha_2$ a $\\alpha_3$ jsou vysoké, což odpovídá nevýznamnému rozdílu ve středních hodnotách."
   ]
  },
  {
   "cell_type": "markdown",
   "metadata": {},
   "source": [
    "Porovnání středních hodnot po dvojicích můžeme udělat pomocí Tukeyho HSD testu. Ten vyžaduje jako vstup nafitovaný model `aov`:"
   ]
  },
  {
   "cell_type": "code",
   "execution_count": 16,
   "metadata": {},
   "outputs": [
    {
     "data": {
      "text/plain": [
       "  Tukey multiple comparisons of means\n",
       "    95% family-wise confidence level\n",
       "\n",
       "Fit: aov(formula = bmi ~ Vzdel)\n",
       "\n",
       "$Vzdel\n",
       "          diff       lwr       upr     p adj\n",
       "2-1 -0.4681633 -1.690081 0.7537548 0.6371693\n",
       "3-1 -0.7353898 -2.102435 0.6316551 0.4128289\n",
       "3-2 -0.2672265 -1.651499 1.1170462 0.8915400\n"
      ]
     },
     "metadata": {},
     "output_type": "display_data"
    }
   ],
   "source": [
    "TukeyHSD(aov(bmi~Vzdel))"
   ]
  },
  {
   "cell_type": "markdown",
   "metadata": {},
   "source": [
    "Získali jsme rozdíly mezi průměry v jednotlivých kategoriích, konfidenční intervaly pro rozdíl a p-hodnoty testu nulovosti rozdílů. Opět vidíme, že rozdíly nejsou významné."
   ]
  },
  {
   "cell_type": "markdown",
   "metadata": {},
   "source": [
    "**Reparametrizace**\n",
    "\n",
    "Jednotlivé hodnoty faktorových proměnných jsou v modelové matici $\\mathbf X$ reprezentovány pomocí nula-jedničkových proměnných, tzv. kontrastů. Matici můžeme získat příkazem `model.matrix`:"
   ]
  },
  {
   "cell_type": "code",
   "execution_count": 17,
   "metadata": {},
   "outputs": [
    {
     "data": {
      "text/html": [
       "<table class=\"dataframe\">\n",
       "<caption>A matrix: 167 × 3 of type dbl</caption>\n",
       "<thead>\n",
       "\t<tr><th></th><th scope=col>(Intercept)</th><th scope=col>Vzdel2</th><th scope=col>Vzdel3</th></tr>\n",
       "</thead>\n",
       "<tbody>\n",
       "\t<tr><th scope=row>1</th><td>1</td><td>0</td><td>0</td></tr>\n",
       "\t<tr><th scope=row>2</th><td>1</td><td>0</td><td>0</td></tr>\n",
       "\t<tr><th scope=row>3</th><td>1</td><td>0</td><td>1</td></tr>\n",
       "\t<tr><th scope=row>4</th><td>1</td><td>0</td><td>0</td></tr>\n",
       "\t<tr><th scope=row>5</th><td>1</td><td>1</td><td>0</td></tr>\n",
       "\t<tr><th scope=row>6</th><td>1</td><td>0</td><td>0</td></tr>\n",
       "\t<tr><th scope=row>7</th><td>1</td><td>0</td><td>0</td></tr>\n",
       "\t<tr><th scope=row>8</th><td>1</td><td>0</td><td>0</td></tr>\n",
       "\t<tr><th scope=row>9</th><td>1</td><td>1</td><td>0</td></tr>\n",
       "\t<tr><th scope=row>10</th><td>1</td><td>0</td><td>1</td></tr>\n",
       "\t<tr><th scope=row>11</th><td>1</td><td>0</td><td>1</td></tr>\n",
       "\t<tr><th scope=row>12</th><td>1</td><td>0</td><td>1</td></tr>\n",
       "\t<tr><th scope=row>13</th><td>1</td><td>0</td><td>1</td></tr>\n",
       "\t<tr><th scope=row>14</th><td>1</td><td>1</td><td>0</td></tr>\n",
       "\t<tr><th scope=row>15</th><td>1</td><td>1</td><td>0</td></tr>\n",
       "\t<tr><th scope=row>16</th><td>1</td><td>1</td><td>0</td></tr>\n",
       "\t<tr><th scope=row>17</th><td>1</td><td>0</td><td>1</td></tr>\n",
       "\t<tr><th scope=row>18</th><td>1</td><td>1</td><td>0</td></tr>\n",
       "\t<tr><th scope=row>19</th><td>1</td><td>0</td><td>0</td></tr>\n",
       "\t<tr><th scope=row>20</th><td>1</td><td>0</td><td>0</td></tr>\n",
       "\t<tr><th scope=row>21</th><td>1</td><td>0</td><td>1</td></tr>\n",
       "\t<tr><th scope=row>22</th><td>1</td><td>1</td><td>0</td></tr>\n",
       "\t<tr><th scope=row>23</th><td>1</td><td>1</td><td>0</td></tr>\n",
       "\t<tr><th scope=row>24</th><td>1</td><td>1</td><td>0</td></tr>\n",
       "\t<tr><th scope=row>25</th><td>1</td><td>0</td><td>0</td></tr>\n",
       "\t<tr><th scope=row>26</th><td>1</td><td>1</td><td>0</td></tr>\n",
       "\t<tr><th scope=row>27</th><td>1</td><td>0</td><td>0</td></tr>\n",
       "\t<tr><th scope=row>28</th><td>1</td><td>1</td><td>0</td></tr>\n",
       "\t<tr><th scope=row>29</th><td>1</td><td>0</td><td>1</td></tr>\n",
       "\t<tr><th scope=row>30</th><td>1</td><td>1</td><td>0</td></tr>\n",
       "\t<tr><th scope=row>⋮</th><td>⋮</td><td>⋮</td><td>⋮</td></tr>\n",
       "\t<tr><th scope=row>138</th><td>1</td><td>0</td><td>0</td></tr>\n",
       "\t<tr><th scope=row>139</th><td>1</td><td>0</td><td>1</td></tr>\n",
       "\t<tr><th scope=row>140</th><td>1</td><td>0</td><td>0</td></tr>\n",
       "\t<tr><th scope=row>141</th><td>1</td><td>0</td><td>0</td></tr>\n",
       "\t<tr><th scope=row>142</th><td>1</td><td>0</td><td>0</td></tr>\n",
       "\t<tr><th scope=row>143</th><td>1</td><td>0</td><td>0</td></tr>\n",
       "\t<tr><th scope=row>144</th><td>1</td><td>0</td><td>1</td></tr>\n",
       "\t<tr><th scope=row>145</th><td>1</td><td>1</td><td>0</td></tr>\n",
       "\t<tr><th scope=row>146</th><td>1</td><td>0</td><td>1</td></tr>\n",
       "\t<tr><th scope=row>147</th><td>1</td><td>1</td><td>0</td></tr>\n",
       "\t<tr><th scope=row>148</th><td>1</td><td>0</td><td>1</td></tr>\n",
       "\t<tr><th scope=row>149</th><td>1</td><td>0</td><td>1</td></tr>\n",
       "\t<tr><th scope=row>150</th><td>1</td><td>0</td><td>0</td></tr>\n",
       "\t<tr><th scope=row>151</th><td>1</td><td>0</td><td>0</td></tr>\n",
       "\t<tr><th scope=row>152</th><td>1</td><td>0</td><td>0</td></tr>\n",
       "\t<tr><th scope=row>153</th><td>1</td><td>0</td><td>0</td></tr>\n",
       "\t<tr><th scope=row>154</th><td>1</td><td>0</td><td>1</td></tr>\n",
       "\t<tr><th scope=row>155</th><td>1</td><td>1</td><td>0</td></tr>\n",
       "\t<tr><th scope=row>156</th><td>1</td><td>1</td><td>0</td></tr>\n",
       "\t<tr><th scope=row>157</th><td>1</td><td>0</td><td>0</td></tr>\n",
       "\t<tr><th scope=row>158</th><td>1</td><td>0</td><td>0</td></tr>\n",
       "\t<tr><th scope=row>159</th><td>1</td><td>0</td><td>1</td></tr>\n",
       "\t<tr><th scope=row>160</th><td>1</td><td>1</td><td>0</td></tr>\n",
       "\t<tr><th scope=row>161</th><td>1</td><td>1</td><td>0</td></tr>\n",
       "\t<tr><th scope=row>162</th><td>1</td><td>0</td><td>0</td></tr>\n",
       "\t<tr><th scope=row>163</th><td>1</td><td>0</td><td>0</td></tr>\n",
       "\t<tr><th scope=row>164</th><td>1</td><td>1</td><td>0</td></tr>\n",
       "\t<tr><th scope=row>165</th><td>1</td><td>0</td><td>0</td></tr>\n",
       "\t<tr><th scope=row>166</th><td>1</td><td>1</td><td>0</td></tr>\n",
       "\t<tr><th scope=row>167</th><td>1</td><td>0</td><td>0</td></tr>\n",
       "</tbody>\n",
       "</table>\n"
      ],
      "text/latex": [
       "A matrix: 167 × 3 of type dbl\n",
       "\\begin{tabular}{r|lll}\n",
       "  & (Intercept) & Vzdel2 & Vzdel3\\\\\n",
       "\\hline\n",
       "\t1 & 1 & 0 & 0\\\\\n",
       "\t2 & 1 & 0 & 0\\\\\n",
       "\t3 & 1 & 0 & 1\\\\\n",
       "\t4 & 1 & 0 & 0\\\\\n",
       "\t5 & 1 & 1 & 0\\\\\n",
       "\t6 & 1 & 0 & 0\\\\\n",
       "\t7 & 1 & 0 & 0\\\\\n",
       "\t8 & 1 & 0 & 0\\\\\n",
       "\t9 & 1 & 1 & 0\\\\\n",
       "\t10 & 1 & 0 & 1\\\\\n",
       "\t11 & 1 & 0 & 1\\\\\n",
       "\t12 & 1 & 0 & 1\\\\\n",
       "\t13 & 1 & 0 & 1\\\\\n",
       "\t14 & 1 & 1 & 0\\\\\n",
       "\t15 & 1 & 1 & 0\\\\\n",
       "\t16 & 1 & 1 & 0\\\\\n",
       "\t17 & 1 & 0 & 1\\\\\n",
       "\t18 & 1 & 1 & 0\\\\\n",
       "\t19 & 1 & 0 & 0\\\\\n",
       "\t20 & 1 & 0 & 0\\\\\n",
       "\t21 & 1 & 0 & 1\\\\\n",
       "\t22 & 1 & 1 & 0\\\\\n",
       "\t23 & 1 & 1 & 0\\\\\n",
       "\t24 & 1 & 1 & 0\\\\\n",
       "\t25 & 1 & 0 & 0\\\\\n",
       "\t26 & 1 & 1 & 0\\\\\n",
       "\t27 & 1 & 0 & 0\\\\\n",
       "\t28 & 1 & 1 & 0\\\\\n",
       "\t29 & 1 & 0 & 1\\\\\n",
       "\t30 & 1 & 1 & 0\\\\\n",
       "\t⋮ & ⋮ & ⋮ & ⋮\\\\\n",
       "\t138 & 1 & 0 & 0\\\\\n",
       "\t139 & 1 & 0 & 1\\\\\n",
       "\t140 & 1 & 0 & 0\\\\\n",
       "\t141 & 1 & 0 & 0\\\\\n",
       "\t142 & 1 & 0 & 0\\\\\n",
       "\t143 & 1 & 0 & 0\\\\\n",
       "\t144 & 1 & 0 & 1\\\\\n",
       "\t145 & 1 & 1 & 0\\\\\n",
       "\t146 & 1 & 0 & 1\\\\\n",
       "\t147 & 1 & 1 & 0\\\\\n",
       "\t148 & 1 & 0 & 1\\\\\n",
       "\t149 & 1 & 0 & 1\\\\\n",
       "\t150 & 1 & 0 & 0\\\\\n",
       "\t151 & 1 & 0 & 0\\\\\n",
       "\t152 & 1 & 0 & 0\\\\\n",
       "\t153 & 1 & 0 & 0\\\\\n",
       "\t154 & 1 & 0 & 1\\\\\n",
       "\t155 & 1 & 1 & 0\\\\\n",
       "\t156 & 1 & 1 & 0\\\\\n",
       "\t157 & 1 & 0 & 0\\\\\n",
       "\t158 & 1 & 0 & 0\\\\\n",
       "\t159 & 1 & 0 & 1\\\\\n",
       "\t160 & 1 & 1 & 0\\\\\n",
       "\t161 & 1 & 1 & 0\\\\\n",
       "\t162 & 1 & 0 & 0\\\\\n",
       "\t163 & 1 & 0 & 0\\\\\n",
       "\t164 & 1 & 1 & 0\\\\\n",
       "\t165 & 1 & 0 & 0\\\\\n",
       "\t166 & 1 & 1 & 0\\\\\n",
       "\t167 & 1 & 0 & 0\\\\\n",
       "\\end{tabular}\n"
      ],
      "text/markdown": [
       "\n",
       "A matrix: 167 × 3 of type dbl\n",
       "\n",
       "| <!--/--> | (Intercept) | Vzdel2 | Vzdel3 |\n",
       "|---|---|---|---|\n",
       "| 1 | 1 | 0 | 0 |\n",
       "| 2 | 1 | 0 | 0 |\n",
       "| 3 | 1 | 0 | 1 |\n",
       "| 4 | 1 | 0 | 0 |\n",
       "| 5 | 1 | 1 | 0 |\n",
       "| 6 | 1 | 0 | 0 |\n",
       "| 7 | 1 | 0 | 0 |\n",
       "| 8 | 1 | 0 | 0 |\n",
       "| 9 | 1 | 1 | 0 |\n",
       "| 10 | 1 | 0 | 1 |\n",
       "| 11 | 1 | 0 | 1 |\n",
       "| 12 | 1 | 0 | 1 |\n",
       "| 13 | 1 | 0 | 1 |\n",
       "| 14 | 1 | 1 | 0 |\n",
       "| 15 | 1 | 1 | 0 |\n",
       "| 16 | 1 | 1 | 0 |\n",
       "| 17 | 1 | 0 | 1 |\n",
       "| 18 | 1 | 1 | 0 |\n",
       "| 19 | 1 | 0 | 0 |\n",
       "| 20 | 1 | 0 | 0 |\n",
       "| 21 | 1 | 0 | 1 |\n",
       "| 22 | 1 | 1 | 0 |\n",
       "| 23 | 1 | 1 | 0 |\n",
       "| 24 | 1 | 1 | 0 |\n",
       "| 25 | 1 | 0 | 0 |\n",
       "| 26 | 1 | 1 | 0 |\n",
       "| 27 | 1 | 0 | 0 |\n",
       "| 28 | 1 | 1 | 0 |\n",
       "| 29 | 1 | 0 | 1 |\n",
       "| 30 | 1 | 1 | 0 |\n",
       "| ⋮ | ⋮ | ⋮ | ⋮ |\n",
       "| 138 | 1 | 0 | 0 |\n",
       "| 139 | 1 | 0 | 1 |\n",
       "| 140 | 1 | 0 | 0 |\n",
       "| 141 | 1 | 0 | 0 |\n",
       "| 142 | 1 | 0 | 0 |\n",
       "| 143 | 1 | 0 | 0 |\n",
       "| 144 | 1 | 0 | 1 |\n",
       "| 145 | 1 | 1 | 0 |\n",
       "| 146 | 1 | 0 | 1 |\n",
       "| 147 | 1 | 1 | 0 |\n",
       "| 148 | 1 | 0 | 1 |\n",
       "| 149 | 1 | 0 | 1 |\n",
       "| 150 | 1 | 0 | 0 |\n",
       "| 151 | 1 | 0 | 0 |\n",
       "| 152 | 1 | 0 | 0 |\n",
       "| 153 | 1 | 0 | 0 |\n",
       "| 154 | 1 | 0 | 1 |\n",
       "| 155 | 1 | 1 | 0 |\n",
       "| 156 | 1 | 1 | 0 |\n",
       "| 157 | 1 | 0 | 0 |\n",
       "| 158 | 1 | 0 | 0 |\n",
       "| 159 | 1 | 0 | 1 |\n",
       "| 160 | 1 | 1 | 0 |\n",
       "| 161 | 1 | 1 | 0 |\n",
       "| 162 | 1 | 0 | 0 |\n",
       "| 163 | 1 | 0 | 0 |\n",
       "| 164 | 1 | 1 | 0 |\n",
       "| 165 | 1 | 0 | 0 |\n",
       "| 166 | 1 | 1 | 0 |\n",
       "| 167 | 1 | 0 | 0 |\n",
       "\n"
      ],
      "text/plain": [
       "    (Intercept) Vzdel2 Vzdel3\n",
       "1   1           0      0     \n",
       "2   1           0      0     \n",
       "3   1           0      1     \n",
       "4   1           0      0     \n",
       "5   1           1      0     \n",
       "6   1           0      0     \n",
       "7   1           0      0     \n",
       "8   1           0      0     \n",
       "9   1           1      0     \n",
       "10  1           0      1     \n",
       "11  1           0      1     \n",
       "12  1           0      1     \n",
       "13  1           0      1     \n",
       "14  1           1      0     \n",
       "15  1           1      0     \n",
       "16  1           1      0     \n",
       "17  1           0      1     \n",
       "18  1           1      0     \n",
       "19  1           0      0     \n",
       "20  1           0      0     \n",
       "21  1           0      1     \n",
       "22  1           1      0     \n",
       "23  1           1      0     \n",
       "24  1           1      0     \n",
       "25  1           0      0     \n",
       "26  1           1      0     \n",
       "27  1           0      0     \n",
       "28  1           1      0     \n",
       "29  1           0      1     \n",
       "30  1           1      0     \n",
       "⋮   ⋮           ⋮      ⋮     \n",
       "138 1           0      0     \n",
       "139 1           0      1     \n",
       "140 1           0      0     \n",
       "141 1           0      0     \n",
       "142 1           0      0     \n",
       "143 1           0      0     \n",
       "144 1           0      1     \n",
       "145 1           1      0     \n",
       "146 1           0      1     \n",
       "147 1           1      0     \n",
       "148 1           0      1     \n",
       "149 1           0      1     \n",
       "150 1           0      0     \n",
       "151 1           0      0     \n",
       "152 1           0      0     \n",
       "153 1           0      0     \n",
       "154 1           0      1     \n",
       "155 1           1      0     \n",
       "156 1           1      0     \n",
       "157 1           0      0     \n",
       "158 1           0      0     \n",
       "159 1           0      1     \n",
       "160 1           1      0     \n",
       "161 1           1      0     \n",
       "162 1           0      0     \n",
       "163 1           0      0     \n",
       "164 1           1      0     \n",
       "165 1           0      0     \n",
       "166 1           1      0     \n",
       "167 1           0      0     "
      ]
     },
     "metadata": {},
     "output_type": "display_data"
    }
   ],
   "source": [
    "model.matrix(fitVz)"
   ]
  },
  {
   "cell_type": "markdown",
   "metadata": {},
   "source": [
    "Matice odpovídá defaultní situaci, kdy první úroveň faktoru je základní a všechny další s ní porovnáváme. Práci s kontrasty můžeme řídit pomocí parametru `contr`. Návod, jak dát dohromady jednotlivé průměry, dostaneme jako atribut modelové matice:"
   ]
  },
  {
   "cell_type": "code",
   "execution_count": 18,
   "metadata": {},
   "outputs": [
    {
     "data": {
      "text/html": [
       "<strong>$Vzdel</strong> = <table class=\"dataframe\">\n",
       "<caption>A matrix: 3 × 2 of type dbl</caption>\n",
       "<thead>\n",
       "\t<tr><th></th><th scope=col>2</th><th scope=col>3</th></tr>\n",
       "</thead>\n",
       "<tbody>\n",
       "\t<tr><th scope=row>1</th><td>0</td><td>0</td></tr>\n",
       "\t<tr><th scope=row>2</th><td>1</td><td>0</td></tr>\n",
       "\t<tr><th scope=row>3</th><td>0</td><td>1</td></tr>\n",
       "</tbody>\n",
       "</table>\n"
      ],
      "text/latex": [
       "\\textbf{\\$Vzdel} = A matrix: 3 × 2 of type dbl\n",
       "\\begin{tabular}{r|ll}\n",
       "  & 2 & 3\\\\\n",
       "\\hline\n",
       "\t1 & 0 & 0\\\\\n",
       "\t2 & 1 & 0\\\\\n",
       "\t3 & 0 & 1\\\\\n",
       "\\end{tabular}\n"
      ],
      "text/markdown": [
       "**$Vzdel** = \n",
       "A matrix: 3 × 2 of type dbl\n",
       "\n",
       "| <!--/--> | 2 | 3 |\n",
       "|---|---|---|\n",
       "| 1 | 0 | 0 |\n",
       "| 2 | 1 | 0 |\n",
       "| 3 | 0 | 1 |\n",
       "\n"
      ],
      "text/plain": [
       "$Vzdel\n",
       "  2 3\n",
       "1 0 0\n",
       "2 1 0\n",
       "3 0 1\n"
      ]
     },
     "metadata": {},
     "output_type": "display_data"
    }
   ],
   "source": [
    "fit1=lm(bmi~Vzdel,contr=list(Vzdel = contr.treatment))\n",
    "attributes(model.matrix(fit1))$contrasts"
   ]
  },
  {
   "cell_type": "markdown",
   "metadata": {},
   "source": [
    "Pokud chceme průměr první kategorie, k interceptu nepřičítáme nic. Pokud chceme průměr druhé, přičteme druhý koeficient. Pro průměr třetí přičteme třetí koeficient."
   ]
  },
  {
   "cell_type": "markdown",
   "metadata": {},
   "source": [
    "Defaultní kontrasty softwaru SAS například používají jako baseline poslední proměnnou. Pro některé účely se může hodit mít baseline uprostřed a k ní koeficienty přičítat nebo odečítat - k tomu se hodí kontrasty typu sum nebo helmert. Vyzkoušejte sami. "
   ]
  },
  {
   "cell_type": "code",
   "execution_count": 19,
   "metadata": {},
   "outputs": [
    {
     "data": {
      "text/html": [
       "<strong>$Vzdel</strong> = <table class=\"dataframe\">\n",
       "<caption>A matrix: 3 × 2 of type dbl</caption>\n",
       "<thead>\n",
       "\t<tr><th></th><th scope=col>2</th><th scope=col>3</th></tr>\n",
       "</thead>\n",
       "<tbody>\n",
       "\t<tr><th scope=row>1</th><td>0</td><td>0</td></tr>\n",
       "\t<tr><th scope=row>2</th><td>1</td><td>0</td></tr>\n",
       "\t<tr><th scope=row>3</th><td>0</td><td>1</td></tr>\n",
       "</tbody>\n",
       "</table>\n"
      ],
      "text/latex": [
       "\\textbf{\\$Vzdel} = A matrix: 3 × 2 of type dbl\n",
       "\\begin{tabular}{r|ll}\n",
       "  & 2 & 3\\\\\n",
       "\\hline\n",
       "\t1 & 0 & 0\\\\\n",
       "\t2 & 1 & 0\\\\\n",
       "\t3 & 0 & 1\\\\\n",
       "\\end{tabular}\n"
      ],
      "text/markdown": [
       "**$Vzdel** = \n",
       "A matrix: 3 × 2 of type dbl\n",
       "\n",
       "| <!--/--> | 2 | 3 |\n",
       "|---|---|---|\n",
       "| 1 | 0 | 0 |\n",
       "| 2 | 1 | 0 |\n",
       "| 3 | 0 | 1 |\n",
       "\n"
      ],
      "text/plain": [
       "$Vzdel\n",
       "  2 3\n",
       "1 0 0\n",
       "2 1 0\n",
       "3 0 1\n"
      ]
     },
     "metadata": {},
     "output_type": "display_data"
    },
    {
     "data": {
      "text/html": [
       "<strong>$Vzdel</strong> = <table class=\"dataframe\">\n",
       "<caption>A matrix: 3 × 2 of type dbl</caption>\n",
       "<thead>\n",
       "\t<tr><th></th><th scope=col>1</th><th scope=col>2</th></tr>\n",
       "</thead>\n",
       "<tbody>\n",
       "\t<tr><th scope=row>1</th><td>1</td><td>0</td></tr>\n",
       "\t<tr><th scope=row>2</th><td>0</td><td>1</td></tr>\n",
       "\t<tr><th scope=row>3</th><td>0</td><td>0</td></tr>\n",
       "</tbody>\n",
       "</table>\n"
      ],
      "text/latex": [
       "\\textbf{\\$Vzdel} = A matrix: 3 × 2 of type dbl\n",
       "\\begin{tabular}{r|ll}\n",
       "  & 1 & 2\\\\\n",
       "\\hline\n",
       "\t1 & 1 & 0\\\\\n",
       "\t2 & 0 & 1\\\\\n",
       "\t3 & 0 & 0\\\\\n",
       "\\end{tabular}\n"
      ],
      "text/markdown": [
       "**$Vzdel** = \n",
       "A matrix: 3 × 2 of type dbl\n",
       "\n",
       "| <!--/--> | 1 | 2 |\n",
       "|---|---|---|\n",
       "| 1 | 1 | 0 |\n",
       "| 2 | 0 | 1 |\n",
       "| 3 | 0 | 0 |\n",
       "\n"
      ],
      "text/plain": [
       "$Vzdel\n",
       "  1 2\n",
       "1 1 0\n",
       "2 0 1\n",
       "3 0 0\n"
      ]
     },
     "metadata": {},
     "output_type": "display_data"
    },
    {
     "data": {
      "text/html": [
       "<strong>$Vzdel</strong> = <table class=\"dataframe\">\n",
       "<caption>A matrix: 3 × 2 of type dbl</caption>\n",
       "<tbody>\n",
       "\t<tr><th scope=row>1</th><td> 1</td><td> 0</td></tr>\n",
       "\t<tr><th scope=row>2</th><td> 0</td><td> 1</td></tr>\n",
       "\t<tr><th scope=row>3</th><td>-1</td><td>-1</td></tr>\n",
       "</tbody>\n",
       "</table>\n"
      ],
      "text/latex": [
       "\\textbf{\\$Vzdel} = A matrix: 3 × 2 of type dbl\n",
       "\\begin{tabular}{r|ll}\n",
       "\t1 &  1 &  0\\\\\n",
       "\t2 &  0 &  1\\\\\n",
       "\t3 & -1 & -1\\\\\n",
       "\\end{tabular}\n"
      ],
      "text/markdown": [
       "**$Vzdel** = \n",
       "A matrix: 3 × 2 of type dbl\n",
       "\n",
       "| 1 |  1 |  0 |\n",
       "| 2 |  0 |  1 |\n",
       "| 3 | -1 | -1 |\n",
       "\n"
      ],
      "text/plain": [
       "$Vzdel\n",
       "  [,1] [,2]\n",
       "1    1    0\n",
       "2    0    1\n",
       "3   -1   -1\n"
      ]
     },
     "metadata": {},
     "output_type": "display_data"
    },
    {
     "data": {
      "text/html": [
       "<strong>$Vzdel</strong> = <table class=\"dataframe\">\n",
       "<caption>A matrix: 3 × 2 of type dbl</caption>\n",
       "<tbody>\n",
       "\t<tr><th scope=row>1</th><td>-1</td><td>-1</td></tr>\n",
       "\t<tr><th scope=row>2</th><td> 1</td><td>-1</td></tr>\n",
       "\t<tr><th scope=row>3</th><td> 0</td><td> 2</td></tr>\n",
       "</tbody>\n",
       "</table>\n"
      ],
      "text/latex": [
       "\\textbf{\\$Vzdel} = A matrix: 3 × 2 of type dbl\n",
       "\\begin{tabular}{r|ll}\n",
       "\t1 & -1 & -1\\\\\n",
       "\t2 &  1 & -1\\\\\n",
       "\t3 &  0 &  2\\\\\n",
       "\\end{tabular}\n"
      ],
      "text/markdown": [
       "**$Vzdel** = \n",
       "A matrix: 3 × 2 of type dbl\n",
       "\n",
       "| 1 | -1 | -1 |\n",
       "| 2 |  1 | -1 |\n",
       "| 3 |  0 |  2 |\n",
       "\n"
      ],
      "text/plain": [
       "$Vzdel\n",
       "  [,1] [,2]\n",
       "1   -1   -1\n",
       "2    1   -1\n",
       "3    0    2\n"
      ]
     },
     "metadata": {},
     "output_type": "display_data"
    }
   ],
   "source": [
    "fit1=lm(bmi~Vzdel,contr=list(Vzdel = contr.treatment))\n",
    "fit2=lm(bmi~Vzdel,contr=list(Vzdel = contr.SAS))\n",
    "fit3=lm(bmi~Vzdel,contr=list(Vzdel = contr.sum))\n",
    "fit4=lm(bmi~Vzdel,contr=list(Vzdel = contr.helmert))\n",
    "\n",
    "attributes(model.matrix(fit1))$contrasts\n",
    "attributes(model.matrix(fit2))$contrasts\n",
    "attributes(model.matrix(fit3))$contrasts\n",
    "attributes(model.matrix(fit4))$contrasts"
   ]
  },
  {
   "cell_type": "markdown",
   "metadata": {},
   "source": [
    "---\n",
    "\n",
    "<font color=\"blue\">**Nyní je čas udělat úkoly 2.a-d) v druhém notebooku**</font>\n",
    "\n",
    "---"
   ]
  },
  {
   "cell_type": "markdown",
   "metadata": {},
   "source": [
    "## Analýza rozptylu dvojného třídění\n",
    "\n",
    "Kromě vlivu vzdělání na body mass index chceme zkoumat i zda má vliv, jestli je sledovaný pacient kuřák nebo ne.\n",
    "\n",
    "Nejprve si udělejme představu na základě popisných statistik"
   ]
  },
  {
   "cell_type": "code",
   "execution_count": 20,
   "metadata": {},
   "outputs": [
    {
     "data": {
      "text/plain": [
       "Kurak: FALSE\n",
       "   Min. 1st Qu.  Median    Mean 3rd Qu.    Max. \n",
       "  21.37   24.89   26.85   26.99   28.65   33.51 \n",
       "------------------------------------------------------------------------------------------------------------------------ \n",
       "Kurak: TRUE\n",
       "   Min. 1st Qu.  Median    Mean 3rd Qu.    Max. \n",
       "  20.34   23.80   25.88   25.95   27.73   36.23 "
      ]
     },
     "metadata": {},
     "output_type": "display_data"
    },
    {
     "data": {
      "image/png": "[encoded data removed]",
      "text/plain": [
       "plot without title"
      ]
     },
     "metadata": {
      "image/png": {
       "height": 420,
       "width": 660
      }
     },
     "output_type": "display_data"
    }
   ],
   "source": [
    "by(bmi,Kurak,summary)\n",
    "boxplot(bmi~Kurak,col=c(\"cyan\",\"magenta\"))"
   ]
  },
  {
   "cell_type": "markdown",
   "metadata": {},
   "source": [
    "Vidíme, že kuřáci mají o trochu nižší průměrný body mass index"
   ]
  },
  {
   "cell_type": "markdown",
   "metadata": {},
   "source": [
    "Vyzkoušejme model analýzy rozptylu dvojného třídění\n",
    "$$Y_{ijk}=\\mu+\\alpha_i+\\beta_j+\\epsilon_{ijk},$$\n",
    "kde $\\alpha_i$ jsou posunutí ve střední hodnotě pro jednotlivé úrovně vzdělání a $\\beta_j$ posunutí pro kuřáky."
   ]
  },
  {
   "cell_type": "markdown",
   "metadata": {},
   "source": [
    "Můžeme opět spočítat celkový součet čtverců, reziduální součet čtverců a součty čtverců odpovídající jednotlivým proměnným."
   ]
  },
  {
   "cell_type": "code",
   "execution_count": 21,
   "metadata": {},
   "outputs": [
    {
     "data": {
      "text/plain": [
       "Call:\n",
       "   aov(formula = bmi ~ Kurak)\n",
       "\n",
       "Terms:\n",
       "                    Kurak Residuals\n",
       "Sum of Squares    41.0063 1351.3273\n",
       "Deg. of Freedom         1       165\n",
       "\n",
       "Residual standard error: 2.861794\n",
       "Estimated effects may be unbalanced"
      ]
     },
     "metadata": {},
     "output_type": "display_data"
    }
   ],
   "source": [
    "aov(bmi~Kurak)"
   ]
  },
  {
   "cell_type": "code",
   "execution_count": 22,
   "metadata": {},
   "outputs": [
    {
     "data": {
      "text/plain": [
       "Call:\n",
       "   aov(formula = bmi ~ Vzdel + Kurak)\n",
       "\n",
       "Terms:\n",
       "                    Vzdel     Kurak Residuals\n",
       "Sum of Squares    14.9034   61.8176 1315.6127\n",
       "Deg. of Freedom         2         1       163\n",
       "\n",
       "Residual standard error: 2.840993\n",
       "Estimated effects may be unbalanced"
      ]
     },
     "metadata": {},
     "output_type": "display_data"
    }
   ],
   "source": [
    "aov(bmi~Vzdel+Kurak)"
   ]
  },
  {
   "cell_type": "code",
   "execution_count": 23,
   "metadata": {},
   "outputs": [
    {
     "data": {
      "text/html": [
       "<table class=\"dataframe\">\n",
       "<caption>A anova: 3 × 5</caption>\n",
       "<thead>\n",
       "\t<tr><th></th><th scope=col>Df</th><th scope=col>Sum Sq</th><th scope=col>Mean Sq</th><th scope=col>F value</th><th scope=col>Pr(&gt;F)</th></tr>\n",
       "\t<tr><th></th><th scope=col>&lt;int&gt;</th><th scope=col>&lt;dbl&gt;</th><th scope=col>&lt;dbl&gt;</th><th scope=col>&lt;dbl&gt;</th><th scope=col>&lt;dbl&gt;</th></tr>\n",
       "</thead>\n",
       "<tbody>\n",
       "\t<tr><th scope=row>Vzdel</th><td>  2</td><td>  14.90335</td><td> 7.451675</td><td>0.9232375</td><td>0.399297927</td></tr>\n",
       "\t<tr><th scope=row>Kurak</th><td>  1</td><td>  61.81756</td><td>61.817555</td><td>7.6589878</td><td>0.006302691</td></tr>\n",
       "\t<tr><th scope=row>Residuals</th><td>163</td><td>1315.61269</td><td> 8.071244</td><td>       NA</td><td>         NA</td></tr>\n",
       "</tbody>\n",
       "</table>\n"
      ],
      "text/latex": [
       "A anova: 3 × 5\n",
       "\\begin{tabular}{r|lllll}\n",
       "  & Df & Sum Sq & Mean Sq & F value & Pr(>F)\\\\\n",
       "  & <int> & <dbl> & <dbl> & <dbl> & <dbl>\\\\\n",
       "\\hline\n",
       "\tVzdel &   2 &   14.90335 &  7.451675 & 0.9232375 & 0.399297927\\\\\n",
       "\tKurak &   1 &   61.81756 & 61.817555 & 7.6589878 & 0.006302691\\\\\n",
       "\tResiduals & 163 & 1315.61269 &  8.071244 &        NA &          NA\\\\\n",
       "\\end{tabular}\n"
      ],
      "text/markdown": [
       "\n",
       "A anova: 3 × 5\n",
       "\n",
       "| <!--/--> | Df &lt;int&gt; | Sum Sq &lt;dbl&gt; | Mean Sq &lt;dbl&gt; | F value &lt;dbl&gt; | Pr(&gt;F) &lt;dbl&gt; |\n",
       "|---|---|---|---|---|---|\n",
       "| Vzdel |   2 |   14.90335 |  7.451675 | 0.9232375 | 0.399297927 |\n",
       "| Kurak |   1 |   61.81756 | 61.817555 | 7.6589878 | 0.006302691 |\n",
       "| Residuals | 163 | 1315.61269 |  8.071244 |        NA |          NA |\n",
       "\n"
      ],
      "text/plain": [
       "          Df  Sum Sq     Mean Sq   F value   Pr(>F)     \n",
       "Vzdel       2   14.90335  7.451675 0.9232375 0.399297927\n",
       "Kurak       1   61.81756 61.817555 7.6589878 0.006302691\n",
       "Residuals 163 1315.61269  8.071244        NA          NA"
      ]
     },
     "metadata": {},
     "output_type": "display_data"
    }
   ],
   "source": [
    "anova(aov(bmi~Vzdel+Kurak))"
   ]
  },
  {
   "cell_type": "markdown",
   "metadata": {},
   "source": [
    "Pozor, výstupní tabulka udává rozklad typu I, kdy:\n",
    "- První řádek udává, o kolik se zmenší součet čtverců zahrnutím závislosti na vzdělání\n",
    "- Druhý řádek udává, o kolik se zmenší součet čtverců navíc s přidanou závislostí na kouření.\n",
    "\n",
    "- Druhý řádek tedy testuje hypotézu $\\beta_j=0$ v modelu $Y_i=\\mu+\\alpha_i+\\beta_j$, první řádek testuje $\\alpha_i=0$ v modelu $Y_i=\\mu+\\alpha_i$\n",
    "- Prohozením pořadí proměnných se změní interpretace výsledků. "
   ]
  },
  {
   "cell_type": "code",
   "execution_count": 24,
   "metadata": {},
   "outputs": [
    {
     "data": {
      "text/html": [
       "<table class=\"dataframe\">\n",
       "<caption>A anova: 3 × 5</caption>\n",
       "<thead>\n",
       "\t<tr><th></th><th scope=col>Df</th><th scope=col>Sum Sq</th><th scope=col>Mean Sq</th><th scope=col>F value</th><th scope=col>Pr(&gt;F)</th></tr>\n",
       "\t<tr><th></th><th scope=col>&lt;int&gt;</th><th scope=col>&lt;dbl&gt;</th><th scope=col>&lt;dbl&gt;</th><th scope=col>&lt;dbl&gt;</th><th scope=col>&lt;dbl&gt;</th></tr>\n",
       "</thead>\n",
       "<tbody>\n",
       "\t<tr><th scope=row>Kurak</th><td>  1</td><td>  41.00632</td><td>41.006324</td><td>5.080546</td><td>0.02552823</td></tr>\n",
       "\t<tr><th scope=row>Vzdel</th><td>  2</td><td>  35.71458</td><td>17.857291</td><td>2.212458</td><td>0.11270736</td></tr>\n",
       "\t<tr><th scope=row>Residuals</th><td>163</td><td>1315.61269</td><td> 8.071244</td><td>      NA</td><td>        NA</td></tr>\n",
       "</tbody>\n",
       "</table>\n"
      ],
      "text/latex": [
       "A anova: 3 × 5\n",
       "\\begin{tabular}{r|lllll}\n",
       "  & Df & Sum Sq & Mean Sq & F value & Pr(>F)\\\\\n",
       "  & <int> & <dbl> & <dbl> & <dbl> & <dbl>\\\\\n",
       "\\hline\n",
       "\tKurak &   1 &   41.00632 & 41.006324 & 5.080546 & 0.02552823\\\\\n",
       "\tVzdel &   2 &   35.71458 & 17.857291 & 2.212458 & 0.11270736\\\\\n",
       "\tResiduals & 163 & 1315.61269 &  8.071244 &       NA &         NA\\\\\n",
       "\\end{tabular}\n"
      ],
      "text/markdown": [
       "\n",
       "A anova: 3 × 5\n",
       "\n",
       "| <!--/--> | Df &lt;int&gt; | Sum Sq &lt;dbl&gt; | Mean Sq &lt;dbl&gt; | F value &lt;dbl&gt; | Pr(&gt;F) &lt;dbl&gt; |\n",
       "|---|---|---|---|---|---|\n",
       "| Kurak |   1 |   41.00632 | 41.006324 | 5.080546 | 0.02552823 |\n",
       "| Vzdel |   2 |   35.71458 | 17.857291 | 2.212458 | 0.11270736 |\n",
       "| Residuals | 163 | 1315.61269 |  8.071244 |       NA |         NA |\n",
       "\n"
      ],
      "text/plain": [
       "          Df  Sum Sq     Mean Sq   F value  Pr(>F)    \n",
       "Kurak       1   41.00632 41.006324 5.080546 0.02552823\n",
       "Vzdel       2   35.71458 17.857291 2.212458 0.11270736\n",
       "Residuals 163 1315.61269  8.071244       NA         NA"
      ]
     },
     "metadata": {},
     "output_type": "display_data"
    }
   ],
   "source": [
    "anova(aov(bmi~Kurak+Vzdel))"
   ]
  },
  {
   "cell_type": "markdown",
   "metadata": {},
   "source": [
    "Hodnoty odhadů regresních koeficientů získáme fitováním `lm`:"
   ]
  },
  {
   "cell_type": "code",
   "execution_count": 25,
   "metadata": {},
   "outputs": [
    {
     "data": {
      "text/plain": [
       "\n",
       "Call:\n",
       "lm(formula = bmi ~ Vzdel + Kurak)\n",
       "\n",
       "Residuals:\n",
       "    Min      1Q  Median      3Q     Max \n",
       "-5.4524 -1.9902 -0.1659  1.8380  9.8299 \n",
       "\n",
       "Coefficients:\n",
       "            Estimate Std. Error t value Pr(>|t|)    \n",
       "(Intercept)  27.7350     0.5231  53.021   <2e-16 ***\n",
       "Vzdel2       -0.6830     0.5124  -1.333   0.1844    \n",
       "Vzdel3       -1.2181     0.5928  -2.055   0.0415 *  \n",
       "KurakTRUE    -1.3374     0.4832  -2.767   0.0063 ** \n",
       "---\n",
       "Signif. codes:  0 '***' 0.001 '**' 0.01 '*' 0.05 '.' 0.1 ' ' 1\n",
       "\n",
       "Residual standard error: 2.841 on 163 degrees of freedom\n",
       "Multiple R-squared:  0.0551,\tAdjusted R-squared:  0.03771 \n",
       "F-statistic: 3.168 on 3 and 163 DF,  p-value: 0.02595\n"
      ]
     },
     "metadata": {},
     "output_type": "display_data"
    }
   ],
   "source": [
    "fitVzK=lm(bmi~Vzdel+Kurak)\n",
    "summary(fitVzK)"
   ]
  },
  {
   "cell_type": "markdown",
   "metadata": {},
   "source": [
    "Použili jsme defaultní parametrizaci kontrastů. Odhadli jsme:\n",
    "- Pro základní kombinaci faktorů (vzdělání=1, nekuřák) je průměrný bmi roven 27.7350\n",
    "- Pro středoškoláky v průměru klesá o 0.6830\n",
    "- Pro vysokoškoláky v průměru klesá o 1.2181\n",
    "- Pro kuřáky v průměru klesá o 1.3374"
   ]
  },
  {
   "cell_type": "markdown",
   "metadata": {},
   "source": [
    "Modelová matice $\\mathbf X$ je složitější:"
   ]
  },
  {
   "cell_type": "code",
   "execution_count": 26,
   "metadata": {},
   "outputs": [
    {
     "data": {
      "text/html": [
       "<table class=\"dataframe\">\n",
       "<caption>A matrix: 167 × 4 of type dbl</caption>\n",
       "<thead>\n",
       "\t<tr><th></th><th scope=col>(Intercept)</th><th scope=col>Vzdel2</th><th scope=col>Vzdel3</th><th scope=col>Kurak2</th></tr>\n",
       "</thead>\n",
       "<tbody>\n",
       "\t<tr><th scope=row>1</th><td>1</td><td>0</td><td>0</td><td>0</td></tr>\n",
       "\t<tr><th scope=row>2</th><td>1</td><td>0</td><td>0</td><td>1</td></tr>\n",
       "\t<tr><th scope=row>3</th><td>1</td><td>0</td><td>1</td><td>0</td></tr>\n",
       "\t<tr><th scope=row>4</th><td>1</td><td>0</td><td>0</td><td>1</td></tr>\n",
       "\t<tr><th scope=row>5</th><td>1</td><td>1</td><td>0</td><td>1</td></tr>\n",
       "\t<tr><th scope=row>6</th><td>1</td><td>0</td><td>0</td><td>1</td></tr>\n",
       "\t<tr><th scope=row>7</th><td>1</td><td>0</td><td>0</td><td>1</td></tr>\n",
       "\t<tr><th scope=row>8</th><td>1</td><td>0</td><td>0</td><td>0</td></tr>\n",
       "\t<tr><th scope=row>9</th><td>1</td><td>1</td><td>0</td><td>0</td></tr>\n",
       "\t<tr><th scope=row>10</th><td>1</td><td>0</td><td>1</td><td>0</td></tr>\n",
       "\t<tr><th scope=row>11</th><td>1</td><td>0</td><td>1</td><td>0</td></tr>\n",
       "\t<tr><th scope=row>12</th><td>1</td><td>0</td><td>1</td><td>0</td></tr>\n",
       "\t<tr><th scope=row>13</th><td>1</td><td>0</td><td>1</td><td>0</td></tr>\n",
       "\t<tr><th scope=row>14</th><td>1</td><td>1</td><td>0</td><td>1</td></tr>\n",
       "\t<tr><th scope=row>15</th><td>1</td><td>1</td><td>0</td><td>1</td></tr>\n",
       "\t<tr><th scope=row>16</th><td>1</td><td>1</td><td>0</td><td>0</td></tr>\n",
       "\t<tr><th scope=row>17</th><td>1</td><td>0</td><td>1</td><td>1</td></tr>\n",
       "\t<tr><th scope=row>18</th><td>1</td><td>1</td><td>0</td><td>0</td></tr>\n",
       "\t<tr><th scope=row>19</th><td>1</td><td>0</td><td>0</td><td>1</td></tr>\n",
       "\t<tr><th scope=row>20</th><td>1</td><td>0</td><td>0</td><td>1</td></tr>\n",
       "\t<tr><th scope=row>21</th><td>1</td><td>0</td><td>1</td><td>1</td></tr>\n",
       "\t<tr><th scope=row>22</th><td>1</td><td>1</td><td>0</td><td>1</td></tr>\n",
       "\t<tr><th scope=row>23</th><td>1</td><td>1</td><td>0</td><td>1</td></tr>\n",
       "\t<tr><th scope=row>24</th><td>1</td><td>1</td><td>0</td><td>1</td></tr>\n",
       "\t<tr><th scope=row>25</th><td>1</td><td>0</td><td>0</td><td>1</td></tr>\n",
       "\t<tr><th scope=row>26</th><td>1</td><td>1</td><td>0</td><td>0</td></tr>\n",
       "\t<tr><th scope=row>27</th><td>1</td><td>0</td><td>0</td><td>1</td></tr>\n",
       "\t<tr><th scope=row>28</th><td>1</td><td>1</td><td>0</td><td>1</td></tr>\n",
       "\t<tr><th scope=row>29</th><td>1</td><td>0</td><td>1</td><td>1</td></tr>\n",
       "\t<tr><th scope=row>30</th><td>1</td><td>1</td><td>0</td><td>1</td></tr>\n",
       "\t<tr><th scope=row>⋮</th><td>⋮</td><td>⋮</td><td>⋮</td><td>⋮</td></tr>\n",
       "\t<tr><th scope=row>138</th><td>1</td><td>0</td><td>0</td><td>1</td></tr>\n",
       "\t<tr><th scope=row>139</th><td>1</td><td>0</td><td>1</td><td>0</td></tr>\n",
       "\t<tr><th scope=row>140</th><td>1</td><td>0</td><td>0</td><td>0</td></tr>\n",
       "\t<tr><th scope=row>141</th><td>1</td><td>0</td><td>0</td><td>1</td></tr>\n",
       "\t<tr><th scope=row>142</th><td>1</td><td>0</td><td>0</td><td>1</td></tr>\n",
       "\t<tr><th scope=row>143</th><td>1</td><td>0</td><td>0</td><td>1</td></tr>\n",
       "\t<tr><th scope=row>144</th><td>1</td><td>0</td><td>1</td><td>1</td></tr>\n",
       "\t<tr><th scope=row>145</th><td>1</td><td>1</td><td>0</td><td>1</td></tr>\n",
       "\t<tr><th scope=row>146</th><td>1</td><td>0</td><td>1</td><td>0</td></tr>\n",
       "\t<tr><th scope=row>147</th><td>1</td><td>1</td><td>0</td><td>1</td></tr>\n",
       "\t<tr><th scope=row>148</th><td>1</td><td>0</td><td>1</td><td>1</td></tr>\n",
       "\t<tr><th scope=row>149</th><td>1</td><td>0</td><td>1</td><td>1</td></tr>\n",
       "\t<tr><th scope=row>150</th><td>1</td><td>0</td><td>0</td><td>1</td></tr>\n",
       "\t<tr><th scope=row>151</th><td>1</td><td>0</td><td>0</td><td>1</td></tr>\n",
       "\t<tr><th scope=row>152</th><td>1</td><td>0</td><td>0</td><td>0</td></tr>\n",
       "\t<tr><th scope=row>153</th><td>1</td><td>0</td><td>0</td><td>1</td></tr>\n",
       "\t<tr><th scope=row>154</th><td>1</td><td>0</td><td>1</td><td>0</td></tr>\n",
       "\t<tr><th scope=row>155</th><td>1</td><td>1</td><td>0</td><td>1</td></tr>\n",
       "\t<tr><th scope=row>156</th><td>1</td><td>1</td><td>0</td><td>0</td></tr>\n",
       "\t<tr><th scope=row>157</th><td>1</td><td>0</td><td>0</td><td>0</td></tr>\n",
       "\t<tr><th scope=row>158</th><td>1</td><td>0</td><td>0</td><td>1</td></tr>\n",
       "\t<tr><th scope=row>159</th><td>1</td><td>0</td><td>1</td><td>1</td></tr>\n",
       "\t<tr><th scope=row>160</th><td>1</td><td>1</td><td>0</td><td>1</td></tr>\n",
       "\t<tr><th scope=row>161</th><td>1</td><td>1</td><td>0</td><td>0</td></tr>\n",
       "\t<tr><th scope=row>162</th><td>1</td><td>0</td><td>0</td><td>0</td></tr>\n",
       "\t<tr><th scope=row>163</th><td>1</td><td>0</td><td>0</td><td>1</td></tr>\n",
       "\t<tr><th scope=row>164</th><td>1</td><td>1</td><td>0</td><td>0</td></tr>\n",
       "\t<tr><th scope=row>165</th><td>1</td><td>0</td><td>0</td><td>1</td></tr>\n",
       "\t<tr><th scope=row>166</th><td>1</td><td>1</td><td>0</td><td>1</td></tr>\n",
       "\t<tr><th scope=row>167</th><td>1</td><td>0</td><td>0</td><td>1</td></tr>\n",
       "</tbody>\n",
       "</table>\n"
      ],
      "text/latex": [
       "A matrix: 167 × 4 of type dbl\n",
       "\\begin{tabular}{r|llll}\n",
       "  & (Intercept) & Vzdel2 & Vzdel3 & Kurak2\\\\\n",
       "\\hline\n",
       "\t1 & 1 & 0 & 0 & 0\\\\\n",
       "\t2 & 1 & 0 & 0 & 1\\\\\n",
       "\t3 & 1 & 0 & 1 & 0\\\\\n",
       "\t4 & 1 & 0 & 0 & 1\\\\\n",
       "\t5 & 1 & 1 & 0 & 1\\\\\n",
       "\t6 & 1 & 0 & 0 & 1\\\\\n",
       "\t7 & 1 & 0 & 0 & 1\\\\\n",
       "\t8 & 1 & 0 & 0 & 0\\\\\n",
       "\t9 & 1 & 1 & 0 & 0\\\\\n",
       "\t10 & 1 & 0 & 1 & 0\\\\\n",
       "\t11 & 1 & 0 & 1 & 0\\\\\n",
       "\t12 & 1 & 0 & 1 & 0\\\\\n",
       "\t13 & 1 & 0 & 1 & 0\\\\\n",
       "\t14 & 1 & 1 & 0 & 1\\\\\n",
       "\t15 & 1 & 1 & 0 & 1\\\\\n",
       "\t16 & 1 & 1 & 0 & 0\\\\\n",
       "\t17 & 1 & 0 & 1 & 1\\\\\n",
       "\t18 & 1 & 1 & 0 & 0\\\\\n",
       "\t19 & 1 & 0 & 0 & 1\\\\\n",
       "\t20 & 1 & 0 & 0 & 1\\\\\n",
       "\t21 & 1 & 0 & 1 & 1\\\\\n",
       "\t22 & 1 & 1 & 0 & 1\\\\\n",
       "\t23 & 1 & 1 & 0 & 1\\\\\n",
       "\t24 & 1 & 1 & 0 & 1\\\\\n",
       "\t25 & 1 & 0 & 0 & 1\\\\\n",
       "\t26 & 1 & 1 & 0 & 0\\\\\n",
       "\t27 & 1 & 0 & 0 & 1\\\\\n",
       "\t28 & 1 & 1 & 0 & 1\\\\\n",
       "\t29 & 1 & 0 & 1 & 1\\\\\n",
       "\t30 & 1 & 1 & 0 & 1\\\\\n",
       "\t⋮ & ⋮ & ⋮ & ⋮ & ⋮\\\\\n",
       "\t138 & 1 & 0 & 0 & 1\\\\\n",
       "\t139 & 1 & 0 & 1 & 0\\\\\n",
       "\t140 & 1 & 0 & 0 & 0\\\\\n",
       "\t141 & 1 & 0 & 0 & 1\\\\\n",
       "\t142 & 1 & 0 & 0 & 1\\\\\n",
       "\t143 & 1 & 0 & 0 & 1\\\\\n",
       "\t144 & 1 & 0 & 1 & 1\\\\\n",
       "\t145 & 1 & 1 & 0 & 1\\\\\n",
       "\t146 & 1 & 0 & 1 & 0\\\\\n",
       "\t147 & 1 & 1 & 0 & 1\\\\\n",
       "\t148 & 1 & 0 & 1 & 1\\\\\n",
       "\t149 & 1 & 0 & 1 & 1\\\\\n",
       "\t150 & 1 & 0 & 0 & 1\\\\\n",
       "\t151 & 1 & 0 & 0 & 1\\\\\n",
       "\t152 & 1 & 0 & 0 & 0\\\\\n",
       "\t153 & 1 & 0 & 0 & 1\\\\\n",
       "\t154 & 1 & 0 & 1 & 0\\\\\n",
       "\t155 & 1 & 1 & 0 & 1\\\\\n",
       "\t156 & 1 & 1 & 0 & 0\\\\\n",
       "\t157 & 1 & 0 & 0 & 0\\\\\n",
       "\t158 & 1 & 0 & 0 & 1\\\\\n",
       "\t159 & 1 & 0 & 1 & 1\\\\\n",
       "\t160 & 1 & 1 & 0 & 1\\\\\n",
       "\t161 & 1 & 1 & 0 & 0\\\\\n",
       "\t162 & 1 & 0 & 0 & 0\\\\\n",
       "\t163 & 1 & 0 & 0 & 1\\\\\n",
       "\t164 & 1 & 1 & 0 & 0\\\\\n",
       "\t165 & 1 & 0 & 0 & 1\\\\\n",
       "\t166 & 1 & 1 & 0 & 1\\\\\n",
       "\t167 & 1 & 0 & 0 & 1\\\\\n",
       "\\end{tabular}\n"
      ],
      "text/markdown": [
       "\n",
       "A matrix: 167 × 4 of type dbl\n",
       "\n",
       "| <!--/--> | (Intercept) | Vzdel2 | Vzdel3 | Kurak2 |\n",
       "|---|---|---|---|---|\n",
       "| 1 | 1 | 0 | 0 | 0 |\n",
       "| 2 | 1 | 0 | 0 | 1 |\n",
       "| 3 | 1 | 0 | 1 | 0 |\n",
       "| 4 | 1 | 0 | 0 | 1 |\n",
       "| 5 | 1 | 1 | 0 | 1 |\n",
       "| 6 | 1 | 0 | 0 | 1 |\n",
       "| 7 | 1 | 0 | 0 | 1 |\n",
       "| 8 | 1 | 0 | 0 | 0 |\n",
       "| 9 | 1 | 1 | 0 | 0 |\n",
       "| 10 | 1 | 0 | 1 | 0 |\n",
       "| 11 | 1 | 0 | 1 | 0 |\n",
       "| 12 | 1 | 0 | 1 | 0 |\n",
       "| 13 | 1 | 0 | 1 | 0 |\n",
       "| 14 | 1 | 1 | 0 | 1 |\n",
       "| 15 | 1 | 1 | 0 | 1 |\n",
       "| 16 | 1 | 1 | 0 | 0 |\n",
       "| 17 | 1 | 0 | 1 | 1 |\n",
       "| 18 | 1 | 1 | 0 | 0 |\n",
       "| 19 | 1 | 0 | 0 | 1 |\n",
       "| 20 | 1 | 0 | 0 | 1 |\n",
       "| 21 | 1 | 0 | 1 | 1 |\n",
       "| 22 | 1 | 1 | 0 | 1 |\n",
       "| 23 | 1 | 1 | 0 | 1 |\n",
       "| 24 | 1 | 1 | 0 | 1 |\n",
       "| 25 | 1 | 0 | 0 | 1 |\n",
       "| 26 | 1 | 1 | 0 | 0 |\n",
       "| 27 | 1 | 0 | 0 | 1 |\n",
       "| 28 | 1 | 1 | 0 | 1 |\n",
       "| 29 | 1 | 0 | 1 | 1 |\n",
       "| 30 | 1 | 1 | 0 | 1 |\n",
       "| ⋮ | ⋮ | ⋮ | ⋮ | ⋮ |\n",
       "| 138 | 1 | 0 | 0 | 1 |\n",
       "| 139 | 1 | 0 | 1 | 0 |\n",
       "| 140 | 1 | 0 | 0 | 0 |\n",
       "| 141 | 1 | 0 | 0 | 1 |\n",
       "| 142 | 1 | 0 | 0 | 1 |\n",
       "| 143 | 1 | 0 | 0 | 1 |\n",
       "| 144 | 1 | 0 | 1 | 1 |\n",
       "| 145 | 1 | 1 | 0 | 1 |\n",
       "| 146 | 1 | 0 | 1 | 0 |\n",
       "| 147 | 1 | 1 | 0 | 1 |\n",
       "| 148 | 1 | 0 | 1 | 1 |\n",
       "| 149 | 1 | 0 | 1 | 1 |\n",
       "| 150 | 1 | 0 | 0 | 1 |\n",
       "| 151 | 1 | 0 | 0 | 1 |\n",
       "| 152 | 1 | 0 | 0 | 0 |\n",
       "| 153 | 1 | 0 | 0 | 1 |\n",
       "| 154 | 1 | 0 | 1 | 0 |\n",
       "| 155 | 1 | 1 | 0 | 1 |\n",
       "| 156 | 1 | 1 | 0 | 0 |\n",
       "| 157 | 1 | 0 | 0 | 0 |\n",
       "| 158 | 1 | 0 | 0 | 1 |\n",
       "| 159 | 1 | 0 | 1 | 1 |\n",
       "| 160 | 1 | 1 | 0 | 1 |\n",
       "| 161 | 1 | 1 | 0 | 0 |\n",
       "| 162 | 1 | 0 | 0 | 0 |\n",
       "| 163 | 1 | 0 | 0 | 1 |\n",
       "| 164 | 1 | 1 | 0 | 0 |\n",
       "| 165 | 1 | 0 | 0 | 1 |\n",
       "| 166 | 1 | 1 | 0 | 1 |\n",
       "| 167 | 1 | 0 | 0 | 1 |\n",
       "\n"
      ],
      "text/plain": [
       "    (Intercept) Vzdel2 Vzdel3 Kurak2\n",
       "1   1           0      0      0     \n",
       "2   1           0      0      1     \n",
       "3   1           0      1      0     \n",
       "4   1           0      0      1     \n",
       "5   1           1      0      1     \n",
       "6   1           0      0      1     \n",
       "7   1           0      0      1     \n",
       "8   1           0      0      0     \n",
       "9   1           1      0      0     \n",
       "10  1           0      1      0     \n",
       "11  1           0      1      0     \n",
       "12  1           0      1      0     \n",
       "13  1           0      1      0     \n",
       "14  1           1      0      1     \n",
       "15  1           1      0      1     \n",
       "16  1           1      0      0     \n",
       "17  1           0      1      1     \n",
       "18  1           1      0      0     \n",
       "19  1           0      0      1     \n",
       "20  1           0      0      1     \n",
       "21  1           0      1      1     \n",
       "22  1           1      0      1     \n",
       "23  1           1      0      1     \n",
       "24  1           1      0      1     \n",
       "25  1           0      0      1     \n",
       "26  1           1      0      0     \n",
       "27  1           0      0      1     \n",
       "28  1           1      0      1     \n",
       "29  1           0      1      1     \n",
       "30  1           1      0      1     \n",
       "⋮   ⋮           ⋮      ⋮      ⋮     \n",
       "138 1           0      0      1     \n",
       "139 1           0      1      0     \n",
       "140 1           0      0      0     \n",
       "141 1           0      0      1     \n",
       "142 1           0      0      1     \n",
       "143 1           0      0      1     \n",
       "144 1           0      1      1     \n",
       "145 1           1      0      1     \n",
       "146 1           0      1      0     \n",
       "147 1           1      0      1     \n",
       "148 1           0      1      1     \n",
       "149 1           0      1      1     \n",
       "150 1           0      0      1     \n",
       "151 1           0      0      1     \n",
       "152 1           0      0      0     \n",
       "153 1           0      0      1     \n",
       "154 1           0      1      0     \n",
       "155 1           1      0      1     \n",
       "156 1           1      0      0     \n",
       "157 1           0      0      0     \n",
       "158 1           0      0      1     \n",
       "159 1           0      1      1     \n",
       "160 1           1      0      1     \n",
       "161 1           1      0      0     \n",
       "162 1           0      0      0     \n",
       "163 1           0      0      1     \n",
       "164 1           1      0      0     \n",
       "165 1           0      0      1     \n",
       "166 1           1      0      1     \n",
       "167 1           0      0      1     "
      ]
     },
     "metadata": {},
     "output_type": "display_data"
    }
   ],
   "source": [
    "fitVzK=lm(bmi~Vzdel+Kurak,contr=list(Vzdel = contr.treatment,Kurak=contr.treatment))\n",
    "model.matrix(fitVzK)"
   ]
  },
  {
   "cell_type": "code",
   "execution_count": 27,
   "metadata": {},
   "outputs": [
    {
     "data": {
      "text/html": [
       "<dl>\n",
       "\t<dt>$Vzdel</dt>\n",
       "\t\t<dd><table class=\"dataframe\">\n",
       "<caption>A matrix: 3 × 2 of type dbl</caption>\n",
       "<thead>\n",
       "\t<tr><th></th><th scope=col>2</th><th scope=col>3</th></tr>\n",
       "</thead>\n",
       "<tbody>\n",
       "\t<tr><th scope=row>1</th><td>0</td><td>0</td></tr>\n",
       "\t<tr><th scope=row>2</th><td>1</td><td>0</td></tr>\n",
       "\t<tr><th scope=row>3</th><td>0</td><td>1</td></tr>\n",
       "</tbody>\n",
       "</table>\n",
       "</dd>\n",
       "\t<dt>$Kurak</dt>\n",
       "\t\t<dd><table class=\"dataframe\">\n",
       "<caption>A matrix: 2 × 1 of type dbl</caption>\n",
       "<thead>\n",
       "\t<tr><th></th><th scope=col>2</th></tr>\n",
       "</thead>\n",
       "<tbody>\n",
       "\t<tr><th scope=row>FALSE</th><td>0</td></tr>\n",
       "\t<tr><th scope=row>TRUE</th><td>1</td></tr>\n",
       "</tbody>\n",
       "</table>\n",
       "</dd>\n",
       "</dl>\n"
      ],
      "text/latex": [
       "\\begin{description}\n",
       "\\item[\\$Vzdel] A matrix: 3 × 2 of type dbl\n",
       "\\begin{tabular}{r|ll}\n",
       "  & 2 & 3\\\\\n",
       "\\hline\n",
       "\t1 & 0 & 0\\\\\n",
       "\t2 & 1 & 0\\\\\n",
       "\t3 & 0 & 1\\\\\n",
       "\\end{tabular}\n",
       "\n",
       "\\item[\\$Kurak] A matrix: 2 × 1 of type dbl\n",
       "\\begin{tabular}{r|l}\n",
       "  & 2\\\\\n",
       "\\hline\n",
       "\tFALSE & 0\\\\\n",
       "\tTRUE & 1\\\\\n",
       "\\end{tabular}\n",
       "\n",
       "\\end{description}\n"
      ],
      "text/markdown": [
       "$Vzdel\n",
       ":   \n",
       "A matrix: 3 × 2 of type dbl\n",
       "\n",
       "| <!--/--> | 2 | 3 |\n",
       "|---|---|---|\n",
       "| 1 | 0 | 0 |\n",
       "| 2 | 1 | 0 |\n",
       "| 3 | 0 | 1 |\n",
       "\n",
       "\n",
       "$Kurak\n",
       ":   \n",
       "A matrix: 2 × 1 of type dbl\n",
       "\n",
       "| <!--/--> | 2 |\n",
       "|---|---|\n",
       "| FALSE | 0 |\n",
       "| TRUE | 1 |\n",
       "\n",
       "\n",
       "\n",
       "\n"
      ],
      "text/plain": [
       "$Vzdel\n",
       "  2 3\n",
       "1 0 0\n",
       "2 1 0\n",
       "3 0 1\n",
       "\n",
       "$Kurak\n",
       "      2\n",
       "FALSE 0\n",
       "TRUE  1\n"
      ]
     },
     "metadata": {},
     "output_type": "display_data"
    }
   ],
   "source": [
    "attributes(model.matrix(fitVzK))$contrasts"
   ]
  },
  {
   "cell_type": "markdown",
   "metadata": {},
   "source": [
    "## Dvojné třídění s interakcemi\n",
    "\n",
    "Uvažujme model $$Y_{ijk}=\\mu+\\alpha_i+\\beta_j+\\gamma_{ij}+\\epsilon_{ijk}.$$\n",
    "\n",
    "V každé kombinaci kategorií může být střední hodnota posunuta jinak. "
   ]
  },
  {
   "cell_type": "code",
   "execution_count": 28,
   "metadata": {},
   "outputs": [
    {
     "data": {
      "text/plain": [
       "Call:\n",
       "   aov(formula = bmi ~ Vzdel * Kurak)\n",
       "\n",
       "Terms:\n",
       "                    Vzdel     Kurak Vzdel:Kurak Residuals\n",
       "Sum of Squares    14.9034   61.8176     12.1705 1303.4422\n",
       "Deg. of Freedom         2         1           2       161\n",
       "\n",
       "Residual standard error: 2.845332\n",
       "Estimated effects may be unbalanced"
      ]
     },
     "metadata": {},
     "output_type": "display_data"
    }
   ],
   "source": [
    "aov(bmi~Vzdel*Kurak)"
   ]
  },
  {
   "cell_type": "code",
   "execution_count": 29,
   "metadata": {},
   "outputs": [
    {
     "data": {
      "text/html": [
       "<table class=\"dataframe\">\n",
       "<caption>A anova: 4 × 5</caption>\n",
       "<thead>\n",
       "\t<tr><th></th><th scope=col>Df</th><th scope=col>Sum Sq</th><th scope=col>Mean Sq</th><th scope=col>F value</th><th scope=col>Pr(&gt;F)</th></tr>\n",
       "\t<tr><th></th><th scope=col>&lt;int&gt;</th><th scope=col>&lt;dbl&gt;</th><th scope=col>&lt;dbl&gt;</th><th scope=col>&lt;dbl&gt;</th><th scope=col>&lt;dbl&gt;</th></tr>\n",
       "</thead>\n",
       "<tbody>\n",
       "\t<tr><th scope=row>Vzdel</th><td>  2</td><td>  14.90335</td><td> 7.451675</td><td>0.9204242</td><td>0.400435758</td></tr>\n",
       "\t<tr><th scope=row>Kurak</th><td>  1</td><td>  61.81756</td><td>61.817555</td><td>7.6356484</td><td>0.006389387</td></tr>\n",
       "\t<tr><th scope=row>Vzdel:Kurak</th><td>  2</td><td>  12.17049</td><td> 6.085245</td><td>0.7516439</td><td>0.473238155</td></tr>\n",
       "\t<tr><th scope=row>Residuals</th><td>161</td><td>1303.44220</td><td> 8.095914</td><td>       NA</td><td>         NA</td></tr>\n",
       "</tbody>\n",
       "</table>\n"
      ],
      "text/latex": [
       "A anova: 4 × 5\n",
       "\\begin{tabular}{r|lllll}\n",
       "  & Df & Sum Sq & Mean Sq & F value & Pr(>F)\\\\\n",
       "  & <int> & <dbl> & <dbl> & <dbl> & <dbl>\\\\\n",
       "\\hline\n",
       "\tVzdel &   2 &   14.90335 &  7.451675 & 0.9204242 & 0.400435758\\\\\n",
       "\tKurak &   1 &   61.81756 & 61.817555 & 7.6356484 & 0.006389387\\\\\n",
       "\tVzdel:Kurak &   2 &   12.17049 &  6.085245 & 0.7516439 & 0.473238155\\\\\n",
       "\tResiduals & 161 & 1303.44220 &  8.095914 &        NA &          NA\\\\\n",
       "\\end{tabular}\n"
      ],
      "text/markdown": [
       "\n",
       "A anova: 4 × 5\n",
       "\n",
       "| <!--/--> | Df &lt;int&gt; | Sum Sq &lt;dbl&gt; | Mean Sq &lt;dbl&gt; | F value &lt;dbl&gt; | Pr(&gt;F) &lt;dbl&gt; |\n",
       "|---|---|---|---|---|---|\n",
       "| Vzdel |   2 |   14.90335 |  7.451675 | 0.9204242 | 0.400435758 |\n",
       "| Kurak |   1 |   61.81756 | 61.817555 | 7.6356484 | 0.006389387 |\n",
       "| Vzdel:Kurak |   2 |   12.17049 |  6.085245 | 0.7516439 | 0.473238155 |\n",
       "| Residuals | 161 | 1303.44220 |  8.095914 |        NA |          NA |\n",
       "\n"
      ],
      "text/plain": [
       "            Df  Sum Sq     Mean Sq   F value   Pr(>F)     \n",
       "Vzdel         2   14.90335  7.451675 0.9204242 0.400435758\n",
       "Kurak         1   61.81756 61.817555 7.6356484 0.006389387\n",
       "Vzdel:Kurak   2   12.17049  6.085245 0.7516439 0.473238155\n",
       "Residuals   161 1303.44220  8.095914        NA          NA"
      ]
     },
     "metadata": {},
     "output_type": "display_data"
    }
   ],
   "source": [
    "anova(aov(bmi~Vzdel*Kurak))"
   ]
  },
  {
   "cell_type": "markdown",
   "metadata": {},
   "source": [
    "p-hodnota testu nulovosti interakcí je 0.473238155, takže je můžeme považovat za nevýznamné."
   ]
  },
  {
   "cell_type": "markdown",
   "metadata": {},
   "source": [
    "Odhady regresních koeficientů opět získáme pomocí `lm`:"
   ]
  },
  {
   "cell_type": "code",
   "execution_count": 30,
   "metadata": {},
   "outputs": [
    {
     "data": {
      "text/plain": [
       "\n",
       "Call:\n",
       "lm(formula = bmi ~ Vzdel * Kurak)\n",
       "\n",
       "Residuals:\n",
       "    Min      1Q  Median      3Q     Max \n",
       "-5.4694 -1.9660 -0.1745  1.9363  9.8342 \n",
       "\n",
       "Coefficients:\n",
       "                 Estimate Std. Error t value Pr(>|t|)    \n",
       "(Intercept)       27.7520     0.7892  35.167   <2e-16 ***\n",
       "Vzdel2            -0.3216     0.9954  -0.323    0.747    \n",
       "Vzdel3            -1.6068     0.9873  -1.627    0.106    \n",
       "KurakTRUE         -1.3586     0.8823  -1.540    0.126    \n",
       "Vzdel2:KurakTRUE  -0.5707     1.1636  -0.490    0.624    \n",
       "Vzdel3:KurakTRUE   0.8678     1.2571   0.690    0.491    \n",
       "---\n",
       "Signif. codes:  0 '***' 0.001 '**' 0.01 '*' 0.05 '.' 0.1 ' ' 1\n",
       "\n",
       "Residual standard error: 2.845 on 161 degrees of freedom\n",
       "Multiple R-squared:  0.06384,\tAdjusted R-squared:  0.03477 \n",
       "F-statistic: 2.196 on 5 and 161 DF,  p-value: 0.05723\n"
      ]
     },
     "metadata": {},
     "output_type": "display_data"
    }
   ],
   "source": [
    "fitVzKint=lm(bmi~Vzdel*Kurak)\n",
    "summary(fitVzKint)"
   ]
  },
  {
   "cell_type": "markdown",
   "metadata": {},
   "source": [
    "Podle t-test nulovosti regresních koeficientů by kromě absolutního členu nic nevyšlo významné. Pozor, to neznamená, že můžeme všechny členy vynechat (rozmyslete).  \n",
    "\n",
    "Modelovací matice obsahuje další sloupce:"
   ]
  },
  {
   "cell_type": "code",
   "execution_count": 31,
   "metadata": {},
   "outputs": [
    {
     "data": {
      "text/html": [
       "<table class=\"dataframe\">\n",
       "<caption>A matrix: 167 × 6 of type dbl</caption>\n",
       "<thead>\n",
       "\t<tr><th></th><th scope=col>(Intercept)</th><th scope=col>Vzdel2</th><th scope=col>Vzdel3</th><th scope=col>KurakTRUE</th><th scope=col>Vzdel2:KurakTRUE</th><th scope=col>Vzdel3:KurakTRUE</th></tr>\n",
       "</thead>\n",
       "<tbody>\n",
       "\t<tr><th scope=row>1</th><td>1</td><td>0</td><td>0</td><td>0</td><td>0</td><td>0</td></tr>\n",
       "\t<tr><th scope=row>2</th><td>1</td><td>0</td><td>0</td><td>1</td><td>0</td><td>0</td></tr>\n",
       "\t<tr><th scope=row>3</th><td>1</td><td>0</td><td>1</td><td>0</td><td>0</td><td>0</td></tr>\n",
       "\t<tr><th scope=row>4</th><td>1</td><td>0</td><td>0</td><td>1</td><td>0</td><td>0</td></tr>\n",
       "\t<tr><th scope=row>5</th><td>1</td><td>1</td><td>0</td><td>1</td><td>1</td><td>0</td></tr>\n",
       "\t<tr><th scope=row>6</th><td>1</td><td>0</td><td>0</td><td>1</td><td>0</td><td>0</td></tr>\n",
       "\t<tr><th scope=row>7</th><td>1</td><td>0</td><td>0</td><td>1</td><td>0</td><td>0</td></tr>\n",
       "\t<tr><th scope=row>8</th><td>1</td><td>0</td><td>0</td><td>0</td><td>0</td><td>0</td></tr>\n",
       "\t<tr><th scope=row>9</th><td>1</td><td>1</td><td>0</td><td>0</td><td>0</td><td>0</td></tr>\n",
       "\t<tr><th scope=row>10</th><td>1</td><td>0</td><td>1</td><td>0</td><td>0</td><td>0</td></tr>\n",
       "\t<tr><th scope=row>11</th><td>1</td><td>0</td><td>1</td><td>0</td><td>0</td><td>0</td></tr>\n",
       "\t<tr><th scope=row>12</th><td>1</td><td>0</td><td>1</td><td>0</td><td>0</td><td>0</td></tr>\n",
       "\t<tr><th scope=row>13</th><td>1</td><td>0</td><td>1</td><td>0</td><td>0</td><td>0</td></tr>\n",
       "\t<tr><th scope=row>14</th><td>1</td><td>1</td><td>0</td><td>1</td><td>1</td><td>0</td></tr>\n",
       "\t<tr><th scope=row>15</th><td>1</td><td>1</td><td>0</td><td>1</td><td>1</td><td>0</td></tr>\n",
       "\t<tr><th scope=row>16</th><td>1</td><td>1</td><td>0</td><td>0</td><td>0</td><td>0</td></tr>\n",
       "\t<tr><th scope=row>17</th><td>1</td><td>0</td><td>1</td><td>1</td><td>0</td><td>1</td></tr>\n",
       "\t<tr><th scope=row>18</th><td>1</td><td>1</td><td>0</td><td>0</td><td>0</td><td>0</td></tr>\n",
       "\t<tr><th scope=row>19</th><td>1</td><td>0</td><td>0</td><td>1</td><td>0</td><td>0</td></tr>\n",
       "\t<tr><th scope=row>20</th><td>1</td><td>0</td><td>0</td><td>1</td><td>0</td><td>0</td></tr>\n",
       "\t<tr><th scope=row>21</th><td>1</td><td>0</td><td>1</td><td>1</td><td>0</td><td>1</td></tr>\n",
       "\t<tr><th scope=row>22</th><td>1</td><td>1</td><td>0</td><td>1</td><td>1</td><td>0</td></tr>\n",
       "\t<tr><th scope=row>23</th><td>1</td><td>1</td><td>0</td><td>1</td><td>1</td><td>0</td></tr>\n",
       "\t<tr><th scope=row>24</th><td>1</td><td>1</td><td>0</td><td>1</td><td>1</td><td>0</td></tr>\n",
       "\t<tr><th scope=row>25</th><td>1</td><td>0</td><td>0</td><td>1</td><td>0</td><td>0</td></tr>\n",
       "\t<tr><th scope=row>26</th><td>1</td><td>1</td><td>0</td><td>0</td><td>0</td><td>0</td></tr>\n",
       "\t<tr><th scope=row>27</th><td>1</td><td>0</td><td>0</td><td>1</td><td>0</td><td>0</td></tr>\n",
       "\t<tr><th scope=row>28</th><td>1</td><td>1</td><td>0</td><td>1</td><td>1</td><td>0</td></tr>\n",
       "\t<tr><th scope=row>29</th><td>1</td><td>0</td><td>1</td><td>1</td><td>0</td><td>1</td></tr>\n",
       "\t<tr><th scope=row>30</th><td>1</td><td>1</td><td>0</td><td>1</td><td>1</td><td>0</td></tr>\n",
       "\t<tr><th scope=row>⋮</th><td>⋮</td><td>⋮</td><td>⋮</td><td>⋮</td><td>⋮</td><td>⋮</td></tr>\n",
       "\t<tr><th scope=row>138</th><td>1</td><td>0</td><td>0</td><td>1</td><td>0</td><td>0</td></tr>\n",
       "\t<tr><th scope=row>139</th><td>1</td><td>0</td><td>1</td><td>0</td><td>0</td><td>0</td></tr>\n",
       "\t<tr><th scope=row>140</th><td>1</td><td>0</td><td>0</td><td>0</td><td>0</td><td>0</td></tr>\n",
       "\t<tr><th scope=row>141</th><td>1</td><td>0</td><td>0</td><td>1</td><td>0</td><td>0</td></tr>\n",
       "\t<tr><th scope=row>142</th><td>1</td><td>0</td><td>0</td><td>1</td><td>0</td><td>0</td></tr>\n",
       "\t<tr><th scope=row>143</th><td>1</td><td>0</td><td>0</td><td>1</td><td>0</td><td>0</td></tr>\n",
       "\t<tr><th scope=row>144</th><td>1</td><td>0</td><td>1</td><td>1</td><td>0</td><td>1</td></tr>\n",
       "\t<tr><th scope=row>145</th><td>1</td><td>1</td><td>0</td><td>1</td><td>1</td><td>0</td></tr>\n",
       "\t<tr><th scope=row>146</th><td>1</td><td>0</td><td>1</td><td>0</td><td>0</td><td>0</td></tr>\n",
       "\t<tr><th scope=row>147</th><td>1</td><td>1</td><td>0</td><td>1</td><td>1</td><td>0</td></tr>\n",
       "\t<tr><th scope=row>148</th><td>1</td><td>0</td><td>1</td><td>1</td><td>0</td><td>1</td></tr>\n",
       "\t<tr><th scope=row>149</th><td>1</td><td>0</td><td>1</td><td>1</td><td>0</td><td>1</td></tr>\n",
       "\t<tr><th scope=row>150</th><td>1</td><td>0</td><td>0</td><td>1</td><td>0</td><td>0</td></tr>\n",
       "\t<tr><th scope=row>151</th><td>1</td><td>0</td><td>0</td><td>1</td><td>0</td><td>0</td></tr>\n",
       "\t<tr><th scope=row>152</th><td>1</td><td>0</td><td>0</td><td>0</td><td>0</td><td>0</td></tr>\n",
       "\t<tr><th scope=row>153</th><td>1</td><td>0</td><td>0</td><td>1</td><td>0</td><td>0</td></tr>\n",
       "\t<tr><th scope=row>154</th><td>1</td><td>0</td><td>1</td><td>0</td><td>0</td><td>0</td></tr>\n",
       "\t<tr><th scope=row>155</th><td>1</td><td>1</td><td>0</td><td>1</td><td>1</td><td>0</td></tr>\n",
       "\t<tr><th scope=row>156</th><td>1</td><td>1</td><td>0</td><td>0</td><td>0</td><td>0</td></tr>\n",
       "\t<tr><th scope=row>157</th><td>1</td><td>0</td><td>0</td><td>0</td><td>0</td><td>0</td></tr>\n",
       "\t<tr><th scope=row>158</th><td>1</td><td>0</td><td>0</td><td>1</td><td>0</td><td>0</td></tr>\n",
       "\t<tr><th scope=row>159</th><td>1</td><td>0</td><td>1</td><td>1</td><td>0</td><td>1</td></tr>\n",
       "\t<tr><th scope=row>160</th><td>1</td><td>1</td><td>0</td><td>1</td><td>1</td><td>0</td></tr>\n",
       "\t<tr><th scope=row>161</th><td>1</td><td>1</td><td>0</td><td>0</td><td>0</td><td>0</td></tr>\n",
       "\t<tr><th scope=row>162</th><td>1</td><td>0</td><td>0</td><td>0</td><td>0</td><td>0</td></tr>\n",
       "\t<tr><th scope=row>163</th><td>1</td><td>0</td><td>0</td><td>1</td><td>0</td><td>0</td></tr>\n",
       "\t<tr><th scope=row>164</th><td>1</td><td>1</td><td>0</td><td>0</td><td>0</td><td>0</td></tr>\n",
       "\t<tr><th scope=row>165</th><td>1</td><td>0</td><td>0</td><td>1</td><td>0</td><td>0</td></tr>\n",
       "\t<tr><th scope=row>166</th><td>1</td><td>1</td><td>0</td><td>1</td><td>1</td><td>0</td></tr>\n",
       "\t<tr><th scope=row>167</th><td>1</td><td>0</td><td>0</td><td>1</td><td>0</td><td>0</td></tr>\n",
       "</tbody>\n",
       "</table>\n"
      ],
      "text/latex": [
       "A matrix: 167 × 6 of type dbl\n",
       "\\begin{tabular}{r|llllll}\n",
       "  & (Intercept) & Vzdel2 & Vzdel3 & KurakTRUE & Vzdel2:KurakTRUE & Vzdel3:KurakTRUE\\\\\n",
       "\\hline\n",
       "\t1 & 1 & 0 & 0 & 0 & 0 & 0\\\\\n",
       "\t2 & 1 & 0 & 0 & 1 & 0 & 0\\\\\n",
       "\t3 & 1 & 0 & 1 & 0 & 0 & 0\\\\\n",
       "\t4 & 1 & 0 & 0 & 1 & 0 & 0\\\\\n",
       "\t5 & 1 & 1 & 0 & 1 & 1 & 0\\\\\n",
       "\t6 & 1 & 0 & 0 & 1 & 0 & 0\\\\\n",
       "\t7 & 1 & 0 & 0 & 1 & 0 & 0\\\\\n",
       "\t8 & 1 & 0 & 0 & 0 & 0 & 0\\\\\n",
       "\t9 & 1 & 1 & 0 & 0 & 0 & 0\\\\\n",
       "\t10 & 1 & 0 & 1 & 0 & 0 & 0\\\\\n",
       "\t11 & 1 & 0 & 1 & 0 & 0 & 0\\\\\n",
       "\t12 & 1 & 0 & 1 & 0 & 0 & 0\\\\\n",
       "\t13 & 1 & 0 & 1 & 0 & 0 & 0\\\\\n",
       "\t14 & 1 & 1 & 0 & 1 & 1 & 0\\\\\n",
       "\t15 & 1 & 1 & 0 & 1 & 1 & 0\\\\\n",
       "\t16 & 1 & 1 & 0 & 0 & 0 & 0\\\\\n",
       "\t17 & 1 & 0 & 1 & 1 & 0 & 1\\\\\n",
       "\t18 & 1 & 1 & 0 & 0 & 0 & 0\\\\\n",
       "\t19 & 1 & 0 & 0 & 1 & 0 & 0\\\\\n",
       "\t20 & 1 & 0 & 0 & 1 & 0 & 0\\\\\n",
       "\t21 & 1 & 0 & 1 & 1 & 0 & 1\\\\\n",
       "\t22 & 1 & 1 & 0 & 1 & 1 & 0\\\\\n",
       "\t23 & 1 & 1 & 0 & 1 & 1 & 0\\\\\n",
       "\t24 & 1 & 1 & 0 & 1 & 1 & 0\\\\\n",
       "\t25 & 1 & 0 & 0 & 1 & 0 & 0\\\\\n",
       "\t26 & 1 & 1 & 0 & 0 & 0 & 0\\\\\n",
       "\t27 & 1 & 0 & 0 & 1 & 0 & 0\\\\\n",
       "\t28 & 1 & 1 & 0 & 1 & 1 & 0\\\\\n",
       "\t29 & 1 & 0 & 1 & 1 & 0 & 1\\\\\n",
       "\t30 & 1 & 1 & 0 & 1 & 1 & 0\\\\\n",
       "\t⋮ & ⋮ & ⋮ & ⋮ & ⋮ & ⋮ & ⋮\\\\\n",
       "\t138 & 1 & 0 & 0 & 1 & 0 & 0\\\\\n",
       "\t139 & 1 & 0 & 1 & 0 & 0 & 0\\\\\n",
       "\t140 & 1 & 0 & 0 & 0 & 0 & 0\\\\\n",
       "\t141 & 1 & 0 & 0 & 1 & 0 & 0\\\\\n",
       "\t142 & 1 & 0 & 0 & 1 & 0 & 0\\\\\n",
       "\t143 & 1 & 0 & 0 & 1 & 0 & 0\\\\\n",
       "\t144 & 1 & 0 & 1 & 1 & 0 & 1\\\\\n",
       "\t145 & 1 & 1 & 0 & 1 & 1 & 0\\\\\n",
       "\t146 & 1 & 0 & 1 & 0 & 0 & 0\\\\\n",
       "\t147 & 1 & 1 & 0 & 1 & 1 & 0\\\\\n",
       "\t148 & 1 & 0 & 1 & 1 & 0 & 1\\\\\n",
       "\t149 & 1 & 0 & 1 & 1 & 0 & 1\\\\\n",
       "\t150 & 1 & 0 & 0 & 1 & 0 & 0\\\\\n",
       "\t151 & 1 & 0 & 0 & 1 & 0 & 0\\\\\n",
       "\t152 & 1 & 0 & 0 & 0 & 0 & 0\\\\\n",
       "\t153 & 1 & 0 & 0 & 1 & 0 & 0\\\\\n",
       "\t154 & 1 & 0 & 1 & 0 & 0 & 0\\\\\n",
       "\t155 & 1 & 1 & 0 & 1 & 1 & 0\\\\\n",
       "\t156 & 1 & 1 & 0 & 0 & 0 & 0\\\\\n",
       "\t157 & 1 & 0 & 0 & 0 & 0 & 0\\\\\n",
       "\t158 & 1 & 0 & 0 & 1 & 0 & 0\\\\\n",
       "\t159 & 1 & 0 & 1 & 1 & 0 & 1\\\\\n",
       "\t160 & 1 & 1 & 0 & 1 & 1 & 0\\\\\n",
       "\t161 & 1 & 1 & 0 & 0 & 0 & 0\\\\\n",
       "\t162 & 1 & 0 & 0 & 0 & 0 & 0\\\\\n",
       "\t163 & 1 & 0 & 0 & 1 & 0 & 0\\\\\n",
       "\t164 & 1 & 1 & 0 & 0 & 0 & 0\\\\\n",
       "\t165 & 1 & 0 & 0 & 1 & 0 & 0\\\\\n",
       "\t166 & 1 & 1 & 0 & 1 & 1 & 0\\\\\n",
       "\t167 & 1 & 0 & 0 & 1 & 0 & 0\\\\\n",
       "\\end{tabular}\n"
      ],
      "text/markdown": [
       "\n",
       "A matrix: 167 × 6 of type dbl\n",
       "\n",
       "| <!--/--> | (Intercept) | Vzdel2 | Vzdel3 | KurakTRUE | Vzdel2:KurakTRUE | Vzdel3:KurakTRUE |\n",
       "|---|---|---|---|---|---|---|\n",
       "| 1 | 1 | 0 | 0 | 0 | 0 | 0 |\n",
       "| 2 | 1 | 0 | 0 | 1 | 0 | 0 |\n",
       "| 3 | 1 | 0 | 1 | 0 | 0 | 0 |\n",
       "| 4 | 1 | 0 | 0 | 1 | 0 | 0 |\n",
       "| 5 | 1 | 1 | 0 | 1 | 1 | 0 |\n",
       "| 6 | 1 | 0 | 0 | 1 | 0 | 0 |\n",
       "| 7 | 1 | 0 | 0 | 1 | 0 | 0 |\n",
       "| 8 | 1 | 0 | 0 | 0 | 0 | 0 |\n",
       "| 9 | 1 | 1 | 0 | 0 | 0 | 0 |\n",
       "| 10 | 1 | 0 | 1 | 0 | 0 | 0 |\n",
       "| 11 | 1 | 0 | 1 | 0 | 0 | 0 |\n",
       "| 12 | 1 | 0 | 1 | 0 | 0 | 0 |\n",
       "| 13 | 1 | 0 | 1 | 0 | 0 | 0 |\n",
       "| 14 | 1 | 1 | 0 | 1 | 1 | 0 |\n",
       "| 15 | 1 | 1 | 0 | 1 | 1 | 0 |\n",
       "| 16 | 1 | 1 | 0 | 0 | 0 | 0 |\n",
       "| 17 | 1 | 0 | 1 | 1 | 0 | 1 |\n",
       "| 18 | 1 | 1 | 0 | 0 | 0 | 0 |\n",
       "| 19 | 1 | 0 | 0 | 1 | 0 | 0 |\n",
       "| 20 | 1 | 0 | 0 | 1 | 0 | 0 |\n",
       "| 21 | 1 | 0 | 1 | 1 | 0 | 1 |\n",
       "| 22 | 1 | 1 | 0 | 1 | 1 | 0 |\n",
       "| 23 | 1 | 1 | 0 | 1 | 1 | 0 |\n",
       "| 24 | 1 | 1 | 0 | 1 | 1 | 0 |\n",
       "| 25 | 1 | 0 | 0 | 1 | 0 | 0 |\n",
       "| 26 | 1 | 1 | 0 | 0 | 0 | 0 |\n",
       "| 27 | 1 | 0 | 0 | 1 | 0 | 0 |\n",
       "| 28 | 1 | 1 | 0 | 1 | 1 | 0 |\n",
       "| 29 | 1 | 0 | 1 | 1 | 0 | 1 |\n",
       "| 30 | 1 | 1 | 0 | 1 | 1 | 0 |\n",
       "| ⋮ | ⋮ | ⋮ | ⋮ | ⋮ | ⋮ | ⋮ |\n",
       "| 138 | 1 | 0 | 0 | 1 | 0 | 0 |\n",
       "| 139 | 1 | 0 | 1 | 0 | 0 | 0 |\n",
       "| 140 | 1 | 0 | 0 | 0 | 0 | 0 |\n",
       "| 141 | 1 | 0 | 0 | 1 | 0 | 0 |\n",
       "| 142 | 1 | 0 | 0 | 1 | 0 | 0 |\n",
       "| 143 | 1 | 0 | 0 | 1 | 0 | 0 |\n",
       "| 144 | 1 | 0 | 1 | 1 | 0 | 1 |\n",
       "| 145 | 1 | 1 | 0 | 1 | 1 | 0 |\n",
       "| 146 | 1 | 0 | 1 | 0 | 0 | 0 |\n",
       "| 147 | 1 | 1 | 0 | 1 | 1 | 0 |\n",
       "| 148 | 1 | 0 | 1 | 1 | 0 | 1 |\n",
       "| 149 | 1 | 0 | 1 | 1 | 0 | 1 |\n",
       "| 150 | 1 | 0 | 0 | 1 | 0 | 0 |\n",
       "| 151 | 1 | 0 | 0 | 1 | 0 | 0 |\n",
       "| 152 | 1 | 0 | 0 | 0 | 0 | 0 |\n",
       "| 153 | 1 | 0 | 0 | 1 | 0 | 0 |\n",
       "| 154 | 1 | 0 | 1 | 0 | 0 | 0 |\n",
       "| 155 | 1 | 1 | 0 | 1 | 1 | 0 |\n",
       "| 156 | 1 | 1 | 0 | 0 | 0 | 0 |\n",
       "| 157 | 1 | 0 | 0 | 0 | 0 | 0 |\n",
       "| 158 | 1 | 0 | 0 | 1 | 0 | 0 |\n",
       "| 159 | 1 | 0 | 1 | 1 | 0 | 1 |\n",
       "| 160 | 1 | 1 | 0 | 1 | 1 | 0 |\n",
       "| 161 | 1 | 1 | 0 | 0 | 0 | 0 |\n",
       "| 162 | 1 | 0 | 0 | 0 | 0 | 0 |\n",
       "| 163 | 1 | 0 | 0 | 1 | 0 | 0 |\n",
       "| 164 | 1 | 1 | 0 | 0 | 0 | 0 |\n",
       "| 165 | 1 | 0 | 0 | 1 | 0 | 0 |\n",
       "| 166 | 1 | 1 | 0 | 1 | 1 | 0 |\n",
       "| 167 | 1 | 0 | 0 | 1 | 0 | 0 |\n",
       "\n"
      ],
      "text/plain": [
       "    (Intercept) Vzdel2 Vzdel3 KurakTRUE Vzdel2:KurakTRUE Vzdel3:KurakTRUE\n",
       "1   1           0      0      0         0                0               \n",
       "2   1           0      0      1         0                0               \n",
       "3   1           0      1      0         0                0               \n",
       "4   1           0      0      1         0                0               \n",
       "5   1           1      0      1         1                0               \n",
       "6   1           0      0      1         0                0               \n",
       "7   1           0      0      1         0                0               \n",
       "8   1           0      0      0         0                0               \n",
       "9   1           1      0      0         0                0               \n",
       "10  1           0      1      0         0                0               \n",
       "11  1           0      1      0         0                0               \n",
       "12  1           0      1      0         0                0               \n",
       "13  1           0      1      0         0                0               \n",
       "14  1           1      0      1         1                0               \n",
       "15  1           1      0      1         1                0               \n",
       "16  1           1      0      0         0                0               \n",
       "17  1           0      1      1         0                1               \n",
       "18  1           1      0      0         0                0               \n",
       "19  1           0      0      1         0                0               \n",
       "20  1           0      0      1         0                0               \n",
       "21  1           0      1      1         0                1               \n",
       "22  1           1      0      1         1                0               \n",
       "23  1           1      0      1         1                0               \n",
       "24  1           1      0      1         1                0               \n",
       "25  1           0      0      1         0                0               \n",
       "26  1           1      0      0         0                0               \n",
       "27  1           0      0      1         0                0               \n",
       "28  1           1      0      1         1                0               \n",
       "29  1           0      1      1         0                1               \n",
       "30  1           1      0      1         1                0               \n",
       "⋮   ⋮           ⋮      ⋮      ⋮         ⋮                ⋮               \n",
       "138 1           0      0      1         0                0               \n",
       "139 1           0      1      0         0                0               \n",
       "140 1           0      0      0         0                0               \n",
       "141 1           0      0      1         0                0               \n",
       "142 1           0      0      1         0                0               \n",
       "143 1           0      0      1         0                0               \n",
       "144 1           0      1      1         0                1               \n",
       "145 1           1      0      1         1                0               \n",
       "146 1           0      1      0         0                0               \n",
       "147 1           1      0      1         1                0               \n",
       "148 1           0      1      1         0                1               \n",
       "149 1           0      1      1         0                1               \n",
       "150 1           0      0      1         0                0               \n",
       "151 1           0      0      1         0                0               \n",
       "152 1           0      0      0         0                0               \n",
       "153 1           0      0      1         0                0               \n",
       "154 1           0      1      0         0                0               \n",
       "155 1           1      0      1         1                0               \n",
       "156 1           1      0      0         0                0               \n",
       "157 1           0      0      0         0                0               \n",
       "158 1           0      0      1         0                0               \n",
       "159 1           0      1      1         0                1               \n",
       "160 1           1      0      1         1                0               \n",
       "161 1           1      0      0         0                0               \n",
       "162 1           0      0      0         0                0               \n",
       "163 1           0      0      1         0                0               \n",
       "164 1           1      0      0         0                0               \n",
       "165 1           0      0      1         0                0               \n",
       "166 1           1      0      1         1                0               \n",
       "167 1           0      0      1         0                0               "
      ]
     },
     "metadata": {},
     "output_type": "display_data"
    }
   ],
   "source": [
    "model.matrix(fitVzKint)"
   ]
  },
  {
   "cell_type": "code",
   "execution_count": 32,
   "metadata": {},
   "outputs": [],
   "source": [
    "## nakonec zapomeneme data IchsN\n",
    "detach(IchsN)"
   ]
  },
  {
   "cell_type": "markdown",
   "metadata": {},
   "source": [
    "---\n",
    "\n",
    "<font color=\"blue\">**Nyní je čas udělat úkoly 3.a-c) v druhém notebooku**</font>\n",
    "\n",
    "---"
   ]
  }
 ],
 "metadata": {
  "kernelspec": {
   "display_name": "R",
   "language": "R",
   "name": "ir"
  },
  "language_info": {
   "codemirror_mode": "r",
   "file_extension": ".r",
   "mimetype": "text/x-r-source",
   "name": "R",
   "pygments_lexer": "r",
   "version": "4.2.2"
  }
 },
 "nbformat": 4,
 "nbformat_minor": 4
}
