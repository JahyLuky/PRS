{
 "cells": [
  {
   "cell_type": "code",
   "execution_count": 1,
   "metadata": {},
   "outputs": [],
   "source": [
    "rm(list=ls())\n",
    "options(width=200, repr.plot.width=11, repr.plot.height=7) "
   ]
  },
  {
   "cell_type": "markdown",
   "metadata": {},
   "source": [
    "# Cvičení 8: Volba modelu"
   ]
  },
  {
   "cell_type": "markdown",
   "metadata": {},
   "source": [
    "Uvažujme obecný regresní model $$Y=\\mathbf{X}\\beta+\\varepsilon.$$\n",
    "\n",
    "Chceme zjistit:\n",
    "- zda model vystihuje data dobře\n",
    "- které z regresorů jsou pro model přínosné a které se naopak dají vynechat\n",
    "- jak výstupy modelu prakticky interpretovat.\n",
    "\n",
    "Často jdou proti sobě požadavky mít model:\n",
    "- co nejpřesnější\n",
    "- co nejsnadněji interpretovatelný.\n",
    "\n",
    "Probereme několik možností zhodnocení těchto požadavků."
   ]
  },
  {
   "cell_type": "markdown",
   "metadata": {},
   "source": [
    "V tomto cvičení se budeme zabývat porovnáváním regresních modelů s různými vysvětlujícími proměnnými."
   ]
  },
  {
   "cell_type": "markdown",
   "metadata": {},
   "source": [
    "**Dataset:**\n",
    "\n",
    "Stáhněte si soubor https://courses.fit.cvut.cz/BI-PRS/tutorials/files/Data/IchsN.RData do pracovního adresáře.\n",
    "\n",
    "Načtěte data ze studie _IchsN_, týkající se pacientů s vysokým krevním tlakem."
   ]
  },
  {
   "cell_type": "code",
   "execution_count": 2,
   "metadata": {},
   "outputs": [],
   "source": [
    "load(\"IchsN.RData\")"
   ]
  },
  {
   "cell_type": "markdown",
   "metadata": {},
   "source": [
    "Data můžeme připojit, abychom měli v paměti jednotlivé sloupce rovnou a nemuseli se odvolávat na příslušný data.frame.\n",
    "\n",
    "Při tomto postupu je potřeba dát pozor, aby se proměnné nepomíchaly."
   ]
  },
  {
   "cell_type": "code",
   "execution_count": 3,
   "metadata": {},
   "outputs": [],
   "source": [
    "attach(IchsN)\n",
    "## mělo by být po skončení práce následováno příkazem detach"
   ]
  },
  {
   "cell_type": "markdown",
   "metadata": {},
   "source": [
    " Prozkoumejme základní charakteristiky datového souboru."
   ]
  },
  {
   "cell_type": "code",
   "execution_count": 4,
   "metadata": {},
   "outputs": [
    {
     "data": {
      "text/plain": [
       "     vyska            hmot            syst           diast        Rchol        vek        Vzdel       bmi          Kurak    \n",
       " Min.   :160.0   Min.   : 60.0   Min.   :100.0   Min.   : 50.00   0:135   Min.   :45.00   1:65   Min.   :20.34   FALSE: 58  \n",
       " 1st Qu.:172.0   1st Qu.: 74.5   1st Qu.:120.0   1st Qu.: 80.00   1: 32   1st Qu.:46.00   2:61   1st Qu.:24.19   TRUE :109  \n",
       " Median :176.0   Median : 82.0   Median :130.0   Median : 82.00           Median :47.00   3:41   Median :26.09              \n",
       " Mean   :176.2   Mean   : 81.8   Mean   :131.7   Mean   : 84.44           Mean   :47.05          Mean   :26.31              \n",
       " 3rd Qu.:180.0   3rd Qu.: 87.0   3rd Qu.:140.0   3rd Qu.: 90.00           3rd Qu.:48.00          3rd Qu.:28.08              \n",
       " Max.   :193.0   Max.   :120.0   Max.   :200.0   Max.   :120.00           Max.   :49.00          Max.   :36.23              "
      ]
     },
     "metadata": {},
     "output_type": "display_data"
    }
   ],
   "source": [
    "summary(IchsN)"
   ]
  },
  {
   "cell_type": "markdown",
   "metadata": {},
   "source": [
    "Datový soubor má několik sloupců, nás bude zajímat zejména vysvětlovaná proměnná\n",
    "\n",
    "- `syst` - systolický tlak\n",
    "\n",
    "a regresory\n",
    "\n",
    "- `bmi` - body mass index\n",
    "- `Rchol` - zvýšený cholesterol 1/0\n",
    "- `vek` - věk pacienta\n",
    "- `Vzdel` - dosažené vzdělání s úrovněmi 1,2,3\n",
    "- `Kurak` - logická proměnná True/False\n",
    "\n",
    "Chceme zjistit, zda a jak závisí systolický tlak na jednotlivých regresorech."
   ]
  },
  {
   "cell_type": "markdown",
   "metadata": {},
   "source": [
    "## Základní přehled\n",
    "\n",
    "Podívejme se nejdřív na závislost na každé z proměnných zvlášť."
   ]
  },
  {
   "cell_type": "markdown",
   "metadata": {},
   "source": [
    "**Spojité proměnné**\n",
    "\n",
    "Vykreslíme graf závislosti proměnných na sobě a proložíme regresní přímku získanou metodou nejmenších čtverců."
   ]
  },
  {
   "cell_type": "code",
   "execution_count": 5,
   "metadata": {},
   "outputs": [
    {
     "data": {
      "image/png": "[encoded data removed]",
      "text/plain": [
       "plot without title"
      ]
     },
     "metadata": {
      "image/png": {
       "height": 420,
       "width": 660
      }
     },
     "output_type": "display_data"
    }
   ],
   "source": [
    "par(mfrow=c(1,2))\n",
    "## Zavislost tlaku na bmi:\n",
    "plot(syst~bmi)\n",
    "abline(lm(syst~bmi))\n",
    "## Zavislost tlaku na veku:\n",
    "plot(syst~vek)\n",
    "abline(lm(syst~vek))"
   ]
  },
  {
   "cell_type": "markdown",
   "metadata": {
    "tags": []
   },
   "source": [
    "Zdá se, že systolický tlak:\n",
    "- roste s bmi\n",
    "- mírně klesá s věkem"
   ]
  },
  {
   "cell_type": "markdown",
   "metadata": {},
   "source": [
    "**Faktorové proměnné**:\n",
    "\n",
    "Vykreslíme boxploty:"
   ]
  },
  {
   "cell_type": "code",
   "execution_count": 6,
   "metadata": {},
   "outputs": [
    {
     "data": {
      "image/png": "[encoded data removed]",
      "text/plain": [
       "plot without title"
      ]
     },
     "metadata": {
      "image/png": {
       "height": 420,
       "width": 660
      }
     },
     "output_type": "display_data"
    }
   ],
   "source": [
    "par(mfrow=c(1,3))\n",
    "boxplot(syst~Vzdel,col=c(\"red\",\"green\",\"blue\"))\n",
    "boxplot(syst~Kurak,col=c(\"lightblue\",\"darkgrey\"))\n",
    "boxplot(syst~Rchol,col=c(\"lightblue\",\"darkgrey\"))"
   ]
  },
  {
   "cell_type": "markdown",
   "metadata": {},
   "source": [
    "Zdá se, že systolický tlak:\n",
    "- na vzdělání nezávisí,\n",
    "- na cholesterolu patrně také ne\n",
    "- je u kuřáků nižší."
   ]
  },
  {
   "cell_type": "markdown",
   "metadata": {},
   "source": [
    "## Signifikance regresorů"
   ]
  },
  {
   "cell_type": "markdown",
   "metadata": {},
   "source": [
    "Uvažujme regresní model s $n$ pozorováními a $k$ regresory. Parametry odhadneme metodou nejmenších čtverců. Pomocí Studentova t-rozdělení můžeme testovat, jestli se skutečné hodnoty regresních koeficientů významně liší od nuly.\n",
    "\n",
    "Statistika testu, zda $\\beta_i=0$, má tvar\n",
    "$$T_i = \\frac{b_i}{\\sqrt{s^2 \\xi_{ii}}} \\sim t_{n-k},$$\n",
    "kde $\\xi_{ii}$ je $i-$tý diagonální prvek $(\\mathbf X^T\\mathbf X)^{-1}$ a $s^2 = S_e/(n-k-1)$.\n",
    "\n",
    "Hodnoty odhadů parametrů, směrodatné odchylky, t-statistiky a p-hodnoty příslušných testů nulovosti získáme aplikováním `summary` na nafitovaný regresní model `lm`."
   ]
  },
  {
   "cell_type": "markdown",
   "metadata": {},
   "source": [
    "Uvažujme model `fit_all`, ve kterém budou všechny proměnné bez interakcí, tedy \n",
    "\n",
    "$$\\text{syst}_i=\\beta_0+\\text{vyska}_i\\cdot\\beta_\\text{vyska}+ \\text{kurak}_i\\cdot\\beta_\\text{Kurak}+\\text{vek}_i\\cdot\\beta_\\text{vek}+\\text{vzdel}_i\\cdot\\beta_\\text{vzdel}+\\text{rchol}_i\\cdot\\beta_\\text{rchol}+\\epsilon_i$$"
   ]
  },
  {
   "cell_type": "code",
   "execution_count": 7,
   "metadata": {},
   "outputs": [
    {
     "data": {
      "text/plain": [
       "\n",
       "Call:\n",
       "lm(formula = syst ~ vyska + vek + Kurak + Vzdel + Rchol)\n",
       "\n",
       "Residuals:\n",
       "    Min      1Q  Median      3Q     Max \n",
       "-32.109 -10.770  -2.408   8.532  69.354 \n",
       "\n",
       "Coefficients:\n",
       "            Estimate Std. Error t value Pr(>|t|)    \n",
       "(Intercept) 165.9080    59.8293   2.773 0.006214 ** \n",
       "vyska         0.1190     0.2156   0.552 0.581729    \n",
       "vek          -0.9636     0.9473  -1.017 0.310577    \n",
       "KurakTRUE   -11.1748     2.8037  -3.986 0.000102 ***\n",
       "Vzdel2       -4.2724     3.0586  -1.397 0.164388    \n",
       "Vzdel3       -3.7893     3.4457  -1.100 0.273106    \n",
       "Rchol1       -0.5358     3.3124  -0.162 0.871701    \n",
       "---\n",
       "Signif. codes:  0 '***' 0.001 '**' 0.01 '*' 0.05 '.' 0.1 ' ' 1\n",
       "\n",
       "Residual standard error: 16.3 on 160 degrees of freedom\n",
       "Multiple R-squared:  0.1001,\tAdjusted R-squared:  0.06636 \n",
       "F-statistic: 2.966 on 6 and 160 DF,  p-value: 0.008979\n"
      ]
     },
     "metadata": {},
     "output_type": "display_data"
    }
   ],
   "source": [
    "fit_all=lm(syst~vyska+vek+Kurak+Vzdel+Rchol)\n",
    "summary(fit_all)"
   ]
  },
  {
   "cell_type": "markdown",
   "metadata": {},
   "source": [
    "Vidíme, že kromě absolutního členu a vlivu kouření jsou všechny ostatní regresory nevýznamné.\n",
    "\n",
    "* Nevýznamnost musíme interpretovat z hlediska každého z regresorů zvlášť - když ho z původního modelu vynecháme, nic se nestane.\n",
    "* Nevíme, co se stane, kdybychom vynechali všechny nevýznamné regresory dohromady."
   ]
  },
  {
   "cell_type": "markdown",
   "metadata": {},
   "source": [
    "## Koeficient determinace\n",
    "\n",
    "Z dřívějška víme, že podíl variablity v datech vysvětlený modelem můžeme získat pomocí obyčeného a adjustovaného koeficientu determinace:\n",
    "$$\n",
    "R^2 = 1 - \\frac{S_e}{S_T}\\quad {a}\\quad R_{\\text{adj}}^2 = 1 - \\frac{\\frac{S_e}{n-k-1}}{\\frac{S_T}{n-1}},\n",
    "$$\n",
    "kde jsme použili\n",
    "$$\\begin{aligned}\n",
    "S_T&=\\sum_i(Y_{i}-\\bar Y_{\\bullet})^2\\qquad\\text{celkový součet čtverců},\\\\\n",
    "S_e&=\\sum_i(Y_{i}-\\mathbf{X}_i\\mathbf{\\hat\\beta})^2\\qquad\\text{reziduální součet čtverců}.\n",
    "\\end{aligned}$$\n",
    "\n",
    "- Čím blíž jedné, tím přesnější model.  \n",
    "- Máme-li dva nebo více modelů, můžeme jejich $R^2$ porovnat.\n",
    "- Neposkytují statistické zhodnocení, zda je jeden model významně lepší než jiný."
   ]
  },
  {
   "cell_type": "markdown",
   "metadata": {},
   "source": [
    "**Příklad**\n",
    "\n",
    "Uvažujme kromě předchozího modelu ještě model `fit_vk`, kde uvažujeme jen vliv výšky a kouření.\n",
    "\n",
    "$$\\text{syst}_i=\\beta_0+\\text{vyska}_i\\cdot\\beta_\\text{vyska}+ \\text{kurak}_i\\cdot\\beta_\\text{Kurak}+\\epsilon_i$$"
   ]
  },
  {
   "cell_type": "code",
   "execution_count": 8,
   "metadata": {},
   "outputs": [
    {
     "data": {
      "text/plain": [
       "\n",
       "Call:\n",
       "lm(formula = syst ~ vyska + Kurak)\n",
       "\n",
       "Residuals:\n",
       "    Min      1Q  Median      3Q     Max \n",
       "-33.504  -8.628  -2.706  11.251  73.019 \n",
       "\n",
       "Coefficients:\n",
       "             Estimate Std. Error t value Pr(>|t|)    \n",
       "(Intercept) 124.09181   37.17953   3.338 0.001046 ** \n",
       "vyska         0.08051    0.21121   0.381 0.703546    \n",
       "KurakTRUE   -10.15382    2.64675  -3.836 0.000178 ***\n",
       "---\n",
       "Signif. codes:  0 '***' 0.001 '**' 0.01 '*' 0.05 '.' 0.1 ' ' 1\n",
       "\n",
       "Residual standard error: 16.26 on 164 degrees of freedom\n",
       "Multiple R-squared:  0.08248,\tAdjusted R-squared:  0.07129 \n",
       "F-statistic: 7.371 on 2 and 164 DF,  p-value: 0.0008603\n"
      ]
     },
     "metadata": {},
     "output_type": "display_data"
    }
   ],
   "source": [
    "fit_vk=lm(syst~vyska+Kurak)\n",
    "summary(fit_vk)"
   ]
  },
  {
   "cell_type": "markdown",
   "metadata": {},
   "source": [
    "- Obyčejný koeficient determinace `Multiple R-squared` je 0.0824,\n",
    "- adjustovaný koeficient determinace `Adjusted R-squared` je 0.07129.\n",
    "Podíl variability vysvětlený modelem není příliš vysoký.\n",
    "\n",
    "Porovnáme s koeficienty determinace původního modelu `fit_all`:"
   ]
  },
  {
   "cell_type": "code",
   "execution_count": 9,
   "metadata": {},
   "outputs": [
    {
     "data": {
      "text/html": [
       "0.100101691972853"
      ],
      "text/latex": [
       "0.100101691972853"
      ],
      "text/markdown": [
       "0.100101691972853"
      ],
      "text/plain": [
       "[1] 0.1001017"
      ]
     },
     "metadata": {},
     "output_type": "display_data"
    },
    {
     "data": {
      "text/html": [
       "0.0663555054218349"
      ],
      "text/latex": [
       "0.0663555054218349"
      ],
      "text/markdown": [
       "0.0663555054218349"
      ],
      "text/plain": [
       "[1] 0.06635551"
      ]
     },
     "metadata": {},
     "output_type": "display_data"
    }
   ],
   "source": [
    "summary(fit_all)$r.squared\n",
    "summary(fit_all)$adj.r.squared"
   ]
  },
  {
   "cell_type": "markdown",
   "metadata": {},
   "source": [
    "- Obyčejný koeficient determinace `Multiple R-squared` je 0.1001, tedy o něco vyšší, než u menšího modelu,\n",
    "- adjustovaný koeficient determinace `Adjusted R-squared` je 0.06635, tedy dokonce o něco nižší.\n",
    "\n",
    "- Adjustovaný koeficient determinace částečně zohledňuje počet proměnných.\n",
    "- Osekaný model nevypadá zásadně horší, než model širší."
   ]
  },
  {
   "cell_type": "markdown",
   "metadata": {},
   "source": [
    "---\n",
    "\n",
    "<font color=\"blue\">**Nyní je čas udělat úkoly 1.a-e) v druhém notebooku**</font>\n",
    "\n",
    "---"
   ]
  },
  {
   "cell_type": "markdown",
   "metadata": {},
   "source": [
    "## Model vs. podmodel\n",
    "\n",
    "Uvažujme regresní model $\\mathbf Y=\\mathbf{X}\\beta+\\varepsilon$ s $n$ pozorováními, absolutním členem a $k$ regresory.\n",
    "\n",
    "Uvažujme dále jeho **podmodel** s $r$ regresory ($r<k$), tedy takový, kde\n",
    "- oproti původnímu z matice $\\mathbf{X}$ vynecháme $k-r$ sloupců, čímž vznikne matice $\\mathbf{X}_p$\n",
    "- z vektoru $\\beta$ vynecháme příslušných $k-r$ prvků\n",
    "\n",
    "V podmodelu odhadneme regresní koeficienty metodou nejmenších čtverců a spočteme příslušný reziduální součet čtverců:\n",
    "$$S_p=\\sum_{i=1}^n(Y_i-\\mathbf{X}_{pi}{\\hat\\beta}_{p})^2.$$\n",
    "\n",
    "Podmodel si můžeme také představit jako situaci, kdy jsou všechny ostatní regresní koeficienty v původním modelu nulové. Tuto hypotézu budeme chtít testovat. Ukáže se, že za předpokladu normality odchylek má při platnosti nulové hypotézy statistika\n",
    "$$F=\\frac{(S_p-S_e)/(k-r)}{S_e/(n-k-1)}.$$\n",
    "Fisherovo-Snedecorovo F-rozdělení s $k-r$ a $n-k-1$ stupni volnosti. p-hodnota testu pak udává pravděpodobnost, že F-rozdělení bude vyšší než spočítaná F-statistika. Test zavoláme příkazem `anova` na podmodel a původní model. "
   ]
  },
  {
   "cell_type": "markdown",
   "metadata": {},
   "source": [
    "**Příklad:**\n",
    "\n",
    "Testujme, zda je možné redukovat původní model `fit_all` na podmodel `fit_vk`, zahrnující pouze vliv výšky a kouření.\n",
    "\n",
    "Zkoumáme tak, jestli je rozdíl v reziduálních součtech čtverců významně velký, tedy zda širší model vnáší "
   ]
  },
  {
   "cell_type": "code",
   "execution_count": 10,
   "metadata": {},
   "outputs": [
    {
     "data": {
      "text/html": [
       "<table class=\"dataframe\">\n",
       "<caption>A anova: 2 × 6</caption>\n",
       "<thead>\n",
       "\t<tr><th></th><th scope=col>Res.Df</th><th scope=col>RSS</th><th scope=col>Df</th><th scope=col>Sum of Sq</th><th scope=col>F</th><th scope=col>Pr(&gt;F)</th></tr>\n",
       "\t<tr><th></th><th scope=col>&lt;dbl&gt;</th><th scope=col>&lt;dbl&gt;</th><th scope=col>&lt;dbl&gt;</th><th scope=col>&lt;dbl&gt;</th><th scope=col>&lt;dbl&gt;</th><th scope=col>&lt;dbl&gt;</th></tr>\n",
       "</thead>\n",
       "<tbody>\n",
       "\t<tr><th scope=row>1</th><td>164</td><td>43341.87</td><td>NA</td><td>      NA</td><td>       NA</td><td>       NA</td></tr>\n",
       "\t<tr><th scope=row>2</th><td>160</td><td>42509.27</td><td> 4</td><td>832.6011</td><td>0.7834538</td><td>0.5374854</td></tr>\n",
       "</tbody>\n",
       "</table>\n"
      ],
      "text/latex": [
       "A anova: 2 × 6\n",
       "\\begin{tabular}{r|llllll}\n",
       "  & Res.Df & RSS & Df & Sum of Sq & F & Pr(>F)\\\\\n",
       "  & <dbl> & <dbl> & <dbl> & <dbl> & <dbl> & <dbl>\\\\\n",
       "\\hline\n",
       "\t1 & 164 & 43341.87 & NA &       NA &        NA &        NA\\\\\n",
       "\t2 & 160 & 42509.27 &  4 & 832.6011 & 0.7834538 & 0.5374854\\\\\n",
       "\\end{tabular}\n"
      ],
      "text/markdown": [
       "\n",
       "A anova: 2 × 6\n",
       "\n",
       "| <!--/--> | Res.Df &lt;dbl&gt; | RSS &lt;dbl&gt; | Df &lt;dbl&gt; | Sum of Sq &lt;dbl&gt; | F &lt;dbl&gt; | Pr(&gt;F) &lt;dbl&gt; |\n",
       "|---|---|---|---|---|---|---|\n",
       "| 1 | 164 | 43341.87 | NA |       NA |        NA |        NA |\n",
       "| 2 | 160 | 42509.27 |  4 | 832.6011 | 0.7834538 | 0.5374854 |\n",
       "\n"
      ],
      "text/plain": [
       "  Res.Df RSS      Df Sum of Sq F         Pr(>F)   \n",
       "1 164    43341.87 NA       NA         NA        NA\n",
       "2 160    42509.27  4 832.6011  0.7834538 0.5374854"
      ]
     },
     "metadata": {},
     "output_type": "display_data"
    }
   ],
   "source": [
    "anova(fit_vk,fit_all)"
   ]
  },
  {
   "cell_type": "markdown",
   "metadata": {},
   "source": [
    "Získáme reziduální součty čtverců $S_e=42509.27$ $S_p=43341.87$, jejich rozdíl $832.6011$.\n",
    "\n",
    "p-hodnota F-testu hypotézy $H_0:$ $\\beta_\\text{vek}=\\beta_\\text{Rchol} =\\beta_\\text{Vzdel}=0$ je $0.537$, tedy nulovost nezamítáme."
   ]
  },
  {
   "cell_type": "markdown",
   "metadata": {},
   "source": [
    "Zkusme v širším modelu `fit_all` přidat i interakce a otestovat, jestli přináší významné zlepšení predikce:"
   ]
  },
  {
   "cell_type": "code",
   "execution_count": 11,
   "metadata": {},
   "outputs": [
    {
     "data": {
      "text/plain": [
       "\n",
       "Call:\n",
       "lm(formula = syst ~ vyska * vek * Kurak * Vzdel * Rchol)\n",
       "\n",
       "Residuals:\n",
       "    Min      1Q  Median      3Q     Max \n",
       "-34.958  -9.063  -0.291   6.690  52.611 \n",
       "\n",
       "Coefficients: (3 not defined because of singularities)\n",
       "                                    Estimate Std. Error t value Pr(>|t|)\n",
       "(Intercept)                       -1.623e+03  6.441e+03  -0.252    0.802\n",
       "vyska                              9.202e+00  3.667e+01   0.251    0.802\n",
       "vek                                3.382e+01  1.384e+02   0.244    0.807\n",
       "KurakTRUE                          5.311e+03  6.803e+03   0.781    0.437\n",
       "Vzdel2                            -3.663e+03  8.080e+03  -0.453    0.651\n",
       "Vzdel3                             3.704e+03  8.539e+03   0.434    0.665\n",
       "Rchol1                             2.379e+04  7.277e+04   0.327    0.744\n",
       "vyska:vek                         -1.762e-01  7.887e-01  -0.223    0.824\n",
       "vyska:KurakTRUE                   -2.951e+01  3.875e+01  -0.762    0.448\n",
       "vek:KurakTRUE                     -1.080e+02  1.460e+02  -0.740    0.461\n",
       "vyska:Vzdel2                       2.216e+01  4.591e+01   0.483    0.630\n",
       "vyska:Vzdel3                      -2.057e+01  4.844e+01  -0.425    0.672\n",
       "vek:Vzdel2                         8.249e+01  1.736e+02   0.475    0.635\n",
       "vek:Vzdel3                        -7.762e+01  1.834e+02  -0.423    0.673\n",
       "KurakTRUE:Vzdel2                   8.256e+02  9.138e+03   0.090    0.928\n",
       "KurakTRUE:Vzdel3                  -1.368e+04  1.091e+04  -1.254    0.212\n",
       "vyska:Rchol1                      -1.372e+02  4.251e+02  -0.323    0.748\n",
       "vek:Rchol1                        -5.079e+02  1.566e+03  -0.324    0.746\n",
       "KurakTRUE:Rchol1                  -3.094e+04  4.909e+04  -0.630    0.530\n",
       "Vzdel2:Rchol1                     -2.068e+04  7.321e+04  -0.282    0.778\n",
       "Vzdel3:Rchol1                      1.960e+04  5.464e+04   0.359    0.720\n",
       "vyska:vek:KurakTRUE                5.998e-01  8.321e-01   0.721    0.472\n",
       "vyska:vek:Vzdel2                  -4.958e-01  9.868e-01  -0.502    0.616\n",
       "vyska:vek:Vzdel3                   4.323e-01  1.041e+00   0.415    0.679\n",
       "vyska:KurakTRUE:Vzdel2            -5.879e+00  5.172e+01  -0.114    0.910\n",
       "vyska:KurakTRUE:Vzdel3             7.695e+01  6.169e+01   1.247    0.215\n",
       "vek:KurakTRUE:Vzdel2              -2.541e+01  1.959e+02  -0.130    0.897\n",
       "vek:KurakTRUE:Vzdel3               2.852e+02  2.328e+02   1.225    0.223\n",
       "vyska:vek:Rchol1                   2.931e+00  9.141e+00   0.321    0.749\n",
       "vyska:KurakTRUE:Rchol1             1.790e+02  2.827e+02   0.633    0.528\n",
       "vek:KurakTRUE:Rchol1               6.337e+02  1.029e+03   0.616    0.539\n",
       "vyska:Vzdel2:Rchol1                1.195e+02  4.275e+02   0.280    0.780\n",
       "vyska:Vzdel3:Rchol1               -1.100e+02  3.224e+02  -0.341    0.734\n",
       "vek:Vzdel2:Rchol1                  4.416e+02  1.575e+03   0.280    0.780\n",
       "vek:Vzdel3:Rchol1                 -3.911e+02  1.199e+03  -0.326    0.745\n",
       "KurakTRUE:Vzdel2:Rchol1            3.073e+04  5.161e+04   0.595    0.553\n",
       "KurakTRUE:Vzdel3:Rchol1           -1.206e+01  1.190e+02  -0.101    0.919\n",
       "vyska:vek:KurakTRUE:Vzdel2         1.676e-01  1.109e+00   0.151    0.880\n",
       "vyska:vek:KurakTRUE:Vzdel3        -1.606e+00  1.317e+00  -1.220    0.225\n",
       "vyska:vek:KurakTRUE:Rchol1        -3.667e+00  5.924e+00  -0.619    0.537\n",
       "vyska:vek:Vzdel2:Rchol1           -2.556e+00  9.192e+00  -0.278    0.781\n",
       "vyska:vek:Vzdel3:Rchol1            2.188e+00  7.064e+00   0.310    0.757\n",
       "vyska:KurakTRUE:Vzdel2:Rchol1     -1.763e+02  2.964e+02  -0.595    0.553\n",
       "vyska:KurakTRUE:Vzdel3:Rchol1             NA         NA      NA       NA\n",
       "vek:KurakTRUE:Vzdel2:Rchol1       -6.375e+02  1.084e+03  -0.588    0.558\n",
       "vek:KurakTRUE:Vzdel3:Rchol1               NA         NA      NA       NA\n",
       "vyska:vek:KurakTRUE:Vzdel2:Rchol1  3.657e+00  6.226e+00   0.587    0.558\n",
       "vyska:vek:KurakTRUE:Vzdel3:Rchol1         NA         NA      NA       NA\n",
       "\n",
       "Residual standard error: 16.32 on 122 degrees of freedom\n",
       "Multiple R-squared:  0.3118,\tAdjusted R-squared:  0.06362 \n",
       "F-statistic: 1.256 on 44 and 122 DF,  p-value: 0.1662\n"
      ]
     },
     "metadata": {},
     "output_type": "display_data"
    }
   ],
   "source": [
    "fit_int=lm(syst~vyska*vek*Kurak*Vzdel*Rchol)\n",
    "summary(fit_int)"
   ]
  },
  {
   "cell_type": "markdown",
   "metadata": {},
   "source": [
    "Ukáže se, že u některých kombinací interakcí už v datech není dostatek pozorování, aby bylo možné odhadnout parametry. Nabízí se několik možností, např.:\n",
    "- Shluknout některé vícefaktorové regresory do méně tříd.\n",
    "- Vynechat některé interakce.\n",
    "\n",
    "Zde např. zanedbáme interakce s vlivem vzdělání"
   ]
  },
  {
   "cell_type": "code",
   "execution_count": 12,
   "metadata": {},
   "outputs": [
    {
     "data": {
      "text/plain": [
       "\n",
       "Call:\n",
       "lm(formula = syst ~ vyska * vek * Kurak * Rchol + Vzdel)\n",
       "\n",
       "Residuals:\n",
       "    Min      1Q  Median      3Q     Max \n",
       "-32.081 -10.027  -1.712   9.449  63.317 \n",
       "\n",
       "Coefficients:\n",
       "                             Estimate Std. Error t value Pr(>|t|)\n",
       "(Intercept)                 3.842e-03  3.031e+03   0.000    1.000\n",
       "vyska                       7.843e-01  1.717e+01   0.046    0.964\n",
       "vek                         8.921e-01  6.492e+01   0.014    0.989\n",
       "KurakTRUE                   1.776e+03  3.463e+03   0.513    0.609\n",
       "Rchol1                     -1.379e+03  6.441e+03  -0.214    0.831\n",
       "Vzdel2                     -2.570e+00  3.231e+00  -0.795    0.428\n",
       "Vzdel3                     -2.943e+00  3.654e+00  -0.806    0.422\n",
       "vyska:vek                  -4.811e-03  3.678e-01  -0.013    0.990\n",
       "vyska:KurakTRUE            -9.973e+00  1.959e+01  -0.509    0.611\n",
       "vek:KurakTRUE              -3.596e+01  7.406e+01  -0.486    0.628\n",
       "vyska:Rchol1                8.163e+00  3.655e+01   0.223    0.824\n",
       "vek:Rchol1                  3.442e+01  1.377e+02   0.250    0.803\n",
       "KurakTRUE:Rchol1            3.728e+03  8.305e+03   0.449    0.654\n",
       "vyska:vek:KurakTRUE         2.005e-01  4.190e-01   0.479    0.633\n",
       "vyska:vek:Rchol1           -2.025e-01  7.817e-01  -0.259    0.796\n",
       "vyska:KurakTRUE:Rchol1     -1.977e+01  4.698e+01  -0.421    0.674\n",
       "vek:KurakTRUE:Rchol1       -8.844e+01  1.786e+02  -0.495    0.621\n",
       "vyska:vek:KurakTRUE:Rchol1  4.720e-01  1.010e+00   0.467    0.641\n",
       "\n",
       "Residual standard error: 16.44 on 149 degrees of freedom\n",
       "Multiple R-squared:  0.1473,\tAdjusted R-squared:  0.04999 \n",
       "F-statistic: 1.514 on 17 and 149 DF,  p-value: 0.09683\n"
      ]
     },
     "metadata": {},
     "output_type": "display_data"
    }
   ],
   "source": [
    "fit_int=lm(syst~vyska*vek*Kurak*Rchol+Vzdel)\n",
    "summary(fit_int)"
   ]
  },
  {
   "cell_type": "markdown",
   "metadata": {},
   "source": [
    "Porovnáme model s interakcemi s modelem bez nich:"
   ]
  },
  {
   "cell_type": "code",
   "execution_count": 13,
   "metadata": {},
   "outputs": [
    {
     "data": {
      "text/html": [
       "<table class=\"dataframe\">\n",
       "<caption>A anova: 2 × 6</caption>\n",
       "<thead>\n",
       "\t<tr><th></th><th scope=col>Res.Df</th><th scope=col>RSS</th><th scope=col>Df</th><th scope=col>Sum of Sq</th><th scope=col>F</th><th scope=col>Pr(&gt;F)</th></tr>\n",
       "\t<tr><th></th><th scope=col>&lt;dbl&gt;</th><th scope=col>&lt;dbl&gt;</th><th scope=col>&lt;dbl&gt;</th><th scope=col>&lt;dbl&gt;</th><th scope=col>&lt;dbl&gt;</th><th scope=col>&lt;dbl&gt;</th></tr>\n",
       "</thead>\n",
       "<tbody>\n",
       "\t<tr><th scope=row>1</th><td>160</td><td>42509.27</td><td>NA</td><td>      NA</td><td>       NA</td><td>       NA</td></tr>\n",
       "\t<tr><th scope=row>2</th><td>149</td><td>40280.65</td><td>11</td><td>2228.614</td><td>0.7494316</td><td>0.6895413</td></tr>\n",
       "</tbody>\n",
       "</table>\n"
      ],
      "text/latex": [
       "A anova: 2 × 6\n",
       "\\begin{tabular}{r|llllll}\n",
       "  & Res.Df & RSS & Df & Sum of Sq & F & Pr(>F)\\\\\n",
       "  & <dbl> & <dbl> & <dbl> & <dbl> & <dbl> & <dbl>\\\\\n",
       "\\hline\n",
       "\t1 & 160 & 42509.27 & NA &       NA &        NA &        NA\\\\\n",
       "\t2 & 149 & 40280.65 & 11 & 2228.614 & 0.7494316 & 0.6895413\\\\\n",
       "\\end{tabular}\n"
      ],
      "text/markdown": [
       "\n",
       "A anova: 2 × 6\n",
       "\n",
       "| <!--/--> | Res.Df &lt;dbl&gt; | RSS &lt;dbl&gt; | Df &lt;dbl&gt; | Sum of Sq &lt;dbl&gt; | F &lt;dbl&gt; | Pr(&gt;F) &lt;dbl&gt; |\n",
       "|---|---|---|---|---|---|---|\n",
       "| 1 | 160 | 42509.27 | NA |       NA |        NA |        NA |\n",
       "| 2 | 149 | 40280.65 | 11 | 2228.614 | 0.7494316 | 0.6895413 |\n",
       "\n"
      ],
      "text/plain": [
       "  Res.Df RSS      Df Sum of Sq F         Pr(>F)   \n",
       "1 160    42509.27 NA       NA         NA        NA\n",
       "2 149    40280.65 11 2228.614  0.7494316 0.6895413"
      ]
     },
     "metadata": {},
     "output_type": "display_data"
    }
   ],
   "source": [
    "anova(fit_all,fit_int)"
   ]
  },
  {
   "cell_type": "markdown",
   "metadata": {},
   "source": [
    "Mezi modely není statisticky významný rozdíl."
   ]
  },
  {
   "cell_type": "markdown",
   "metadata": {},
   "source": [
    "Můžeme porovnat model s interakcemi s osekaným modelem:"
   ]
  },
  {
   "cell_type": "code",
   "execution_count": 14,
   "metadata": {},
   "outputs": [
    {
     "data": {
      "text/html": [
       "<table class=\"dataframe\">\n",
       "<caption>A anova: 2 × 6</caption>\n",
       "<thead>\n",
       "\t<tr><th></th><th scope=col>Res.Df</th><th scope=col>RSS</th><th scope=col>Df</th><th scope=col>Sum of Sq</th><th scope=col>F</th><th scope=col>Pr(&gt;F)</th></tr>\n",
       "\t<tr><th></th><th scope=col>&lt;dbl&gt;</th><th scope=col>&lt;dbl&gt;</th><th scope=col>&lt;dbl&gt;</th><th scope=col>&lt;dbl&gt;</th><th scope=col>&lt;dbl&gt;</th><th scope=col>&lt;dbl&gt;</th></tr>\n",
       "</thead>\n",
       "<tbody>\n",
       "\t<tr><th scope=row>1</th><td>164</td><td>43341.87</td><td>NA</td><td>      NA</td><td>       NA</td><td>       NA</td></tr>\n",
       "\t<tr><th scope=row>2</th><td>149</td><td>40280.65</td><td>15</td><td>3061.216</td><td>0.7549052</td><td>0.7250171</td></tr>\n",
       "</tbody>\n",
       "</table>\n"
      ],
      "text/latex": [
       "A anova: 2 × 6\n",
       "\\begin{tabular}{r|llllll}\n",
       "  & Res.Df & RSS & Df & Sum of Sq & F & Pr(>F)\\\\\n",
       "  & <dbl> & <dbl> & <dbl> & <dbl> & <dbl> & <dbl>\\\\\n",
       "\\hline\n",
       "\t1 & 164 & 43341.87 & NA &       NA &        NA &        NA\\\\\n",
       "\t2 & 149 & 40280.65 & 15 & 3061.216 & 0.7549052 & 0.7250171\\\\\n",
       "\\end{tabular}\n"
      ],
      "text/markdown": [
       "\n",
       "A anova: 2 × 6\n",
       "\n",
       "| <!--/--> | Res.Df &lt;dbl&gt; | RSS &lt;dbl&gt; | Df &lt;dbl&gt; | Sum of Sq &lt;dbl&gt; | F &lt;dbl&gt; | Pr(&gt;F) &lt;dbl&gt; |\n",
       "|---|---|---|---|---|---|---|\n",
       "| 1 | 164 | 43341.87 | NA |       NA |        NA |        NA |\n",
       "| 2 | 149 | 40280.65 | 15 | 3061.216 | 0.7549052 | 0.7250171 |\n",
       "\n"
      ],
      "text/plain": [
       "  Res.Df RSS      Df Sum of Sq F         Pr(>F)   \n",
       "1 164    43341.87 NA       NA         NA        NA\n",
       "2 149    40280.65 15 3061.216  0.7549052 0.7250171"
      ]
     },
     "metadata": {},
     "output_type": "display_data"
    }
   ],
   "source": [
    "anova(fit_vk,fit_int)"
   ]
  },
  {
   "cell_type": "markdown",
   "metadata": {},
   "source": [
    "Opět, podle p-hodnoty mezi modely není statisticky významný rozdíl."
   ]
  },
  {
   "cell_type": "markdown",
   "metadata": {},
   "source": [
    "## Věrohodnostní přístupy\n",
    "\n",
    "Za předpokladu normality odchylek můžeme spočítat věrohodnost dat, tedy jejich sdruženou hustotu:\n",
    "$$L(\\beta,\\sigma^2)=\\prod_{i=1}^n\\frac{1}{\\sqrt{2\\pi\\sigma^2}}e^{-\\frac{(y_i-\\mathbf X_i\\beta)^2}{2\\sigma^2}}=\\frac{1}{(\\sqrt{2\\pi\\sigma^2})^n}e^{-\\sum_{i=1}^n\\frac{(y_i-\\mathbf X_i\\beta)^2}{2\\sigma^2}}.$$\n",
    "Logaritmická věrohodnostní funkce pak má tvar\n",
    "$$l(\\beta,\\sigma^2)=\\ln \\frac{1}{(\\sqrt{2\\pi\\sigma^2})^n}e^{-\\sum_{i=1}^n\\frac{(y_i-\\mathbf X_i\\beta)^2}{2\\sigma^2}}\n",
    "=-\\frac{n}{2}\\ln{2\\pi\\sigma^2}-\\frac{1}{{2\\sigma^2}}\\sum_{i=1}^n(y_i-\\mathbf X_i\\beta)^2.$$\n",
    "Ukáže se, že:\n",
    "- Kdybychom hledali odhady parametrů modelu maximalizací věrohodnosti, získáme pro $\\beta$ identický odhad jako metodou nejmenších čtverců. Odhad rozptylu odchylek bude $\\hat\\sigma^2=\\frac{S_e}{n}.$\n",
    "- Když bychom uvažovali model s $k$ regresory a jeho podmodel s $r$ regresory a odhadli parametry metodou maximální věrohodnosti v obou z nich zvlášť, pak statistika $$LR=2(l(\\hat\\beta,\\hat\\sigma^2)-l(\\hat\\beta_p,\\hat\\sigma_p^2))$$ má za platnosti podmodelu chí-kvadrát rozdělení s $k-r$ stupni volnosti. \n",
    "\n",
    "Můžeme tak opět testovat, zda můžeme původní model redukovat na podmodel - tentokrát podle toho, zda je věrohodnost širšího modelu významně vyšší. Tomuto testu se říká **test poměrem věrohodností**."
   ]
  },
  {
   "cell_type": "markdown",
   "metadata": {},
   "source": [
    "**Příklad:**\n",
    "Testujme, zda je možné redukovat model závislosti krevního tlaku se všemi proměnnými na podmodel jen s vlivem výšky a kouření.\n",
    "\n",
    "Test získáme opět dosazením obou nafitovaných modelů do funkce `anova`, jen musíme specifikovat typ testu, tentokrát `test=\"Chisq\"`:"
   ]
  },
  {
   "cell_type": "code",
   "execution_count": 15,
   "metadata": {},
   "outputs": [
    {
     "data": {
      "text/html": [
       "<table class=\"dataframe\">\n",
       "<caption>A anova: 2 × 5</caption>\n",
       "<thead>\n",
       "\t<tr><th></th><th scope=col>Res.Df</th><th scope=col>RSS</th><th scope=col>Df</th><th scope=col>Sum of Sq</th><th scope=col>Pr(&gt;Chi)</th></tr>\n",
       "\t<tr><th></th><th scope=col>&lt;dbl&gt;</th><th scope=col>&lt;dbl&gt;</th><th scope=col>&lt;dbl&gt;</th><th scope=col>&lt;dbl&gt;</th><th scope=col>&lt;dbl&gt;</th></tr>\n",
       "</thead>\n",
       "<tbody>\n",
       "\t<tr><th scope=row>1</th><td>164</td><td>43341.87</td><td>NA</td><td>      NA</td><td>       NA</td></tr>\n",
       "\t<tr><th scope=row>2</th><td>160</td><td>42509.27</td><td> 4</td><td>832.6011</td><td>0.5356868</td></tr>\n",
       "</tbody>\n",
       "</table>\n"
      ],
      "text/latex": [
       "A anova: 2 × 5\n",
       "\\begin{tabular}{r|lllll}\n",
       "  & Res.Df & RSS & Df & Sum of Sq & Pr(>Chi)\\\\\n",
       "  & <dbl> & <dbl> & <dbl> & <dbl> & <dbl>\\\\\n",
       "\\hline\n",
       "\t1 & 164 & 43341.87 & NA &       NA &        NA\\\\\n",
       "\t2 & 160 & 42509.27 &  4 & 832.6011 & 0.5356868\\\\\n",
       "\\end{tabular}\n"
      ],
      "text/markdown": [
       "\n",
       "A anova: 2 × 5\n",
       "\n",
       "| <!--/--> | Res.Df &lt;dbl&gt; | RSS &lt;dbl&gt; | Df &lt;dbl&gt; | Sum of Sq &lt;dbl&gt; | Pr(&gt;Chi) &lt;dbl&gt; |\n",
       "|---|---|---|---|---|---|\n",
       "| 1 | 164 | 43341.87 | NA |       NA |        NA |\n",
       "| 2 | 160 | 42509.27 |  4 | 832.6011 | 0.5356868 |\n",
       "\n"
      ],
      "text/plain": [
       "  Res.Df RSS      Df Sum of Sq Pr(>Chi) \n",
       "1 164    43341.87 NA       NA         NA\n",
       "2 160    42509.27  4 832.6011  0.5356868"
      ]
     },
     "metadata": {},
     "output_type": "display_data"
    }
   ],
   "source": [
    "anova(fit_vk,fit_all,test=\"Chisq\")"
   ]
  },
  {
   "cell_type": "markdown",
   "metadata": {},
   "source": [
    "p-hodnota je $0.5357$, takže opět nezamítáme hypotézu, že je možné širší model redukovat na podmodel."
   ]
  },
  {
   "cell_type": "markdown",
   "metadata": {},
   "source": [
    "Můžeme testovat jednodušší model i proti modelu s interakcemi. Opět vidíme, že širší model nic zásadního nepřináší:"
   ]
  },
  {
   "cell_type": "code",
   "execution_count": 16,
   "metadata": {},
   "outputs": [
    {
     "data": {
      "text/html": [
       "<table class=\"dataframe\">\n",
       "<caption>A anova: 2 × 5</caption>\n",
       "<thead>\n",
       "\t<tr><th></th><th scope=col>Res.Df</th><th scope=col>RSS</th><th scope=col>Df</th><th scope=col>Sum of Sq</th><th scope=col>Pr(&gt;Chi)</th></tr>\n",
       "\t<tr><th></th><th scope=col>&lt;dbl&gt;</th><th scope=col>&lt;dbl&gt;</th><th scope=col>&lt;dbl&gt;</th><th scope=col>&lt;dbl&gt;</th><th scope=col>&lt;dbl&gt;</th></tr>\n",
       "</thead>\n",
       "<tbody>\n",
       "\t<tr><th scope=row>1</th><td>164</td><td>43341.87</td><td>NA</td><td>      NA</td><td>       NA</td></tr>\n",
       "\t<tr><th scope=row>2</th><td>149</td><td>40280.65</td><td>15</td><td>3061.216</td><td>0.7293374</td></tr>\n",
       "</tbody>\n",
       "</table>\n"
      ],
      "text/latex": [
       "A anova: 2 × 5\n",
       "\\begin{tabular}{r|lllll}\n",
       "  & Res.Df & RSS & Df & Sum of Sq & Pr(>Chi)\\\\\n",
       "  & <dbl> & <dbl> & <dbl> & <dbl> & <dbl>\\\\\n",
       "\\hline\n",
       "\t1 & 164 & 43341.87 & NA &       NA &        NA\\\\\n",
       "\t2 & 149 & 40280.65 & 15 & 3061.216 & 0.7293374\\\\\n",
       "\\end{tabular}\n"
      ],
      "text/markdown": [
       "\n",
       "A anova: 2 × 5\n",
       "\n",
       "| <!--/--> | Res.Df &lt;dbl&gt; | RSS &lt;dbl&gt; | Df &lt;dbl&gt; | Sum of Sq &lt;dbl&gt; | Pr(&gt;Chi) &lt;dbl&gt; |\n",
       "|---|---|---|---|---|---|\n",
       "| 1 | 164 | 43341.87 | NA |       NA |        NA |\n",
       "| 2 | 149 | 40280.65 | 15 | 3061.216 | 0.7293374 |\n",
       "\n"
      ],
      "text/plain": [
       "  Res.Df RSS      Df Sum of Sq Pr(>Chi) \n",
       "1 164    43341.87 NA       NA         NA\n",
       "2 149    40280.65 15 3061.216  0.7293374"
      ]
     },
     "metadata": {},
     "output_type": "display_data"
    }
   ],
   "source": [
    "anova(fit_vk,fit_int,test=\"Chisq\")"
   ]
  },
  {
   "cell_type": "markdown",
   "metadata": {},
   "source": [
    "---\n",
    "\n",
    "<font color=\"blue\">**Nyní je čas udělat úkoly 2.a-d) v druhém notebooku**</font>\n",
    "\n",
    "---"
   ]
  },
  {
   "cell_type": "markdown",
   "metadata": {},
   "source": [
    "## Kritéria a sekvenční přístupy"
   ]
  },
  {
   "cell_type": "markdown",
   "metadata": {},
   "source": [
    "### Informační kritéria\n",
    "\n",
    "Logaritmické věrohodnosti využívá **Akaikeho informační kritérium** (AIC) a **Bayesovské informační kritérium** (BIC) se základními myšlenkami:\n",
    "- Čím vyšší věrohodnost, tím lépe model vystihuje data\n",
    "- Čím méně parametrů, tím lépe je model interpretovatelný.\n",
    "Kritéria byla navržena ve formě\n",
    "$$\\begin{aligned}AIC&=-2l({\\hat\\theta})+2q,\\\\\n",
    "BIC&=-2l({\\hat\\theta})+q\\ln n,\\end{aligned}$$\n",
    "kde $q$ je počet odhadnutých parametrů. V modelu s $k$ regresory je $q=k+2$, protože uvažujeme navíc absolutní člen a rozptyl.\n",
    "\n",
    "Čím nižší hodnota kritéria, tím šikovnější model"
   ]
  },
  {
   "cell_type": "markdown",
   "metadata": {},
   "source": [
    "**Příklad:**\n",
    "\n",
    "Porovnejme Akaikeho a Bayesovské informační kritérium předchozích modelů závislosti tlaku na dalších proměnných.\n",
    "\n",
    "Akaikeho kritérium získáme snadno příkazem `AIC` na nafitovaný lineární regresní model, Bayesovské kritérium identicky pomocí `BIC`:"
   ]
  },
  {
   "cell_type": "code",
   "execution_count": 17,
   "metadata": {},
   "outputs": [
    {
     "data": {
      "text/html": [
       "1410.25852439761"
      ],
      "text/latex": [
       "1410.25852439761"
      ],
      "text/markdown": [
       "1410.25852439761"
      ],
      "text/plain": [
       "[1] 1410.259"
      ]
     },
     "metadata": {},
     "output_type": "display_data"
    },
    {
     "data": {
      "text/html": [
       "1415.01922537184"
      ],
      "text/latex": [
       "1415.01922537184"
      ],
      "text/markdown": [
       "1415.01922537184"
      ],
      "text/plain": [
       "[1] 1415.019"
      ]
     },
     "metadata": {},
     "output_type": "display_data"
    },
    {
     "data": {
      "text/html": [
       "1428.02613670805"
      ],
      "text/latex": [
       "1428.02613670805"
      ],
      "text/markdown": [
       "1428.02613670805"
      ],
      "text/plain": [
       "[1] 1428.026"
      ]
     },
     "metadata": {},
     "output_type": "display_data"
    }
   ],
   "source": [
    "AIC(fit_vk)\n",
    "AIC(fit_all)\n",
    "AIC(fit_int)"
   ]
  },
  {
   "cell_type": "code",
   "execution_count": 18,
   "metadata": {},
   "outputs": [
    {
     "data": {
      "text/html": [
       "1422.73049964728"
      ],
      "text/latex": [
       "1422.73049964728"
      ],
      "text/markdown": [
       "1422.73049964728"
      ],
      "text/plain": [
       "[1] 1422.73"
      ]
     },
     "metadata": {},
     "output_type": "display_data"
    },
    {
     "data": {
      "text/html": [
       "1439.96317587118"
      ],
      "text/latex": [
       "1439.96317587118"
      ],
      "text/markdown": [
       "1439.96317587118"
      ],
      "text/plain": [
       "[1] 1439.963"
      ]
     },
     "metadata": {},
     "output_type": "display_data"
    },
    {
     "data": {
      "text/html": [
       "1487.26801914397"
      ],
      "text/latex": [
       "1487.26801914397"
      ],
      "text/markdown": [
       "1487.26801914397"
      ],
      "text/plain": [
       "[1] 1487.268"
      ]
     },
     "metadata": {},
     "output_type": "display_data"
    }
   ],
   "source": [
    "BIC(fit_vk)\n",
    "BIC(fit_all)\n",
    "BIC(fit_int)"
   ]
  },
  {
   "cell_type": "markdown",
   "metadata": {},
   "source": [
    "Podle obou kritérií je model obsahující jen vliv výšky a kouření nejšikovnější."
   ]
  },
  {
   "cell_type": "markdown",
   "metadata": {},
   "source": [
    "#### Sekvenční kritéria\n",
    "\n",
    "**Vzestupně:**\n",
    "\n",
    "Můžeme uvažovat konkrétní základní model, k němu přidávat postupně jednotlivé proměnné a zkoumat, zda je širší model významně lepší. Použijeme funkci `add1`, dosadíme základní model a specifikujeme množinu dalších proměnných, ze kterých vybírat. Získáme reziduální součet čtverců a AIC. Pokud specifikujeme typ testu (`F` nebo `Chisq`), tak i p-hodnotu testu model-podmodel.\n",
    "\n",
    "Zkusme začít u modelu krevního tlaku pouze s absolutním členem a přidávat jednotlivé proměnné. Vidíme, že jediný významný regresor je kuřáctví."
   ]
  },
  {
   "cell_type": "code",
   "execution_count": 19,
   "metadata": {},
   "outputs": [
    {
     "data": {
      "text/html": [
       "<table class=\"dataframe\">\n",
       "<caption>A anova: 6 × 6</caption>\n",
       "<thead>\n",
       "\t<tr><th></th><th scope=col>Df</th><th scope=col>Sum of Sq</th><th scope=col>RSS</th><th scope=col>AIC</th><th scope=col>F value</th><th scope=col>Pr(&gt;F)</th></tr>\n",
       "\t<tr><th></th><th scope=col>&lt;dbl&gt;</th><th scope=col>&lt;dbl&gt;</th><th scope=col>&lt;dbl&gt;</th><th scope=col>&lt;dbl&gt;</th><th scope=col>&lt;dbl&gt;</th><th scope=col>&lt;dbl&gt;</th></tr>\n",
       "</thead>\n",
       "<tbody>\n",
       "\t<tr><th scope=row>&lt;none&gt;</th><td>NA</td><td>         NA</td><td>47237.86</td><td>944.7078</td><td>         NA</td><td>          NA</td></tr>\n",
       "\t<tr><th scope=row>vyska</th><td> 1</td><td>   6.452248</td><td>47231.40</td><td>946.6850</td><td> 0.02254053</td><td>0.8808414427</td></tr>\n",
       "\t<tr><th scope=row>vek</th><td> 1</td><td> 236.748644</td><td>47001.11</td><td>945.8688</td><td> 0.83111927</td><td>0.3632790837</td></tr>\n",
       "\t<tr><th scope=row>Kurak</th><td> 1</td><td>3857.584222</td><td>43380.27</td><td>932.4810</td><td>14.67260038</td><td>0.0001814295</td></tr>\n",
       "\t<tr><th scope=row>Vzdel</th><td> 2</td><td> 194.075523</td><td>47043.78</td><td>948.0203</td><td> 0.33828473</td><td>0.7134885688</td></tr>\n",
       "\t<tr><th scope=row>Rchol</th><td> 1</td><td>   4.774806</td><td>47233.08</td><td>946.6910</td><td> 0.01667990</td><td>0.8973957181</td></tr>\n",
       "</tbody>\n",
       "</table>\n"
      ],
      "text/latex": [
       "A anova: 6 × 6\n",
       "\\begin{tabular}{r|llllll}\n",
       "  & Df & Sum of Sq & RSS & AIC & F value & Pr(>F)\\\\\n",
       "  & <dbl> & <dbl> & <dbl> & <dbl> & <dbl> & <dbl>\\\\\n",
       "\\hline\n",
       "\t<none> & NA &          NA & 47237.86 & 944.7078 &          NA &           NA\\\\\n",
       "\tvyska &  1 &    6.452248 & 47231.40 & 946.6850 &  0.02254053 & 0.8808414427\\\\\n",
       "\tvek &  1 &  236.748644 & 47001.11 & 945.8688 &  0.83111927 & 0.3632790837\\\\\n",
       "\tKurak &  1 & 3857.584222 & 43380.27 & 932.4810 & 14.67260038 & 0.0001814295\\\\\n",
       "\tVzdel &  2 &  194.075523 & 47043.78 & 948.0203 &  0.33828473 & 0.7134885688\\\\\n",
       "\tRchol &  1 &    4.774806 & 47233.08 & 946.6910 &  0.01667990 & 0.8973957181\\\\\n",
       "\\end{tabular}\n"
      ],
      "text/markdown": [
       "\n",
       "A anova: 6 × 6\n",
       "\n",
       "| <!--/--> | Df &lt;dbl&gt; | Sum of Sq &lt;dbl&gt; | RSS &lt;dbl&gt; | AIC &lt;dbl&gt; | F value &lt;dbl&gt; | Pr(&gt;F) &lt;dbl&gt; |\n",
       "|---|---|---|---|---|---|---|\n",
       "| &lt;none&gt; | NA |          NA | 47237.86 | 944.7078 |          NA |           NA |\n",
       "| vyska |  1 |    6.452248 | 47231.40 | 946.6850 |  0.02254053 | 0.8808414427 |\n",
       "| vek |  1 |  236.748644 | 47001.11 | 945.8688 |  0.83111927 | 0.3632790837 |\n",
       "| Kurak |  1 | 3857.584222 | 43380.27 | 932.4810 | 14.67260038 | 0.0001814295 |\n",
       "| Vzdel |  2 |  194.075523 | 47043.78 | 948.0203 |  0.33828473 | 0.7134885688 |\n",
       "| Rchol |  1 |    4.774806 | 47233.08 | 946.6910 |  0.01667990 | 0.8973957181 |\n",
       "\n"
      ],
      "text/plain": [
       "       Df Sum of Sq   RSS      AIC      F value     Pr(>F)      \n",
       "<none> NA          NA 47237.86 944.7078          NA           NA\n",
       "vyska   1    6.452248 47231.40 946.6850  0.02254053 0.8808414427\n",
       "vek     1  236.748644 47001.11 945.8688  0.83111927 0.3632790837\n",
       "Kurak   1 3857.584222 43380.27 932.4810 14.67260038 0.0001814295\n",
       "Vzdel   2  194.075523 47043.78 948.0203  0.33828473 0.7134885688\n",
       "Rchol   1    4.774806 47233.08 946.6910  0.01667990 0.8973957181"
      ]
     },
     "metadata": {},
     "output_type": "display_data"
    }
   ],
   "source": [
    "add1(lm(syst~1),~vyska+vek+Kurak+Vzdel+Rchol,test=\"F\")"
   ]
  },
  {
   "cell_type": "markdown",
   "metadata": {},
   "source": [
    "**Sestupně**\n",
    "\n",
    "Vyjdeme ze složitějšího modelu, ze kterého budeme postupně jednotlivé regresory odstraňovat pomocí funkce `drop1`:"
   ]
  },
  {
   "cell_type": "code",
   "execution_count": 20,
   "metadata": {},
   "outputs": [
    {
     "data": {
      "text/html": [
       "<table class=\"dataframe\">\n",
       "<caption>A anova: 6 × 6</caption>\n",
       "<thead>\n",
       "\t<tr><th></th><th scope=col>Df</th><th scope=col>Sum of Sq</th><th scope=col>RSS</th><th scope=col>AIC</th><th scope=col>F value</th><th scope=col>Pr(&gt;F)</th></tr>\n",
       "\t<tr><th></th><th scope=col>&lt;dbl&gt;</th><th scope=col>&lt;dbl&gt;</th><th scope=col>&lt;dbl&gt;</th><th scope=col>&lt;dbl&gt;</th><th scope=col>&lt;dbl&gt;</th><th scope=col>&lt;dbl&gt;</th></tr>\n",
       "</thead>\n",
       "<tbody>\n",
       "\t<tr><th scope=row>&lt;none&gt;</th><td>NA</td><td>         NA</td><td>42509.27</td><td>939.0938</td><td>         NA</td><td>          NA</td></tr>\n",
       "\t<tr><th scope=row>vyska</th><td> 1</td><td>  80.950226</td><td>42590.22</td><td>937.4115</td><td> 0.30468736</td><td>0.5817288545</td></tr>\n",
       "\t<tr><th scope=row>vek</th><td> 1</td><td> 274.920555</td><td>42784.19</td><td>938.1703</td><td> 1.03476940</td><td>0.3105768199</td></tr>\n",
       "\t<tr><th scope=row>Kurak</th><td> 1</td><td>4220.532777</td><td>46729.80</td><td>952.9020</td><td>15.88560078</td><td>0.0001020328</td></tr>\n",
       "\t<tr><th scope=row>Vzdel</th><td> 2</td><td> 584.140310</td><td>43093.41</td><td>937.3730</td><td> 1.09931853</td><td>0.3356004765</td></tr>\n",
       "\t<tr><th scope=row>Rchol</th><td> 1</td><td>   6.951737</td><td>42516.22</td><td>937.1211</td><td> 0.02616554</td><td>0.8717007809</td></tr>\n",
       "</tbody>\n",
       "</table>\n"
      ],
      "text/latex": [
       "A anova: 6 × 6\n",
       "\\begin{tabular}{r|llllll}\n",
       "  & Df & Sum of Sq & RSS & AIC & F value & Pr(>F)\\\\\n",
       "  & <dbl> & <dbl> & <dbl> & <dbl> & <dbl> & <dbl>\\\\\n",
       "\\hline\n",
       "\t<none> & NA &          NA & 42509.27 & 939.0938 &          NA &           NA\\\\\n",
       "\tvyska &  1 &   80.950226 & 42590.22 & 937.4115 &  0.30468736 & 0.5817288545\\\\\n",
       "\tvek &  1 &  274.920555 & 42784.19 & 938.1703 &  1.03476940 & 0.3105768199\\\\\n",
       "\tKurak &  1 & 4220.532777 & 46729.80 & 952.9020 & 15.88560078 & 0.0001020328\\\\\n",
       "\tVzdel &  2 &  584.140310 & 43093.41 & 937.3730 &  1.09931853 & 0.3356004765\\\\\n",
       "\tRchol &  1 &    6.951737 & 42516.22 & 937.1211 &  0.02616554 & 0.8717007809\\\\\n",
       "\\end{tabular}\n"
      ],
      "text/markdown": [
       "\n",
       "A anova: 6 × 6\n",
       "\n",
       "| <!--/--> | Df &lt;dbl&gt; | Sum of Sq &lt;dbl&gt; | RSS &lt;dbl&gt; | AIC &lt;dbl&gt; | F value &lt;dbl&gt; | Pr(&gt;F) &lt;dbl&gt; |\n",
       "|---|---|---|---|---|---|---|\n",
       "| &lt;none&gt; | NA |          NA | 42509.27 | 939.0938 |          NA |           NA |\n",
       "| vyska |  1 |   80.950226 | 42590.22 | 937.4115 |  0.30468736 | 0.5817288545 |\n",
       "| vek |  1 |  274.920555 | 42784.19 | 938.1703 |  1.03476940 | 0.3105768199 |\n",
       "| Kurak |  1 | 4220.532777 | 46729.80 | 952.9020 | 15.88560078 | 0.0001020328 |\n",
       "| Vzdel |  2 |  584.140310 | 43093.41 | 937.3730 |  1.09931853 | 0.3356004765 |\n",
       "| Rchol |  1 |    6.951737 | 42516.22 | 937.1211 |  0.02616554 | 0.8717007809 |\n",
       "\n"
      ],
      "text/plain": [
       "       Df Sum of Sq   RSS      AIC      F value     Pr(>F)      \n",
       "<none> NA          NA 42509.27 939.0938          NA           NA\n",
       "vyska   1   80.950226 42590.22 937.4115  0.30468736 0.5817288545\n",
       "vek     1  274.920555 42784.19 938.1703  1.03476940 0.3105768199\n",
       "Kurak   1 4220.532777 46729.80 952.9020 15.88560078 0.0001020328\n",
       "Vzdel   2  584.140310 43093.41 937.3730  1.09931853 0.3356004765\n",
       "Rchol   1    6.951737 42516.22 937.1211  0.02616554 0.8717007809"
      ]
     },
     "metadata": {},
     "output_type": "display_data"
    }
   ],
   "source": [
    "drop1(lm(syst~vyska+vek+Kurak+Vzdel+Rchol),test=\"F\")"
   ]
  },
  {
   "cell_type": "markdown",
   "metadata": {},
   "source": [
    "Opět vidíme, že pouze kuřáctví má významný vliv."
   ]
  },
  {
   "cell_type": "markdown",
   "metadata": {},
   "source": [
    "**Postupný výběr**\n",
    "\n",
    "Můžeme také specifikovat minimální a maximální model a nechat software procházet proměnné postupně. Pokud narazí na nějakou, jejíž přidání sníží AIC, zařadí ji do modelu a pokračuje dál, než dojde k optimální verzi. \n",
    "\n",
    "Sekvenční postup zavoláme příkazem `step`, přičemž specifikujeme počáteční model a jeho minimální a maximální rozsah."
   ]
  },
  {
   "cell_type": "code",
   "execution_count": 21,
   "metadata": {},
   "outputs": [
    {
     "name": "stdout",
     "output_type": "stream",
     "text": [
      "Start:  AIC=944.71\n",
      "syst ~ 1\n",
      "\n",
      "        Df Sum of Sq   RSS    AIC\n",
      "+ Kurak  1    3857.6 43380 932.48\n",
      "<none>               47238 944.71\n",
      "+ vek    1     236.7 47001 945.87\n",
      "+ vyska  1       6.5 47231 946.69\n",
      "+ Rchol  1       4.8 47233 946.69\n",
      "+ Vzdel  2     194.1 47044 948.02\n",
      "\n",
      "Step:  AIC=932.48\n",
      "syst ~ Kurak\n",
      "\n",
      "        Df Sum of Sq   RSS    AIC\n",
      "<none>               43380 932.48\n",
      "+ vek    1     206.1 43174 933.69\n",
      "+ Rchol  1      57.9 43322 934.26\n",
      "+ vyska  1      38.4 43342 934.33\n",
      "+ Vzdel  2     486.2 42894 934.60\n",
      "- Kurak  1    3857.6 47238 944.71\n"
     ]
    },
    {
     "data": {
      "text/plain": [
       "\n",
       "Call:\n",
       "lm(formula = syst ~ Kurak, data = warpbreaks)\n",
       "\n",
       "Coefficients:\n",
       "(Intercept)    KurakTRUE  \n",
       "     138.24       -10.09  \n"
      ]
     },
     "metadata": {},
     "output_type": "display_data"
    }
   ],
   "source": [
    "step(lm(syst~1,data=warpbreaks),scope=list(lower=~1,upper=~vyska*vek*Kurak*Rchol+Vzdel))"
   ]
  },
  {
   "cell_type": "markdown",
   "metadata": {},
   "source": [
    "Získáme stejný výsledek."
   ]
  },
  {
   "cell_type": "code",
   "execution_count": 22,
   "metadata": {},
   "outputs": [],
   "source": [
    "## nakonec zapomeneme data IchsN\n",
    "detach(IchsN)"
   ]
  },
  {
   "cell_type": "markdown",
   "metadata": {},
   "source": [
    "---\n",
    "\n",
    "<font color=\"blue\">**Nyní je čas udělat úkoly 3.a-c) v druhém notebooku**</font>\n",
    "\n",
    "---"
   ]
  }
 ],
 "metadata": {
  "kernelspec": {
   "display_name": "R",
   "language": "R",
   "name": "ir"
  },
  "language_info": {
   "codemirror_mode": "r",
   "file_extension": ".r",
   "mimetype": "text/x-r-source",
   "name": "R",
   "pygments_lexer": "r",
   "version": "4.1.2"
  }
 },
 "nbformat": 4,
 "nbformat_minor": 4
}
